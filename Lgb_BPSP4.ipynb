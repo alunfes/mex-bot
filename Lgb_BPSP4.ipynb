{
  "nbformat": 4,
  "nbformat_minor": 0,
  "metadata": {
    "colab": {
      "name": "Lgb-BPSP4.ipynb",
      "provenance": [],
      "collapsed_sections": [],
      "machine_shape": "hm"
    },
    "kernelspec": {
      "name": "python3",
      "display_name": "Python 3"
    },
    "accelerator": "GPU"
  },
  "cells": [
    {
      "cell_type": "code",
      "metadata": {
        "id": "SPmSHPD3soRl",
        "colab_type": "code",
        "outputId": "fc521d1e-fcd3-4c61-f056-bca66a0dab7d",
        "colab": {
          "base_uri": "https://localhost:8080/",
          "height": 122
        }
      },
      "source": [
        "from google.colab import drive\n",
        "drive.mount('/content/drive')                                                                                                                                                                                                                       "
      ],
      "execution_count": 0,
      "outputs": [
        {
          "output_type": "stream",
          "text": [
            "Go to this URL in a browser: https://accounts.google.com/o/oauth2/auth?client_id=947318989803-6bn6qk8qdgf4n4g3pfee6491hc0brc4i.apps.googleusercontent.com&redirect_uri=urn%3aietf%3awg%3aoauth%3a2.0%3aoob&response_type=code&scope=email%20https%3a%2f%2fwww.googleapis.com%2fauth%2fdocs.test%20https%3a%2f%2fwww.googleapis.com%2fauth%2fdrive%20https%3a%2f%2fwww.googleapis.com%2fauth%2fdrive.photos.readonly%20https%3a%2f%2fwww.googleapis.com%2fauth%2fpeopleapi.readonly\n",
            "\n",
            "Enter your authorization code:\n",
            "··········\n",
            "Mounted at /content/drive\n"
          ],
          "name": "stdout"
        }
      ]
    },
    {
      "cell_type": "code",
      "metadata": {
        "id": "lV6-OdeTAUM2",
        "colab_type": "code",
        "outputId": "39960b95-741e-469f-c677-8cc3ec416bc6",
        "colab": {
          "base_uri": "https://localhost:8080/",
          "height": 1000
        }
      },
      "source": [
        "!git clone --recursive https://github.com/Microsoft/LightGBM\n",
        "%cd /content/LightGBM/\n",
        "!mkdir build\n",
        "!cmake -DUSE_GPU=1 #avoid ..\n",
        "!make -j$(nproc)\n",
        "!sudo apt-get -y install python-pip\n",
        "!sudo -H pip install setuptools pandas numpy scipy scikit-learn -U\n",
        "%cd /content/LightGBM/python-package\n",
        "!sudo python setup.py install --precompile"
      ],
      "execution_count": 0,
      "outputs": [
        {
          "output_type": "stream",
          "text": [
            "Cloning into 'LightGBM'...\n",
            "remote: Enumerating objects: 83, done.\u001b[K\n",
            "remote: Counting objects: 100% (83/83), done.\u001b[K\n",
            "remote: Compressing objects: 100% (57/57), done.\u001b[K\n",
            "remote: Total 15373 (delta 48), reused 50 (delta 25), pack-reused 15290\u001b[K\n",
            "Receiving objects: 100% (15373/15373), 10.55 MiB | 7.76 MiB/s, done.\n",
            "Resolving deltas: 100% (11099/11099), done.\n",
            "Submodule 'include/boost/compute' (https://github.com/boostorg/compute) registered for path 'compute'\n",
            "Cloning into '/content/LightGBM/compute'...\n",
            "remote: Enumerating objects: 21728, done.        \n",
            "remote: Total 21728 (delta 0), reused 0 (delta 0), pack-reused 21728        \n",
            "Receiving objects: 100% (21728/21728), 8.51 MiB | 6.26 MiB/s, done.\n",
            "Resolving deltas: 100% (17565/17565), done.\n",
            "Submodule path 'compute': checked out '36c89134d4013b2e5e45bc55656a18bd6141995a'\n",
            "/content/LightGBM\n",
            "-- The C compiler identification is GNU 7.4.0\n",
            "-- The CXX compiler identification is GNU 7.4.0\n",
            "-- Check for working C compiler: /usr/bin/cc\n",
            "-- Check for working C compiler: /usr/bin/cc -- works\n",
            "-- Detecting C compiler ABI info\n",
            "-- Detecting C compiler ABI info - done\n",
            "-- Detecting C compile features\n",
            "-- Detecting C compile features - done\n",
            "-- Check for working CXX compiler: /usr/bin/c++\n",
            "-- Check for working CXX compiler: /usr/bin/c++ -- works\n",
            "-- Detecting CXX compiler ABI info\n",
            "-- Detecting CXX compiler ABI info - done\n",
            "-- Detecting CXX compile features\n",
            "-- Detecting CXX compile features - done\n",
            "-- Found OpenMP_C: -fopenmp (found version \"4.5\") \n",
            "-- Found OpenMP_CXX: -fopenmp (found version \"4.5\") \n",
            "-- Found OpenMP: TRUE (found version \"4.5\")  \n",
            "-- Looking for CL_VERSION_2_2\n",
            "-- Looking for CL_VERSION_2_2 - found\n",
            "-- Found OpenCL: /usr/lib/x86_64-linux-gnu/libOpenCL.so (found version \"2.2\") \n",
            "-- OpenCL include directory: /usr/include\n",
            "-- Boost version: 1.65.1\n",
            "-- Found the following Boost libraries:\n",
            "--   filesystem\n",
            "--   system\n",
            "-- Configuring done\n",
            "-- Generating done\n",
            "-- Build files have been written to: /content/LightGBM\n",
            "\u001b[35m\u001b[1mScanning dependencies of target _lightgbm\u001b[0m\n",
            "\u001b[35m\u001b[1mScanning dependencies of target lightgbm\u001b[0m\n",
            "[  1%] \u001b[32mBuilding CXX object CMakeFiles/lightgbm.dir/src/main.cpp.o\u001b[0m\n",
            "[  3%] \u001b[32mBuilding CXX object CMakeFiles/_lightgbm.dir/src/c_api.cpp.o\u001b[0m\n",
            "[  4%] \u001b[32mBuilding CXX object CMakeFiles/_lightgbm.dir/src/lightgbm_R.cpp.o\u001b[0m\n",
            "[  6%] \u001b[32mBuilding CXX object CMakeFiles/lightgbm.dir/src/application/application.cpp.o\u001b[0m\n",
            "[  7%] \u001b[32mBuilding CXX object CMakeFiles/_lightgbm.dir/src/application/application.cpp.o\u001b[0m\n",
            "[  9%] \u001b[32mBuilding CXX object CMakeFiles/_lightgbm.dir/src/boosting/boosting.cpp.o\u001b[0m\n",
            "[ 11%] \u001b[32mBuilding CXX object CMakeFiles/lightgbm.dir/src/boosting/boosting.cpp.o\u001b[0m\n",
            "[ 12%] \u001b[32mBuilding CXX object CMakeFiles/_lightgbm.dir/src/boosting/gbdt.cpp.o\u001b[0m\n",
            "[ 14%] \u001b[32mBuilding CXX object CMakeFiles/_lightgbm.dir/src/boosting/gbdt_model_text.cpp.o\u001b[0m\n",
            "[ 15%] \u001b[32mBuilding CXX object CMakeFiles/_lightgbm.dir/src/boosting/gbdt_prediction.cpp.o\u001b[0m\n",
            "[ 17%] \u001b[32mBuilding CXX object CMakeFiles/_lightgbm.dir/src/boosting/prediction_early_stop.cpp.o\u001b[0m\n",
            "[ 19%] \u001b[32mBuilding CXX object CMakeFiles/_lightgbm.dir/src/io/bin.cpp.o\u001b[0m\n",
            "[ 20%] \u001b[32mBuilding CXX object CMakeFiles/_lightgbm.dir/src/io/config.cpp.o\u001b[0m\n",
            "[ 22%] \u001b[32mBuilding CXX object CMakeFiles/lightgbm.dir/src/boosting/gbdt.cpp.o\u001b[0m\n",
            "[ 23%] \u001b[32mBuilding CXX object CMakeFiles/_lightgbm.dir/src/io/config_auto.cpp.o\u001b[0m\n",
            "[ 25%] \u001b[32mBuilding CXX object CMakeFiles/_lightgbm.dir/src/io/dataset.cpp.o\u001b[0m\n",
            "[ 26%] \u001b[32mBuilding CXX object CMakeFiles/_lightgbm.dir/src/io/dataset_loader.cpp.o\u001b[0m\n",
            "[ 28%] \u001b[32mBuilding CXX object CMakeFiles/lightgbm.dir/src/boosting/gbdt_model_text.cpp.o\u001b[0m\n",
            "[ 30%] \u001b[32mBuilding CXX object CMakeFiles/_lightgbm.dir/src/io/file_io.cpp.o\u001b[0m\n",
            "[ 31%] \u001b[32mBuilding CXX object CMakeFiles/_lightgbm.dir/src/io/json11.cpp.o\u001b[0m\n",
            "[ 33%] \u001b[32mBuilding CXX object CMakeFiles/_lightgbm.dir/src/io/metadata.cpp.o\u001b[0m\n",
            "[ 34%] \u001b[32mBuilding CXX object CMakeFiles/lightgbm.dir/src/boosting/gbdt_prediction.cpp.o\u001b[0m\n",
            "[ 36%] \u001b[32mBuilding CXX object CMakeFiles/_lightgbm.dir/src/io/parser.cpp.o\u001b[0m\n",
            "[ 38%] \u001b[32mBuilding CXX object CMakeFiles/_lightgbm.dir/src/io/tree.cpp.o\u001b[0m\n",
            "[ 39%] \u001b[32mBuilding CXX object CMakeFiles/lightgbm.dir/src/boosting/prediction_early_stop.cpp.o\u001b[0m\n",
            "[ 41%] \u001b[32mBuilding CXX object CMakeFiles/_lightgbm.dir/src/metric/dcg_calculator.cpp.o\u001b[0m\n",
            "[ 42%] \u001b[32mBuilding CXX object CMakeFiles/lightgbm.dir/src/io/bin.cpp.o\u001b[0m\n",
            "[ 44%] \u001b[32mBuilding CXX object CMakeFiles/_lightgbm.dir/src/metric/metric.cpp.o\u001b[0m\n",
            "[ 46%] \u001b[32mBuilding CXX object CMakeFiles/_lightgbm.dir/src/network/linker_topo.cpp.o\u001b[0m\n",
            "[ 47%] \u001b[32mBuilding CXX object CMakeFiles/_lightgbm.dir/src/network/linkers_mpi.cpp.o\u001b[0m\n",
            "[ 49%] \u001b[32mBuilding CXX object CMakeFiles/_lightgbm.dir/src/network/linkers_socket.cpp.o\u001b[0m\n",
            "[ 50%] \u001b[32mBuilding CXX object CMakeFiles/_lightgbm.dir/src/network/network.cpp.o\u001b[0m\n",
            "[ 52%] \u001b[32mBuilding CXX object CMakeFiles/_lightgbm.dir/src/objective/objective_function.cpp.o\u001b[0m\n",
            "[ 53%] \u001b[32mBuilding CXX object CMakeFiles/_lightgbm.dir/src/treelearner/data_parallel_tree_learner.cpp.o\u001b[0m\n",
            "[ 55%] \u001b[32mBuilding CXX object CMakeFiles/_lightgbm.dir/src/treelearner/feature_parallel_tree_learner.cpp.o\u001b[0m\n",
            "[ 57%] \u001b[32mBuilding CXX object CMakeFiles/lightgbm.dir/src/io/config.cpp.o\u001b[0m\n",
            "[ 58%] \u001b[32mBuilding CXX object CMakeFiles/lightgbm.dir/src/io/config_auto.cpp.o\u001b[0m\n",
            "[ 60%] \u001b[32mBuilding CXX object CMakeFiles/_lightgbm.dir/src/treelearner/gpu_tree_learner.cpp.o\u001b[0m\n",
            "[ 61%] \u001b[32mBuilding CXX object CMakeFiles/_lightgbm.dir/src/treelearner/serial_tree_learner.cpp.o\u001b[0m\n",
            "[ 63%] \u001b[32mBuilding CXX object CMakeFiles/lightgbm.dir/src/io/dataset.cpp.o\u001b[0m\n",
            "[ 65%] \u001b[32mBuilding CXX object CMakeFiles/_lightgbm.dir/src/treelearner/tree_learner.cpp.o\u001b[0m\n",
            "[ 66%] \u001b[32mBuilding CXX object CMakeFiles/lightgbm.dir/src/io/dataset_loader.cpp.o\u001b[0m\n",
            "[ 68%] \u001b[32mBuilding CXX object CMakeFiles/_lightgbm.dir/src/treelearner/voting_parallel_tree_learner.cpp.o\u001b[0m\n",
            "[ 69%] \u001b[32mBuilding CXX object CMakeFiles/lightgbm.dir/src/io/file_io.cpp.o\u001b[0m\n",
            "[ 71%] \u001b[32mBuilding CXX object CMakeFiles/lightgbm.dir/src/io/json11.cpp.o\u001b[0m\n",
            "[ 73%] \u001b[32mBuilding CXX object CMakeFiles/lightgbm.dir/src/io/metadata.cpp.o\u001b[0m\n",
            "[ 74%] \u001b[32mBuilding CXX object CMakeFiles/lightgbm.dir/src/io/parser.cpp.o\u001b[0m\n",
            "[ 76%] \u001b[32mBuilding CXX object CMakeFiles/lightgbm.dir/src/io/tree.cpp.o\u001b[0m\n",
            "[ 77%] \u001b[32mBuilding CXX object CMakeFiles/lightgbm.dir/src/metric/dcg_calculator.cpp.o\u001b[0m\n",
            "[ 79%] \u001b[32mBuilding CXX object CMakeFiles/lightgbm.dir/src/metric/metric.cpp.o\u001b[0m\n",
            "[ 80%] \u001b[32mBuilding CXX object CMakeFiles/lightgbm.dir/src/network/linker_topo.cpp.o\u001b[0m\n",
            "[ 82%] \u001b[32mBuilding CXX object CMakeFiles/lightgbm.dir/src/network/linkers_mpi.cpp.o\u001b[0m\n",
            "[ 84%] \u001b[32mBuilding CXX object CMakeFiles/lightgbm.dir/src/network/linkers_socket.cpp.o\u001b[0m\n",
            "[ 85%] \u001b[32m\u001b[1mLinking CXX shared library lib_lightgbm.so\u001b[0m\n",
            "[ 85%] Built target _lightgbm\n",
            "[ 87%] \u001b[32mBuilding CXX object CMakeFiles/lightgbm.dir/src/network/network.cpp.o\u001b[0m\n",
            "[ 88%] \u001b[32mBuilding CXX object CMakeFiles/lightgbm.dir/src/objective/objective_function.cpp.o\u001b[0m\n",
            "[ 90%] \u001b[32mBuilding CXX object CMakeFiles/lightgbm.dir/src/treelearner/data_parallel_tree_learner.cpp.o\u001b[0m\n",
            "[ 92%] \u001b[32mBuilding CXX object CMakeFiles/lightgbm.dir/src/treelearner/feature_parallel_tree_learner.cpp.o\u001b[0m\n",
            "[ 93%] \u001b[32mBuilding CXX object CMakeFiles/lightgbm.dir/src/treelearner/gpu_tree_learner.cpp.o\u001b[0m\n",
            "[ 95%] \u001b[32mBuilding CXX object CMakeFiles/lightgbm.dir/src/treelearner/serial_tree_learner.cpp.o\u001b[0m\n",
            "[ 96%] \u001b[32mBuilding CXX object CMakeFiles/lightgbm.dir/src/treelearner/tree_learner.cpp.o\u001b[0m\n",
            "[ 98%] \u001b[32mBuilding CXX object CMakeFiles/lightgbm.dir/src/treelearner/voting_parallel_tree_learner.cpp.o\u001b[0m\n",
            "[100%] \u001b[32m\u001b[1mLinking CXX executable lightgbm\u001b[0m\n",
            "[100%] Built target lightgbm\n",
            "Reading package lists... Done\n",
            "Building dependency tree       \n",
            "Reading state information... Done\n",
            "The following packages were automatically installed and are no longer required:\n",
            "  cuda-cufft-10-1 cuda-cufft-dev-10-1 cuda-curand-10-1 cuda-curand-dev-10-1\n",
            "  cuda-cusolver-10-1 cuda-cusolver-dev-10-1 cuda-cusparse-10-1\n",
            "  cuda-cusparse-dev-10-1 cuda-license-10-2 cuda-npp-10-1 cuda-npp-dev-10-1\n",
            "  cuda-nsight-10-1 cuda-nsight-compute-10-1 cuda-nsight-systems-10-1\n",
            "  cuda-nvgraph-10-1 cuda-nvgraph-dev-10-1 cuda-nvjpeg-10-1\n",
            "  cuda-nvjpeg-dev-10-1 cuda-nvrtc-10-1 cuda-nvrtc-dev-10-1 cuda-nvvp-10-1\n",
            "  libcublas10 libnvidia-common-430 nsight-compute-2019.5.0\n",
            "  nsight-systems-2019.5.2\n",
            "Use 'sudo apt autoremove' to remove them.\n",
            "The following additional packages will be installed:\n",
            "  libpython-all-dev python-all python-all-dev python-asn1crypto\n",
            "  python-cffi-backend python-crypto python-cryptography python-dbus\n",
            "  python-enum34 python-gi python-idna python-ipaddress python-keyring\n",
            "  python-keyrings.alt python-pip-whl python-pkg-resources python-secretstorage\n",
            "  python-setuptools python-six python-wheel python-xdg\n",
            "Suggested packages:\n",
            "  python-crypto-doc python-cryptography-doc python-cryptography-vectors\n",
            "  python-dbus-dbg python-dbus-doc python-enum34-doc python-gi-cairo\n",
            "  gnome-keyring libkf5wallet-bin gir1.2-gnomekeyring-1.0 python-fs\n",
            "  python-gdata python-keyczar python-secretstorage-doc python-setuptools-doc\n",
            "The following NEW packages will be installed:\n",
            "  libpython-all-dev python-all python-all-dev python-asn1crypto\n",
            "  python-cffi-backend python-crypto python-cryptography python-dbus\n",
            "  python-enum34 python-gi python-idna python-ipaddress python-keyring\n",
            "  python-keyrings.alt python-pip python-pip-whl python-pkg-resources\n",
            "  python-secretstorage python-setuptools python-six python-wheel python-xdg\n",
            "0 upgraded, 22 newly installed, 0 to remove and 5 not upgraded.\n",
            "Need to get 3,376 kB of archives.\n",
            "After this operation, 10.5 MB of additional disk space will be used.\n",
            "Get:1 http://archive.ubuntu.com/ubuntu bionic/main amd64 libpython-all-dev amd64 2.7.15~rc1-1 [1,092 B]\n",
            "Get:2 http://archive.ubuntu.com/ubuntu bionic/main amd64 python-all amd64 2.7.15~rc1-1 [1,076 B]\n",
            "Get:3 http://archive.ubuntu.com/ubuntu bionic/main amd64 python-all-dev amd64 2.7.15~rc1-1 [1,100 B]\n",
            "Get:4 http://archive.ubuntu.com/ubuntu bionic/main amd64 python-asn1crypto all 0.24.0-1 [72.7 kB]\n",
            "Get:5 http://archive.ubuntu.com/ubuntu bionic/main amd64 python-cffi-backend amd64 1.11.5-1 [63.4 kB]\n",
            "Get:6 http://archive.ubuntu.com/ubuntu bionic/main amd64 python-crypto amd64 2.6.1-8ubuntu2 [244 kB]\n",
            "Get:7 http://archive.ubuntu.com/ubuntu bionic/main amd64 python-enum34 all 1.1.6-2 [34.8 kB]\n",
            "Get:8 http://archive.ubuntu.com/ubuntu bionic/main amd64 python-idna all 2.6-1 [32.4 kB]\n",
            "Get:9 http://archive.ubuntu.com/ubuntu bionic/main amd64 python-ipaddress all 1.0.17-1 [18.2 kB]\n",
            "Get:10 http://archive.ubuntu.com/ubuntu bionic/main amd64 python-six all 1.11.0-2 [11.3 kB]\n",
            "Get:11 http://archive.ubuntu.com/ubuntu bionic-updates/main amd64 python-cryptography amd64 2.1.4-1ubuntu1.3 [221 kB]\n",
            "Get:12 http://archive.ubuntu.com/ubuntu bionic/main amd64 python-dbus amd64 1.2.6-1 [90.2 kB]\n",
            "Get:13 http://archive.ubuntu.com/ubuntu bionic-updates/main amd64 python-gi amd64 3.26.1-2ubuntu1 [197 kB]\n",
            "Get:14 http://archive.ubuntu.com/ubuntu bionic/main amd64 python-secretstorage all 2.3.1-2 [11.8 kB]\n",
            "Get:15 http://archive.ubuntu.com/ubuntu bionic/main amd64 python-keyring all 10.6.0-1 [30.6 kB]\n",
            "Get:16 http://archive.ubuntu.com/ubuntu bionic/main amd64 python-keyrings.alt all 3.0-1 [16.7 kB]\n",
            "Get:17 http://archive.ubuntu.com/ubuntu bionic-updates/universe amd64 python-pip-whl all 9.0.1-2.3~ubuntu1.18.04.1 [1,653 kB]\n",
            "Get:18 http://archive.ubuntu.com/ubuntu bionic-updates/universe amd64 python-pip all 9.0.1-2.3~ubuntu1.18.04.1 [151 kB]\n",
            "Get:19 http://archive.ubuntu.com/ubuntu bionic/main amd64 python-pkg-resources all 39.0.1-2 [128 kB]\n",
            "Get:20 http://archive.ubuntu.com/ubuntu bionic/main amd64 python-setuptools all 39.0.1-2 [329 kB]\n",
            "Get:21 http://archive.ubuntu.com/ubuntu bionic/universe amd64 python-wheel all 0.30.0-0.2 [36.4 kB]\n",
            "Get:22 http://archive.ubuntu.com/ubuntu bionic/universe amd64 python-xdg all 0.25-4ubuntu1 [31.3 kB]\n",
            "Fetched 3,376 kB in 4s (823 kB/s)\n",
            "debconf: unable to initialize frontend: Dialog\n",
            "debconf: (No usable dialog-like program is installed, so the dialog based frontend cannot be used. at /usr/share/perl5/Debconf/FrontEnd/Dialog.pm line 76, <> line 22.)\n",
            "debconf: falling back to frontend: Readline\n",
            "debconf: unable to initialize frontend: Readline\n",
            "debconf: (This frontend requires a controlling tty.)\n",
            "debconf: falling back to frontend: Teletype\n",
            "dpkg-preconfigure: unable to re-open stdin: \n",
            "Selecting previously unselected package libpython-all-dev:amd64.\n",
            "(Reading database ... 135718 files and directories currently installed.)\n",
            "Preparing to unpack .../00-libpython-all-dev_2.7.15~rc1-1_amd64.deb ...\n",
            "Unpacking libpython-all-dev:amd64 (2.7.15~rc1-1) ...\n",
            "Selecting previously unselected package python-all.\n",
            "Preparing to unpack .../01-python-all_2.7.15~rc1-1_amd64.deb ...\n",
            "Unpacking python-all (2.7.15~rc1-1) ...\n",
            "Selecting previously unselected package python-all-dev.\n",
            "Preparing to unpack .../02-python-all-dev_2.7.15~rc1-1_amd64.deb ...\n",
            "Unpacking python-all-dev (2.7.15~rc1-1) ...\n",
            "Selecting previously unselected package python-asn1crypto.\n",
            "Preparing to unpack .../03-python-asn1crypto_0.24.0-1_all.deb ...\n",
            "Unpacking python-asn1crypto (0.24.0-1) ...\n",
            "Selecting previously unselected package python-cffi-backend.\n",
            "Preparing to unpack .../04-python-cffi-backend_1.11.5-1_amd64.deb ...\n",
            "Unpacking python-cffi-backend (1.11.5-1) ...\n",
            "Selecting previously unselected package python-crypto.\n",
            "Preparing to unpack .../05-python-crypto_2.6.1-8ubuntu2_amd64.deb ...\n",
            "Unpacking python-crypto (2.6.1-8ubuntu2) ...\n",
            "Selecting previously unselected package python-enum34.\n",
            "Preparing to unpack .../06-python-enum34_1.1.6-2_all.deb ...\n",
            "Unpacking python-enum34 (1.1.6-2) ...\n",
            "Selecting previously unselected package python-idna.\n",
            "Preparing to unpack .../07-python-idna_2.6-1_all.deb ...\n",
            "Unpacking python-idna (2.6-1) ...\n",
            "Selecting previously unselected package python-ipaddress.\n",
            "Preparing to unpack .../08-python-ipaddress_1.0.17-1_all.deb ...\n",
            "Unpacking python-ipaddress (1.0.17-1) ...\n",
            "Selecting previously unselected package python-six.\n",
            "Preparing to unpack .../09-python-six_1.11.0-2_all.deb ...\n",
            "Unpacking python-six (1.11.0-2) ...\n",
            "Selecting previously unselected package python-cryptography.\n",
            "Preparing to unpack .../10-python-cryptography_2.1.4-1ubuntu1.3_amd64.deb ...\n",
            "Unpacking python-cryptography (2.1.4-1ubuntu1.3) ...\n",
            "Selecting previously unselected package python-dbus.\n",
            "Preparing to unpack .../11-python-dbus_1.2.6-1_amd64.deb ...\n",
            "Unpacking python-dbus (1.2.6-1) ...\n",
            "Selecting previously unselected package python-gi.\n",
            "Preparing to unpack .../12-python-gi_3.26.1-2ubuntu1_amd64.deb ...\n",
            "Unpacking python-gi (3.26.1-2ubuntu1) ...\n",
            "Selecting previously unselected package python-secretstorage.\n",
            "Preparing to unpack .../13-python-secretstorage_2.3.1-2_all.deb ...\n",
            "Unpacking python-secretstorage (2.3.1-2) ...\n",
            "Selecting previously unselected package python-keyring.\n",
            "Preparing to unpack .../14-python-keyring_10.6.0-1_all.deb ...\n",
            "Unpacking python-keyring (10.6.0-1) ...\n",
            "Selecting previously unselected package python-keyrings.alt.\n",
            "Preparing to unpack .../15-python-keyrings.alt_3.0-1_all.deb ...\n",
            "Unpacking python-keyrings.alt (3.0-1) ...\n",
            "Selecting previously unselected package python-pip-whl.\n",
            "Preparing to unpack .../16-python-pip-whl_9.0.1-2.3~ubuntu1.18.04.1_all.deb ...\n",
            "Unpacking python-pip-whl (9.0.1-2.3~ubuntu1.18.04.1) ...\n",
            "Selecting previously unselected package python-pip.\n",
            "Preparing to unpack .../17-python-pip_9.0.1-2.3~ubuntu1.18.04.1_all.deb ...\n",
            "Unpacking python-pip (9.0.1-2.3~ubuntu1.18.04.1) ...\n",
            "Selecting previously unselected package python-pkg-resources.\n",
            "Preparing to unpack .../18-python-pkg-resources_39.0.1-2_all.deb ...\n",
            "Unpacking python-pkg-resources (39.0.1-2) ...\n",
            "Selecting previously unselected package python-setuptools.\n",
            "Preparing to unpack .../19-python-setuptools_39.0.1-2_all.deb ...\n",
            "Unpacking python-setuptools (39.0.1-2) ...\n",
            "Selecting previously unselected package python-wheel.\n",
            "Preparing to unpack .../20-python-wheel_0.30.0-0.2_all.deb ...\n",
            "Unpacking python-wheel (0.30.0-0.2) ...\n",
            "Selecting previously unselected package python-xdg.\n",
            "Preparing to unpack .../21-python-xdg_0.25-4ubuntu1_all.deb ...\n",
            "Unpacking python-xdg (0.25-4ubuntu1) ...\n",
            "Setting up python-idna (2.6-1) ...\n",
            "Setting up python-pip-whl (9.0.1-2.3~ubuntu1.18.04.1) ...\n",
            "Setting up python-asn1crypto (0.24.0-1) ...\n",
            "Setting up python-crypto (2.6.1-8ubuntu2) ...\n",
            "Setting up python-wheel (0.30.0-0.2) ...\n",
            "Setting up libpython-all-dev:amd64 (2.7.15~rc1-1) ...\n",
            "Setting up python-pkg-resources (39.0.1-2) ...\n",
            "Setting up python-cffi-backend (1.11.5-1) ...\n",
            "Setting up python-gi (3.26.1-2ubuntu1) ...\n",
            "Setting up python-six (1.11.0-2) ...\n",
            "Setting up python-enum34 (1.1.6-2) ...\n",
            "Setting up python-dbus (1.2.6-1) ...\n",
            "Setting up python-ipaddress (1.0.17-1) ...\n",
            "Setting up python-pip (9.0.1-2.3~ubuntu1.18.04.1) ...\n",
            "Setting up python-all (2.7.15~rc1-1) ...\n",
            "Setting up python-xdg (0.25-4ubuntu1) ...\n",
            "Setting up python-setuptools (39.0.1-2) ...\n",
            "Setting up python-keyrings.alt (3.0-1) ...\n",
            "Setting up python-all-dev (2.7.15~rc1-1) ...\n",
            "Setting up python-cryptography (2.1.4-1ubuntu1.3) ...\n",
            "Setting up python-secretstorage (2.3.1-2) ...\n",
            "Setting up python-keyring (10.6.0-1) ...\n",
            "Processing triggers for man-db (2.8.3-2ubuntu0.1) ...\n",
            "Collecting setuptools\n",
            "\u001b[?25l  Downloading https://files.pythonhosted.org/packages/54/28/c45d8b54c1339f9644b87663945e54a8503cfef59cf0f65b3ff5dd17cf64/setuptools-42.0.2-py2.py3-none-any.whl (583kB)\n",
            "\u001b[K     |████████████████████████████████| 583kB 2.8MB/s \n",
            "\u001b[?25hRequirement already up-to-date: pandas in /usr/local/lib/python3.6/dist-packages (0.25.3)\n",
            "Requirement already up-to-date: numpy in /usr/local/lib/python3.6/dist-packages (1.17.4)\n",
            "Requirement already up-to-date: scipy in /usr/local/lib/python3.6/dist-packages (1.3.3)\n",
            "Collecting scikit-learn\n",
            "\u001b[?25l  Downloading https://files.pythonhosted.org/packages/2e/d0/860c4f6a7027e00acff373d9f5327f4ae3ed5872234b3cbdd7bcb52e5eff/scikit_learn-0.22-cp36-cp36m-manylinux1_x86_64.whl (7.0MB)\n",
            "\u001b[K     |████████████████████████████████| 7.0MB 56.5MB/s \n",
            "\u001b[?25hRequirement already satisfied, skipping upgrade: pytz>=2017.2 in /usr/local/lib/python3.6/dist-packages (from pandas) (2018.9)\n",
            "Requirement already satisfied, skipping upgrade: python-dateutil>=2.6.1 in /usr/local/lib/python3.6/dist-packages (from pandas) (2.6.1)\n",
            "Requirement already satisfied, skipping upgrade: joblib>=0.11 in /usr/local/lib/python3.6/dist-packages (from scikit-learn) (0.14.0)\n",
            "Requirement already satisfied, skipping upgrade: six>=1.5 in /usr/local/lib/python3.6/dist-packages (from python-dateutil>=2.6.1->pandas) (1.12.0)\n",
            "\u001b[31mERROR: datascience 0.10.6 has requirement folium==0.2.1, but you'll have folium 0.8.3 which is incompatible.\u001b[0m\n",
            "Installing collected packages: setuptools, scikit-learn\n",
            "  Found existing installation: setuptools 42.0.1\n",
            "    Uninstalling setuptools-42.0.1:\n",
            "      Successfully uninstalled setuptools-42.0.1\n",
            "  Found existing installation: scikit-learn 0.21.3\n",
            "    Uninstalling scikit-learn-0.21.3:\n",
            "      Successfully uninstalled scikit-learn-0.21.3\n",
            "Successfully installed scikit-learn-0.22 setuptools-42.0.2\n",
            "/content/LightGBM/python-package\n",
            "running install\n",
            "running build\n",
            "running build_py\n",
            "INFO:root:Generating grammar tables from /usr/lib/python3.6/lib2to3/Grammar.txt\n",
            "INFO:root:Generating grammar tables from /usr/lib/python3.6/lib2to3/PatternGrammar.txt\n",
            "creating build\n",
            "creating build/lib\n",
            "creating build/lib/lightgbm\n",
            "copying lightgbm/plotting.py -> build/lib/lightgbm\n",
            "copying lightgbm/basic.py -> build/lib/lightgbm\n",
            "copying lightgbm/engine.py -> build/lib/lightgbm\n",
            "copying lightgbm/sklearn.py -> build/lib/lightgbm\n",
            "copying lightgbm/__init__.py -> build/lib/lightgbm\n",
            "copying lightgbm/callback.py -> build/lib/lightgbm\n",
            "copying lightgbm/libpath.py -> build/lib/lightgbm\n",
            "copying lightgbm/compat.py -> build/lib/lightgbm\n",
            "running egg_info\n",
            "creating lightgbm.egg-info\n",
            "writing lightgbm.egg-info/PKG-INFO\n",
            "writing dependency_links to lightgbm.egg-info/dependency_links.txt\n",
            "writing requirements to lightgbm.egg-info/requires.txt\n",
            "writing top-level names to lightgbm.egg-info/top_level.txt\n",
            "writing manifest file 'lightgbm.egg-info/SOURCES.txt'\n",
            "reading manifest template 'MANIFEST.in'\n",
            "no previously-included directories found matching 'build'\n",
            "warning: no files found matching 'LICENSE'\n",
            "warning: no files found matching '*.txt'\n",
            "warning: no files found matching '*.so' under directory 'lightgbm'\n",
            "warning: no files found matching '*.txt' under directory 'compile'\n",
            "warning: no files found matching '*.so' under directory 'compile'\n",
            "warning: no files found matching '*.dll' under directory 'compile/Release'\n",
            "warning: no files found matching '*' under directory 'compile/compute'\n",
            "warning: no files found matching '*' under directory 'compile/include'\n",
            "warning: no files found matching '*' under directory 'compile/src'\n",
            "warning: no files found matching 'LightGBM.sln' under directory 'compile/windows'\n",
            "warning: no files found matching 'LightGBM.vcxproj' under directory 'compile/windows'\n",
            "warning: no files found matching '*.dll' under directory 'compile/windows/x64/DLL'\n",
            "warning: no previously-included files matching '*.py[co]' found anywhere in distribution\n",
            "writing manifest file 'lightgbm.egg-info/SOURCES.txt'\n",
            "copying lightgbm/VERSION.txt -> build/lib/lightgbm\n",
            "running install_lib\n",
            "copying build/lib/lightgbm/plotting.py -> /usr/local/lib/python3.6/dist-packages/lightgbm\n",
            "copying build/lib/lightgbm/basic.py -> /usr/local/lib/python3.6/dist-packages/lightgbm\n",
            "copying build/lib/lightgbm/engine.py -> /usr/local/lib/python3.6/dist-packages/lightgbm\n",
            "copying build/lib/lightgbm/VERSION.txt -> /usr/local/lib/python3.6/dist-packages/lightgbm\n",
            "copying build/lib/lightgbm/sklearn.py -> /usr/local/lib/python3.6/dist-packages/lightgbm\n",
            "copying build/lib/lightgbm/__init__.py -> /usr/local/lib/python3.6/dist-packages/lightgbm\n",
            "copying build/lib/lightgbm/callback.py -> /usr/local/lib/python3.6/dist-packages/lightgbm\n",
            "copying build/lib/lightgbm/libpath.py -> /usr/local/lib/python3.6/dist-packages/lightgbm\n",
            "copying build/lib/lightgbm/compat.py -> /usr/local/lib/python3.6/dist-packages/lightgbm\n",
            "INFO:LightGBM:Installing lib_lightgbm from: ['../lib_lightgbm.so']\n",
            "copying ../lib_lightgbm.so -> /usr/local/lib/python3.6/dist-packages/lightgbm\n",
            "byte-compiling /usr/local/lib/python3.6/dist-packages/lightgbm/plotting.py to plotting.cpython-36.pyc\n",
            "byte-compiling /usr/local/lib/python3.6/dist-packages/lightgbm/basic.py to basic.cpython-36.pyc\n",
            "byte-compiling /usr/local/lib/python3.6/dist-packages/lightgbm/engine.py to engine.cpython-36.pyc\n",
            "byte-compiling /usr/local/lib/python3.6/dist-packages/lightgbm/sklearn.py to sklearn.cpython-36.pyc\n",
            "byte-compiling /usr/local/lib/python3.6/dist-packages/lightgbm/__init__.py to __init__.cpython-36.pyc\n",
            "byte-compiling /usr/local/lib/python3.6/dist-packages/lightgbm/callback.py to callback.cpython-36.pyc\n",
            "byte-compiling /usr/local/lib/python3.6/dist-packages/lightgbm/libpath.py to libpath.cpython-36.pyc\n",
            "byte-compiling /usr/local/lib/python3.6/dist-packages/lightgbm/compat.py to compat.cpython-36.pyc\n",
            "running install_egg_info\n",
            "Copying lightgbm.egg-info to /usr/local/lib/python3.6/dist-packages/lightgbm-2.3.2-py3.6.egg-info\n",
            "running install_scripts\n"
          ],
          "name": "stdout"
        }
      ]
    },
    {
      "cell_type": "code",
      "metadata": {
        "id": "1NfWYfg8sz7I",
        "colab_type": "code",
        "outputId": "3fadec47-92a7-4a6a-fabb-09f5881e47ed",
        "colab": {
          "base_uri": "https://localhost:8080/",
          "height": 1000
        }
      },
      "source": [
        "#%cp -rp '/content/drive/My Drive/ta-lib/' ~/\n",
        "%cd ~\n",
        "!rm -rf ta-lib*\n",
        "!wget http://prdownloads.sourceforge.net/ta-lib/ta-lib-0.4.0-src.tar.gz\n",
        "!tar -xzvf ta-lib-0.4.0-src.tar.gz\n",
        "#%cd '/content/drive/My Drive/ta-lib'\n",
        "#%cd ta-lib\n",
        "import os\n",
        "#os.chdir('/content/drive/My Drive/ta-lib') # Can't use !cd in co-lab\n",
        "os.chdir('ta-lib') # Can't use !cd in co-lab\n",
        "#%cd ~/ta-lib\n",
        "!./configure --prefix=/usr\n",
        "#! '/content/drive/My Drive/ta-lib/configure' --prefix=/usr\n",
        "!make\n",
        "!make install\n",
        "!pip install Ta-Lib\n",
        "%cd /content"
      ],
      "execution_count": 0,
      "outputs": [
        {
          "output_type": "stream",
          "text": [
            "/root\n",
            "--2019-12-08 10:13:29--  http://prdownloads.sourceforge.net/ta-lib/ta-lib-0.4.0-src.tar.gz\n",
            "Resolving prdownloads.sourceforge.net (prdownloads.sourceforge.net)... 216.105.38.13\n",
            "Connecting to prdownloads.sourceforge.net (prdownloads.sourceforge.net)|216.105.38.13|:80... connected.\n",
            "HTTP request sent, awaiting response... 301 Moved Permanently\n",
            "Location: http://downloads.sourceforge.net/project/ta-lib/ta-lib/0.4.0/ta-lib-0.4.0-src.tar.gz [following]\n",
            "--2019-12-08 10:13:29--  http://downloads.sourceforge.net/project/ta-lib/ta-lib/0.4.0/ta-lib-0.4.0-src.tar.gz\n",
            "Resolving downloads.sourceforge.net (downloads.sourceforge.net)... 216.105.38.13\n",
            "Reusing existing connection to prdownloads.sourceforge.net:80.\n",
            "HTTP request sent, awaiting response... 302 Found\n",
            "Location: https://nchc.dl.sourceforge.net/project/ta-lib/ta-lib/0.4.0/ta-lib-0.4.0-src.tar.gz [following]\n",
            "--2019-12-08 10:13:30--  https://nchc.dl.sourceforge.net/project/ta-lib/ta-lib/0.4.0/ta-lib-0.4.0-src.tar.gz\n",
            "Resolving nchc.dl.sourceforge.net (nchc.dl.sourceforge.net)... 140.110.96.69, 2001:e10:ffff:1f02::17\n",
            "Connecting to nchc.dl.sourceforge.net (nchc.dl.sourceforge.net)|140.110.96.69|:443... connected.\n",
            "HTTP request sent, awaiting response... 200 OK\n",
            "Length: 1330299 (1.3M) [application/x-gzip]\n",
            "Saving to: ‘ta-lib-0.4.0-src.tar.gz’\n",
            "\n",
            "ta-lib-0.4.0-src.ta 100%[===================>]   1.27M  --.-KB/s    in 0.07s   \n",
            "\n",
            "2019-12-08 10:13:30 (18.3 MB/s) - ‘ta-lib-0.4.0-src.tar.gz’ saved [1330299/1330299]\n",
            "\n",
            "ta-lib/\n",
            "ta-lib/config.sub\n",
            "ta-lib/aclocal.m4\n",
            "ta-lib/CHANGELOG.TXT\n",
            "ta-lib/include/\n",
            "ta-lib/include/ta_abstract.h\n",
            "ta-lib/include/ta_func.h\n",
            "ta-lib/include/ta_common.h\n",
            "ta-lib/include/ta_config.h.in\n",
            "ta-lib/include/Makefile.am\n",
            "ta-lib/include/ta_libc.h\n",
            "ta-lib/include/ta_defs.h\n",
            "ta-lib/missing\n",
            "ta-lib/ta-lib.spec.in\n",
            "ta-lib/config.guess\n",
            "ta-lib/Makefile.in\n",
            "ta-lib/ta-lib.dpkg.in\n",
            "ta-lib/Makefile.am\n",
            "ta-lib/autogen.sh\n",
            "ta-lib/install-sh\n",
            "ta-lib/configure\n",
            "ta-lib/depcomp\n",
            "ta-lib/HISTORY.TXT\n",
            "ta-lib/configure.in\n",
            "ta-lib/autom4te.cache/\n",
            "ta-lib/autom4te.cache/output.0\n",
            "ta-lib/autom4te.cache/requests\n",
            "ta-lib/autom4te.cache/output.1\n",
            "ta-lib/autom4te.cache/traces.0\n",
            "ta-lib/autom4te.cache/traces.1\n",
            "ta-lib/ltmain.sh\n",
            "ta-lib/ta-lib-config.in\n",
            "ta-lib/src/\n",
            "ta-lib/src/ta_func/\n",
            "ta-lib/src/ta_func/ta_MACDFIX.c\n",
            "ta-lib/src/ta_func/ta_CDLPIERCING.c\n",
            "ta-lib/src/ta_func/ta_DIV.c\n",
            "ta-lib/src/ta_func/ta_ROCR100.c\n",
            "ta-lib/src/ta_func/ta_ADXR.c\n",
            "ta-lib/src/ta_func/ta_MAVP.c\n",
            "ta-lib/src/ta_func/ta_CDLCLOSINGMARUBOZU.c\n",
            "ta-lib/src/ta_func/ta_COSH.c\n",
            "ta-lib/src/ta_func/ta_EXP.c\n",
            "ta-lib/src/ta_func/ta_MINMAXINDEX.c\n",
            "ta-lib/src/ta_func/ta_SQRT.c\n",
            "ta-lib/src/ta_func/ta_FLOOR.c\n",
            "ta-lib/src/ta_func/ta_CDLCONCEALBABYSWALL.c\n",
            "ta-lib/src/ta_func/ta_NATR.c\n",
            "ta-lib/src/ta_func/ta_CDLHARAMICROSS.c\n",
            "ta-lib/src/ta_func/ta_MINUS_DM.c\n",
            "ta-lib/src/ta_func/ta_LOG10.c\n",
            "ta-lib/src/ta_func/ta_LINEARREG_ANGLE.c\n",
            "ta-lib/src/ta_func/ta_RSI.c\n",
            "ta-lib/src/ta_func/ta_CDLABANDONEDBABY.c\n",
            "ta-lib/src/ta_func/ta_SAR.c\n",
            "ta-lib/src/ta_func/ta_CDLBREAKAWAY.c\n",
            "ta-lib/src/ta_func/ta_CDLDRAGONFLYDOJI.c\n",
            "ta-lib/src/ta_func/ta_CDLHIGHWAVE.c\n",
            "ta-lib/src/ta_func/ta_CDLKICKING.c\n",
            "ta-lib/src/ta_func/ta_CDLDOJISTAR.c\n",
            "ta-lib/src/ta_func/ta_VAR.c\n",
            "ta-lib/src/ta_func/ta_CDLMATCHINGLOW.c\n",
            "ta-lib/src/ta_func/ta_CDLGAPSIDESIDEWHITE.c\n",
            "ta-lib/src/ta_func/ta_CDLMARUBOZU.c\n",
            "ta-lib/src/ta_func/ta_AROONOSC.c\n",
            "ta-lib/src/ta_func/ta_WCLPRICE.c\n",
            "ta-lib/src/ta_func/ta_CDLEVENINGDOJISTAR.c\n",
            "ta-lib/src/ta_func/ta_CDL3INSIDE.c\n",
            "ta-lib/src/ta_func/ta_OBV.c\n",
            "ta-lib/src/ta_func/ta_AROON.c\n",
            "ta-lib/src/ta_func/ta_CDLBELTHOLD.c\n",
            "ta-lib/src/ta_func/ta_CDLSPINNINGTOP.c\n",
            "ta-lib/src/ta_func/ta_AD.c\n",
            "ta-lib/src/ta_func/ta_MAX.c\n",
            "ta-lib/src/ta_func/ta_CDLENGULFING.c\n",
            "ta-lib/src/ta_func/ta_MINMAX.c\n",
            "ta-lib/src/ta_func/ta_CDLINNECK.c\n",
            "ta-lib/src/ta_func/ta_STDDEV.c\n",
            "ta-lib/src/ta_func/ta_NVI.c\n",
            "ta-lib/src/ta_func/ta_CDLHAMMER.c\n",
            "ta-lib/src/ta_func/ta_ASIN.c\n",
            "ta-lib/src/ta_func/ta_SUM.c\n",
            "ta-lib/src/ta_func/ta_STOCH.c\n",
            "ta-lib/src/ta_func/ta_CDLLONGLEGGEDDOJI.c\n",
            "ta-lib/src/ta_func/ta_MEDPRICE.c\n",
            "ta-lib/src/ta_func/ta_CDL3STARSINSOUTH.c\n",
            "ta-lib/src/ta_func/ta_HT_TRENDMODE.c\n",
            "ta-lib/src/ta_func/ta_BBANDS.c\n",
            "ta-lib/src/ta_func/ta_CDLMORNINGSTAR.c\n",
            "ta-lib/src/ta_func/ta_HT_DCPHASE.c\n",
            "ta-lib/src/ta_func/ta_CDLLONGLINE.c\n",
            "ta-lib/src/ta_func/ta_TAN.c\n",
            "ta-lib/src/ta_func/ta_SMA.c\n",
            "ta-lib/src/ta_func/ta_DX.c\n",
            "ta-lib/src/ta_func/ta_MIDPOINT.c\n",
            "ta-lib/src/ta_func/ta_CDL2CROWS.c\n",
            "ta-lib/src/ta_func/ta_CORREL.c\n",
            "ta-lib/src/ta_func/ta_CDL3BLACKCROWS.c\n",
            "ta-lib/src/ta_func/ta_ADD.c\n",
            "ta-lib/src/ta_func/Makefile.in\n",
            "ta-lib/src/ta_func/ta_CDLTHRUSTING.c\n",
            "ta-lib/src/ta_func/ta_SUB.c\n",
            "ta-lib/src/ta_func/ta_CDLSTALLEDPATTERN.c\n",
            "ta-lib/src/ta_func/ta_CDLTRISTAR.c\n",
            "ta-lib/src/ta_func/ta_MA.c\n",
            "ta-lib/src/ta_func/ta_HT_SINE.c\n",
            "ta-lib/src/ta_func/ta_ACOS.c\n",
            "ta-lib/src/ta_func/ta_CDLSTICKSANDWICH.c\n",
            "ta-lib/src/ta_func/ta_SINH.c\n",
            "ta-lib/src/ta_func/ta_utility.h\n",
            "ta-lib/src/ta_func/ta_CDLSHORTLINE.c\n",
            "ta-lib/src/ta_func/ta_ATAN.c\n",
            "ta-lib/src/ta_func/ta_CDLADVANCEBLOCK.c\n",
            "ta-lib/src/ta_func/ta_CDLKICKINGBYLENGTH.c\n",
            "ta-lib/src/ta_func/ta_CDLSHOOTINGSTAR.c\n",
            "ta-lib/src/ta_func/ta_ROCR.c\n",
            "ta-lib/src/ta_func/ta_WMA.c\n",
            "ta-lib/src/ta_func/ta_CDLDARKCLOUDCOVER.c\n",
            "ta-lib/src/ta_func/ta_CDLXSIDEGAP3METHODS.c\n",
            "ta-lib/src/ta_func/ta_TYPPRICE.c\n",
            "ta-lib/src/ta_func/ta_CDL3WHITESOLDIERS.c\n",
            "ta-lib/src/ta_func/Makefile.am\n",
            "ta-lib/src/ta_func/ta_MACDEXT.c\n",
            "ta-lib/src/ta_func/ta_ADX.c\n",
            "ta-lib/src/ta_func/ta_PLUS_DM.c\n",
            "ta-lib/src/ta_func/ta_CDLUPSIDEGAP2CROWS.c\n",
            "ta-lib/src/ta_func/ta_LN.c\n",
            "ta-lib/src/ta_func/ta_DEMA.c\n",
            "ta-lib/src/ta_func/ta_CDL3OUTSIDE.c\n",
            "ta-lib/src/ta_func/ta_CDLTASUKIGAP.c\n",
            "ta-lib/src/ta_func/ta_MAMA.c\n",
            "ta-lib/src/ta_func/ta_CDLMORNINGDOJISTAR.c\n",
            "ta-lib/src/ta_func/ta_PLUS_DI.c\n",
            "ta-lib/src/ta_func/ta_MININDEX.c\n",
            "ta-lib/src/ta_func/ta_COS.c\n",
            "ta-lib/src/ta_func/ta_HT_TRENDLINE.c\n",
            "ta-lib/src/ta_func/ta_MIDPRICE.c\n",
            "ta-lib/src/ta_func/ta_CEIL.c\n",
            "ta-lib/src/ta_func/ta_TRIMA.c\n",
            "ta-lib/src/ta_func/ta_CDLSEPARATINGLINES.c\n",
            "ta-lib/src/ta_func/ta_ROCP.c\n",
            "ta-lib/src/ta_func/ta_CDLHOMINGPIGEON.c\n",
            "ta-lib/src/ta_func/ta_CDLHANGINGMAN.c\n",
            "ta-lib/src/ta_func/ta_AVGPRICE.c\n",
            "ta-lib/src/ta_func/ta_APO.c\n",
            "ta-lib/src/ta_func/ta_CDLRISEFALL3METHODS.c\n",
            "ta-lib/src/ta_func/ta_TRANGE.c\n",
            "ta-lib/src/ta_func/ta_TSF.c\n",
            "ta-lib/src/ta_func/ta_LINEARREG.c\n",
            "ta-lib/src/ta_func/ta_PVI.c\n",
            "ta-lib/src/ta_func/ta_CDLHIKKAKEMOD.c\n",
            "ta-lib/src/ta_func/ta_MFI.c\n",
            "ta-lib/src/ta_func/ta_CDLHARAMI.c\n",
            "ta-lib/src/ta_func/ta_MACD.c\n",
            "ta-lib/src/ta_func/ta_BETA.c\n",
            "ta-lib/src/ta_func/ta_CDLINVERTEDHAMMER.c\n",
            "ta-lib/src/ta_func/ta_LINEARREG_SLOPE.c\n",
            "ta-lib/src/ta_func/ta_STOCHF.c\n",
            "ta-lib/src/ta_func/ta_MIN.c\n",
            "ta-lib/src/ta_func/ta_CDLIDENTICAL3CROWS.c\n",
            "ta-lib/src/ta_func/ta_CDLRICKSHAWMAN.c\n",
            "ta-lib/src/ta_func/ta_T3.c\n",
            "ta-lib/src/ta_func/ta_CDLMATHOLD.c\n",
            "ta-lib/src/ta_func/ta_CDLUNIQUE3RIVER.c\n",
            "ta-lib/src/ta_func/ta_ADOSC.c\n",
            "ta-lib/src/ta_func/ta_MAXINDEX.c\n",
            "ta-lib/src/ta_func/ta_ULTOSC.c\n",
            "ta-lib/src/ta_func/ta_TRIX.c\n",
            "ta-lib/src/ta_func/ta_MOM.c\n",
            "ta-lib/src/ta_func/ta_CDLDOJI.c\n",
            "ta-lib/src/ta_func/ta_EMA.c\n",
            "ta-lib/src/ta_func/ta_STOCHRSI.c\n",
            "ta-lib/src/ta_func/ta_ROC.c\n",
            "ta-lib/src/ta_func/ta_CDLEVENINGSTAR.c\n",
            "ta-lib/src/ta_func/ta_CDLCOUNTERATTACK.c\n",
            "ta-lib/src/ta_func/ta_LINEARREG_INTERCEPT.c\n",
            "ta-lib/src/ta_func/ta_SAREXT.c\n",
            "ta-lib/src/ta_func/ta_WILLR.c\n",
            "ta-lib/src/ta_func/ta_MULT.c\n",
            "ta-lib/src/ta_func/ta_ATR.c\n",
            "ta-lib/src/ta_func/ta_BOP.c\n",
            "ta-lib/src/ta_func/ta_CMO.c\n",
            "ta-lib/src/ta_func/ta_CDLONNECK.c\n",
            "ta-lib/src/ta_func/ta_CCI.c\n",
            "ta-lib/src/ta_func/ta_CDLLADDERBOTTOM.c\n",
            "ta-lib/src/ta_func/ta_HT_PHASOR.c\n",
            "ta-lib/src/ta_func/ta_utility.c\n",
            "ta-lib/src/ta_func/ta_PPO.c\n",
            "ta-lib/src/ta_func/ta_CDLHIKKAKE.c\n",
            "ta-lib/src/ta_func/ta_HT_DCPERIOD.c\n",
            "ta-lib/src/ta_func/ta_CDL3LINESTRIKE.c\n",
            "ta-lib/src/ta_func/ta_TEMA.c\n",
            "ta-lib/src/ta_func/ta_SIN.c\n",
            "ta-lib/src/ta_func/ta_MINUS_DI.c\n",
            "ta-lib/src/ta_func/ta_KAMA.c\n",
            "ta-lib/src/ta_func/ta_TANH.c\n",
            "ta-lib/src/ta_func/ta_CDLTAKURI.c\n",
            "ta-lib/src/ta_func/ta_CDLGRAVESTONEDOJI.c\n",
            "ta-lib/src/ta_common/\n",
            "ta-lib/src/ta_common/ta_pragma.h\n",
            "ta-lib/src/ta_common/ta_magic_nb.h\n",
            "ta-lib/src/ta_common/ta_retcode.csv\n",
            "ta-lib/src/ta_common/Makefile.in\n",
            "ta-lib/src/ta_common/Makefile.am\n",
            "ta-lib/src/ta_common/ta_memory.h\n",
            "ta-lib/src/ta_common/ta_version.c\n",
            "ta-lib/src/ta_common/ta_global.h\n",
            "ta-lib/src/ta_common/ta_global.c\n",
            "ta-lib/src/ta_common/ta_retcode.c\n",
            "ta-lib/src/Makefile.in\n",
            "ta-lib/src/ta_abstract/\n",
            "ta-lib/src/ta_abstract/frames/\n",
            "ta-lib/src/ta_abstract/frames/ta_frame.c\n",
            "ta-lib/src/ta_abstract/frames/ta_frame.h\n",
            "ta-lib/src/ta_abstract/excel_glue.c\n",
            "ta-lib/src/ta_abstract/ta_frame_priv.h\n",
            "ta-lib/src/ta_abstract/ta_func_api.c\n",
            "ta-lib/src/ta_abstract/Makefile.in\n",
            "ta-lib/src/ta_abstract/ta_def_ui.h\n",
            "ta-lib/src/ta_abstract/Makefile.am\n",
            "ta-lib/src/ta_abstract/ta_abstract.c\n",
            "ta-lib/src/ta_abstract/ta_group_idx.c\n",
            "ta-lib/src/ta_abstract/tables/\n",
            "ta-lib/src/ta_abstract/tables/table_u.c\n",
            "ta-lib/src/ta_abstract/tables/table_x.c\n",
            "ta-lib/src/ta_abstract/tables/table_r.c\n",
            "ta-lib/src/ta_abstract/tables/table_f.c\n",
            "ta-lib/src/ta_abstract/tables/table_j.c\n",
            "ta-lib/src/ta_abstract/tables/table_e.c\n",
            "ta-lib/src/ta_abstract/tables/table_t.c\n",
            "ta-lib/src/ta_abstract/tables/table_n.c\n",
            "ta-lib/src/ta_abstract/tables/table_i.c\n",
            "ta-lib/src/ta_abstract/tables/table_c.c\n",
            "ta-lib/src/ta_abstract/tables/table_l.c\n",
            "ta-lib/src/ta_abstract/tables/table_k.c\n",
            "ta-lib/src/ta_abstract/tables/table_g.c\n",
            "ta-lib/src/ta_abstract/tables/table_d.c\n",
            "ta-lib/src/ta_abstract/tables/table_h.c\n",
            "ta-lib/src/ta_abstract/tables/table_o.c\n",
            "ta-lib/src/ta_abstract/tables/table_b.c\n",
            "ta-lib/src/ta_abstract/tables/table_q.c\n",
            "ta-lib/src/ta_abstract/tables/table_v.c\n",
            "ta-lib/src/ta_abstract/tables/table_m.c\n",
            "ta-lib/src/ta_abstract/tables/table_s.c\n",
            "ta-lib/src/ta_abstract/tables/table_y.c\n",
            "ta-lib/src/ta_abstract/tables/table_p.c\n",
            "ta-lib/src/ta_abstract/tables/table_z.c\n",
            "ta-lib/src/ta_abstract/tables/table_a.c\n",
            "ta-lib/src/ta_abstract/tables/table_w.c\n",
            "ta-lib/src/ta_abstract/ta_def_ui.c\n",
            "ta-lib/src/ta_abstract/templates/\n",
            "ta-lib/src/ta_abstract/templates/ta_x.c.template\n",
            "ta-lib/src/ta_abstract/templates/ta_java_defs.h.template\n",
            "ta-lib/src/ta_abstract/templates/excel_glue.c.template\n",
            "ta-lib/src/ta_abstract/templates/ta_group_idx.c.template\n",
            "ta-lib/src/ta_abstract/templates/ta_frame.c.template\n",
            "ta-lib/src/ta_abstract/templates/CoreAnnotated.java.template\n",
            "ta-lib/src/ta_abstract/templates/ta_func.h.template\n",
            "ta-lib/src/ta_abstract/templates/ta_frame.h.template\n",
            "ta-lib/src/ta_abstract/templates/Makefile.am.template\n",
            "ta-lib/src/ta_abstract/templates/ta_func_api.c.template\n",
            "ta-lib/src/ta_abstract/templates/ta_func.swg.template\n",
            "ta-lib/src/ta_abstract/templates/ta_retcode.c.template\n",
            "ta-lib/src/ta_abstract/ta_java_defs.h\n",
            "ta-lib/src/Makefile.am\n",
            "ta-lib/src/tools/\n",
            "ta-lib/src/tools/ta_regtest/\n",
            "ta-lib/src/tools/ta_regtest/test_util.c\n",
            "ta-lib/src/tools/ta_regtest/ta_test_func.h\n",
            "ta-lib/src/tools/ta_regtest/test_data.c\n",
            "ta-lib/src/tools/ta_regtest/ta_gDataHigh.c\n",
            "ta-lib/src/tools/ta_regtest/Makefile.in\n",
            "ta-lib/src/tools/ta_regtest/test_internals.c\n",
            "ta-lib/src/tools/ta_regtest/Makefile.am\n",
            "ta-lib/src/tools/ta_regtest/ta_regtest.c\n",
            "ta-lib/src/tools/ta_regtest/ta_gDataOpen.c\n",
            "ta-lib/src/tools/ta_regtest/ta_gDataClose.c\n",
            "ta-lib/src/tools/ta_regtest/test_abstract.c\n",
            "ta-lib/src/tools/ta_regtest/ta_test_func/\n",
            "ta-lib/src/tools/ta_regtest/ta_test_func/test_bbands.c\n",
            "ta-lib/src/tools/ta_regtest/ta_test_func/test_stddev.c\n",
            "ta-lib/src/tools/ta_regtest/ta_test_func/test_1in_2out.c\n",
            "ta-lib/src/tools/ta_regtest/ta_test_func/test_sar.c\n",
            "ta-lib/src/tools/ta_regtest/ta_test_func/test_1in_1out.c\n",
            "ta-lib/src/tools/ta_regtest/ta_test_func/test_trange.c\n",
            "ta-lib/src/tools/ta_regtest/ta_test_func/test_macd.c\n",
            "ta-lib/src/tools/ta_regtest/ta_test_func/test_po.c\n",
            "ta-lib/src/tools/ta_regtest/ta_test_func/test_per_hlc.c\n",
            "ta-lib/src/tools/ta_regtest/ta_test_func/test_mom.c\n",
            "ta-lib/src/tools/ta_regtest/ta_test_func/test_per_ohlc.c\n",
            "ta-lib/src/tools/ta_regtest/ta_test_func/test_adx.c\n",
            "ta-lib/src/tools/ta_regtest/ta_test_func/test_candlestick.c\n",
            "ta-lib/src/tools/ta_regtest/ta_test_func/test_rsi.c\n",
            "ta-lib/src/tools/ta_regtest/ta_test_func/test_per_ema.c\n",
            "ta-lib/src/tools/ta_regtest/ta_test_func/test_minmax.c\n",
            "ta-lib/src/tools/ta_regtest/ta_test_func/test_per_hlcv.c\n",
            "ta-lib/src/tools/ta_regtest/ta_test_func/test_per_hl.c\n",
            "ta-lib/src/tools/ta_regtest/ta_test_func/test_stoch.c\n",
            "ta-lib/src/tools/ta_regtest/ta_test_func/test_ma.c\n",
            "ta-lib/src/tools/ta_regtest/ta_error_number.h\n",
            "ta-lib/src/tools/ta_regtest/ta_test_priv.h\n",
            "ta-lib/src/tools/ta_regtest/ReadMe.txt\n",
            "ta-lib/src/tools/ta_regtest/ta_gDataLow.c\n",
            "ta-lib/src/tools/Makefile.in\n",
            "ta-lib/src/tools/Makefile.am\n",
            "ta-lib/src/tools/gen_code/\n",
            "ta-lib/src/tools/gen_code/java/\n",
            "ta-lib/src/tools/gen_code/java/PrettyCode.java\n",
            "ta-lib/src/tools/gen_code/java/Main.java\n",
            "ta-lib/src/tools/gen_code/gen_code.c\n",
            "ta-lib/src/tools/gen_code/Makefile.in\n",
            "ta-lib/src/tools/gen_code/Makefile.am\n",
            "ta-lib/src/tools/gen_code/mcpp.exe\n",
            "checking for a BSD-compatible install... /usr/bin/install -c\n",
            "checking whether build environment is sane... yes\n",
            "checking for a thread-safe mkdir -p... /bin/mkdir -p\n",
            "checking for gawk... no\n",
            "checking for mawk... mawk\n",
            "checking whether make sets $(MAKE)... yes\n",
            "checking for gcc... gcc\n",
            "checking for C compiler default output file name... a.out\n",
            "checking whether the C compiler works... yes\n",
            "checking whether we are cross compiling... no\n",
            "checking for suffix of executables... \n",
            "checking for suffix of object files... o\n",
            "checking whether we are using the GNU C compiler... yes\n",
            "checking whether gcc accepts -g... yes\n",
            "checking for gcc option to accept ISO C89... none needed\n",
            "checking for style of include used by make... GNU\n",
            "checking dependency style of gcc... gcc3\n",
            "checking build system type... x86_64-unknown-linux-gnu\n",
            "checking host system type... x86_64-unknown-linux-gnu\n",
            "checking for a sed that does not truncate output... /bin/sed\n",
            "checking for grep that handles long lines and -e... /bin/grep\n",
            "checking for egrep... /bin/grep -E\n",
            "checking for ld used by gcc... /usr/bin/ld\n",
            "checking if the linker (/usr/bin/ld) is GNU ld... yes\n",
            "checking for /usr/bin/ld option to reload object files... -r\n",
            "checking for BSD-compatible nm... /usr/bin/nm -B\n",
            "checking whether ln -s works... yes\n",
            "checking how to recognise dependent libraries... pass_all\n",
            "./configure: line 4354: /usr/bin/file: No such file or directory\n",
            "checking how to run the C preprocessor... gcc -E\n",
            "checking for ANSI C header files... yes\n",
            "checking for sys/types.h... yes\n",
            "checking for sys/stat.h... yes\n",
            "checking for stdlib.h... yes\n",
            "checking for string.h... yes\n",
            "checking for memory.h... yes\n",
            "checking for strings.h... yes\n",
            "checking for inttypes.h... yes\n",
            "checking for stdint.h... yes\n",
            "checking for unistd.h... yes\n",
            "checking dlfcn.h usability... yes\n",
            "checking dlfcn.h presence... yes\n",
            "checking for dlfcn.h... yes\n",
            "checking for g++... g++\n",
            "checking whether we are using the GNU C++ compiler... yes\n",
            "checking whether g++ accepts -g... yes\n",
            "checking dependency style of g++... gcc3\n",
            "checking how to run the C++ preprocessor... g++ -E\n",
            "checking for g77... no\n",
            "checking for xlf... no\n",
            "checking for f77... f77\n",
            "checking whether we are using the GNU Fortran 77 compiler... yes\n",
            "checking whether f77 accepts -g... yes\n",
            "checking the maximum length of command line arguments... 32768\n",
            "checking command to parse /usr/bin/nm -B output from gcc object... ok\n",
            "checking for objdir... .libs\n",
            "checking for ar... ar\n",
            "checking for ranlib... ranlib\n",
            "checking for strip... strip\n",
            "checking if gcc supports -fno-rtti -fno-exceptions... no\n",
            "checking for gcc option to produce PIC... -fPIC\n",
            "checking if gcc PIC flag -fPIC works... yes\n",
            "checking if gcc static flag -static works... yes\n",
            "checking if gcc supports -c -o file.o... yes\n",
            "checking whether the gcc linker (/usr/bin/ld) supports shared libraries... yes\n",
            "checking whether -lc should be explicitly linked in... no\n",
            "checking dynamic linker characteristics... GNU/Linux ld.so\n",
            "checking how to hardcode library paths into programs... immediate\n",
            "checking whether stripping libraries is possible... yes\n",
            "checking if libtool supports shared libraries... yes\n",
            "checking whether to build shared libraries... yes\n",
            "checking whether to build static libraries... yes\n",
            "configure: creating libtool\n",
            "appending configuration tag \"CXX\" to libtool\n",
            "checking for ld used by g++... /usr/bin/ld\n",
            "checking if the linker (/usr/bin/ld) is GNU ld... yes\n",
            "checking whether the g++ linker (/usr/bin/ld) supports shared libraries... yes\n",
            "checking for g++ option to produce PIC... -fPIC\n",
            "checking if g++ PIC flag -fPIC works... yes\n",
            "checking if g++ static flag -static works... yes\n",
            "checking if g++ supports -c -o file.o... yes\n",
            "checking whether the g++ linker (/usr/bin/ld) supports shared libraries... yes\n",
            "checking dynamic linker characteristics... GNU/Linux ld.so\n",
            "checking how to hardcode library paths into programs... immediate\n",
            "appending configuration tag \"F77\" to libtool\n",
            "checking if libtool supports shared libraries... yes\n",
            "checking whether to build shared libraries... yes\n",
            "checking whether to build static libraries... yes\n",
            "checking for f77 option to produce PIC... -fPIC\n",
            "checking if f77 PIC flag -fPIC works... yes\n",
            "checking if f77 static flag -static works... yes\n",
            "checking if f77 supports -c -o file.o... yes\n",
            "checking whether the f77 linker (/usr/bin/ld) supports shared libraries... yes\n",
            "checking dynamic linker characteristics... GNU/Linux ld.so\n",
            "checking how to hardcode library paths into programs... immediate\n",
            "checking for dlopen in -ldl... yes\n",
            "checking for pthread_create in -lpthread... yes\n",
            "checking for ANSI C header files... (cached) yes\n",
            "checking float.h usability... yes\n",
            "checking float.h presence... yes\n",
            "checking for float.h... yes\n",
            "checking for inttypes.h... (cached) yes\n",
            "checking limits.h usability... yes\n",
            "checking limits.h presence... yes\n",
            "checking for limits.h... yes\n",
            "checking locale.h usability... yes\n",
            "checking locale.h presence... yes\n",
            "checking for locale.h... yes\n",
            "checking stddef.h usability... yes\n",
            "checking stddef.h presence... yes\n",
            "checking for stddef.h... yes\n",
            "checking for stdint.h... (cached) yes\n",
            "checking for stdlib.h... (cached) yes\n",
            "checking for string.h... (cached) yes\n",
            "checking for unistd.h... (cached) yes\n",
            "checking wchar.h usability... yes\n",
            "checking wchar.h presence... yes\n",
            "checking for wchar.h... yes\n",
            "checking wctype.h usability... yes\n",
            "checking wctype.h presence... yes\n",
            "checking for wctype.h... yes\n",
            "checking for an ANSI C-conforming const... yes\n",
            "checking for size_t... yes\n",
            "checking whether struct tm is in sys/time.h or time.h... time.h\n",
            "checking for working volatile... yes\n",
            "checking for ptrdiff_t... yes\n",
            "checking return type of signal handlers... void\n",
            "checking for working strcoll... yes\n",
            "checking for strftime... yes\n",
            "checking for working strtod... yes\n",
            "checking for vprintf... yes\n",
            "checking for _doprnt... no\n",
            "checking for floor... no\n",
            "checking for isascii... yes\n",
            "checking for localeconv... yes\n",
            "checking for mblen... yes\n",
            "checking for memmove... yes\n",
            "checking for memset... yes\n",
            "checking for modf... yes\n",
            "checking for pow... no\n",
            "checking for sqrt... no\n",
            "checking for strcasecmp... yes\n",
            "checking for strchr... yes\n",
            "checking for strerror... yes\n",
            "checking for strncasecmp... yes\n",
            "checking for strrchr... yes\n",
            "checking for strstr... yes\n",
            "checking for strtol... yes\n",
            "checking for strtoul... yes\n",
            "configure: creating ./config.status\n",
            "config.status: creating Makefile\n",
            "config.status: creating src/Makefile\n",
            "config.status: creating src/ta_abstract/Makefile\n",
            "config.status: creating src/ta_common/Makefile\n",
            "config.status: creating src/ta_func/Makefile\n",
            "config.status: creating src/tools/Makefile\n",
            "config.status: creating src/tools/gen_code/Makefile\n",
            "config.status: creating src/tools/ta_regtest/Makefile\n",
            "config.status: creating ta-lib-config\n",
            "config.status: creating ta-lib.spec\n",
            "config.status: creating ta-lib.dpkg\n",
            "config.status: creating include/ta_config.h\n",
            "config.status: executing depfiles commands\n",
            "Making all in src\n",
            "make[1]: Entering directory '/root/ta-lib/src'\n",
            "Making all in ta_abstract\n",
            "make[2]: Entering directory '/root/ta-lib/src/ta_abstract'\n",
            "/bin/bash ../../libtool --tag=CC   --mode=compile gcc -DHAVE_CONFIG_H -I. -I../../include  -I../ta_common/ -Iframes/   -g -O2 -MT libta_abstract_la-ta_group_idx.lo -MD -MP -MF .deps/libta_abstract_la-ta_group_idx.Tpo -c -o libta_abstract_la-ta_group_idx.lo `test -f 'ta_group_idx.c' || echo './'`ta_group_idx.c\n",
            "mkdir .libs\n",
            " gcc -DHAVE_CONFIG_H -I. -I../../include -I../ta_common/ -Iframes/ -g -O2 -MT libta_abstract_la-ta_group_idx.lo -MD -MP -MF .deps/libta_abstract_la-ta_group_idx.Tpo -c ta_group_idx.c  -fPIC -DPIC -o .libs/libta_abstract_la-ta_group_idx.o\n",
            " gcc -DHAVE_CONFIG_H -I. -I../../include -I../ta_common/ -Iframes/ -g -O2 -MT libta_abstract_la-ta_group_idx.lo -MD -MP -MF .deps/libta_abstract_la-ta_group_idx.Tpo -c ta_group_idx.c -o libta_abstract_la-ta_group_idx.o >/dev/null 2>&1\n",
            "mv -f .deps/libta_abstract_la-ta_group_idx.Tpo .deps/libta_abstract_la-ta_group_idx.Plo\n",
            "/bin/bash ../../libtool --tag=CC   --mode=compile gcc -DHAVE_CONFIG_H -I. -I../../include  -I../ta_common/ -Iframes/   -g -O2 -MT libta_abstract_la-ta_def_ui.lo -MD -MP -MF .deps/libta_abstract_la-ta_def_ui.Tpo -c -o libta_abstract_la-ta_def_ui.lo `test -f 'ta_def_ui.c' || echo './'`ta_def_ui.c\n",
            " gcc -DHAVE_CONFIG_H -I. -I../../include -I../ta_common/ -Iframes/ -g -O2 -MT libta_abstract_la-ta_def_ui.lo -MD -MP -MF .deps/libta_abstract_la-ta_def_ui.Tpo -c ta_def_ui.c  -fPIC -DPIC -o .libs/libta_abstract_la-ta_def_ui.o\n",
            " gcc -DHAVE_CONFIG_H -I. -I../../include -I../ta_common/ -Iframes/ -g -O2 -MT libta_abstract_la-ta_def_ui.lo -MD -MP -MF .deps/libta_abstract_la-ta_def_ui.Tpo -c ta_def_ui.c -o libta_abstract_la-ta_def_ui.o >/dev/null 2>&1\n",
            "mv -f .deps/libta_abstract_la-ta_def_ui.Tpo .deps/libta_abstract_la-ta_def_ui.Plo\n",
            "/bin/bash ../../libtool --tag=CC   --mode=compile gcc -DHAVE_CONFIG_H -I. -I../../include  -I../ta_common/ -Iframes/   -g -O2 -MT libta_abstract_la-ta_abstract.lo -MD -MP -MF .deps/libta_abstract_la-ta_abstract.Tpo -c -o libta_abstract_la-ta_abstract.lo `test -f 'ta_abstract.c' || echo './'`ta_abstract.c\n",
            " gcc -DHAVE_CONFIG_H -I. -I../../include -I../ta_common/ -Iframes/ -g -O2 -MT libta_abstract_la-ta_abstract.lo -MD -MP -MF .deps/libta_abstract_la-ta_abstract.Tpo -c ta_abstract.c  -fPIC -DPIC -o .libs/libta_abstract_la-ta_abstract.o\n",
            " gcc -DHAVE_CONFIG_H -I. -I../../include -I../ta_common/ -Iframes/ -g -O2 -MT libta_abstract_la-ta_abstract.lo -MD -MP -MF .deps/libta_abstract_la-ta_abstract.Tpo -c ta_abstract.c -o libta_abstract_la-ta_abstract.o >/dev/null 2>&1\n",
            "mv -f .deps/libta_abstract_la-ta_abstract.Tpo .deps/libta_abstract_la-ta_abstract.Plo\n",
            "/bin/bash ../../libtool --tag=CC   --mode=compile gcc -DHAVE_CONFIG_H -I. -I../../include  -I../ta_common/ -Iframes/   -g -O2 -MT libta_abstract_la-ta_func_api.lo -MD -MP -MF .deps/libta_abstract_la-ta_func_api.Tpo -c -o libta_abstract_la-ta_func_api.lo `test -f 'ta_func_api.c' || echo './'`ta_func_api.c\n",
            " gcc -DHAVE_CONFIG_H -I. -I../../include -I../ta_common/ -Iframes/ -g -O2 -MT libta_abstract_la-ta_func_api.lo -MD -MP -MF .deps/libta_abstract_la-ta_func_api.Tpo -c ta_func_api.c  -fPIC -DPIC -o .libs/libta_abstract_la-ta_func_api.o\n",
            " gcc -DHAVE_CONFIG_H -I. -I../../include -I../ta_common/ -Iframes/ -g -O2 -MT libta_abstract_la-ta_func_api.lo -MD -MP -MF .deps/libta_abstract_la-ta_func_api.Tpo -c ta_func_api.c -o libta_abstract_la-ta_func_api.o >/dev/null 2>&1\n",
            "mv -f .deps/libta_abstract_la-ta_func_api.Tpo .deps/libta_abstract_la-ta_func_api.Plo\n",
            "/bin/bash ../../libtool --tag=CC   --mode=compile gcc -DHAVE_CONFIG_H -I. -I../../include  -I../ta_common/ -Iframes/   -g -O2 -MT libta_abstract_la-ta_frame.lo -MD -MP -MF .deps/libta_abstract_la-ta_frame.Tpo -c -o libta_abstract_la-ta_frame.lo `test -f 'frames/ta_frame.c' || echo './'`frames/ta_frame.c\n",
            " gcc -DHAVE_CONFIG_H -I. -I../../include -I../ta_common/ -Iframes/ -g -O2 -MT libta_abstract_la-ta_frame.lo -MD -MP -MF .deps/libta_abstract_la-ta_frame.Tpo -c frames/ta_frame.c  -fPIC -DPIC -o .libs/libta_abstract_la-ta_frame.o\n",
            " gcc -DHAVE_CONFIG_H -I. -I../../include -I../ta_common/ -Iframes/ -g -O2 -MT libta_abstract_la-ta_frame.lo -MD -MP -MF .deps/libta_abstract_la-ta_frame.Tpo -c frames/ta_frame.c -o libta_abstract_la-ta_frame.o >/dev/null 2>&1\n",
            "mv -f .deps/libta_abstract_la-ta_frame.Tpo .deps/libta_abstract_la-ta_frame.Plo\n",
            "/bin/bash ../../libtool --tag=CC   --mode=compile gcc -DHAVE_CONFIG_H -I. -I../../include  -I../ta_common/ -Iframes/   -g -O2 -MT libta_abstract_la-table_a.lo -MD -MP -MF .deps/libta_abstract_la-table_a.Tpo -c -o libta_abstract_la-table_a.lo `test -f 'tables/table_a.c' || echo './'`tables/table_a.c\n",
            " gcc -DHAVE_CONFIG_H -I. -I../../include -I../ta_common/ -Iframes/ -g -O2 -MT libta_abstract_la-table_a.lo -MD -MP -MF .deps/libta_abstract_la-table_a.Tpo -c tables/table_a.c  -fPIC -DPIC -o .libs/libta_abstract_la-table_a.o\n",
            " gcc -DHAVE_CONFIG_H -I. -I../../include -I../ta_common/ -Iframes/ -g -O2 -MT libta_abstract_la-table_a.lo -MD -MP -MF .deps/libta_abstract_la-table_a.Tpo -c tables/table_a.c -o libta_abstract_la-table_a.o >/dev/null 2>&1\n",
            "mv -f .deps/libta_abstract_la-table_a.Tpo .deps/libta_abstract_la-table_a.Plo\n",
            "/bin/bash ../../libtool --tag=CC   --mode=compile gcc -DHAVE_CONFIG_H -I. -I../../include  -I../ta_common/ -Iframes/   -g -O2 -MT libta_abstract_la-table_b.lo -MD -MP -MF .deps/libta_abstract_la-table_b.Tpo -c -o libta_abstract_la-table_b.lo `test -f 'tables/table_b.c' || echo './'`tables/table_b.c\n",
            " gcc -DHAVE_CONFIG_H -I. -I../../include -I../ta_common/ -Iframes/ -g -O2 -MT libta_abstract_la-table_b.lo -MD -MP -MF .deps/libta_abstract_la-table_b.Tpo -c tables/table_b.c  -fPIC -DPIC -o .libs/libta_abstract_la-table_b.o\n",
            " gcc -DHAVE_CONFIG_H -I. -I../../include -I../ta_common/ -Iframes/ -g -O2 -MT libta_abstract_la-table_b.lo -MD -MP -MF .deps/libta_abstract_la-table_b.Tpo -c tables/table_b.c -o libta_abstract_la-table_b.o >/dev/null 2>&1\n",
            "mv -f .deps/libta_abstract_la-table_b.Tpo .deps/libta_abstract_la-table_b.Plo\n",
            "/bin/bash ../../libtool --tag=CC   --mode=compile gcc -DHAVE_CONFIG_H -I. -I../../include  -I../ta_common/ -Iframes/   -g -O2 -MT libta_abstract_la-table_c.lo -MD -MP -MF .deps/libta_abstract_la-table_c.Tpo -c -o libta_abstract_la-table_c.lo `test -f 'tables/table_c.c' || echo './'`tables/table_c.c\n",
            " gcc -DHAVE_CONFIG_H -I. -I../../include -I../ta_common/ -Iframes/ -g -O2 -MT libta_abstract_la-table_c.lo -MD -MP -MF .deps/libta_abstract_la-table_c.Tpo -c tables/table_c.c  -fPIC -DPIC -o .libs/libta_abstract_la-table_c.o\n",
            " gcc -DHAVE_CONFIG_H -I. -I../../include -I../ta_common/ -Iframes/ -g -O2 -MT libta_abstract_la-table_c.lo -MD -MP -MF .deps/libta_abstract_la-table_c.Tpo -c tables/table_c.c -o libta_abstract_la-table_c.o >/dev/null 2>&1\n",
            "mv -f .deps/libta_abstract_la-table_c.Tpo .deps/libta_abstract_la-table_c.Plo\n",
            "/bin/bash ../../libtool --tag=CC   --mode=compile gcc -DHAVE_CONFIG_H -I. -I../../include  -I../ta_common/ -Iframes/   -g -O2 -MT libta_abstract_la-table_d.lo -MD -MP -MF .deps/libta_abstract_la-table_d.Tpo -c -o libta_abstract_la-table_d.lo `test -f 'tables/table_d.c' || echo './'`tables/table_d.c\n",
            " gcc -DHAVE_CONFIG_H -I. -I../../include -I../ta_common/ -Iframes/ -g -O2 -MT libta_abstract_la-table_d.lo -MD -MP -MF .deps/libta_abstract_la-table_d.Tpo -c tables/table_d.c  -fPIC -DPIC -o .libs/libta_abstract_la-table_d.o\n",
            " gcc -DHAVE_CONFIG_H -I. -I../../include -I../ta_common/ -Iframes/ -g -O2 -MT libta_abstract_la-table_d.lo -MD -MP -MF .deps/libta_abstract_la-table_d.Tpo -c tables/table_d.c -o libta_abstract_la-table_d.o >/dev/null 2>&1\n",
            "mv -f .deps/libta_abstract_la-table_d.Tpo .deps/libta_abstract_la-table_d.Plo\n",
            "/bin/bash ../../libtool --tag=CC   --mode=compile gcc -DHAVE_CONFIG_H -I. -I../../include  -I../ta_common/ -Iframes/   -g -O2 -MT libta_abstract_la-table_e.lo -MD -MP -MF .deps/libta_abstract_la-table_e.Tpo -c -o libta_abstract_la-table_e.lo `test -f 'tables/table_e.c' || echo './'`tables/table_e.c\n",
            " gcc -DHAVE_CONFIG_H -I. -I../../include -I../ta_common/ -Iframes/ -g -O2 -MT libta_abstract_la-table_e.lo -MD -MP -MF .deps/libta_abstract_la-table_e.Tpo -c tables/table_e.c  -fPIC -DPIC -o .libs/libta_abstract_la-table_e.o\n",
            " gcc -DHAVE_CONFIG_H -I. -I../../include -I../ta_common/ -Iframes/ -g -O2 -MT libta_abstract_la-table_e.lo -MD -MP -MF .deps/libta_abstract_la-table_e.Tpo -c tables/table_e.c -o libta_abstract_la-table_e.o >/dev/null 2>&1\n",
            "mv -f .deps/libta_abstract_la-table_e.Tpo .deps/libta_abstract_la-table_e.Plo\n",
            "/bin/bash ../../libtool --tag=CC   --mode=compile gcc -DHAVE_CONFIG_H -I. -I../../include  -I../ta_common/ -Iframes/   -g -O2 -MT libta_abstract_la-table_f.lo -MD -MP -MF .deps/libta_abstract_la-table_f.Tpo -c -o libta_abstract_la-table_f.lo `test -f 'tables/table_f.c' || echo './'`tables/table_f.c\n",
            " gcc -DHAVE_CONFIG_H -I. -I../../include -I../ta_common/ -Iframes/ -g -O2 -MT libta_abstract_la-table_f.lo -MD -MP -MF .deps/libta_abstract_la-table_f.Tpo -c tables/table_f.c  -fPIC -DPIC -o .libs/libta_abstract_la-table_f.o\n",
            " gcc -DHAVE_CONFIG_H -I. -I../../include -I../ta_common/ -Iframes/ -g -O2 -MT libta_abstract_la-table_f.lo -MD -MP -MF .deps/libta_abstract_la-table_f.Tpo -c tables/table_f.c -o libta_abstract_la-table_f.o >/dev/null 2>&1\n",
            "mv -f .deps/libta_abstract_la-table_f.Tpo .deps/libta_abstract_la-table_f.Plo\n",
            "/bin/bash ../../libtool --tag=CC   --mode=compile gcc -DHAVE_CONFIG_H -I. -I../../include  -I../ta_common/ -Iframes/   -g -O2 -MT libta_abstract_la-table_g.lo -MD -MP -MF .deps/libta_abstract_la-table_g.Tpo -c -o libta_abstract_la-table_g.lo `test -f 'tables/table_g.c' || echo './'`tables/table_g.c\n",
            " gcc -DHAVE_CONFIG_H -I. -I../../include -I../ta_common/ -Iframes/ -g -O2 -MT libta_abstract_la-table_g.lo -MD -MP -MF .deps/libta_abstract_la-table_g.Tpo -c tables/table_g.c  -fPIC -DPIC -o .libs/libta_abstract_la-table_g.o\n",
            " gcc -DHAVE_CONFIG_H -I. -I../../include -I../ta_common/ -Iframes/ -g -O2 -MT libta_abstract_la-table_g.lo -MD -MP -MF .deps/libta_abstract_la-table_g.Tpo -c tables/table_g.c -o libta_abstract_la-table_g.o >/dev/null 2>&1\n",
            "mv -f .deps/libta_abstract_la-table_g.Tpo .deps/libta_abstract_la-table_g.Plo\n",
            "/bin/bash ../../libtool --tag=CC   --mode=compile gcc -DHAVE_CONFIG_H -I. -I../../include  -I../ta_common/ -Iframes/   -g -O2 -MT libta_abstract_la-table_h.lo -MD -MP -MF .deps/libta_abstract_la-table_h.Tpo -c -o libta_abstract_la-table_h.lo `test -f 'tables/table_h.c' || echo './'`tables/table_h.c\n",
            " gcc -DHAVE_CONFIG_H -I. -I../../include -I../ta_common/ -Iframes/ -g -O2 -MT libta_abstract_la-table_h.lo -MD -MP -MF .deps/libta_abstract_la-table_h.Tpo -c tables/table_h.c  -fPIC -DPIC -o .libs/libta_abstract_la-table_h.o\n",
            " gcc -DHAVE_CONFIG_H -I. -I../../include -I../ta_common/ -Iframes/ -g -O2 -MT libta_abstract_la-table_h.lo -MD -MP -MF .deps/libta_abstract_la-table_h.Tpo -c tables/table_h.c -o libta_abstract_la-table_h.o >/dev/null 2>&1\n",
            "mv -f .deps/libta_abstract_la-table_h.Tpo .deps/libta_abstract_la-table_h.Plo\n",
            "/bin/bash ../../libtool --tag=CC   --mode=compile gcc -DHAVE_CONFIG_H -I. -I../../include  -I../ta_common/ -Iframes/   -g -O2 -MT libta_abstract_la-table_i.lo -MD -MP -MF .deps/libta_abstract_la-table_i.Tpo -c -o libta_abstract_la-table_i.lo `test -f 'tables/table_i.c' || echo './'`tables/table_i.c\n",
            " gcc -DHAVE_CONFIG_H -I. -I../../include -I../ta_common/ -Iframes/ -g -O2 -MT libta_abstract_la-table_i.lo -MD -MP -MF .deps/libta_abstract_la-table_i.Tpo -c tables/table_i.c  -fPIC -DPIC -o .libs/libta_abstract_la-table_i.o\n",
            " gcc -DHAVE_CONFIG_H -I. -I../../include -I../ta_common/ -Iframes/ -g -O2 -MT libta_abstract_la-table_i.lo -MD -MP -MF .deps/libta_abstract_la-table_i.Tpo -c tables/table_i.c -o libta_abstract_la-table_i.o >/dev/null 2>&1\n",
            "mv -f .deps/libta_abstract_la-table_i.Tpo .deps/libta_abstract_la-table_i.Plo\n",
            "/bin/bash ../../libtool --tag=CC   --mode=compile gcc -DHAVE_CONFIG_H -I. -I../../include  -I../ta_common/ -Iframes/   -g -O2 -MT libta_abstract_la-table_j.lo -MD -MP -MF .deps/libta_abstract_la-table_j.Tpo -c -o libta_abstract_la-table_j.lo `test -f 'tables/table_j.c' || echo './'`tables/table_j.c\n",
            " gcc -DHAVE_CONFIG_H -I. -I../../include -I../ta_common/ -Iframes/ -g -O2 -MT libta_abstract_la-table_j.lo -MD -MP -MF .deps/libta_abstract_la-table_j.Tpo -c tables/table_j.c  -fPIC -DPIC -o .libs/libta_abstract_la-table_j.o\n",
            " gcc -DHAVE_CONFIG_H -I. -I../../include -I../ta_common/ -Iframes/ -g -O2 -MT libta_abstract_la-table_j.lo -MD -MP -MF .deps/libta_abstract_la-table_j.Tpo -c tables/table_j.c -o libta_abstract_la-table_j.o >/dev/null 2>&1\n",
            "mv -f .deps/libta_abstract_la-table_j.Tpo .deps/libta_abstract_la-table_j.Plo\n",
            "/bin/bash ../../libtool --tag=CC   --mode=compile gcc -DHAVE_CONFIG_H -I. -I../../include  -I../ta_common/ -Iframes/   -g -O2 -MT libta_abstract_la-table_k.lo -MD -MP -MF .deps/libta_abstract_la-table_k.Tpo -c -o libta_abstract_la-table_k.lo `test -f 'tables/table_k.c' || echo './'`tables/table_k.c\n",
            " gcc -DHAVE_CONFIG_H -I. -I../../include -I../ta_common/ -Iframes/ -g -O2 -MT libta_abstract_la-table_k.lo -MD -MP -MF .deps/libta_abstract_la-table_k.Tpo -c tables/table_k.c  -fPIC -DPIC -o .libs/libta_abstract_la-table_k.o\n",
            " gcc -DHAVE_CONFIG_H -I. -I../../include -I../ta_common/ -Iframes/ -g -O2 -MT libta_abstract_la-table_k.lo -MD -MP -MF .deps/libta_abstract_la-table_k.Tpo -c tables/table_k.c -o libta_abstract_la-table_k.o >/dev/null 2>&1\n",
            "mv -f .deps/libta_abstract_la-table_k.Tpo .deps/libta_abstract_la-table_k.Plo\n",
            "/bin/bash ../../libtool --tag=CC   --mode=compile gcc -DHAVE_CONFIG_H -I. -I../../include  -I../ta_common/ -Iframes/   -g -O2 -MT libta_abstract_la-table_l.lo -MD -MP -MF .deps/libta_abstract_la-table_l.Tpo -c -o libta_abstract_la-table_l.lo `test -f 'tables/table_l.c' || echo './'`tables/table_l.c\n",
            " gcc -DHAVE_CONFIG_H -I. -I../../include -I../ta_common/ -Iframes/ -g -O2 -MT libta_abstract_la-table_l.lo -MD -MP -MF .deps/libta_abstract_la-table_l.Tpo -c tables/table_l.c  -fPIC -DPIC -o .libs/libta_abstract_la-table_l.o\n",
            " gcc -DHAVE_CONFIG_H -I. -I../../include -I../ta_common/ -Iframes/ -g -O2 -MT libta_abstract_la-table_l.lo -MD -MP -MF .deps/libta_abstract_la-table_l.Tpo -c tables/table_l.c -o libta_abstract_la-table_l.o >/dev/null 2>&1\n",
            "mv -f .deps/libta_abstract_la-table_l.Tpo .deps/libta_abstract_la-table_l.Plo\n",
            "/bin/bash ../../libtool --tag=CC   --mode=compile gcc -DHAVE_CONFIG_H -I. -I../../include  -I../ta_common/ -Iframes/   -g -O2 -MT libta_abstract_la-table_m.lo -MD -MP -MF .deps/libta_abstract_la-table_m.Tpo -c -o libta_abstract_la-table_m.lo `test -f 'tables/table_m.c' || echo './'`tables/table_m.c\n",
            " gcc -DHAVE_CONFIG_H -I. -I../../include -I../ta_common/ -Iframes/ -g -O2 -MT libta_abstract_la-table_m.lo -MD -MP -MF .deps/libta_abstract_la-table_m.Tpo -c tables/table_m.c  -fPIC -DPIC -o .libs/libta_abstract_la-table_m.o\n",
            " gcc -DHAVE_CONFIG_H -I. -I../../include -I../ta_common/ -Iframes/ -g -O2 -MT libta_abstract_la-table_m.lo -MD -MP -MF .deps/libta_abstract_la-table_m.Tpo -c tables/table_m.c -o libta_abstract_la-table_m.o >/dev/null 2>&1\n",
            "mv -f .deps/libta_abstract_la-table_m.Tpo .deps/libta_abstract_la-table_m.Plo\n",
            "/bin/bash ../../libtool --tag=CC   --mode=compile gcc -DHAVE_CONFIG_H -I. -I../../include  -I../ta_common/ -Iframes/   -g -O2 -MT libta_abstract_la-table_n.lo -MD -MP -MF .deps/libta_abstract_la-table_n.Tpo -c -o libta_abstract_la-table_n.lo `test -f 'tables/table_n.c' || echo './'`tables/table_n.c\n",
            " gcc -DHAVE_CONFIG_H -I. -I../../include -I../ta_common/ -Iframes/ -g -O2 -MT libta_abstract_la-table_n.lo -MD -MP -MF .deps/libta_abstract_la-table_n.Tpo -c tables/table_n.c  -fPIC -DPIC -o .libs/libta_abstract_la-table_n.o\n",
            " gcc -DHAVE_CONFIG_H -I. -I../../include -I../ta_common/ -Iframes/ -g -O2 -MT libta_abstract_la-table_n.lo -MD -MP -MF .deps/libta_abstract_la-table_n.Tpo -c tables/table_n.c -o libta_abstract_la-table_n.o >/dev/null 2>&1\n",
            "mv -f .deps/libta_abstract_la-table_n.Tpo .deps/libta_abstract_la-table_n.Plo\n",
            "/bin/bash ../../libtool --tag=CC   --mode=compile gcc -DHAVE_CONFIG_H -I. -I../../include  -I../ta_common/ -Iframes/   -g -O2 -MT libta_abstract_la-table_o.lo -MD -MP -MF .deps/libta_abstract_la-table_o.Tpo -c -o libta_abstract_la-table_o.lo `test -f 'tables/table_o.c' || echo './'`tables/table_o.c\n",
            " gcc -DHAVE_CONFIG_H -I. -I../../include -I../ta_common/ -Iframes/ -g -O2 -MT libta_abstract_la-table_o.lo -MD -MP -MF .deps/libta_abstract_la-table_o.Tpo -c tables/table_o.c  -fPIC -DPIC -o .libs/libta_abstract_la-table_o.o\n",
            " gcc -DHAVE_CONFIG_H -I. -I../../include -I../ta_common/ -Iframes/ -g -O2 -MT libta_abstract_la-table_o.lo -MD -MP -MF .deps/libta_abstract_la-table_o.Tpo -c tables/table_o.c -o libta_abstract_la-table_o.o >/dev/null 2>&1\n",
            "mv -f .deps/libta_abstract_la-table_o.Tpo .deps/libta_abstract_la-table_o.Plo\n",
            "/bin/bash ../../libtool --tag=CC   --mode=compile gcc -DHAVE_CONFIG_H -I. -I../../include  -I../ta_common/ -Iframes/   -g -O2 -MT libta_abstract_la-table_p.lo -MD -MP -MF .deps/libta_abstract_la-table_p.Tpo -c -o libta_abstract_la-table_p.lo `test -f 'tables/table_p.c' || echo './'`tables/table_p.c\n",
            " gcc -DHAVE_CONFIG_H -I. -I../../include -I../ta_common/ -Iframes/ -g -O2 -MT libta_abstract_la-table_p.lo -MD -MP -MF .deps/libta_abstract_la-table_p.Tpo -c tables/table_p.c  -fPIC -DPIC -o .libs/libta_abstract_la-table_p.o\n",
            " gcc -DHAVE_CONFIG_H -I. -I../../include -I../ta_common/ -Iframes/ -g -O2 -MT libta_abstract_la-table_p.lo -MD -MP -MF .deps/libta_abstract_la-table_p.Tpo -c tables/table_p.c -o libta_abstract_la-table_p.o >/dev/null 2>&1\n",
            "mv -f .deps/libta_abstract_la-table_p.Tpo .deps/libta_abstract_la-table_p.Plo\n",
            "/bin/bash ../../libtool --tag=CC   --mode=compile gcc -DHAVE_CONFIG_H -I. -I../../include  -I../ta_common/ -Iframes/   -g -O2 -MT libta_abstract_la-table_q.lo -MD -MP -MF .deps/libta_abstract_la-table_q.Tpo -c -o libta_abstract_la-table_q.lo `test -f 'tables/table_q.c' || echo './'`tables/table_q.c\n",
            " gcc -DHAVE_CONFIG_H -I. -I../../include -I../ta_common/ -Iframes/ -g -O2 -MT libta_abstract_la-table_q.lo -MD -MP -MF .deps/libta_abstract_la-table_q.Tpo -c tables/table_q.c  -fPIC -DPIC -o .libs/libta_abstract_la-table_q.o\n",
            " gcc -DHAVE_CONFIG_H -I. -I../../include -I../ta_common/ -Iframes/ -g -O2 -MT libta_abstract_la-table_q.lo -MD -MP -MF .deps/libta_abstract_la-table_q.Tpo -c tables/table_q.c -o libta_abstract_la-table_q.o >/dev/null 2>&1\n",
            "mv -f .deps/libta_abstract_la-table_q.Tpo .deps/libta_abstract_la-table_q.Plo\n",
            "/bin/bash ../../libtool --tag=CC   --mode=compile gcc -DHAVE_CONFIG_H -I. -I../../include  -I../ta_common/ -Iframes/   -g -O2 -MT libta_abstract_la-table_r.lo -MD -MP -MF .deps/libta_abstract_la-table_r.Tpo -c -o libta_abstract_la-table_r.lo `test -f 'tables/table_r.c' || echo './'`tables/table_r.c\n",
            " gcc -DHAVE_CONFIG_H -I. -I../../include -I../ta_common/ -Iframes/ -g -O2 -MT libta_abstract_la-table_r.lo -MD -MP -MF .deps/libta_abstract_la-table_r.Tpo -c tables/table_r.c  -fPIC -DPIC -o .libs/libta_abstract_la-table_r.o\n",
            " gcc -DHAVE_CONFIG_H -I. -I../../include -I../ta_common/ -Iframes/ -g -O2 -MT libta_abstract_la-table_r.lo -MD -MP -MF .deps/libta_abstract_la-table_r.Tpo -c tables/table_r.c -o libta_abstract_la-table_r.o >/dev/null 2>&1\n",
            "mv -f .deps/libta_abstract_la-table_r.Tpo .deps/libta_abstract_la-table_r.Plo\n",
            "/bin/bash ../../libtool --tag=CC   --mode=compile gcc -DHAVE_CONFIG_H -I. -I../../include  -I../ta_common/ -Iframes/   -g -O2 -MT libta_abstract_la-table_s.lo -MD -MP -MF .deps/libta_abstract_la-table_s.Tpo -c -o libta_abstract_la-table_s.lo `test -f 'tables/table_s.c' || echo './'`tables/table_s.c\n",
            " gcc -DHAVE_CONFIG_H -I. -I../../include -I../ta_common/ -Iframes/ -g -O2 -MT libta_abstract_la-table_s.lo -MD -MP -MF .deps/libta_abstract_la-table_s.Tpo -c tables/table_s.c  -fPIC -DPIC -o .libs/libta_abstract_la-table_s.o\n",
            " gcc -DHAVE_CONFIG_H -I. -I../../include -I../ta_common/ -Iframes/ -g -O2 -MT libta_abstract_la-table_s.lo -MD -MP -MF .deps/libta_abstract_la-table_s.Tpo -c tables/table_s.c -o libta_abstract_la-table_s.o >/dev/null 2>&1\n",
            "mv -f .deps/libta_abstract_la-table_s.Tpo .deps/libta_abstract_la-table_s.Plo\n",
            "/bin/bash ../../libtool --tag=CC   --mode=compile gcc -DHAVE_CONFIG_H -I. -I../../include  -I../ta_common/ -Iframes/   -g -O2 -MT libta_abstract_la-table_t.lo -MD -MP -MF .deps/libta_abstract_la-table_t.Tpo -c -o libta_abstract_la-table_t.lo `test -f 'tables/table_t.c' || echo './'`tables/table_t.c\n",
            " gcc -DHAVE_CONFIG_H -I. -I../../include -I../ta_common/ -Iframes/ -g -O2 -MT libta_abstract_la-table_t.lo -MD -MP -MF .deps/libta_abstract_la-table_t.Tpo -c tables/table_t.c  -fPIC -DPIC -o .libs/libta_abstract_la-table_t.o\n",
            " gcc -DHAVE_CONFIG_H -I. -I../../include -I../ta_common/ -Iframes/ -g -O2 -MT libta_abstract_la-table_t.lo -MD -MP -MF .deps/libta_abstract_la-table_t.Tpo -c tables/table_t.c -o libta_abstract_la-table_t.o >/dev/null 2>&1\n",
            "mv -f .deps/libta_abstract_la-table_t.Tpo .deps/libta_abstract_la-table_t.Plo\n",
            "/bin/bash ../../libtool --tag=CC   --mode=compile gcc -DHAVE_CONFIG_H -I. -I../../include  -I../ta_common/ -Iframes/   -g -O2 -MT libta_abstract_la-table_u.lo -MD -MP -MF .deps/libta_abstract_la-table_u.Tpo -c -o libta_abstract_la-table_u.lo `test -f 'tables/table_u.c' || echo './'`tables/table_u.c\n",
            " gcc -DHAVE_CONFIG_H -I. -I../../include -I../ta_common/ -Iframes/ -g -O2 -MT libta_abstract_la-table_u.lo -MD -MP -MF .deps/libta_abstract_la-table_u.Tpo -c tables/table_u.c  -fPIC -DPIC -o .libs/libta_abstract_la-table_u.o\n",
            " gcc -DHAVE_CONFIG_H -I. -I../../include -I../ta_common/ -Iframes/ -g -O2 -MT libta_abstract_la-table_u.lo -MD -MP -MF .deps/libta_abstract_la-table_u.Tpo -c tables/table_u.c -o libta_abstract_la-table_u.o >/dev/null 2>&1\n",
            "mv -f .deps/libta_abstract_la-table_u.Tpo .deps/libta_abstract_la-table_u.Plo\n",
            "/bin/bash ../../libtool --tag=CC   --mode=compile gcc -DHAVE_CONFIG_H -I. -I../../include  -I../ta_common/ -Iframes/   -g -O2 -MT libta_abstract_la-table_v.lo -MD -MP -MF .deps/libta_abstract_la-table_v.Tpo -c -o libta_abstract_la-table_v.lo `test -f 'tables/table_v.c' || echo './'`tables/table_v.c\n",
            " gcc -DHAVE_CONFIG_H -I. -I../../include -I../ta_common/ -Iframes/ -g -O2 -MT libta_abstract_la-table_v.lo -MD -MP -MF .deps/libta_abstract_la-table_v.Tpo -c tables/table_v.c  -fPIC -DPIC -o .libs/libta_abstract_la-table_v.o\n",
            " gcc -DHAVE_CONFIG_H -I. -I../../include -I../ta_common/ -Iframes/ -g -O2 -MT libta_abstract_la-table_v.lo -MD -MP -MF .deps/libta_abstract_la-table_v.Tpo -c tables/table_v.c -o libta_abstract_la-table_v.o >/dev/null 2>&1\n",
            "mv -f .deps/libta_abstract_la-table_v.Tpo .deps/libta_abstract_la-table_v.Plo\n",
            "/bin/bash ../../libtool --tag=CC   --mode=compile gcc -DHAVE_CONFIG_H -I. -I../../include  -I../ta_common/ -Iframes/   -g -O2 -MT libta_abstract_la-table_w.lo -MD -MP -MF .deps/libta_abstract_la-table_w.Tpo -c -o libta_abstract_la-table_w.lo `test -f 'tables/table_w.c' || echo './'`tables/table_w.c\n",
            " gcc -DHAVE_CONFIG_H -I. -I../../include -I../ta_common/ -Iframes/ -g -O2 -MT libta_abstract_la-table_w.lo -MD -MP -MF .deps/libta_abstract_la-table_w.Tpo -c tables/table_w.c  -fPIC -DPIC -o .libs/libta_abstract_la-table_w.o\n",
            " gcc -DHAVE_CONFIG_H -I. -I../../include -I../ta_common/ -Iframes/ -g -O2 -MT libta_abstract_la-table_w.lo -MD -MP -MF .deps/libta_abstract_la-table_w.Tpo -c tables/table_w.c -o libta_abstract_la-table_w.o >/dev/null 2>&1\n",
            "mv -f .deps/libta_abstract_la-table_w.Tpo .deps/libta_abstract_la-table_w.Plo\n",
            "/bin/bash ../../libtool --tag=CC   --mode=compile gcc -DHAVE_CONFIG_H -I. -I../../include  -I../ta_common/ -Iframes/   -g -O2 -MT libta_abstract_la-table_x.lo -MD -MP -MF .deps/libta_abstract_la-table_x.Tpo -c -o libta_abstract_la-table_x.lo `test -f 'tables/table_x.c' || echo './'`tables/table_x.c\n",
            " gcc -DHAVE_CONFIG_H -I. -I../../include -I../ta_common/ -Iframes/ -g -O2 -MT libta_abstract_la-table_x.lo -MD -MP -MF .deps/libta_abstract_la-table_x.Tpo -c tables/table_x.c  -fPIC -DPIC -o .libs/libta_abstract_la-table_x.o\n",
            " gcc -DHAVE_CONFIG_H -I. -I../../include -I../ta_common/ -Iframes/ -g -O2 -MT libta_abstract_la-table_x.lo -MD -MP -MF .deps/libta_abstract_la-table_x.Tpo -c tables/table_x.c -o libta_abstract_la-table_x.o >/dev/null 2>&1\n",
            "mv -f .deps/libta_abstract_la-table_x.Tpo .deps/libta_abstract_la-table_x.Plo\n",
            "/bin/bash ../../libtool --tag=CC   --mode=compile gcc -DHAVE_CONFIG_H -I. -I../../include  -I../ta_common/ -Iframes/   -g -O2 -MT libta_abstract_la-table_y.lo -MD -MP -MF .deps/libta_abstract_la-table_y.Tpo -c -o libta_abstract_la-table_y.lo `test -f 'tables/table_y.c' || echo './'`tables/table_y.c\n",
            " gcc -DHAVE_CONFIG_H -I. -I../../include -I../ta_common/ -Iframes/ -g -O2 -MT libta_abstract_la-table_y.lo -MD -MP -MF .deps/libta_abstract_la-table_y.Tpo -c tables/table_y.c  -fPIC -DPIC -o .libs/libta_abstract_la-table_y.o\n",
            " gcc -DHAVE_CONFIG_H -I. -I../../include -I../ta_common/ -Iframes/ -g -O2 -MT libta_abstract_la-table_y.lo -MD -MP -MF .deps/libta_abstract_la-table_y.Tpo -c tables/table_y.c -o libta_abstract_la-table_y.o >/dev/null 2>&1\n",
            "mv -f .deps/libta_abstract_la-table_y.Tpo .deps/libta_abstract_la-table_y.Plo\n",
            "/bin/bash ../../libtool --tag=CC   --mode=compile gcc -DHAVE_CONFIG_H -I. -I../../include  -I../ta_common/ -Iframes/   -g -O2 -MT libta_abstract_la-table_z.lo -MD -MP -MF .deps/libta_abstract_la-table_z.Tpo -c -o libta_abstract_la-table_z.lo `test -f 'tables/table_z.c' || echo './'`tables/table_z.c\n",
            " gcc -DHAVE_CONFIG_H -I. -I../../include -I../ta_common/ -Iframes/ -g -O2 -MT libta_abstract_la-table_z.lo -MD -MP -MF .deps/libta_abstract_la-table_z.Tpo -c tables/table_z.c  -fPIC -DPIC -o .libs/libta_abstract_la-table_z.o\n",
            " gcc -DHAVE_CONFIG_H -I. -I../../include -I../ta_common/ -Iframes/ -g -O2 -MT libta_abstract_la-table_z.lo -MD -MP -MF .deps/libta_abstract_la-table_z.Tpo -c tables/table_z.c -o libta_abstract_la-table_z.o >/dev/null 2>&1\n",
            "mv -f .deps/libta_abstract_la-table_z.Tpo .deps/libta_abstract_la-table_z.Plo\n",
            "/bin/bash ../../libtool --tag=CC   --mode=link gcc  -g -O2 -version-info 0:0:0  -o libta_abstract.la  libta_abstract_la-ta_group_idx.lo libta_abstract_la-ta_def_ui.lo libta_abstract_la-ta_abstract.lo libta_abstract_la-ta_func_api.lo libta_abstract_la-ta_frame.lo libta_abstract_la-table_a.lo libta_abstract_la-table_b.lo libta_abstract_la-table_c.lo libta_abstract_la-table_d.lo libta_abstract_la-table_e.lo libta_abstract_la-table_f.lo libta_abstract_la-table_g.lo libta_abstract_la-table_h.lo libta_abstract_la-table_i.lo libta_abstract_la-table_j.lo libta_abstract_la-table_k.lo libta_abstract_la-table_l.lo libta_abstract_la-table_m.lo libta_abstract_la-table_n.lo libta_abstract_la-table_o.lo libta_abstract_la-table_p.lo libta_abstract_la-table_q.lo libta_abstract_la-table_r.lo libta_abstract_la-table_s.lo libta_abstract_la-table_t.lo libta_abstract_la-table_u.lo libta_abstract_la-table_v.lo libta_abstract_la-table_w.lo libta_abstract_la-table_x.lo libta_abstract_la-table_y.lo libta_abstract_la-table_z.lo  -lpthread -ldl \n",
            "libtool: link: warning: `-version-info/-version-number' is ignored for convenience libraries\n",
            "ar cru .libs/libta_abstract.a .libs/libta_abstract_la-ta_group_idx.o .libs/libta_abstract_la-ta_def_ui.o .libs/libta_abstract_la-ta_abstract.o .libs/libta_abstract_la-ta_func_api.o .libs/libta_abstract_la-ta_frame.o .libs/libta_abstract_la-table_a.o .libs/libta_abstract_la-table_b.o .libs/libta_abstract_la-table_c.o .libs/libta_abstract_la-table_d.o .libs/libta_abstract_la-table_e.o .libs/libta_abstract_la-table_f.o .libs/libta_abstract_la-table_g.o .libs/libta_abstract_la-table_h.o .libs/libta_abstract_la-table_i.o .libs/libta_abstract_la-table_j.o .libs/libta_abstract_la-table_k.o .libs/libta_abstract_la-table_l.o .libs/libta_abstract_la-table_m.o .libs/libta_abstract_la-table_n.o .libs/libta_abstract_la-table_o.o .libs/libta_abstract_la-table_p.o .libs/libta_abstract_la-table_q.o .libs/libta_abstract_la-table_r.o .libs/libta_abstract_la-table_s.o .libs/libta_abstract_la-table_t.o .libs/libta_abstract_la-table_u.o .libs/libta_abstract_la-table_v.o .libs/libta_abstract_la-table_w.o .libs/libta_abstract_la-table_x.o .libs/libta_abstract_la-table_y.o .libs/libta_abstract_la-table_z.o\n",
            "ar: `u' modifier ignored since `D' is the default (see `U')\n",
            "ranlib .libs/libta_abstract.a\n",
            "creating libta_abstract.la\n",
            "(cd .libs && rm -f libta_abstract.la && ln -s ../libta_abstract.la libta_abstract.la)\n",
            "/bin/bash ../../libtool --tag=CC   --mode=compile gcc -DHAVE_CONFIG_H -I. -I../../include  -DTA_GEN_CODE -I../ta_common/ -Iframes/   -g -O2 -MT libta_abstract_gc_la-ta_group_idx.lo -MD -MP -MF .deps/libta_abstract_gc_la-ta_group_idx.Tpo -c -o libta_abstract_gc_la-ta_group_idx.lo `test -f 'ta_group_idx.c' || echo './'`ta_group_idx.c\n",
            " gcc -DHAVE_CONFIG_H -I. -I../../include -DTA_GEN_CODE -I../ta_common/ -Iframes/ -g -O2 -MT libta_abstract_gc_la-ta_group_idx.lo -MD -MP -MF .deps/libta_abstract_gc_la-ta_group_idx.Tpo -c ta_group_idx.c  -fPIC -DPIC -o .libs/libta_abstract_gc_la-ta_group_idx.o\n",
            " gcc -DHAVE_CONFIG_H -I. -I../../include -DTA_GEN_CODE -I../ta_common/ -Iframes/ -g -O2 -MT libta_abstract_gc_la-ta_group_idx.lo -MD -MP -MF .deps/libta_abstract_gc_la-ta_group_idx.Tpo -c ta_group_idx.c -o libta_abstract_gc_la-ta_group_idx.o >/dev/null 2>&1\n",
            "mv -f .deps/libta_abstract_gc_la-ta_group_idx.Tpo .deps/libta_abstract_gc_la-ta_group_idx.Plo\n",
            "/bin/bash ../../libtool --tag=CC   --mode=compile gcc -DHAVE_CONFIG_H -I. -I../../include  -DTA_GEN_CODE -I../ta_common/ -Iframes/   -g -O2 -MT libta_abstract_gc_la-ta_def_ui.lo -MD -MP -MF .deps/libta_abstract_gc_la-ta_def_ui.Tpo -c -o libta_abstract_gc_la-ta_def_ui.lo `test -f 'ta_def_ui.c' || echo './'`ta_def_ui.c\n",
            " gcc -DHAVE_CONFIG_H -I. -I../../include -DTA_GEN_CODE -I../ta_common/ -Iframes/ -g -O2 -MT libta_abstract_gc_la-ta_def_ui.lo -MD -MP -MF .deps/libta_abstract_gc_la-ta_def_ui.Tpo -c ta_def_ui.c  -fPIC -DPIC -o .libs/libta_abstract_gc_la-ta_def_ui.o\n",
            " gcc -DHAVE_CONFIG_H -I. -I../../include -DTA_GEN_CODE -I../ta_common/ -Iframes/ -g -O2 -MT libta_abstract_gc_la-ta_def_ui.lo -MD -MP -MF .deps/libta_abstract_gc_la-ta_def_ui.Tpo -c ta_def_ui.c -o libta_abstract_gc_la-ta_def_ui.o >/dev/null 2>&1\n",
            "mv -f .deps/libta_abstract_gc_la-ta_def_ui.Tpo .deps/libta_abstract_gc_la-ta_def_ui.Plo\n",
            "/bin/bash ../../libtool --tag=CC   --mode=compile gcc -DHAVE_CONFIG_H -I. -I../../include  -DTA_GEN_CODE -I../ta_common/ -Iframes/   -g -O2 -MT libta_abstract_gc_la-ta_abstract.lo -MD -MP -MF .deps/libta_abstract_gc_la-ta_abstract.Tpo -c -o libta_abstract_gc_la-ta_abstract.lo `test -f 'ta_abstract.c' || echo './'`ta_abstract.c\n",
            " gcc -DHAVE_CONFIG_H -I. -I../../include -DTA_GEN_CODE -I../ta_common/ -Iframes/ -g -O2 -MT libta_abstract_gc_la-ta_abstract.lo -MD -MP -MF .deps/libta_abstract_gc_la-ta_abstract.Tpo -c ta_abstract.c  -fPIC -DPIC -o .libs/libta_abstract_gc_la-ta_abstract.o\n",
            " gcc -DHAVE_CONFIG_H -I. -I../../include -DTA_GEN_CODE -I../ta_common/ -Iframes/ -g -O2 -MT libta_abstract_gc_la-ta_abstract.lo -MD -MP -MF .deps/libta_abstract_gc_la-ta_abstract.Tpo -c ta_abstract.c -o libta_abstract_gc_la-ta_abstract.o >/dev/null 2>&1\n",
            "mv -f .deps/libta_abstract_gc_la-ta_abstract.Tpo .deps/libta_abstract_gc_la-ta_abstract.Plo\n",
            "/bin/bash ../../libtool --tag=CC   --mode=compile gcc -DHAVE_CONFIG_H -I. -I../../include  -DTA_GEN_CODE -I../ta_common/ -Iframes/   -g -O2 -MT libta_abstract_gc_la-ta_func_api.lo -MD -MP -MF .deps/libta_abstract_gc_la-ta_func_api.Tpo -c -o libta_abstract_gc_la-ta_func_api.lo `test -f 'ta_func_api.c' || echo './'`ta_func_api.c\n",
            " gcc -DHAVE_CONFIG_H -I. -I../../include -DTA_GEN_CODE -I../ta_common/ -Iframes/ -g -O2 -MT libta_abstract_gc_la-ta_func_api.lo -MD -MP -MF .deps/libta_abstract_gc_la-ta_func_api.Tpo -c ta_func_api.c  -fPIC -DPIC -o .libs/libta_abstract_gc_la-ta_func_api.o\n",
            " gcc -DHAVE_CONFIG_H -I. -I../../include -DTA_GEN_CODE -I../ta_common/ -Iframes/ -g -O2 -MT libta_abstract_gc_la-ta_func_api.lo -MD -MP -MF .deps/libta_abstract_gc_la-ta_func_api.Tpo -c ta_func_api.c -o libta_abstract_gc_la-ta_func_api.o >/dev/null 2>&1\n",
            "mv -f .deps/libta_abstract_gc_la-ta_func_api.Tpo .deps/libta_abstract_gc_la-ta_func_api.Plo\n",
            "/bin/bash ../../libtool --tag=CC   --mode=compile gcc -DHAVE_CONFIG_H -I. -I../../include  -DTA_GEN_CODE -I../ta_common/ -Iframes/   -g -O2 -MT libta_abstract_gc_la-ta_frame.lo -MD -MP -MF .deps/libta_abstract_gc_la-ta_frame.Tpo -c -o libta_abstract_gc_la-ta_frame.lo `test -f 'frames/ta_frame.c' || echo './'`frames/ta_frame.c\n",
            " gcc -DHAVE_CONFIG_H -I. -I../../include -DTA_GEN_CODE -I../ta_common/ -Iframes/ -g -O2 -MT libta_abstract_gc_la-ta_frame.lo -MD -MP -MF .deps/libta_abstract_gc_la-ta_frame.Tpo -c frames/ta_frame.c  -fPIC -DPIC -o .libs/libta_abstract_gc_la-ta_frame.o\n",
            " gcc -DHAVE_CONFIG_H -I. -I../../include -DTA_GEN_CODE -I../ta_common/ -Iframes/ -g -O2 -MT libta_abstract_gc_la-ta_frame.lo -MD -MP -MF .deps/libta_abstract_gc_la-ta_frame.Tpo -c frames/ta_frame.c -o libta_abstract_gc_la-ta_frame.o >/dev/null 2>&1\n",
            "mv -f .deps/libta_abstract_gc_la-ta_frame.Tpo .deps/libta_abstract_gc_la-ta_frame.Plo\n",
            "/bin/bash ../../libtool --tag=CC   --mode=compile gcc -DHAVE_CONFIG_H -I. -I../../include  -DTA_GEN_CODE -I../ta_common/ -Iframes/   -g -O2 -MT libta_abstract_gc_la-table_a.lo -MD -MP -MF .deps/libta_abstract_gc_la-table_a.Tpo -c -o libta_abstract_gc_la-table_a.lo `test -f 'tables/table_a.c' || echo './'`tables/table_a.c\n",
            " gcc -DHAVE_CONFIG_H -I. -I../../include -DTA_GEN_CODE -I../ta_common/ -Iframes/ -g -O2 -MT libta_abstract_gc_la-table_a.lo -MD -MP -MF .deps/libta_abstract_gc_la-table_a.Tpo -c tables/table_a.c  -fPIC -DPIC -o .libs/libta_abstract_gc_la-table_a.o\n",
            " gcc -DHAVE_CONFIG_H -I. -I../../include -DTA_GEN_CODE -I../ta_common/ -Iframes/ -g -O2 -MT libta_abstract_gc_la-table_a.lo -MD -MP -MF .deps/libta_abstract_gc_la-table_a.Tpo -c tables/table_a.c -o libta_abstract_gc_la-table_a.o >/dev/null 2>&1\n",
            "mv -f .deps/libta_abstract_gc_la-table_a.Tpo .deps/libta_abstract_gc_la-table_a.Plo\n",
            "/bin/bash ../../libtool --tag=CC   --mode=compile gcc -DHAVE_CONFIG_H -I. -I../../include  -DTA_GEN_CODE -I../ta_common/ -Iframes/   -g -O2 -MT libta_abstract_gc_la-table_b.lo -MD -MP -MF .deps/libta_abstract_gc_la-table_b.Tpo -c -o libta_abstract_gc_la-table_b.lo `test -f 'tables/table_b.c' || echo './'`tables/table_b.c\n",
            " gcc -DHAVE_CONFIG_H -I. -I../../include -DTA_GEN_CODE -I../ta_common/ -Iframes/ -g -O2 -MT libta_abstract_gc_la-table_b.lo -MD -MP -MF .deps/libta_abstract_gc_la-table_b.Tpo -c tables/table_b.c  -fPIC -DPIC -o .libs/libta_abstract_gc_la-table_b.o\n",
            " gcc -DHAVE_CONFIG_H -I. -I../../include -DTA_GEN_CODE -I../ta_common/ -Iframes/ -g -O2 -MT libta_abstract_gc_la-table_b.lo -MD -MP -MF .deps/libta_abstract_gc_la-table_b.Tpo -c tables/table_b.c -o libta_abstract_gc_la-table_b.o >/dev/null 2>&1\n",
            "mv -f .deps/libta_abstract_gc_la-table_b.Tpo .deps/libta_abstract_gc_la-table_b.Plo\n",
            "/bin/bash ../../libtool --tag=CC   --mode=compile gcc -DHAVE_CONFIG_H -I. -I../../include  -DTA_GEN_CODE -I../ta_common/ -Iframes/   -g -O2 -MT libta_abstract_gc_la-table_c.lo -MD -MP -MF .deps/libta_abstract_gc_la-table_c.Tpo -c -o libta_abstract_gc_la-table_c.lo `test -f 'tables/table_c.c' || echo './'`tables/table_c.c\n",
            " gcc -DHAVE_CONFIG_H -I. -I../../include -DTA_GEN_CODE -I../ta_common/ -Iframes/ -g -O2 -MT libta_abstract_gc_la-table_c.lo -MD -MP -MF .deps/libta_abstract_gc_la-table_c.Tpo -c tables/table_c.c  -fPIC -DPIC -o .libs/libta_abstract_gc_la-table_c.o\n",
            " gcc -DHAVE_CONFIG_H -I. -I../../include -DTA_GEN_CODE -I../ta_common/ -Iframes/ -g -O2 -MT libta_abstract_gc_la-table_c.lo -MD -MP -MF .deps/libta_abstract_gc_la-table_c.Tpo -c tables/table_c.c -o libta_abstract_gc_la-table_c.o >/dev/null 2>&1\n",
            "mv -f .deps/libta_abstract_gc_la-table_c.Tpo .deps/libta_abstract_gc_la-table_c.Plo\n",
            "/bin/bash ../../libtool --tag=CC   --mode=compile gcc -DHAVE_CONFIG_H -I. -I../../include  -DTA_GEN_CODE -I../ta_common/ -Iframes/   -g -O2 -MT libta_abstract_gc_la-table_d.lo -MD -MP -MF .deps/libta_abstract_gc_la-table_d.Tpo -c -o libta_abstract_gc_la-table_d.lo `test -f 'tables/table_d.c' || echo './'`tables/table_d.c\n",
            " gcc -DHAVE_CONFIG_H -I. -I../../include -DTA_GEN_CODE -I../ta_common/ -Iframes/ -g -O2 -MT libta_abstract_gc_la-table_d.lo -MD -MP -MF .deps/libta_abstract_gc_la-table_d.Tpo -c tables/table_d.c  -fPIC -DPIC -o .libs/libta_abstract_gc_la-table_d.o\n",
            " gcc -DHAVE_CONFIG_H -I. -I../../include -DTA_GEN_CODE -I../ta_common/ -Iframes/ -g -O2 -MT libta_abstract_gc_la-table_d.lo -MD -MP -MF .deps/libta_abstract_gc_la-table_d.Tpo -c tables/table_d.c -o libta_abstract_gc_la-table_d.o >/dev/null 2>&1\n",
            "mv -f .deps/libta_abstract_gc_la-table_d.Tpo .deps/libta_abstract_gc_la-table_d.Plo\n",
            "/bin/bash ../../libtool --tag=CC   --mode=compile gcc -DHAVE_CONFIG_H -I. -I../../include  -DTA_GEN_CODE -I../ta_common/ -Iframes/   -g -O2 -MT libta_abstract_gc_la-table_e.lo -MD -MP -MF .deps/libta_abstract_gc_la-table_e.Tpo -c -o libta_abstract_gc_la-table_e.lo `test -f 'tables/table_e.c' || echo './'`tables/table_e.c\n",
            " gcc -DHAVE_CONFIG_H -I. -I../../include -DTA_GEN_CODE -I../ta_common/ -Iframes/ -g -O2 -MT libta_abstract_gc_la-table_e.lo -MD -MP -MF .deps/libta_abstract_gc_la-table_e.Tpo -c tables/table_e.c  -fPIC -DPIC -o .libs/libta_abstract_gc_la-table_e.o\n",
            " gcc -DHAVE_CONFIG_H -I. -I../../include -DTA_GEN_CODE -I../ta_common/ -Iframes/ -g -O2 -MT libta_abstract_gc_la-table_e.lo -MD -MP -MF .deps/libta_abstract_gc_la-table_e.Tpo -c tables/table_e.c -o libta_abstract_gc_la-table_e.o >/dev/null 2>&1\n",
            "mv -f .deps/libta_abstract_gc_la-table_e.Tpo .deps/libta_abstract_gc_la-table_e.Plo\n",
            "/bin/bash ../../libtool --tag=CC   --mode=compile gcc -DHAVE_CONFIG_H -I. -I../../include  -DTA_GEN_CODE -I../ta_common/ -Iframes/   -g -O2 -MT libta_abstract_gc_la-table_f.lo -MD -MP -MF .deps/libta_abstract_gc_la-table_f.Tpo -c -o libta_abstract_gc_la-table_f.lo `test -f 'tables/table_f.c' || echo './'`tables/table_f.c\n",
            " gcc -DHAVE_CONFIG_H -I. -I../../include -DTA_GEN_CODE -I../ta_common/ -Iframes/ -g -O2 -MT libta_abstract_gc_la-table_f.lo -MD -MP -MF .deps/libta_abstract_gc_la-table_f.Tpo -c tables/table_f.c  -fPIC -DPIC -o .libs/libta_abstract_gc_la-table_f.o\n",
            " gcc -DHAVE_CONFIG_H -I. -I../../include -DTA_GEN_CODE -I../ta_common/ -Iframes/ -g -O2 -MT libta_abstract_gc_la-table_f.lo -MD -MP -MF .deps/libta_abstract_gc_la-table_f.Tpo -c tables/table_f.c -o libta_abstract_gc_la-table_f.o >/dev/null 2>&1\n",
            "mv -f .deps/libta_abstract_gc_la-table_f.Tpo .deps/libta_abstract_gc_la-table_f.Plo\n",
            "/bin/bash ../../libtool --tag=CC   --mode=compile gcc -DHAVE_CONFIG_H -I. -I../../include  -DTA_GEN_CODE -I../ta_common/ -Iframes/   -g -O2 -MT libta_abstract_gc_la-table_g.lo -MD -MP -MF .deps/libta_abstract_gc_la-table_g.Tpo -c -o libta_abstract_gc_la-table_g.lo `test -f 'tables/table_g.c' || echo './'`tables/table_g.c\n",
            " gcc -DHAVE_CONFIG_H -I. -I../../include -DTA_GEN_CODE -I../ta_common/ -Iframes/ -g -O2 -MT libta_abstract_gc_la-table_g.lo -MD -MP -MF .deps/libta_abstract_gc_la-table_g.Tpo -c tables/table_g.c  -fPIC -DPIC -o .libs/libta_abstract_gc_la-table_g.o\n",
            " gcc -DHAVE_CONFIG_H -I. -I../../include -DTA_GEN_CODE -I../ta_common/ -Iframes/ -g -O2 -MT libta_abstract_gc_la-table_g.lo -MD -MP -MF .deps/libta_abstract_gc_la-table_g.Tpo -c tables/table_g.c -o libta_abstract_gc_la-table_g.o >/dev/null 2>&1\n",
            "mv -f .deps/libta_abstract_gc_la-table_g.Tpo .deps/libta_abstract_gc_la-table_g.Plo\n",
            "/bin/bash ../../libtool --tag=CC   --mode=compile gcc -DHAVE_CONFIG_H -I. -I../../include  -DTA_GEN_CODE -I../ta_common/ -Iframes/   -g -O2 -MT libta_abstract_gc_la-table_h.lo -MD -MP -MF .deps/libta_abstract_gc_la-table_h.Tpo -c -o libta_abstract_gc_la-table_h.lo `test -f 'tables/table_h.c' || echo './'`tables/table_h.c\n",
            " gcc -DHAVE_CONFIG_H -I. -I../../include -DTA_GEN_CODE -I../ta_common/ -Iframes/ -g -O2 -MT libta_abstract_gc_la-table_h.lo -MD -MP -MF .deps/libta_abstract_gc_la-table_h.Tpo -c tables/table_h.c  -fPIC -DPIC -o .libs/libta_abstract_gc_la-table_h.o\n",
            " gcc -DHAVE_CONFIG_H -I. -I../../include -DTA_GEN_CODE -I../ta_common/ -Iframes/ -g -O2 -MT libta_abstract_gc_la-table_h.lo -MD -MP -MF .deps/libta_abstract_gc_la-table_h.Tpo -c tables/table_h.c -o libta_abstract_gc_la-table_h.o >/dev/null 2>&1\n",
            "mv -f .deps/libta_abstract_gc_la-table_h.Tpo .deps/libta_abstract_gc_la-table_h.Plo\n",
            "/bin/bash ../../libtool --tag=CC   --mode=compile gcc -DHAVE_CONFIG_H -I. -I../../include  -DTA_GEN_CODE -I../ta_common/ -Iframes/   -g -O2 -MT libta_abstract_gc_la-table_i.lo -MD -MP -MF .deps/libta_abstract_gc_la-table_i.Tpo -c -o libta_abstract_gc_la-table_i.lo `test -f 'tables/table_i.c' || echo './'`tables/table_i.c\n",
            " gcc -DHAVE_CONFIG_H -I. -I../../include -DTA_GEN_CODE -I../ta_common/ -Iframes/ -g -O2 -MT libta_abstract_gc_la-table_i.lo -MD -MP -MF .deps/libta_abstract_gc_la-table_i.Tpo -c tables/table_i.c  -fPIC -DPIC -o .libs/libta_abstract_gc_la-table_i.o\n",
            " gcc -DHAVE_CONFIG_H -I. -I../../include -DTA_GEN_CODE -I../ta_common/ -Iframes/ -g -O2 -MT libta_abstract_gc_la-table_i.lo -MD -MP -MF .deps/libta_abstract_gc_la-table_i.Tpo -c tables/table_i.c -o libta_abstract_gc_la-table_i.o >/dev/null 2>&1\n",
            "mv -f .deps/libta_abstract_gc_la-table_i.Tpo .deps/libta_abstract_gc_la-table_i.Plo\n",
            "/bin/bash ../../libtool --tag=CC   --mode=compile gcc -DHAVE_CONFIG_H -I. -I../../include  -DTA_GEN_CODE -I../ta_common/ -Iframes/   -g -O2 -MT libta_abstract_gc_la-table_j.lo -MD -MP -MF .deps/libta_abstract_gc_la-table_j.Tpo -c -o libta_abstract_gc_la-table_j.lo `test -f 'tables/table_j.c' || echo './'`tables/table_j.c\n",
            " gcc -DHAVE_CONFIG_H -I. -I../../include -DTA_GEN_CODE -I../ta_common/ -Iframes/ -g -O2 -MT libta_abstract_gc_la-table_j.lo -MD -MP -MF .deps/libta_abstract_gc_la-table_j.Tpo -c tables/table_j.c  -fPIC -DPIC -o .libs/libta_abstract_gc_la-table_j.o\n",
            " gcc -DHAVE_CONFIG_H -I. -I../../include -DTA_GEN_CODE -I../ta_common/ -Iframes/ -g -O2 -MT libta_abstract_gc_la-table_j.lo -MD -MP -MF .deps/libta_abstract_gc_la-table_j.Tpo -c tables/table_j.c -o libta_abstract_gc_la-table_j.o >/dev/null 2>&1\n",
            "mv -f .deps/libta_abstract_gc_la-table_j.Tpo .deps/libta_abstract_gc_la-table_j.Plo\n",
            "/bin/bash ../../libtool --tag=CC   --mode=compile gcc -DHAVE_CONFIG_H -I. -I../../include  -DTA_GEN_CODE -I../ta_common/ -Iframes/   -g -O2 -MT libta_abstract_gc_la-table_k.lo -MD -MP -MF .deps/libta_abstract_gc_la-table_k.Tpo -c -o libta_abstract_gc_la-table_k.lo `test -f 'tables/table_k.c' || echo './'`tables/table_k.c\n",
            " gcc -DHAVE_CONFIG_H -I. -I../../include -DTA_GEN_CODE -I../ta_common/ -Iframes/ -g -O2 -MT libta_abstract_gc_la-table_k.lo -MD -MP -MF .deps/libta_abstract_gc_la-table_k.Tpo -c tables/table_k.c  -fPIC -DPIC -o .libs/libta_abstract_gc_la-table_k.o\n",
            " gcc -DHAVE_CONFIG_H -I. -I../../include -DTA_GEN_CODE -I../ta_common/ -Iframes/ -g -O2 -MT libta_abstract_gc_la-table_k.lo -MD -MP -MF .deps/libta_abstract_gc_la-table_k.Tpo -c tables/table_k.c -o libta_abstract_gc_la-table_k.o >/dev/null 2>&1\n",
            "mv -f .deps/libta_abstract_gc_la-table_k.Tpo .deps/libta_abstract_gc_la-table_k.Plo\n",
            "/bin/bash ../../libtool --tag=CC   --mode=compile gcc -DHAVE_CONFIG_H -I. -I../../include  -DTA_GEN_CODE -I../ta_common/ -Iframes/   -g -O2 -MT libta_abstract_gc_la-table_l.lo -MD -MP -MF .deps/libta_abstract_gc_la-table_l.Tpo -c -o libta_abstract_gc_la-table_l.lo `test -f 'tables/table_l.c' || echo './'`tables/table_l.c\n",
            " gcc -DHAVE_CONFIG_H -I. -I../../include -DTA_GEN_CODE -I../ta_common/ -Iframes/ -g -O2 -MT libta_abstract_gc_la-table_l.lo -MD -MP -MF .deps/libta_abstract_gc_la-table_l.Tpo -c tables/table_l.c  -fPIC -DPIC -o .libs/libta_abstract_gc_la-table_l.o\n",
            " gcc -DHAVE_CONFIG_H -I. -I../../include -DTA_GEN_CODE -I../ta_common/ -Iframes/ -g -O2 -MT libta_abstract_gc_la-table_l.lo -MD -MP -MF .deps/libta_abstract_gc_la-table_l.Tpo -c tables/table_l.c -o libta_abstract_gc_la-table_l.o >/dev/null 2>&1\n",
            "mv -f .deps/libta_abstract_gc_la-table_l.Tpo .deps/libta_abstract_gc_la-table_l.Plo\n",
            "/bin/bash ../../libtool --tag=CC   --mode=compile gcc -DHAVE_CONFIG_H -I. -I../../include  -DTA_GEN_CODE -I../ta_common/ -Iframes/   -g -O2 -MT libta_abstract_gc_la-table_m.lo -MD -MP -MF .deps/libta_abstract_gc_la-table_m.Tpo -c -o libta_abstract_gc_la-table_m.lo `test -f 'tables/table_m.c' || echo './'`tables/table_m.c\n",
            " gcc -DHAVE_CONFIG_H -I. -I../../include -DTA_GEN_CODE -I../ta_common/ -Iframes/ -g -O2 -MT libta_abstract_gc_la-table_m.lo -MD -MP -MF .deps/libta_abstract_gc_la-table_m.Tpo -c tables/table_m.c  -fPIC -DPIC -o .libs/libta_abstract_gc_la-table_m.o\n",
            " gcc -DHAVE_CONFIG_H -I. -I../../include -DTA_GEN_CODE -I../ta_common/ -Iframes/ -g -O2 -MT libta_abstract_gc_la-table_m.lo -MD -MP -MF .deps/libta_abstract_gc_la-table_m.Tpo -c tables/table_m.c -o libta_abstract_gc_la-table_m.o >/dev/null 2>&1\n",
            "mv -f .deps/libta_abstract_gc_la-table_m.Tpo .deps/libta_abstract_gc_la-table_m.Plo\n",
            "/bin/bash ../../libtool --tag=CC   --mode=compile gcc -DHAVE_CONFIG_H -I. -I../../include  -DTA_GEN_CODE -I../ta_common/ -Iframes/   -g -O2 -MT libta_abstract_gc_la-table_n.lo -MD -MP -MF .deps/libta_abstract_gc_la-table_n.Tpo -c -o libta_abstract_gc_la-table_n.lo `test -f 'tables/table_n.c' || echo './'`tables/table_n.c\n",
            " gcc -DHAVE_CONFIG_H -I. -I../../include -DTA_GEN_CODE -I../ta_common/ -Iframes/ -g -O2 -MT libta_abstract_gc_la-table_n.lo -MD -MP -MF .deps/libta_abstract_gc_la-table_n.Tpo -c tables/table_n.c  -fPIC -DPIC -o .libs/libta_abstract_gc_la-table_n.o\n",
            " gcc -DHAVE_CONFIG_H -I. -I../../include -DTA_GEN_CODE -I../ta_common/ -Iframes/ -g -O2 -MT libta_abstract_gc_la-table_n.lo -MD -MP -MF .deps/libta_abstract_gc_la-table_n.Tpo -c tables/table_n.c -o libta_abstract_gc_la-table_n.o >/dev/null 2>&1\n",
            "mv -f .deps/libta_abstract_gc_la-table_n.Tpo .deps/libta_abstract_gc_la-table_n.Plo\n",
            "/bin/bash ../../libtool --tag=CC   --mode=compile gcc -DHAVE_CONFIG_H -I. -I../../include  -DTA_GEN_CODE -I../ta_common/ -Iframes/   -g -O2 -MT libta_abstract_gc_la-table_o.lo -MD -MP -MF .deps/libta_abstract_gc_la-table_o.Tpo -c -o libta_abstract_gc_la-table_o.lo `test -f 'tables/table_o.c' || echo './'`tables/table_o.c\n",
            " gcc -DHAVE_CONFIG_H -I. -I../../include -DTA_GEN_CODE -I../ta_common/ -Iframes/ -g -O2 -MT libta_abstract_gc_la-table_o.lo -MD -MP -MF .deps/libta_abstract_gc_la-table_o.Tpo -c tables/table_o.c  -fPIC -DPIC -o .libs/libta_abstract_gc_la-table_o.o\n",
            " gcc -DHAVE_CONFIG_H -I. -I../../include -DTA_GEN_CODE -I../ta_common/ -Iframes/ -g -O2 -MT libta_abstract_gc_la-table_o.lo -MD -MP -MF .deps/libta_abstract_gc_la-table_o.Tpo -c tables/table_o.c -o libta_abstract_gc_la-table_o.o >/dev/null 2>&1\n",
            "mv -f .deps/libta_abstract_gc_la-table_o.Tpo .deps/libta_abstract_gc_la-table_o.Plo\n",
            "/bin/bash ../../libtool --tag=CC   --mode=compile gcc -DHAVE_CONFIG_H -I. -I../../include  -DTA_GEN_CODE -I../ta_common/ -Iframes/   -g -O2 -MT libta_abstract_gc_la-table_p.lo -MD -MP -MF .deps/libta_abstract_gc_la-table_p.Tpo -c -o libta_abstract_gc_la-table_p.lo `test -f 'tables/table_p.c' || echo './'`tables/table_p.c\n",
            " gcc -DHAVE_CONFIG_H -I. -I../../include -DTA_GEN_CODE -I../ta_common/ -Iframes/ -g -O2 -MT libta_abstract_gc_la-table_p.lo -MD -MP -MF .deps/libta_abstract_gc_la-table_p.Tpo -c tables/table_p.c  -fPIC -DPIC -o .libs/libta_abstract_gc_la-table_p.o\n",
            " gcc -DHAVE_CONFIG_H -I. -I../../include -DTA_GEN_CODE -I../ta_common/ -Iframes/ -g -O2 -MT libta_abstract_gc_la-table_p.lo -MD -MP -MF .deps/libta_abstract_gc_la-table_p.Tpo -c tables/table_p.c -o libta_abstract_gc_la-table_p.o >/dev/null 2>&1\n",
            "mv -f .deps/libta_abstract_gc_la-table_p.Tpo .deps/libta_abstract_gc_la-table_p.Plo\n",
            "/bin/bash ../../libtool --tag=CC   --mode=compile gcc -DHAVE_CONFIG_H -I. -I../../include  -DTA_GEN_CODE -I../ta_common/ -Iframes/   -g -O2 -MT libta_abstract_gc_la-table_q.lo -MD -MP -MF .deps/libta_abstract_gc_la-table_q.Tpo -c -o libta_abstract_gc_la-table_q.lo `test -f 'tables/table_q.c' || echo './'`tables/table_q.c\n",
            " gcc -DHAVE_CONFIG_H -I. -I../../include -DTA_GEN_CODE -I../ta_common/ -Iframes/ -g -O2 -MT libta_abstract_gc_la-table_q.lo -MD -MP -MF .deps/libta_abstract_gc_la-table_q.Tpo -c tables/table_q.c  -fPIC -DPIC -o .libs/libta_abstract_gc_la-table_q.o\n",
            " gcc -DHAVE_CONFIG_H -I. -I../../include -DTA_GEN_CODE -I../ta_common/ -Iframes/ -g -O2 -MT libta_abstract_gc_la-table_q.lo -MD -MP -MF .deps/libta_abstract_gc_la-table_q.Tpo -c tables/table_q.c -o libta_abstract_gc_la-table_q.o >/dev/null 2>&1\n",
            "mv -f .deps/libta_abstract_gc_la-table_q.Tpo .deps/libta_abstract_gc_la-table_q.Plo\n",
            "/bin/bash ../../libtool --tag=CC   --mode=compile gcc -DHAVE_CONFIG_H -I. -I../../include  -DTA_GEN_CODE -I../ta_common/ -Iframes/   -g -O2 -MT libta_abstract_gc_la-table_r.lo -MD -MP -MF .deps/libta_abstract_gc_la-table_r.Tpo -c -o libta_abstract_gc_la-table_r.lo `test -f 'tables/table_r.c' || echo './'`tables/table_r.c\n",
            " gcc -DHAVE_CONFIG_H -I. -I../../include -DTA_GEN_CODE -I../ta_common/ -Iframes/ -g -O2 -MT libta_abstract_gc_la-table_r.lo -MD -MP -MF .deps/libta_abstract_gc_la-table_r.Tpo -c tables/table_r.c  -fPIC -DPIC -o .libs/libta_abstract_gc_la-table_r.o\n",
            " gcc -DHAVE_CONFIG_H -I. -I../../include -DTA_GEN_CODE -I../ta_common/ -Iframes/ -g -O2 -MT libta_abstract_gc_la-table_r.lo -MD -MP -MF .deps/libta_abstract_gc_la-table_r.Tpo -c tables/table_r.c -o libta_abstract_gc_la-table_r.o >/dev/null 2>&1\n",
            "mv -f .deps/libta_abstract_gc_la-table_r.Tpo .deps/libta_abstract_gc_la-table_r.Plo\n",
            "/bin/bash ../../libtool --tag=CC   --mode=compile gcc -DHAVE_CONFIG_H -I. -I../../include  -DTA_GEN_CODE -I../ta_common/ -Iframes/   -g -O2 -MT libta_abstract_gc_la-table_s.lo -MD -MP -MF .deps/libta_abstract_gc_la-table_s.Tpo -c -o libta_abstract_gc_la-table_s.lo `test -f 'tables/table_s.c' || echo './'`tables/table_s.c\n",
            " gcc -DHAVE_CONFIG_H -I. -I../../include -DTA_GEN_CODE -I../ta_common/ -Iframes/ -g -O2 -MT libta_abstract_gc_la-table_s.lo -MD -MP -MF .deps/libta_abstract_gc_la-table_s.Tpo -c tables/table_s.c  -fPIC -DPIC -o .libs/libta_abstract_gc_la-table_s.o\n",
            " gcc -DHAVE_CONFIG_H -I. -I../../include -DTA_GEN_CODE -I../ta_common/ -Iframes/ -g -O2 -MT libta_abstract_gc_la-table_s.lo -MD -MP -MF .deps/libta_abstract_gc_la-table_s.Tpo -c tables/table_s.c -o libta_abstract_gc_la-table_s.o >/dev/null 2>&1\n",
            "mv -f .deps/libta_abstract_gc_la-table_s.Tpo .deps/libta_abstract_gc_la-table_s.Plo\n",
            "/bin/bash ../../libtool --tag=CC   --mode=compile gcc -DHAVE_CONFIG_H -I. -I../../include  -DTA_GEN_CODE -I../ta_common/ -Iframes/   -g -O2 -MT libta_abstract_gc_la-table_t.lo -MD -MP -MF .deps/libta_abstract_gc_la-table_t.Tpo -c -o libta_abstract_gc_la-table_t.lo `test -f 'tables/table_t.c' || echo './'`tables/table_t.c\n",
            " gcc -DHAVE_CONFIG_H -I. -I../../include -DTA_GEN_CODE -I../ta_common/ -Iframes/ -g -O2 -MT libta_abstract_gc_la-table_t.lo -MD -MP -MF .deps/libta_abstract_gc_la-table_t.Tpo -c tables/table_t.c  -fPIC -DPIC -o .libs/libta_abstract_gc_la-table_t.o\n",
            " gcc -DHAVE_CONFIG_H -I. -I../../include -DTA_GEN_CODE -I../ta_common/ -Iframes/ -g -O2 -MT libta_abstract_gc_la-table_t.lo -MD -MP -MF .deps/libta_abstract_gc_la-table_t.Tpo -c tables/table_t.c -o libta_abstract_gc_la-table_t.o >/dev/null 2>&1\n",
            "mv -f .deps/libta_abstract_gc_la-table_t.Tpo .deps/libta_abstract_gc_la-table_t.Plo\n",
            "/bin/bash ../../libtool --tag=CC   --mode=compile gcc -DHAVE_CONFIG_H -I. -I../../include  -DTA_GEN_CODE -I../ta_common/ -Iframes/   -g -O2 -MT libta_abstract_gc_la-table_u.lo -MD -MP -MF .deps/libta_abstract_gc_la-table_u.Tpo -c -o libta_abstract_gc_la-table_u.lo `test -f 'tables/table_u.c' || echo './'`tables/table_u.c\n",
            " gcc -DHAVE_CONFIG_H -I. -I../../include -DTA_GEN_CODE -I../ta_common/ -Iframes/ -g -O2 -MT libta_abstract_gc_la-table_u.lo -MD -MP -MF .deps/libta_abstract_gc_la-table_u.Tpo -c tables/table_u.c  -fPIC -DPIC -o .libs/libta_abstract_gc_la-table_u.o\n",
            " gcc -DHAVE_CONFIG_H -I. -I../../include -DTA_GEN_CODE -I../ta_common/ -Iframes/ -g -O2 -MT libta_abstract_gc_la-table_u.lo -MD -MP -MF .deps/libta_abstract_gc_la-table_u.Tpo -c tables/table_u.c -o libta_abstract_gc_la-table_u.o >/dev/null 2>&1\n",
            "mv -f .deps/libta_abstract_gc_la-table_u.Tpo .deps/libta_abstract_gc_la-table_u.Plo\n",
            "/bin/bash ../../libtool --tag=CC   --mode=compile gcc -DHAVE_CONFIG_H -I. -I../../include  -DTA_GEN_CODE -I../ta_common/ -Iframes/   -g -O2 -MT libta_abstract_gc_la-table_v.lo -MD -MP -MF .deps/libta_abstract_gc_la-table_v.Tpo -c -o libta_abstract_gc_la-table_v.lo `test -f 'tables/table_v.c' || echo './'`tables/table_v.c\n",
            " gcc -DHAVE_CONFIG_H -I. -I../../include -DTA_GEN_CODE -I../ta_common/ -Iframes/ -g -O2 -MT libta_abstract_gc_la-table_v.lo -MD -MP -MF .deps/libta_abstract_gc_la-table_v.Tpo -c tables/table_v.c  -fPIC -DPIC -o .libs/libta_abstract_gc_la-table_v.o\n",
            " gcc -DHAVE_CONFIG_H -I. -I../../include -DTA_GEN_CODE -I../ta_common/ -Iframes/ -g -O2 -MT libta_abstract_gc_la-table_v.lo -MD -MP -MF .deps/libta_abstract_gc_la-table_v.Tpo -c tables/table_v.c -o libta_abstract_gc_la-table_v.o >/dev/null 2>&1\n",
            "mv -f .deps/libta_abstract_gc_la-table_v.Tpo .deps/libta_abstract_gc_la-table_v.Plo\n",
            "/bin/bash ../../libtool --tag=CC   --mode=compile gcc -DHAVE_CONFIG_H -I. -I../../include  -DTA_GEN_CODE -I../ta_common/ -Iframes/   -g -O2 -MT libta_abstract_gc_la-table_w.lo -MD -MP -MF .deps/libta_abstract_gc_la-table_w.Tpo -c -o libta_abstract_gc_la-table_w.lo `test -f 'tables/table_w.c' || echo './'`tables/table_w.c\n",
            " gcc -DHAVE_CONFIG_H -I. -I../../include -DTA_GEN_CODE -I../ta_common/ -Iframes/ -g -O2 -MT libta_abstract_gc_la-table_w.lo -MD -MP -MF .deps/libta_abstract_gc_la-table_w.Tpo -c tables/table_w.c  -fPIC -DPIC -o .libs/libta_abstract_gc_la-table_w.o\n",
            " gcc -DHAVE_CONFIG_H -I. -I../../include -DTA_GEN_CODE -I../ta_common/ -Iframes/ -g -O2 -MT libta_abstract_gc_la-table_w.lo -MD -MP -MF .deps/libta_abstract_gc_la-table_w.Tpo -c tables/table_w.c -o libta_abstract_gc_la-table_w.o >/dev/null 2>&1\n",
            "mv -f .deps/libta_abstract_gc_la-table_w.Tpo .deps/libta_abstract_gc_la-table_w.Plo\n",
            "/bin/bash ../../libtool --tag=CC   --mode=compile gcc -DHAVE_CONFIG_H -I. -I../../include  -DTA_GEN_CODE -I../ta_common/ -Iframes/   -g -O2 -MT libta_abstract_gc_la-table_x.lo -MD -MP -MF .deps/libta_abstract_gc_la-table_x.Tpo -c -o libta_abstract_gc_la-table_x.lo `test -f 'tables/table_x.c' || echo './'`tables/table_x.c\n",
            " gcc -DHAVE_CONFIG_H -I. -I../../include -DTA_GEN_CODE -I../ta_common/ -Iframes/ -g -O2 -MT libta_abstract_gc_la-table_x.lo -MD -MP -MF .deps/libta_abstract_gc_la-table_x.Tpo -c tables/table_x.c  -fPIC -DPIC -o .libs/libta_abstract_gc_la-table_x.o\n",
            " gcc -DHAVE_CONFIG_H -I. -I../../include -DTA_GEN_CODE -I../ta_common/ -Iframes/ -g -O2 -MT libta_abstract_gc_la-table_x.lo -MD -MP -MF .deps/libta_abstract_gc_la-table_x.Tpo -c tables/table_x.c -o libta_abstract_gc_la-table_x.o >/dev/null 2>&1\n",
            "mv -f .deps/libta_abstract_gc_la-table_x.Tpo .deps/libta_abstract_gc_la-table_x.Plo\n",
            "/bin/bash ../../libtool --tag=CC   --mode=compile gcc -DHAVE_CONFIG_H -I. -I../../include  -DTA_GEN_CODE -I../ta_common/ -Iframes/   -g -O2 -MT libta_abstract_gc_la-table_y.lo -MD -MP -MF .deps/libta_abstract_gc_la-table_y.Tpo -c -o libta_abstract_gc_la-table_y.lo `test -f 'tables/table_y.c' || echo './'`tables/table_y.c\n",
            " gcc -DHAVE_CONFIG_H -I. -I../../include -DTA_GEN_CODE -I../ta_common/ -Iframes/ -g -O2 -MT libta_abstract_gc_la-table_y.lo -MD -MP -MF .deps/libta_abstract_gc_la-table_y.Tpo -c tables/table_y.c  -fPIC -DPIC -o .libs/libta_abstract_gc_la-table_y.o\n",
            " gcc -DHAVE_CONFIG_H -I. -I../../include -DTA_GEN_CODE -I../ta_common/ -Iframes/ -g -O2 -MT libta_abstract_gc_la-table_y.lo -MD -MP -MF .deps/libta_abstract_gc_la-table_y.Tpo -c tables/table_y.c -o libta_abstract_gc_la-table_y.o >/dev/null 2>&1\n",
            "mv -f .deps/libta_abstract_gc_la-table_y.Tpo .deps/libta_abstract_gc_la-table_y.Plo\n",
            "/bin/bash ../../libtool --tag=CC   --mode=compile gcc -DHAVE_CONFIG_H -I. -I../../include  -DTA_GEN_CODE -I../ta_common/ -Iframes/   -g -O2 -MT libta_abstract_gc_la-table_z.lo -MD -MP -MF .deps/libta_abstract_gc_la-table_z.Tpo -c -o libta_abstract_gc_la-table_z.lo `test -f 'tables/table_z.c' || echo './'`tables/table_z.c\n",
            " gcc -DHAVE_CONFIG_H -I. -I../../include -DTA_GEN_CODE -I../ta_common/ -Iframes/ -g -O2 -MT libta_abstract_gc_la-table_z.lo -MD -MP -MF .deps/libta_abstract_gc_la-table_z.Tpo -c tables/table_z.c  -fPIC -DPIC -o .libs/libta_abstract_gc_la-table_z.o\n",
            " gcc -DHAVE_CONFIG_H -I. -I../../include -DTA_GEN_CODE -I../ta_common/ -Iframes/ -g -O2 -MT libta_abstract_gc_la-table_z.lo -MD -MP -MF .deps/libta_abstract_gc_la-table_z.Tpo -c tables/table_z.c -o libta_abstract_gc_la-table_z.o >/dev/null 2>&1\n",
            "mv -f .deps/libta_abstract_gc_la-table_z.Tpo .deps/libta_abstract_gc_la-table_z.Plo\n",
            "/bin/bash ../../libtool --tag=CC   --mode=link gcc  -g -O2 -version-info 0:0:0  -o libta_abstract_gc.la  libta_abstract_gc_la-ta_group_idx.lo libta_abstract_gc_la-ta_def_ui.lo libta_abstract_gc_la-ta_abstract.lo libta_abstract_gc_la-ta_func_api.lo libta_abstract_gc_la-ta_frame.lo libta_abstract_gc_la-table_a.lo libta_abstract_gc_la-table_b.lo libta_abstract_gc_la-table_c.lo libta_abstract_gc_la-table_d.lo libta_abstract_gc_la-table_e.lo libta_abstract_gc_la-table_f.lo libta_abstract_gc_la-table_g.lo libta_abstract_gc_la-table_h.lo libta_abstract_gc_la-table_i.lo libta_abstract_gc_la-table_j.lo libta_abstract_gc_la-table_k.lo libta_abstract_gc_la-table_l.lo libta_abstract_gc_la-table_m.lo libta_abstract_gc_la-table_n.lo libta_abstract_gc_la-table_o.lo libta_abstract_gc_la-table_p.lo libta_abstract_gc_la-table_q.lo libta_abstract_gc_la-table_r.lo libta_abstract_gc_la-table_s.lo libta_abstract_gc_la-table_t.lo libta_abstract_gc_la-table_u.lo libta_abstract_gc_la-table_v.lo libta_abstract_gc_la-table_w.lo libta_abstract_gc_la-table_x.lo libta_abstract_gc_la-table_y.lo libta_abstract_gc_la-table_z.lo  -lpthread -ldl \n",
            "libtool: link: warning: `-version-info/-version-number' is ignored for convenience libraries\n",
            "ar cru .libs/libta_abstract_gc.a .libs/libta_abstract_gc_la-ta_group_idx.o .libs/libta_abstract_gc_la-ta_def_ui.o .libs/libta_abstract_gc_la-ta_abstract.o .libs/libta_abstract_gc_la-ta_func_api.o .libs/libta_abstract_gc_la-ta_frame.o .libs/libta_abstract_gc_la-table_a.o .libs/libta_abstract_gc_la-table_b.o .libs/libta_abstract_gc_la-table_c.o .libs/libta_abstract_gc_la-table_d.o .libs/libta_abstract_gc_la-table_e.o .libs/libta_abstract_gc_la-table_f.o .libs/libta_abstract_gc_la-table_g.o .libs/libta_abstract_gc_la-table_h.o .libs/libta_abstract_gc_la-table_i.o .libs/libta_abstract_gc_la-table_j.o .libs/libta_abstract_gc_la-table_k.o .libs/libta_abstract_gc_la-table_l.o .libs/libta_abstract_gc_la-table_m.o .libs/libta_abstract_gc_la-table_n.o .libs/libta_abstract_gc_la-table_o.o .libs/libta_abstract_gc_la-table_p.o .libs/libta_abstract_gc_la-table_q.o .libs/libta_abstract_gc_la-table_r.o .libs/libta_abstract_gc_la-table_s.o .libs/libta_abstract_gc_la-table_t.o .libs/libta_abstract_gc_la-table_u.o .libs/libta_abstract_gc_la-table_v.o .libs/libta_abstract_gc_la-table_w.o .libs/libta_abstract_gc_la-table_x.o .libs/libta_abstract_gc_la-table_y.o .libs/libta_abstract_gc_la-table_z.o\n",
            "ar: `u' modifier ignored since `D' is the default (see `U')\n",
            "ranlib .libs/libta_abstract_gc.a\n",
            "creating libta_abstract_gc.la\n",
            "(cd .libs && rm -f libta_abstract_gc.la && ln -s ../libta_abstract_gc.la libta_abstract_gc.la)\n",
            "make[2]: Leaving directory '/root/ta-lib/src/ta_abstract'\n",
            "Making all in ta_common\n",
            "make[2]: Entering directory '/root/ta-lib/src/ta_common'\n",
            "/bin/bash ../../libtool --tag=CC   --mode=compile gcc -DHAVE_CONFIG_H -I. -I../../include  -I../ta_common/   -g -O2 -MT ta_global.lo -MD -MP -MF .deps/ta_global.Tpo -c -o ta_global.lo ta_global.c\n",
            "mkdir .libs\n",
            " gcc -DHAVE_CONFIG_H -I. -I../../include -I../ta_common/ -g -O2 -MT ta_global.lo -MD -MP -MF .deps/ta_global.Tpo -c ta_global.c  -fPIC -DPIC -o .libs/ta_global.o\n",
            " gcc -DHAVE_CONFIG_H -I. -I../../include -I../ta_common/ -g -O2 -MT ta_global.lo -MD -MP -MF .deps/ta_global.Tpo -c ta_global.c -o ta_global.o >/dev/null 2>&1\n",
            "mv -f .deps/ta_global.Tpo .deps/ta_global.Plo\n",
            "/bin/bash ../../libtool --tag=CC   --mode=compile gcc -DHAVE_CONFIG_H -I. -I../../include  -I../ta_common/   -g -O2 -MT ta_retcode.lo -MD -MP -MF .deps/ta_retcode.Tpo -c -o ta_retcode.lo ta_retcode.c\n",
            " gcc -DHAVE_CONFIG_H -I. -I../../include -I../ta_common/ -g -O2 -MT ta_retcode.lo -MD -MP -MF .deps/ta_retcode.Tpo -c ta_retcode.c  -fPIC -DPIC -o .libs/ta_retcode.o\n",
            " gcc -DHAVE_CONFIG_H -I. -I../../include -I../ta_common/ -g -O2 -MT ta_retcode.lo -MD -MP -MF .deps/ta_retcode.Tpo -c ta_retcode.c -o ta_retcode.o >/dev/null 2>&1\n",
            "mv -f .deps/ta_retcode.Tpo .deps/ta_retcode.Plo\n",
            "/bin/bash ../../libtool --tag=CC   --mode=compile gcc -DHAVE_CONFIG_H -I. -I../../include  -I../ta_common/   -g -O2 -MT ta_version.lo -MD -MP -MF .deps/ta_version.Tpo -c -o ta_version.lo ta_version.c\n",
            " gcc -DHAVE_CONFIG_H -I. -I../../include -I../ta_common/ -g -O2 -MT ta_version.lo -MD -MP -MF .deps/ta_version.Tpo -c ta_version.c  -fPIC -DPIC -o .libs/ta_version.o\n",
            " gcc -DHAVE_CONFIG_H -I. -I../../include -I../ta_common/ -g -O2 -MT ta_version.lo -MD -MP -MF .deps/ta_version.Tpo -c ta_version.c -o ta_version.o >/dev/null 2>&1\n",
            "mv -f .deps/ta_version.Tpo .deps/ta_version.Plo\n",
            "/bin/bash ../../libtool --tag=CC   --mode=link gcc  -g -O2 -version-info 0:0:0  -o libta_common.la  ta_global.lo ta_retcode.lo ta_version.lo  -lpthread -ldl \n",
            "libtool: link: warning: `-version-info/-version-number' is ignored for convenience libraries\n",
            "ar cru .libs/libta_common.a .libs/ta_global.o .libs/ta_retcode.o .libs/ta_version.o\n",
            "ar: `u' modifier ignored since `D' is the default (see `U')\n",
            "ranlib .libs/libta_common.a\n",
            "creating libta_common.la\n",
            "(cd .libs && rm -f libta_common.la && ln -s ../libta_common.la libta_common.la)\n",
            "make[2]: Leaving directory '/root/ta-lib/src/ta_common'\n",
            "Making all in ta_func\n",
            "make[2]: Entering directory '/root/ta-lib/src/ta_func'\n",
            "/bin/bash ../../libtool --tag=CC   --mode=compile gcc -DHAVE_CONFIG_H -I. -I../../include  -I../ta_common/   -g -O2 -MT ta_utility.lo -MD -MP -MF .deps/ta_utility.Tpo -c -o ta_utility.lo ta_utility.c\n",
            "mkdir .libs\n",
            " gcc -DHAVE_CONFIG_H -I. -I../../include -I../ta_common/ -g -O2 -MT ta_utility.lo -MD -MP -MF .deps/ta_utility.Tpo -c ta_utility.c  -fPIC -DPIC -o .libs/ta_utility.o\n",
            " gcc -DHAVE_CONFIG_H -I. -I../../include -I../ta_common/ -g -O2 -MT ta_utility.lo -MD -MP -MF .deps/ta_utility.Tpo -c ta_utility.c -o ta_utility.o >/dev/null 2>&1\n",
            "mv -f .deps/ta_utility.Tpo .deps/ta_utility.Plo\n",
            "/bin/bash ../../libtool --tag=CC   --mode=compile gcc -DHAVE_CONFIG_H -I. -I../../include  -I../ta_common/   -g -O2 -MT ta_ACOS.lo -MD -MP -MF .deps/ta_ACOS.Tpo -c -o ta_ACOS.lo ta_ACOS.c\n",
            " gcc -DHAVE_CONFIG_H -I. -I../../include -I../ta_common/ -g -O2 -MT ta_ACOS.lo -MD -MP -MF .deps/ta_ACOS.Tpo -c ta_ACOS.c  -fPIC -DPIC -o .libs/ta_ACOS.o\n",
            " gcc -DHAVE_CONFIG_H -I. -I../../include -I../ta_common/ -g -O2 -MT ta_ACOS.lo -MD -MP -MF .deps/ta_ACOS.Tpo -c ta_ACOS.c -o ta_ACOS.o >/dev/null 2>&1\n",
            "mv -f .deps/ta_ACOS.Tpo .deps/ta_ACOS.Plo\n",
            "/bin/bash ../../libtool --tag=CC   --mode=compile gcc -DHAVE_CONFIG_H -I. -I../../include  -I../ta_common/   -g -O2 -MT ta_AD.lo -MD -MP -MF .deps/ta_AD.Tpo -c -o ta_AD.lo ta_AD.c\n",
            " gcc -DHAVE_CONFIG_H -I. -I../../include -I../ta_common/ -g -O2 -MT ta_AD.lo -MD -MP -MF .deps/ta_AD.Tpo -c ta_AD.c  -fPIC -DPIC -o .libs/ta_AD.o\n",
            " gcc -DHAVE_CONFIG_H -I. -I../../include -I../ta_common/ -g -O2 -MT ta_AD.lo -MD -MP -MF .deps/ta_AD.Tpo -c ta_AD.c -o ta_AD.o >/dev/null 2>&1\n",
            "mv -f .deps/ta_AD.Tpo .deps/ta_AD.Plo\n",
            "/bin/bash ../../libtool --tag=CC   --mode=compile gcc -DHAVE_CONFIG_H -I. -I../../include  -I../ta_common/   -g -O2 -MT ta_ADD.lo -MD -MP -MF .deps/ta_ADD.Tpo -c -o ta_ADD.lo ta_ADD.c\n",
            " gcc -DHAVE_CONFIG_H -I. -I../../include -I../ta_common/ -g -O2 -MT ta_ADD.lo -MD -MP -MF .deps/ta_ADD.Tpo -c ta_ADD.c  -fPIC -DPIC -o .libs/ta_ADD.o\n",
            " gcc -DHAVE_CONFIG_H -I. -I../../include -I../ta_common/ -g -O2 -MT ta_ADD.lo -MD -MP -MF .deps/ta_ADD.Tpo -c ta_ADD.c -o ta_ADD.o >/dev/null 2>&1\n",
            "mv -f .deps/ta_ADD.Tpo .deps/ta_ADD.Plo\n",
            "/bin/bash ../../libtool --tag=CC   --mode=compile gcc -DHAVE_CONFIG_H -I. -I../../include  -I../ta_common/   -g -O2 -MT ta_ADOSC.lo -MD -MP -MF .deps/ta_ADOSC.Tpo -c -o ta_ADOSC.lo ta_ADOSC.c\n",
            " gcc -DHAVE_CONFIG_H -I. -I../../include -I../ta_common/ -g -O2 -MT ta_ADOSC.lo -MD -MP -MF .deps/ta_ADOSC.Tpo -c ta_ADOSC.c  -fPIC -DPIC -o .libs/ta_ADOSC.o\n",
            " gcc -DHAVE_CONFIG_H -I. -I../../include -I../ta_common/ -g -O2 -MT ta_ADOSC.lo -MD -MP -MF .deps/ta_ADOSC.Tpo -c ta_ADOSC.c -o ta_ADOSC.o >/dev/null 2>&1\n",
            "mv -f .deps/ta_ADOSC.Tpo .deps/ta_ADOSC.Plo\n",
            "/bin/bash ../../libtool --tag=CC   --mode=compile gcc -DHAVE_CONFIG_H -I. -I../../include  -I../ta_common/   -g -O2 -MT ta_ADX.lo -MD -MP -MF .deps/ta_ADX.Tpo -c -o ta_ADX.lo ta_ADX.c\n",
            " gcc -DHAVE_CONFIG_H -I. -I../../include -I../ta_common/ -g -O2 -MT ta_ADX.lo -MD -MP -MF .deps/ta_ADX.Tpo -c ta_ADX.c  -fPIC -DPIC -o .libs/ta_ADX.o\n",
            " gcc -DHAVE_CONFIG_H -I. -I../../include -I../ta_common/ -g -O2 -MT ta_ADX.lo -MD -MP -MF .deps/ta_ADX.Tpo -c ta_ADX.c -o ta_ADX.o >/dev/null 2>&1\n",
            "mv -f .deps/ta_ADX.Tpo .deps/ta_ADX.Plo\n",
            "/bin/bash ../../libtool --tag=CC   --mode=compile gcc -DHAVE_CONFIG_H -I. -I../../include  -I../ta_common/   -g -O2 -MT ta_ADXR.lo -MD -MP -MF .deps/ta_ADXR.Tpo -c -o ta_ADXR.lo ta_ADXR.c\n",
            " gcc -DHAVE_CONFIG_H -I. -I../../include -I../ta_common/ -g -O2 -MT ta_ADXR.lo -MD -MP -MF .deps/ta_ADXR.Tpo -c ta_ADXR.c  -fPIC -DPIC -o .libs/ta_ADXR.o\n",
            " gcc -DHAVE_CONFIG_H -I. -I../../include -I../ta_common/ -g -O2 -MT ta_ADXR.lo -MD -MP -MF .deps/ta_ADXR.Tpo -c ta_ADXR.c -o ta_ADXR.o >/dev/null 2>&1\n",
            "mv -f .deps/ta_ADXR.Tpo .deps/ta_ADXR.Plo\n",
            "/bin/bash ../../libtool --tag=CC   --mode=compile gcc -DHAVE_CONFIG_H -I. -I../../include  -I../ta_common/   -g -O2 -MT ta_APO.lo -MD -MP -MF .deps/ta_APO.Tpo -c -o ta_APO.lo ta_APO.c\n",
            " gcc -DHAVE_CONFIG_H -I. -I../../include -I../ta_common/ -g -O2 -MT ta_APO.lo -MD -MP -MF .deps/ta_APO.Tpo -c ta_APO.c  -fPIC -DPIC -o .libs/ta_APO.o\n",
            " gcc -DHAVE_CONFIG_H -I. -I../../include -I../ta_common/ -g -O2 -MT ta_APO.lo -MD -MP -MF .deps/ta_APO.Tpo -c ta_APO.c -o ta_APO.o >/dev/null 2>&1\n",
            "mv -f .deps/ta_APO.Tpo .deps/ta_APO.Plo\n",
            "/bin/bash ../../libtool --tag=CC   --mode=compile gcc -DHAVE_CONFIG_H -I. -I../../include  -I../ta_common/   -g -O2 -MT ta_AROON.lo -MD -MP -MF .deps/ta_AROON.Tpo -c -o ta_AROON.lo ta_AROON.c\n",
            " gcc -DHAVE_CONFIG_H -I. -I../../include -I../ta_common/ -g -O2 -MT ta_AROON.lo -MD -MP -MF .deps/ta_AROON.Tpo -c ta_AROON.c  -fPIC -DPIC -o .libs/ta_AROON.o\n",
            " gcc -DHAVE_CONFIG_H -I. -I../../include -I../ta_common/ -g -O2 -MT ta_AROON.lo -MD -MP -MF .deps/ta_AROON.Tpo -c ta_AROON.c -o ta_AROON.o >/dev/null 2>&1\n",
            "mv -f .deps/ta_AROON.Tpo .deps/ta_AROON.Plo\n",
            "/bin/bash ../../libtool --tag=CC   --mode=compile gcc -DHAVE_CONFIG_H -I. -I../../include  -I../ta_common/   -g -O2 -MT ta_AROONOSC.lo -MD -MP -MF .deps/ta_AROONOSC.Tpo -c -o ta_AROONOSC.lo ta_AROONOSC.c\n",
            " gcc -DHAVE_CONFIG_H -I. -I../../include -I../ta_common/ -g -O2 -MT ta_AROONOSC.lo -MD -MP -MF .deps/ta_AROONOSC.Tpo -c ta_AROONOSC.c  -fPIC -DPIC -o .libs/ta_AROONOSC.o\n",
            " gcc -DHAVE_CONFIG_H -I. -I../../include -I../ta_common/ -g -O2 -MT ta_AROONOSC.lo -MD -MP -MF .deps/ta_AROONOSC.Tpo -c ta_AROONOSC.c -o ta_AROONOSC.o >/dev/null 2>&1\n",
            "mv -f .deps/ta_AROONOSC.Tpo .deps/ta_AROONOSC.Plo\n",
            "/bin/bash ../../libtool --tag=CC   --mode=compile gcc -DHAVE_CONFIG_H -I. -I../../include  -I../ta_common/   -g -O2 -MT ta_ASIN.lo -MD -MP -MF .deps/ta_ASIN.Tpo -c -o ta_ASIN.lo ta_ASIN.c\n",
            " gcc -DHAVE_CONFIG_H -I. -I../../include -I../ta_common/ -g -O2 -MT ta_ASIN.lo -MD -MP -MF .deps/ta_ASIN.Tpo -c ta_ASIN.c  -fPIC -DPIC -o .libs/ta_ASIN.o\n",
            " gcc -DHAVE_CONFIG_H -I. -I../../include -I../ta_common/ -g -O2 -MT ta_ASIN.lo -MD -MP -MF .deps/ta_ASIN.Tpo -c ta_ASIN.c -o ta_ASIN.o >/dev/null 2>&1\n",
            "mv -f .deps/ta_ASIN.Tpo .deps/ta_ASIN.Plo\n",
            "/bin/bash ../../libtool --tag=CC   --mode=compile gcc -DHAVE_CONFIG_H -I. -I../../include  -I../ta_common/   -g -O2 -MT ta_ATAN.lo -MD -MP -MF .deps/ta_ATAN.Tpo -c -o ta_ATAN.lo ta_ATAN.c\n",
            " gcc -DHAVE_CONFIG_H -I. -I../../include -I../ta_common/ -g -O2 -MT ta_ATAN.lo -MD -MP -MF .deps/ta_ATAN.Tpo -c ta_ATAN.c  -fPIC -DPIC -o .libs/ta_ATAN.o\n",
            " gcc -DHAVE_CONFIG_H -I. -I../../include -I../ta_common/ -g -O2 -MT ta_ATAN.lo -MD -MP -MF .deps/ta_ATAN.Tpo -c ta_ATAN.c -o ta_ATAN.o >/dev/null 2>&1\n",
            "mv -f .deps/ta_ATAN.Tpo .deps/ta_ATAN.Plo\n",
            "/bin/bash ../../libtool --tag=CC   --mode=compile gcc -DHAVE_CONFIG_H -I. -I../../include  -I../ta_common/   -g -O2 -MT ta_ATR.lo -MD -MP -MF .deps/ta_ATR.Tpo -c -o ta_ATR.lo ta_ATR.c\n",
            " gcc -DHAVE_CONFIG_H -I. -I../../include -I../ta_common/ -g -O2 -MT ta_ATR.lo -MD -MP -MF .deps/ta_ATR.Tpo -c ta_ATR.c  -fPIC -DPIC -o .libs/ta_ATR.o\n",
            " gcc -DHAVE_CONFIG_H -I. -I../../include -I../ta_common/ -g -O2 -MT ta_ATR.lo -MD -MP -MF .deps/ta_ATR.Tpo -c ta_ATR.c -o ta_ATR.o >/dev/null 2>&1\n",
            "mv -f .deps/ta_ATR.Tpo .deps/ta_ATR.Plo\n",
            "/bin/bash ../../libtool --tag=CC   --mode=compile gcc -DHAVE_CONFIG_H -I. -I../../include  -I../ta_common/   -g -O2 -MT ta_AVGPRICE.lo -MD -MP -MF .deps/ta_AVGPRICE.Tpo -c -o ta_AVGPRICE.lo ta_AVGPRICE.c\n",
            " gcc -DHAVE_CONFIG_H -I. -I../../include -I../ta_common/ -g -O2 -MT ta_AVGPRICE.lo -MD -MP -MF .deps/ta_AVGPRICE.Tpo -c ta_AVGPRICE.c  -fPIC -DPIC -o .libs/ta_AVGPRICE.o\n",
            " gcc -DHAVE_CONFIG_H -I. -I../../include -I../ta_common/ -g -O2 -MT ta_AVGPRICE.lo -MD -MP -MF .deps/ta_AVGPRICE.Tpo -c ta_AVGPRICE.c -o ta_AVGPRICE.o >/dev/null 2>&1\n",
            "mv -f .deps/ta_AVGPRICE.Tpo .deps/ta_AVGPRICE.Plo\n",
            "/bin/bash ../../libtool --tag=CC   --mode=compile gcc -DHAVE_CONFIG_H -I. -I../../include  -I../ta_common/   -g -O2 -MT ta_BBANDS.lo -MD -MP -MF .deps/ta_BBANDS.Tpo -c -o ta_BBANDS.lo ta_BBANDS.c\n",
            " gcc -DHAVE_CONFIG_H -I. -I../../include -I../ta_common/ -g -O2 -MT ta_BBANDS.lo -MD -MP -MF .deps/ta_BBANDS.Tpo -c ta_BBANDS.c  -fPIC -DPIC -o .libs/ta_BBANDS.o\n",
            " gcc -DHAVE_CONFIG_H -I. -I../../include -I../ta_common/ -g -O2 -MT ta_BBANDS.lo -MD -MP -MF .deps/ta_BBANDS.Tpo -c ta_BBANDS.c -o ta_BBANDS.o >/dev/null 2>&1\n",
            "mv -f .deps/ta_BBANDS.Tpo .deps/ta_BBANDS.Plo\n",
            "/bin/bash ../../libtool --tag=CC   --mode=compile gcc -DHAVE_CONFIG_H -I. -I../../include  -I../ta_common/   -g -O2 -MT ta_BETA.lo -MD -MP -MF .deps/ta_BETA.Tpo -c -o ta_BETA.lo ta_BETA.c\n",
            " gcc -DHAVE_CONFIG_H -I. -I../../include -I../ta_common/ -g -O2 -MT ta_BETA.lo -MD -MP -MF .deps/ta_BETA.Tpo -c ta_BETA.c  -fPIC -DPIC -o .libs/ta_BETA.o\n",
            " gcc -DHAVE_CONFIG_H -I. -I../../include -I../ta_common/ -g -O2 -MT ta_BETA.lo -MD -MP -MF .deps/ta_BETA.Tpo -c ta_BETA.c -o ta_BETA.o >/dev/null 2>&1\n",
            "mv -f .deps/ta_BETA.Tpo .deps/ta_BETA.Plo\n",
            "/bin/bash ../../libtool --tag=CC   --mode=compile gcc -DHAVE_CONFIG_H -I. -I../../include  -I../ta_common/   -g -O2 -MT ta_BOP.lo -MD -MP -MF .deps/ta_BOP.Tpo -c -o ta_BOP.lo ta_BOP.c\n",
            " gcc -DHAVE_CONFIG_H -I. -I../../include -I../ta_common/ -g -O2 -MT ta_BOP.lo -MD -MP -MF .deps/ta_BOP.Tpo -c ta_BOP.c  -fPIC -DPIC -o .libs/ta_BOP.o\n",
            " gcc -DHAVE_CONFIG_H -I. -I../../include -I../ta_common/ -g -O2 -MT ta_BOP.lo -MD -MP -MF .deps/ta_BOP.Tpo -c ta_BOP.c -o ta_BOP.o >/dev/null 2>&1\n",
            "mv -f .deps/ta_BOP.Tpo .deps/ta_BOP.Plo\n",
            "/bin/bash ../../libtool --tag=CC   --mode=compile gcc -DHAVE_CONFIG_H -I. -I../../include  -I../ta_common/   -g -O2 -MT ta_CCI.lo -MD -MP -MF .deps/ta_CCI.Tpo -c -o ta_CCI.lo ta_CCI.c\n",
            " gcc -DHAVE_CONFIG_H -I. -I../../include -I../ta_common/ -g -O2 -MT ta_CCI.lo -MD -MP -MF .deps/ta_CCI.Tpo -c ta_CCI.c  -fPIC -DPIC -o .libs/ta_CCI.o\n",
            " gcc -DHAVE_CONFIG_H -I. -I../../include -I../ta_common/ -g -O2 -MT ta_CCI.lo -MD -MP -MF .deps/ta_CCI.Tpo -c ta_CCI.c -o ta_CCI.o >/dev/null 2>&1\n",
            "mv -f .deps/ta_CCI.Tpo .deps/ta_CCI.Plo\n",
            "/bin/bash ../../libtool --tag=CC   --mode=compile gcc -DHAVE_CONFIG_H -I. -I../../include  -I../ta_common/   -g -O2 -MT ta_CDL2CROWS.lo -MD -MP -MF .deps/ta_CDL2CROWS.Tpo -c -o ta_CDL2CROWS.lo ta_CDL2CROWS.c\n",
            " gcc -DHAVE_CONFIG_H -I. -I../../include -I../ta_common/ -g -O2 -MT ta_CDL2CROWS.lo -MD -MP -MF .deps/ta_CDL2CROWS.Tpo -c ta_CDL2CROWS.c  -fPIC -DPIC -o .libs/ta_CDL2CROWS.o\n",
            " gcc -DHAVE_CONFIG_H -I. -I../../include -I../ta_common/ -g -O2 -MT ta_CDL2CROWS.lo -MD -MP -MF .deps/ta_CDL2CROWS.Tpo -c ta_CDL2CROWS.c -o ta_CDL2CROWS.o >/dev/null 2>&1\n",
            "mv -f .deps/ta_CDL2CROWS.Tpo .deps/ta_CDL2CROWS.Plo\n",
            "/bin/bash ../../libtool --tag=CC   --mode=compile gcc -DHAVE_CONFIG_H -I. -I../../include  -I../ta_common/   -g -O2 -MT ta_CDL3BLACKCROWS.lo -MD -MP -MF .deps/ta_CDL3BLACKCROWS.Tpo -c -o ta_CDL3BLACKCROWS.lo ta_CDL3BLACKCROWS.c\n",
            " gcc -DHAVE_CONFIG_H -I. -I../../include -I../ta_common/ -g -O2 -MT ta_CDL3BLACKCROWS.lo -MD -MP -MF .deps/ta_CDL3BLACKCROWS.Tpo -c ta_CDL3BLACKCROWS.c  -fPIC -DPIC -o .libs/ta_CDL3BLACKCROWS.o\n",
            " gcc -DHAVE_CONFIG_H -I. -I../../include -I../ta_common/ -g -O2 -MT ta_CDL3BLACKCROWS.lo -MD -MP -MF .deps/ta_CDL3BLACKCROWS.Tpo -c ta_CDL3BLACKCROWS.c -o ta_CDL3BLACKCROWS.o >/dev/null 2>&1\n",
            "mv -f .deps/ta_CDL3BLACKCROWS.Tpo .deps/ta_CDL3BLACKCROWS.Plo\n",
            "/bin/bash ../../libtool --tag=CC   --mode=compile gcc -DHAVE_CONFIG_H -I. -I../../include  -I../ta_common/   -g -O2 -MT ta_CDL3INSIDE.lo -MD -MP -MF .deps/ta_CDL3INSIDE.Tpo -c -o ta_CDL3INSIDE.lo ta_CDL3INSIDE.c\n",
            " gcc -DHAVE_CONFIG_H -I. -I../../include -I../ta_common/ -g -O2 -MT ta_CDL3INSIDE.lo -MD -MP -MF .deps/ta_CDL3INSIDE.Tpo -c ta_CDL3INSIDE.c  -fPIC -DPIC -o .libs/ta_CDL3INSIDE.o\n",
            " gcc -DHAVE_CONFIG_H -I. -I../../include -I../ta_common/ -g -O2 -MT ta_CDL3INSIDE.lo -MD -MP -MF .deps/ta_CDL3INSIDE.Tpo -c ta_CDL3INSIDE.c -o ta_CDL3INSIDE.o >/dev/null 2>&1\n",
            "mv -f .deps/ta_CDL3INSIDE.Tpo .deps/ta_CDL3INSIDE.Plo\n",
            "/bin/bash ../../libtool --tag=CC   --mode=compile gcc -DHAVE_CONFIG_H -I. -I../../include  -I../ta_common/   -g -O2 -MT ta_CDL3LINESTRIKE.lo -MD -MP -MF .deps/ta_CDL3LINESTRIKE.Tpo -c -o ta_CDL3LINESTRIKE.lo ta_CDL3LINESTRIKE.c\n",
            " gcc -DHAVE_CONFIG_H -I. -I../../include -I../ta_common/ -g -O2 -MT ta_CDL3LINESTRIKE.lo -MD -MP -MF .deps/ta_CDL3LINESTRIKE.Tpo -c ta_CDL3LINESTRIKE.c  -fPIC -DPIC -o .libs/ta_CDL3LINESTRIKE.o\n",
            " gcc -DHAVE_CONFIG_H -I. -I../../include -I../ta_common/ -g -O2 -MT ta_CDL3LINESTRIKE.lo -MD -MP -MF .deps/ta_CDL3LINESTRIKE.Tpo -c ta_CDL3LINESTRIKE.c -o ta_CDL3LINESTRIKE.o >/dev/null 2>&1\n",
            "mv -f .deps/ta_CDL3LINESTRIKE.Tpo .deps/ta_CDL3LINESTRIKE.Plo\n",
            "/bin/bash ../../libtool --tag=CC   --mode=compile gcc -DHAVE_CONFIG_H -I. -I../../include  -I../ta_common/   -g -O2 -MT ta_CDL3OUTSIDE.lo -MD -MP -MF .deps/ta_CDL3OUTSIDE.Tpo -c -o ta_CDL3OUTSIDE.lo ta_CDL3OUTSIDE.c\n",
            " gcc -DHAVE_CONFIG_H -I. -I../../include -I../ta_common/ -g -O2 -MT ta_CDL3OUTSIDE.lo -MD -MP -MF .deps/ta_CDL3OUTSIDE.Tpo -c ta_CDL3OUTSIDE.c  -fPIC -DPIC -o .libs/ta_CDL3OUTSIDE.o\n",
            " gcc -DHAVE_CONFIG_H -I. -I../../include -I../ta_common/ -g -O2 -MT ta_CDL3OUTSIDE.lo -MD -MP -MF .deps/ta_CDL3OUTSIDE.Tpo -c ta_CDL3OUTSIDE.c -o ta_CDL3OUTSIDE.o >/dev/null 2>&1\n",
            "mv -f .deps/ta_CDL3OUTSIDE.Tpo .deps/ta_CDL3OUTSIDE.Plo\n",
            "/bin/bash ../../libtool --tag=CC   --mode=compile gcc -DHAVE_CONFIG_H -I. -I../../include  -I../ta_common/   -g -O2 -MT ta_CDL3STARSINSOUTH.lo -MD -MP -MF .deps/ta_CDL3STARSINSOUTH.Tpo -c -o ta_CDL3STARSINSOUTH.lo ta_CDL3STARSINSOUTH.c\n",
            " gcc -DHAVE_CONFIG_H -I. -I../../include -I../ta_common/ -g -O2 -MT ta_CDL3STARSINSOUTH.lo -MD -MP -MF .deps/ta_CDL3STARSINSOUTH.Tpo -c ta_CDL3STARSINSOUTH.c  -fPIC -DPIC -o .libs/ta_CDL3STARSINSOUTH.o\n",
            " gcc -DHAVE_CONFIG_H -I. -I../../include -I../ta_common/ -g -O2 -MT ta_CDL3STARSINSOUTH.lo -MD -MP -MF .deps/ta_CDL3STARSINSOUTH.Tpo -c ta_CDL3STARSINSOUTH.c -o ta_CDL3STARSINSOUTH.o >/dev/null 2>&1\n",
            "mv -f .deps/ta_CDL3STARSINSOUTH.Tpo .deps/ta_CDL3STARSINSOUTH.Plo\n",
            "/bin/bash ../../libtool --tag=CC   --mode=compile gcc -DHAVE_CONFIG_H -I. -I../../include  -I../ta_common/   -g -O2 -MT ta_CDL3WHITESOLDIERS.lo -MD -MP -MF .deps/ta_CDL3WHITESOLDIERS.Tpo -c -o ta_CDL3WHITESOLDIERS.lo ta_CDL3WHITESOLDIERS.c\n",
            " gcc -DHAVE_CONFIG_H -I. -I../../include -I../ta_common/ -g -O2 -MT ta_CDL3WHITESOLDIERS.lo -MD -MP -MF .deps/ta_CDL3WHITESOLDIERS.Tpo -c ta_CDL3WHITESOLDIERS.c  -fPIC -DPIC -o .libs/ta_CDL3WHITESOLDIERS.o\n",
            " gcc -DHAVE_CONFIG_H -I. -I../../include -I../ta_common/ -g -O2 -MT ta_CDL3WHITESOLDIERS.lo -MD -MP -MF .deps/ta_CDL3WHITESOLDIERS.Tpo -c ta_CDL3WHITESOLDIERS.c -o ta_CDL3WHITESOLDIERS.o >/dev/null 2>&1\n",
            "mv -f .deps/ta_CDL3WHITESOLDIERS.Tpo .deps/ta_CDL3WHITESOLDIERS.Plo\n",
            "/bin/bash ../../libtool --tag=CC   --mode=compile gcc -DHAVE_CONFIG_H -I. -I../../include  -I../ta_common/   -g -O2 -MT ta_CDLABANDONEDBABY.lo -MD -MP -MF .deps/ta_CDLABANDONEDBABY.Tpo -c -o ta_CDLABANDONEDBABY.lo ta_CDLABANDONEDBABY.c\n",
            " gcc -DHAVE_CONFIG_H -I. -I../../include -I../ta_common/ -g -O2 -MT ta_CDLABANDONEDBABY.lo -MD -MP -MF .deps/ta_CDLABANDONEDBABY.Tpo -c ta_CDLABANDONEDBABY.c  -fPIC -DPIC -o .libs/ta_CDLABANDONEDBABY.o\n",
            " gcc -DHAVE_CONFIG_H -I. -I../../include -I../ta_common/ -g -O2 -MT ta_CDLABANDONEDBABY.lo -MD -MP -MF .deps/ta_CDLABANDONEDBABY.Tpo -c ta_CDLABANDONEDBABY.c -o ta_CDLABANDONEDBABY.o >/dev/null 2>&1\n",
            "mv -f .deps/ta_CDLABANDONEDBABY.Tpo .deps/ta_CDLABANDONEDBABY.Plo\n",
            "/bin/bash ../../libtool --tag=CC   --mode=compile gcc -DHAVE_CONFIG_H -I. -I../../include  -I../ta_common/   -g -O2 -MT ta_CDLADVANCEBLOCK.lo -MD -MP -MF .deps/ta_CDLADVANCEBLOCK.Tpo -c -o ta_CDLADVANCEBLOCK.lo ta_CDLADVANCEBLOCK.c\n",
            " gcc -DHAVE_CONFIG_H -I. -I../../include -I../ta_common/ -g -O2 -MT ta_CDLADVANCEBLOCK.lo -MD -MP -MF .deps/ta_CDLADVANCEBLOCK.Tpo -c ta_CDLADVANCEBLOCK.c  -fPIC -DPIC -o .libs/ta_CDLADVANCEBLOCK.o\n",
            " gcc -DHAVE_CONFIG_H -I. -I../../include -I../ta_common/ -g -O2 -MT ta_CDLADVANCEBLOCK.lo -MD -MP -MF .deps/ta_CDLADVANCEBLOCK.Tpo -c ta_CDLADVANCEBLOCK.c -o ta_CDLADVANCEBLOCK.o >/dev/null 2>&1\n",
            "mv -f .deps/ta_CDLADVANCEBLOCK.Tpo .deps/ta_CDLADVANCEBLOCK.Plo\n",
            "/bin/bash ../../libtool --tag=CC   --mode=compile gcc -DHAVE_CONFIG_H -I. -I../../include  -I../ta_common/   -g -O2 -MT ta_CDLBELTHOLD.lo -MD -MP -MF .deps/ta_CDLBELTHOLD.Tpo -c -o ta_CDLBELTHOLD.lo ta_CDLBELTHOLD.c\n",
            " gcc -DHAVE_CONFIG_H -I. -I../../include -I../ta_common/ -g -O2 -MT ta_CDLBELTHOLD.lo -MD -MP -MF .deps/ta_CDLBELTHOLD.Tpo -c ta_CDLBELTHOLD.c  -fPIC -DPIC -o .libs/ta_CDLBELTHOLD.o\n",
            " gcc -DHAVE_CONFIG_H -I. -I../../include -I../ta_common/ -g -O2 -MT ta_CDLBELTHOLD.lo -MD -MP -MF .deps/ta_CDLBELTHOLD.Tpo -c ta_CDLBELTHOLD.c -o ta_CDLBELTHOLD.o >/dev/null 2>&1\n",
            "mv -f .deps/ta_CDLBELTHOLD.Tpo .deps/ta_CDLBELTHOLD.Plo\n",
            "/bin/bash ../../libtool --tag=CC   --mode=compile gcc -DHAVE_CONFIG_H -I. -I../../include  -I../ta_common/   -g -O2 -MT ta_CDLBREAKAWAY.lo -MD -MP -MF .deps/ta_CDLBREAKAWAY.Tpo -c -o ta_CDLBREAKAWAY.lo ta_CDLBREAKAWAY.c\n",
            " gcc -DHAVE_CONFIG_H -I. -I../../include -I../ta_common/ -g -O2 -MT ta_CDLBREAKAWAY.lo -MD -MP -MF .deps/ta_CDLBREAKAWAY.Tpo -c ta_CDLBREAKAWAY.c  -fPIC -DPIC -o .libs/ta_CDLBREAKAWAY.o\n",
            " gcc -DHAVE_CONFIG_H -I. -I../../include -I../ta_common/ -g -O2 -MT ta_CDLBREAKAWAY.lo -MD -MP -MF .deps/ta_CDLBREAKAWAY.Tpo -c ta_CDLBREAKAWAY.c -o ta_CDLBREAKAWAY.o >/dev/null 2>&1\n",
            "mv -f .deps/ta_CDLBREAKAWAY.Tpo .deps/ta_CDLBREAKAWAY.Plo\n",
            "/bin/bash ../../libtool --tag=CC   --mode=compile gcc -DHAVE_CONFIG_H -I. -I../../include  -I../ta_common/   -g -O2 -MT ta_CDLCLOSINGMARUBOZU.lo -MD -MP -MF .deps/ta_CDLCLOSINGMARUBOZU.Tpo -c -o ta_CDLCLOSINGMARUBOZU.lo ta_CDLCLOSINGMARUBOZU.c\n",
            " gcc -DHAVE_CONFIG_H -I. -I../../include -I../ta_common/ -g -O2 -MT ta_CDLCLOSINGMARUBOZU.lo -MD -MP -MF .deps/ta_CDLCLOSINGMARUBOZU.Tpo -c ta_CDLCLOSINGMARUBOZU.c  -fPIC -DPIC -o .libs/ta_CDLCLOSINGMARUBOZU.o\n",
            " gcc -DHAVE_CONFIG_H -I. -I../../include -I../ta_common/ -g -O2 -MT ta_CDLCLOSINGMARUBOZU.lo -MD -MP -MF .deps/ta_CDLCLOSINGMARUBOZU.Tpo -c ta_CDLCLOSINGMARUBOZU.c -o ta_CDLCLOSINGMARUBOZU.o >/dev/null 2>&1\n",
            "mv -f .deps/ta_CDLCLOSINGMARUBOZU.Tpo .deps/ta_CDLCLOSINGMARUBOZU.Plo\n",
            "/bin/bash ../../libtool --tag=CC   --mode=compile gcc -DHAVE_CONFIG_H -I. -I../../include  -I../ta_common/   -g -O2 -MT ta_CDLCONCEALBABYSWALL.lo -MD -MP -MF .deps/ta_CDLCONCEALBABYSWALL.Tpo -c -o ta_CDLCONCEALBABYSWALL.lo ta_CDLCONCEALBABYSWALL.c\n",
            " gcc -DHAVE_CONFIG_H -I. -I../../include -I../ta_common/ -g -O2 -MT ta_CDLCONCEALBABYSWALL.lo -MD -MP -MF .deps/ta_CDLCONCEALBABYSWALL.Tpo -c ta_CDLCONCEALBABYSWALL.c  -fPIC -DPIC -o .libs/ta_CDLCONCEALBABYSWALL.o\n",
            " gcc -DHAVE_CONFIG_H -I. -I../../include -I../ta_common/ -g -O2 -MT ta_CDLCONCEALBABYSWALL.lo -MD -MP -MF .deps/ta_CDLCONCEALBABYSWALL.Tpo -c ta_CDLCONCEALBABYSWALL.c -o ta_CDLCONCEALBABYSWALL.o >/dev/null 2>&1\n",
            "mv -f .deps/ta_CDLCONCEALBABYSWALL.Tpo .deps/ta_CDLCONCEALBABYSWALL.Plo\n",
            "/bin/bash ../../libtool --tag=CC   --mode=compile gcc -DHAVE_CONFIG_H -I. -I../../include  -I../ta_common/   -g -O2 -MT ta_CDLCOUNTERATTACK.lo -MD -MP -MF .deps/ta_CDLCOUNTERATTACK.Tpo -c -o ta_CDLCOUNTERATTACK.lo ta_CDLCOUNTERATTACK.c\n",
            " gcc -DHAVE_CONFIG_H -I. -I../../include -I../ta_common/ -g -O2 -MT ta_CDLCOUNTERATTACK.lo -MD -MP -MF .deps/ta_CDLCOUNTERATTACK.Tpo -c ta_CDLCOUNTERATTACK.c  -fPIC -DPIC -o .libs/ta_CDLCOUNTERATTACK.o\n",
            " gcc -DHAVE_CONFIG_H -I. -I../../include -I../ta_common/ -g -O2 -MT ta_CDLCOUNTERATTACK.lo -MD -MP -MF .deps/ta_CDLCOUNTERATTACK.Tpo -c ta_CDLCOUNTERATTACK.c -o ta_CDLCOUNTERATTACK.o >/dev/null 2>&1\n",
            "mv -f .deps/ta_CDLCOUNTERATTACK.Tpo .deps/ta_CDLCOUNTERATTACK.Plo\n",
            "/bin/bash ../../libtool --tag=CC   --mode=compile gcc -DHAVE_CONFIG_H -I. -I../../include  -I../ta_common/   -g -O2 -MT ta_CDLDARKCLOUDCOVER.lo -MD -MP -MF .deps/ta_CDLDARKCLOUDCOVER.Tpo -c -o ta_CDLDARKCLOUDCOVER.lo ta_CDLDARKCLOUDCOVER.c\n",
            " gcc -DHAVE_CONFIG_H -I. -I../../include -I../ta_common/ -g -O2 -MT ta_CDLDARKCLOUDCOVER.lo -MD -MP -MF .deps/ta_CDLDARKCLOUDCOVER.Tpo -c ta_CDLDARKCLOUDCOVER.c  -fPIC -DPIC -o .libs/ta_CDLDARKCLOUDCOVER.o\n",
            " gcc -DHAVE_CONFIG_H -I. -I../../include -I../ta_common/ -g -O2 -MT ta_CDLDARKCLOUDCOVER.lo -MD -MP -MF .deps/ta_CDLDARKCLOUDCOVER.Tpo -c ta_CDLDARKCLOUDCOVER.c -o ta_CDLDARKCLOUDCOVER.o >/dev/null 2>&1\n",
            "mv -f .deps/ta_CDLDARKCLOUDCOVER.Tpo .deps/ta_CDLDARKCLOUDCOVER.Plo\n",
            "/bin/bash ../../libtool --tag=CC   --mode=compile gcc -DHAVE_CONFIG_H -I. -I../../include  -I../ta_common/   -g -O2 -MT ta_CDLDOJI.lo -MD -MP -MF .deps/ta_CDLDOJI.Tpo -c -o ta_CDLDOJI.lo ta_CDLDOJI.c\n",
            " gcc -DHAVE_CONFIG_H -I. -I../../include -I../ta_common/ -g -O2 -MT ta_CDLDOJI.lo -MD -MP -MF .deps/ta_CDLDOJI.Tpo -c ta_CDLDOJI.c  -fPIC -DPIC -o .libs/ta_CDLDOJI.o\n",
            " gcc -DHAVE_CONFIG_H -I. -I../../include -I../ta_common/ -g -O2 -MT ta_CDLDOJI.lo -MD -MP -MF .deps/ta_CDLDOJI.Tpo -c ta_CDLDOJI.c -o ta_CDLDOJI.o >/dev/null 2>&1\n",
            "mv -f .deps/ta_CDLDOJI.Tpo .deps/ta_CDLDOJI.Plo\n",
            "/bin/bash ../../libtool --tag=CC   --mode=compile gcc -DHAVE_CONFIG_H -I. -I../../include  -I../ta_common/   -g -O2 -MT ta_CDLDOJISTAR.lo -MD -MP -MF .deps/ta_CDLDOJISTAR.Tpo -c -o ta_CDLDOJISTAR.lo ta_CDLDOJISTAR.c\n",
            " gcc -DHAVE_CONFIG_H -I. -I../../include -I../ta_common/ -g -O2 -MT ta_CDLDOJISTAR.lo -MD -MP -MF .deps/ta_CDLDOJISTAR.Tpo -c ta_CDLDOJISTAR.c  -fPIC -DPIC -o .libs/ta_CDLDOJISTAR.o\n",
            " gcc -DHAVE_CONFIG_H -I. -I../../include -I../ta_common/ -g -O2 -MT ta_CDLDOJISTAR.lo -MD -MP -MF .deps/ta_CDLDOJISTAR.Tpo -c ta_CDLDOJISTAR.c -o ta_CDLDOJISTAR.o >/dev/null 2>&1\n",
            "mv -f .deps/ta_CDLDOJISTAR.Tpo .deps/ta_CDLDOJISTAR.Plo\n",
            "/bin/bash ../../libtool --tag=CC   --mode=compile gcc -DHAVE_CONFIG_H -I. -I../../include  -I../ta_common/   -g -O2 -MT ta_CDLDRAGONFLYDOJI.lo -MD -MP -MF .deps/ta_CDLDRAGONFLYDOJI.Tpo -c -o ta_CDLDRAGONFLYDOJI.lo ta_CDLDRAGONFLYDOJI.c\n",
            " gcc -DHAVE_CONFIG_H -I. -I../../include -I../ta_common/ -g -O2 -MT ta_CDLDRAGONFLYDOJI.lo -MD -MP -MF .deps/ta_CDLDRAGONFLYDOJI.Tpo -c ta_CDLDRAGONFLYDOJI.c  -fPIC -DPIC -o .libs/ta_CDLDRAGONFLYDOJI.o\n",
            " gcc -DHAVE_CONFIG_H -I. -I../../include -I../ta_common/ -g -O2 -MT ta_CDLDRAGONFLYDOJI.lo -MD -MP -MF .deps/ta_CDLDRAGONFLYDOJI.Tpo -c ta_CDLDRAGONFLYDOJI.c -o ta_CDLDRAGONFLYDOJI.o >/dev/null 2>&1\n",
            "mv -f .deps/ta_CDLDRAGONFLYDOJI.Tpo .deps/ta_CDLDRAGONFLYDOJI.Plo\n",
            "/bin/bash ../../libtool --tag=CC   --mode=compile gcc -DHAVE_CONFIG_H -I. -I../../include  -I../ta_common/   -g -O2 -MT ta_CDLENGULFING.lo -MD -MP -MF .deps/ta_CDLENGULFING.Tpo -c -o ta_CDLENGULFING.lo ta_CDLENGULFING.c\n",
            " gcc -DHAVE_CONFIG_H -I. -I../../include -I../ta_common/ -g -O2 -MT ta_CDLENGULFING.lo -MD -MP -MF .deps/ta_CDLENGULFING.Tpo -c ta_CDLENGULFING.c  -fPIC -DPIC -o .libs/ta_CDLENGULFING.o\n",
            " gcc -DHAVE_CONFIG_H -I. -I../../include -I../ta_common/ -g -O2 -MT ta_CDLENGULFING.lo -MD -MP -MF .deps/ta_CDLENGULFING.Tpo -c ta_CDLENGULFING.c -o ta_CDLENGULFING.o >/dev/null 2>&1\n",
            "mv -f .deps/ta_CDLENGULFING.Tpo .deps/ta_CDLENGULFING.Plo\n",
            "/bin/bash ../../libtool --tag=CC   --mode=compile gcc -DHAVE_CONFIG_H -I. -I../../include  -I../ta_common/   -g -O2 -MT ta_CDLEVENINGDOJISTAR.lo -MD -MP -MF .deps/ta_CDLEVENINGDOJISTAR.Tpo -c -o ta_CDLEVENINGDOJISTAR.lo ta_CDLEVENINGDOJISTAR.c\n",
            " gcc -DHAVE_CONFIG_H -I. -I../../include -I../ta_common/ -g -O2 -MT ta_CDLEVENINGDOJISTAR.lo -MD -MP -MF .deps/ta_CDLEVENINGDOJISTAR.Tpo -c ta_CDLEVENINGDOJISTAR.c  -fPIC -DPIC -o .libs/ta_CDLEVENINGDOJISTAR.o\n",
            " gcc -DHAVE_CONFIG_H -I. -I../../include -I../ta_common/ -g -O2 -MT ta_CDLEVENINGDOJISTAR.lo -MD -MP -MF .deps/ta_CDLEVENINGDOJISTAR.Tpo -c ta_CDLEVENINGDOJISTAR.c -o ta_CDLEVENINGDOJISTAR.o >/dev/null 2>&1\n",
            "mv -f .deps/ta_CDLEVENINGDOJISTAR.Tpo .deps/ta_CDLEVENINGDOJISTAR.Plo\n",
            "/bin/bash ../../libtool --tag=CC   --mode=compile gcc -DHAVE_CONFIG_H -I. -I../../include  -I../ta_common/   -g -O2 -MT ta_CDLEVENINGSTAR.lo -MD -MP -MF .deps/ta_CDLEVENINGSTAR.Tpo -c -o ta_CDLEVENINGSTAR.lo ta_CDLEVENINGSTAR.c\n",
            " gcc -DHAVE_CONFIG_H -I. -I../../include -I../ta_common/ -g -O2 -MT ta_CDLEVENINGSTAR.lo -MD -MP -MF .deps/ta_CDLEVENINGSTAR.Tpo -c ta_CDLEVENINGSTAR.c  -fPIC -DPIC -o .libs/ta_CDLEVENINGSTAR.o\n",
            " gcc -DHAVE_CONFIG_H -I. -I../../include -I../ta_common/ -g -O2 -MT ta_CDLEVENINGSTAR.lo -MD -MP -MF .deps/ta_CDLEVENINGSTAR.Tpo -c ta_CDLEVENINGSTAR.c -o ta_CDLEVENINGSTAR.o >/dev/null 2>&1\n",
            "mv -f .deps/ta_CDLEVENINGSTAR.Tpo .deps/ta_CDLEVENINGSTAR.Plo\n",
            "/bin/bash ../../libtool --tag=CC   --mode=compile gcc -DHAVE_CONFIG_H -I. -I../../include  -I../ta_common/   -g -O2 -MT ta_CDLGAPSIDESIDEWHITE.lo -MD -MP -MF .deps/ta_CDLGAPSIDESIDEWHITE.Tpo -c -o ta_CDLGAPSIDESIDEWHITE.lo ta_CDLGAPSIDESIDEWHITE.c\n",
            " gcc -DHAVE_CONFIG_H -I. -I../../include -I../ta_common/ -g -O2 -MT ta_CDLGAPSIDESIDEWHITE.lo -MD -MP -MF .deps/ta_CDLGAPSIDESIDEWHITE.Tpo -c ta_CDLGAPSIDESIDEWHITE.c  -fPIC -DPIC -o .libs/ta_CDLGAPSIDESIDEWHITE.o\n",
            " gcc -DHAVE_CONFIG_H -I. -I../../include -I../ta_common/ -g -O2 -MT ta_CDLGAPSIDESIDEWHITE.lo -MD -MP -MF .deps/ta_CDLGAPSIDESIDEWHITE.Tpo -c ta_CDLGAPSIDESIDEWHITE.c -o ta_CDLGAPSIDESIDEWHITE.o >/dev/null 2>&1\n",
            "mv -f .deps/ta_CDLGAPSIDESIDEWHITE.Tpo .deps/ta_CDLGAPSIDESIDEWHITE.Plo\n",
            "/bin/bash ../../libtool --tag=CC   --mode=compile gcc -DHAVE_CONFIG_H -I. -I../../include  -I../ta_common/   -g -O2 -MT ta_CDLGRAVESTONEDOJI.lo -MD -MP -MF .deps/ta_CDLGRAVESTONEDOJI.Tpo -c -o ta_CDLGRAVESTONEDOJI.lo ta_CDLGRAVESTONEDOJI.c\n",
            " gcc -DHAVE_CONFIG_H -I. -I../../include -I../ta_common/ -g -O2 -MT ta_CDLGRAVESTONEDOJI.lo -MD -MP -MF .deps/ta_CDLGRAVESTONEDOJI.Tpo -c ta_CDLGRAVESTONEDOJI.c  -fPIC -DPIC -o .libs/ta_CDLGRAVESTONEDOJI.o\n",
            " gcc -DHAVE_CONFIG_H -I. -I../../include -I../ta_common/ -g -O2 -MT ta_CDLGRAVESTONEDOJI.lo -MD -MP -MF .deps/ta_CDLGRAVESTONEDOJI.Tpo -c ta_CDLGRAVESTONEDOJI.c -o ta_CDLGRAVESTONEDOJI.o >/dev/null 2>&1\n",
            "mv -f .deps/ta_CDLGRAVESTONEDOJI.Tpo .deps/ta_CDLGRAVESTONEDOJI.Plo\n",
            "/bin/bash ../../libtool --tag=CC   --mode=compile gcc -DHAVE_CONFIG_H -I. -I../../include  -I../ta_common/   -g -O2 -MT ta_CDLHAMMER.lo -MD -MP -MF .deps/ta_CDLHAMMER.Tpo -c -o ta_CDLHAMMER.lo ta_CDLHAMMER.c\n",
            " gcc -DHAVE_CONFIG_H -I. -I../../include -I../ta_common/ -g -O2 -MT ta_CDLHAMMER.lo -MD -MP -MF .deps/ta_CDLHAMMER.Tpo -c ta_CDLHAMMER.c  -fPIC -DPIC -o .libs/ta_CDLHAMMER.o\n",
            " gcc -DHAVE_CONFIG_H -I. -I../../include -I../ta_common/ -g -O2 -MT ta_CDLHAMMER.lo -MD -MP -MF .deps/ta_CDLHAMMER.Tpo -c ta_CDLHAMMER.c -o ta_CDLHAMMER.o >/dev/null 2>&1\n",
            "mv -f .deps/ta_CDLHAMMER.Tpo .deps/ta_CDLHAMMER.Plo\n",
            "/bin/bash ../../libtool --tag=CC   --mode=compile gcc -DHAVE_CONFIG_H -I. -I../../include  -I../ta_common/   -g -O2 -MT ta_CDLHANGINGMAN.lo -MD -MP -MF .deps/ta_CDLHANGINGMAN.Tpo -c -o ta_CDLHANGINGMAN.lo ta_CDLHANGINGMAN.c\n",
            " gcc -DHAVE_CONFIG_H -I. -I../../include -I../ta_common/ -g -O2 -MT ta_CDLHANGINGMAN.lo -MD -MP -MF .deps/ta_CDLHANGINGMAN.Tpo -c ta_CDLHANGINGMAN.c  -fPIC -DPIC -o .libs/ta_CDLHANGINGMAN.o\n",
            " gcc -DHAVE_CONFIG_H -I. -I../../include -I../ta_common/ -g -O2 -MT ta_CDLHANGINGMAN.lo -MD -MP -MF .deps/ta_CDLHANGINGMAN.Tpo -c ta_CDLHANGINGMAN.c -o ta_CDLHANGINGMAN.o >/dev/null 2>&1\n",
            "mv -f .deps/ta_CDLHANGINGMAN.Tpo .deps/ta_CDLHANGINGMAN.Plo\n",
            "/bin/bash ../../libtool --tag=CC   --mode=compile gcc -DHAVE_CONFIG_H -I. -I../../include  -I../ta_common/   -g -O2 -MT ta_CDLHARAMI.lo -MD -MP -MF .deps/ta_CDLHARAMI.Tpo -c -o ta_CDLHARAMI.lo ta_CDLHARAMI.c\n",
            " gcc -DHAVE_CONFIG_H -I. -I../../include -I../ta_common/ -g -O2 -MT ta_CDLHARAMI.lo -MD -MP -MF .deps/ta_CDLHARAMI.Tpo -c ta_CDLHARAMI.c  -fPIC -DPIC -o .libs/ta_CDLHARAMI.o\n",
            " gcc -DHAVE_CONFIG_H -I. -I../../include -I../ta_common/ -g -O2 -MT ta_CDLHARAMI.lo -MD -MP -MF .deps/ta_CDLHARAMI.Tpo -c ta_CDLHARAMI.c -o ta_CDLHARAMI.o >/dev/null 2>&1\n",
            "mv -f .deps/ta_CDLHARAMI.Tpo .deps/ta_CDLHARAMI.Plo\n",
            "/bin/bash ../../libtool --tag=CC   --mode=compile gcc -DHAVE_CONFIG_H -I. -I../../include  -I../ta_common/   -g -O2 -MT ta_CDLHARAMICROSS.lo -MD -MP -MF .deps/ta_CDLHARAMICROSS.Tpo -c -o ta_CDLHARAMICROSS.lo ta_CDLHARAMICROSS.c\n",
            " gcc -DHAVE_CONFIG_H -I. -I../../include -I../ta_common/ -g -O2 -MT ta_CDLHARAMICROSS.lo -MD -MP -MF .deps/ta_CDLHARAMICROSS.Tpo -c ta_CDLHARAMICROSS.c  -fPIC -DPIC -o .libs/ta_CDLHARAMICROSS.o\n",
            " gcc -DHAVE_CONFIG_H -I. -I../../include -I../ta_common/ -g -O2 -MT ta_CDLHARAMICROSS.lo -MD -MP -MF .deps/ta_CDLHARAMICROSS.Tpo -c ta_CDLHARAMICROSS.c -o ta_CDLHARAMICROSS.o >/dev/null 2>&1\n",
            "mv -f .deps/ta_CDLHARAMICROSS.Tpo .deps/ta_CDLHARAMICROSS.Plo\n",
            "/bin/bash ../../libtool --tag=CC   --mode=compile gcc -DHAVE_CONFIG_H -I. -I../../include  -I../ta_common/   -g -O2 -MT ta_CDLHIGHWAVE.lo -MD -MP -MF .deps/ta_CDLHIGHWAVE.Tpo -c -o ta_CDLHIGHWAVE.lo ta_CDLHIGHWAVE.c\n",
            " gcc -DHAVE_CONFIG_H -I. -I../../include -I../ta_common/ -g -O2 -MT ta_CDLHIGHWAVE.lo -MD -MP -MF .deps/ta_CDLHIGHWAVE.Tpo -c ta_CDLHIGHWAVE.c  -fPIC -DPIC -o .libs/ta_CDLHIGHWAVE.o\n",
            " gcc -DHAVE_CONFIG_H -I. -I../../include -I../ta_common/ -g -O2 -MT ta_CDLHIGHWAVE.lo -MD -MP -MF .deps/ta_CDLHIGHWAVE.Tpo -c ta_CDLHIGHWAVE.c -o ta_CDLHIGHWAVE.o >/dev/null 2>&1\n",
            "mv -f .deps/ta_CDLHIGHWAVE.Tpo .deps/ta_CDLHIGHWAVE.Plo\n",
            "/bin/bash ../../libtool --tag=CC   --mode=compile gcc -DHAVE_CONFIG_H -I. -I../../include  -I../ta_common/   -g -O2 -MT ta_CDLHIKKAKE.lo -MD -MP -MF .deps/ta_CDLHIKKAKE.Tpo -c -o ta_CDLHIKKAKE.lo ta_CDLHIKKAKE.c\n",
            " gcc -DHAVE_CONFIG_H -I. -I../../include -I../ta_common/ -g -O2 -MT ta_CDLHIKKAKE.lo -MD -MP -MF .deps/ta_CDLHIKKAKE.Tpo -c ta_CDLHIKKAKE.c  -fPIC -DPIC -o .libs/ta_CDLHIKKAKE.o\n",
            " gcc -DHAVE_CONFIG_H -I. -I../../include -I../ta_common/ -g -O2 -MT ta_CDLHIKKAKE.lo -MD -MP -MF .deps/ta_CDLHIKKAKE.Tpo -c ta_CDLHIKKAKE.c -o ta_CDLHIKKAKE.o >/dev/null 2>&1\n",
            "mv -f .deps/ta_CDLHIKKAKE.Tpo .deps/ta_CDLHIKKAKE.Plo\n",
            "/bin/bash ../../libtool --tag=CC   --mode=compile gcc -DHAVE_CONFIG_H -I. -I../../include  -I../ta_common/   -g -O2 -MT ta_CDLHIKKAKEMOD.lo -MD -MP -MF .deps/ta_CDLHIKKAKEMOD.Tpo -c -o ta_CDLHIKKAKEMOD.lo ta_CDLHIKKAKEMOD.c\n",
            " gcc -DHAVE_CONFIG_H -I. -I../../include -I../ta_common/ -g -O2 -MT ta_CDLHIKKAKEMOD.lo -MD -MP -MF .deps/ta_CDLHIKKAKEMOD.Tpo -c ta_CDLHIKKAKEMOD.c  -fPIC -DPIC -o .libs/ta_CDLHIKKAKEMOD.o\n",
            " gcc -DHAVE_CONFIG_H -I. -I../../include -I../ta_common/ -g -O2 -MT ta_CDLHIKKAKEMOD.lo -MD -MP -MF .deps/ta_CDLHIKKAKEMOD.Tpo -c ta_CDLHIKKAKEMOD.c -o ta_CDLHIKKAKEMOD.o >/dev/null 2>&1\n",
            "mv -f .deps/ta_CDLHIKKAKEMOD.Tpo .deps/ta_CDLHIKKAKEMOD.Plo\n",
            "/bin/bash ../../libtool --tag=CC   --mode=compile gcc -DHAVE_CONFIG_H -I. -I../../include  -I../ta_common/   -g -O2 -MT ta_CDLHOMINGPIGEON.lo -MD -MP -MF .deps/ta_CDLHOMINGPIGEON.Tpo -c -o ta_CDLHOMINGPIGEON.lo ta_CDLHOMINGPIGEON.c\n",
            " gcc -DHAVE_CONFIG_H -I. -I../../include -I../ta_common/ -g -O2 -MT ta_CDLHOMINGPIGEON.lo -MD -MP -MF .deps/ta_CDLHOMINGPIGEON.Tpo -c ta_CDLHOMINGPIGEON.c  -fPIC -DPIC -o .libs/ta_CDLHOMINGPIGEON.o\n",
            " gcc -DHAVE_CONFIG_H -I. -I../../include -I../ta_common/ -g -O2 -MT ta_CDLHOMINGPIGEON.lo -MD -MP -MF .deps/ta_CDLHOMINGPIGEON.Tpo -c ta_CDLHOMINGPIGEON.c -o ta_CDLHOMINGPIGEON.o >/dev/null 2>&1\n",
            "mv -f .deps/ta_CDLHOMINGPIGEON.Tpo .deps/ta_CDLHOMINGPIGEON.Plo\n",
            "/bin/bash ../../libtool --tag=CC   --mode=compile gcc -DHAVE_CONFIG_H -I. -I../../include  -I../ta_common/   -g -O2 -MT ta_CDLIDENTICAL3CROWS.lo -MD -MP -MF .deps/ta_CDLIDENTICAL3CROWS.Tpo -c -o ta_CDLIDENTICAL3CROWS.lo ta_CDLIDENTICAL3CROWS.c\n",
            " gcc -DHAVE_CONFIG_H -I. -I../../include -I../ta_common/ -g -O2 -MT ta_CDLIDENTICAL3CROWS.lo -MD -MP -MF .deps/ta_CDLIDENTICAL3CROWS.Tpo -c ta_CDLIDENTICAL3CROWS.c  -fPIC -DPIC -o .libs/ta_CDLIDENTICAL3CROWS.o\n",
            " gcc -DHAVE_CONFIG_H -I. -I../../include -I../ta_common/ -g -O2 -MT ta_CDLIDENTICAL3CROWS.lo -MD -MP -MF .deps/ta_CDLIDENTICAL3CROWS.Tpo -c ta_CDLIDENTICAL3CROWS.c -o ta_CDLIDENTICAL3CROWS.o >/dev/null 2>&1\n",
            "mv -f .deps/ta_CDLIDENTICAL3CROWS.Tpo .deps/ta_CDLIDENTICAL3CROWS.Plo\n",
            "/bin/bash ../../libtool --tag=CC   --mode=compile gcc -DHAVE_CONFIG_H -I. -I../../include  -I../ta_common/   -g -O2 -MT ta_CDLINNECK.lo -MD -MP -MF .deps/ta_CDLINNECK.Tpo -c -o ta_CDLINNECK.lo ta_CDLINNECK.c\n",
            " gcc -DHAVE_CONFIG_H -I. -I../../include -I../ta_common/ -g -O2 -MT ta_CDLINNECK.lo -MD -MP -MF .deps/ta_CDLINNECK.Tpo -c ta_CDLINNECK.c  -fPIC -DPIC -o .libs/ta_CDLINNECK.o\n",
            " gcc -DHAVE_CONFIG_H -I. -I../../include -I../ta_common/ -g -O2 -MT ta_CDLINNECK.lo -MD -MP -MF .deps/ta_CDLINNECK.Tpo -c ta_CDLINNECK.c -o ta_CDLINNECK.o >/dev/null 2>&1\n",
            "mv -f .deps/ta_CDLINNECK.Tpo .deps/ta_CDLINNECK.Plo\n",
            "/bin/bash ../../libtool --tag=CC   --mode=compile gcc -DHAVE_CONFIG_H -I. -I../../include  -I../ta_common/   -g -O2 -MT ta_CDLINVERTEDHAMMER.lo -MD -MP -MF .deps/ta_CDLINVERTEDHAMMER.Tpo -c -o ta_CDLINVERTEDHAMMER.lo ta_CDLINVERTEDHAMMER.c\n",
            " gcc -DHAVE_CONFIG_H -I. -I../../include -I../ta_common/ -g -O2 -MT ta_CDLINVERTEDHAMMER.lo -MD -MP -MF .deps/ta_CDLINVERTEDHAMMER.Tpo -c ta_CDLINVERTEDHAMMER.c  -fPIC -DPIC -o .libs/ta_CDLINVERTEDHAMMER.o\n",
            " gcc -DHAVE_CONFIG_H -I. -I../../include -I../ta_common/ -g -O2 -MT ta_CDLINVERTEDHAMMER.lo -MD -MP -MF .deps/ta_CDLINVERTEDHAMMER.Tpo -c ta_CDLINVERTEDHAMMER.c -o ta_CDLINVERTEDHAMMER.o >/dev/null 2>&1\n",
            "mv -f .deps/ta_CDLINVERTEDHAMMER.Tpo .deps/ta_CDLINVERTEDHAMMER.Plo\n",
            "/bin/bash ../../libtool --tag=CC   --mode=compile gcc -DHAVE_CONFIG_H -I. -I../../include  -I../ta_common/   -g -O2 -MT ta_CDLKICKING.lo -MD -MP -MF .deps/ta_CDLKICKING.Tpo -c -o ta_CDLKICKING.lo ta_CDLKICKING.c\n",
            " gcc -DHAVE_CONFIG_H -I. -I../../include -I../ta_common/ -g -O2 -MT ta_CDLKICKING.lo -MD -MP -MF .deps/ta_CDLKICKING.Tpo -c ta_CDLKICKING.c  -fPIC -DPIC -o .libs/ta_CDLKICKING.o\n",
            " gcc -DHAVE_CONFIG_H -I. -I../../include -I../ta_common/ -g -O2 -MT ta_CDLKICKING.lo -MD -MP -MF .deps/ta_CDLKICKING.Tpo -c ta_CDLKICKING.c -o ta_CDLKICKING.o >/dev/null 2>&1\n",
            "mv -f .deps/ta_CDLKICKING.Tpo .deps/ta_CDLKICKING.Plo\n",
            "/bin/bash ../../libtool --tag=CC   --mode=compile gcc -DHAVE_CONFIG_H -I. -I../../include  -I../ta_common/   -g -O2 -MT ta_CDLKICKINGBYLENGTH.lo -MD -MP -MF .deps/ta_CDLKICKINGBYLENGTH.Tpo -c -o ta_CDLKICKINGBYLENGTH.lo ta_CDLKICKINGBYLENGTH.c\n",
            " gcc -DHAVE_CONFIG_H -I. -I../../include -I../ta_common/ -g -O2 -MT ta_CDLKICKINGBYLENGTH.lo -MD -MP -MF .deps/ta_CDLKICKINGBYLENGTH.Tpo -c ta_CDLKICKINGBYLENGTH.c  -fPIC -DPIC -o .libs/ta_CDLKICKINGBYLENGTH.o\n",
            " gcc -DHAVE_CONFIG_H -I. -I../../include -I../ta_common/ -g -O2 -MT ta_CDLKICKINGBYLENGTH.lo -MD -MP -MF .deps/ta_CDLKICKINGBYLENGTH.Tpo -c ta_CDLKICKINGBYLENGTH.c -o ta_CDLKICKINGBYLENGTH.o >/dev/null 2>&1\n",
            "mv -f .deps/ta_CDLKICKINGBYLENGTH.Tpo .deps/ta_CDLKICKINGBYLENGTH.Plo\n",
            "/bin/bash ../../libtool --tag=CC   --mode=compile gcc -DHAVE_CONFIG_H -I. -I../../include  -I../ta_common/   -g -O2 -MT ta_CDLLADDERBOTTOM.lo -MD -MP -MF .deps/ta_CDLLADDERBOTTOM.Tpo -c -o ta_CDLLADDERBOTTOM.lo ta_CDLLADDERBOTTOM.c\n",
            " gcc -DHAVE_CONFIG_H -I. -I../../include -I../ta_common/ -g -O2 -MT ta_CDLLADDERBOTTOM.lo -MD -MP -MF .deps/ta_CDLLADDERBOTTOM.Tpo -c ta_CDLLADDERBOTTOM.c  -fPIC -DPIC -o .libs/ta_CDLLADDERBOTTOM.o\n",
            " gcc -DHAVE_CONFIG_H -I. -I../../include -I../ta_common/ -g -O2 -MT ta_CDLLADDERBOTTOM.lo -MD -MP -MF .deps/ta_CDLLADDERBOTTOM.Tpo -c ta_CDLLADDERBOTTOM.c -o ta_CDLLADDERBOTTOM.o >/dev/null 2>&1\n",
            "mv -f .deps/ta_CDLLADDERBOTTOM.Tpo .deps/ta_CDLLADDERBOTTOM.Plo\n",
            "/bin/bash ../../libtool --tag=CC   --mode=compile gcc -DHAVE_CONFIG_H -I. -I../../include  -I../ta_common/   -g -O2 -MT ta_CDLLONGLEGGEDDOJI.lo -MD -MP -MF .deps/ta_CDLLONGLEGGEDDOJI.Tpo -c -o ta_CDLLONGLEGGEDDOJI.lo ta_CDLLONGLEGGEDDOJI.c\n",
            " gcc -DHAVE_CONFIG_H -I. -I../../include -I../ta_common/ -g -O2 -MT ta_CDLLONGLEGGEDDOJI.lo -MD -MP -MF .deps/ta_CDLLONGLEGGEDDOJI.Tpo -c ta_CDLLONGLEGGEDDOJI.c  -fPIC -DPIC -o .libs/ta_CDLLONGLEGGEDDOJI.o\n",
            " gcc -DHAVE_CONFIG_H -I. -I../../include -I../ta_common/ -g -O2 -MT ta_CDLLONGLEGGEDDOJI.lo -MD -MP -MF .deps/ta_CDLLONGLEGGEDDOJI.Tpo -c ta_CDLLONGLEGGEDDOJI.c -o ta_CDLLONGLEGGEDDOJI.o >/dev/null 2>&1\n",
            "mv -f .deps/ta_CDLLONGLEGGEDDOJI.Tpo .deps/ta_CDLLONGLEGGEDDOJI.Plo\n",
            "/bin/bash ../../libtool --tag=CC   --mode=compile gcc -DHAVE_CONFIG_H -I. -I../../include  -I../ta_common/   -g -O2 -MT ta_CDLLONGLINE.lo -MD -MP -MF .deps/ta_CDLLONGLINE.Tpo -c -o ta_CDLLONGLINE.lo ta_CDLLONGLINE.c\n",
            " gcc -DHAVE_CONFIG_H -I. -I../../include -I../ta_common/ -g -O2 -MT ta_CDLLONGLINE.lo -MD -MP -MF .deps/ta_CDLLONGLINE.Tpo -c ta_CDLLONGLINE.c  -fPIC -DPIC -o .libs/ta_CDLLONGLINE.o\n",
            " gcc -DHAVE_CONFIG_H -I. -I../../include -I../ta_common/ -g -O2 -MT ta_CDLLONGLINE.lo -MD -MP -MF .deps/ta_CDLLONGLINE.Tpo -c ta_CDLLONGLINE.c -o ta_CDLLONGLINE.o >/dev/null 2>&1\n",
            "mv -f .deps/ta_CDLLONGLINE.Tpo .deps/ta_CDLLONGLINE.Plo\n",
            "/bin/bash ../../libtool --tag=CC   --mode=compile gcc -DHAVE_CONFIG_H -I. -I../../include  -I../ta_common/   -g -O2 -MT ta_CDLMARUBOZU.lo -MD -MP -MF .deps/ta_CDLMARUBOZU.Tpo -c -o ta_CDLMARUBOZU.lo ta_CDLMARUBOZU.c\n",
            " gcc -DHAVE_CONFIG_H -I. -I../../include -I../ta_common/ -g -O2 -MT ta_CDLMARUBOZU.lo -MD -MP -MF .deps/ta_CDLMARUBOZU.Tpo -c ta_CDLMARUBOZU.c  -fPIC -DPIC -o .libs/ta_CDLMARUBOZU.o\n",
            " gcc -DHAVE_CONFIG_H -I. -I../../include -I../ta_common/ -g -O2 -MT ta_CDLMARUBOZU.lo -MD -MP -MF .deps/ta_CDLMARUBOZU.Tpo -c ta_CDLMARUBOZU.c -o ta_CDLMARUBOZU.o >/dev/null 2>&1\n",
            "mv -f .deps/ta_CDLMARUBOZU.Tpo .deps/ta_CDLMARUBOZU.Plo\n",
            "/bin/bash ../../libtool --tag=CC   --mode=compile gcc -DHAVE_CONFIG_H -I. -I../../include  -I../ta_common/   -g -O2 -MT ta_CDLMATCHINGLOW.lo -MD -MP -MF .deps/ta_CDLMATCHINGLOW.Tpo -c -o ta_CDLMATCHINGLOW.lo ta_CDLMATCHINGLOW.c\n",
            " gcc -DHAVE_CONFIG_H -I. -I../../include -I../ta_common/ -g -O2 -MT ta_CDLMATCHINGLOW.lo -MD -MP -MF .deps/ta_CDLMATCHINGLOW.Tpo -c ta_CDLMATCHINGLOW.c  -fPIC -DPIC -o .libs/ta_CDLMATCHINGLOW.o\n",
            " gcc -DHAVE_CONFIG_H -I. -I../../include -I../ta_common/ -g -O2 -MT ta_CDLMATCHINGLOW.lo -MD -MP -MF .deps/ta_CDLMATCHINGLOW.Tpo -c ta_CDLMATCHINGLOW.c -o ta_CDLMATCHINGLOW.o >/dev/null 2>&1\n",
            "mv -f .deps/ta_CDLMATCHINGLOW.Tpo .deps/ta_CDLMATCHINGLOW.Plo\n",
            "/bin/bash ../../libtool --tag=CC   --mode=compile gcc -DHAVE_CONFIG_H -I. -I../../include  -I../ta_common/   -g -O2 -MT ta_CDLMATHOLD.lo -MD -MP -MF .deps/ta_CDLMATHOLD.Tpo -c -o ta_CDLMATHOLD.lo ta_CDLMATHOLD.c\n",
            " gcc -DHAVE_CONFIG_H -I. -I../../include -I../ta_common/ -g -O2 -MT ta_CDLMATHOLD.lo -MD -MP -MF .deps/ta_CDLMATHOLD.Tpo -c ta_CDLMATHOLD.c  -fPIC -DPIC -o .libs/ta_CDLMATHOLD.o\n",
            " gcc -DHAVE_CONFIG_H -I. -I../../include -I../ta_common/ -g -O2 -MT ta_CDLMATHOLD.lo -MD -MP -MF .deps/ta_CDLMATHOLD.Tpo -c ta_CDLMATHOLD.c -o ta_CDLMATHOLD.o >/dev/null 2>&1\n",
            "mv -f .deps/ta_CDLMATHOLD.Tpo .deps/ta_CDLMATHOLD.Plo\n",
            "/bin/bash ../../libtool --tag=CC   --mode=compile gcc -DHAVE_CONFIG_H -I. -I../../include  -I../ta_common/   -g -O2 -MT ta_CDLMORNINGDOJISTAR.lo -MD -MP -MF .deps/ta_CDLMORNINGDOJISTAR.Tpo -c -o ta_CDLMORNINGDOJISTAR.lo ta_CDLMORNINGDOJISTAR.c\n",
            " gcc -DHAVE_CONFIG_H -I. -I../../include -I../ta_common/ -g -O2 -MT ta_CDLMORNINGDOJISTAR.lo -MD -MP -MF .deps/ta_CDLMORNINGDOJISTAR.Tpo -c ta_CDLMORNINGDOJISTAR.c  -fPIC -DPIC -o .libs/ta_CDLMORNINGDOJISTAR.o\n",
            " gcc -DHAVE_CONFIG_H -I. -I../../include -I../ta_common/ -g -O2 -MT ta_CDLMORNINGDOJISTAR.lo -MD -MP -MF .deps/ta_CDLMORNINGDOJISTAR.Tpo -c ta_CDLMORNINGDOJISTAR.c -o ta_CDLMORNINGDOJISTAR.o >/dev/null 2>&1\n",
            "mv -f .deps/ta_CDLMORNINGDOJISTAR.Tpo .deps/ta_CDLMORNINGDOJISTAR.Plo\n",
            "/bin/bash ../../libtool --tag=CC   --mode=compile gcc -DHAVE_CONFIG_H -I. -I../../include  -I../ta_common/   -g -O2 -MT ta_CDLMORNINGSTAR.lo -MD -MP -MF .deps/ta_CDLMORNINGSTAR.Tpo -c -o ta_CDLMORNINGSTAR.lo ta_CDLMORNINGSTAR.c\n",
            " gcc -DHAVE_CONFIG_H -I. -I../../include -I../ta_common/ -g -O2 -MT ta_CDLMORNINGSTAR.lo -MD -MP -MF .deps/ta_CDLMORNINGSTAR.Tpo -c ta_CDLMORNINGSTAR.c  -fPIC -DPIC -o .libs/ta_CDLMORNINGSTAR.o\n",
            " gcc -DHAVE_CONFIG_H -I. -I../../include -I../ta_common/ -g -O2 -MT ta_CDLMORNINGSTAR.lo -MD -MP -MF .deps/ta_CDLMORNINGSTAR.Tpo -c ta_CDLMORNINGSTAR.c -o ta_CDLMORNINGSTAR.o >/dev/null 2>&1\n",
            "mv -f .deps/ta_CDLMORNINGSTAR.Tpo .deps/ta_CDLMORNINGSTAR.Plo\n",
            "/bin/bash ../../libtool --tag=CC   --mode=compile gcc -DHAVE_CONFIG_H -I. -I../../include  -I../ta_common/   -g -O2 -MT ta_CDLONNECK.lo -MD -MP -MF .deps/ta_CDLONNECK.Tpo -c -o ta_CDLONNECK.lo ta_CDLONNECK.c\n",
            " gcc -DHAVE_CONFIG_H -I. -I../../include -I../ta_common/ -g -O2 -MT ta_CDLONNECK.lo -MD -MP -MF .deps/ta_CDLONNECK.Tpo -c ta_CDLONNECK.c  -fPIC -DPIC -o .libs/ta_CDLONNECK.o\n",
            " gcc -DHAVE_CONFIG_H -I. -I../../include -I../ta_common/ -g -O2 -MT ta_CDLONNECK.lo -MD -MP -MF .deps/ta_CDLONNECK.Tpo -c ta_CDLONNECK.c -o ta_CDLONNECK.o >/dev/null 2>&1\n",
            "mv -f .deps/ta_CDLONNECK.Tpo .deps/ta_CDLONNECK.Plo\n",
            "/bin/bash ../../libtool --tag=CC   --mode=compile gcc -DHAVE_CONFIG_H -I. -I../../include  -I../ta_common/   -g -O2 -MT ta_CDLPIERCING.lo -MD -MP -MF .deps/ta_CDLPIERCING.Tpo -c -o ta_CDLPIERCING.lo ta_CDLPIERCING.c\n",
            " gcc -DHAVE_CONFIG_H -I. -I../../include -I../ta_common/ -g -O2 -MT ta_CDLPIERCING.lo -MD -MP -MF .deps/ta_CDLPIERCING.Tpo -c ta_CDLPIERCING.c  -fPIC -DPIC -o .libs/ta_CDLPIERCING.o\n",
            " gcc -DHAVE_CONFIG_H -I. -I../../include -I../ta_common/ -g -O2 -MT ta_CDLPIERCING.lo -MD -MP -MF .deps/ta_CDLPIERCING.Tpo -c ta_CDLPIERCING.c -o ta_CDLPIERCING.o >/dev/null 2>&1\n",
            "mv -f .deps/ta_CDLPIERCING.Tpo .deps/ta_CDLPIERCING.Plo\n",
            "/bin/bash ../../libtool --tag=CC   --mode=compile gcc -DHAVE_CONFIG_H -I. -I../../include  -I../ta_common/   -g -O2 -MT ta_CDLRICKSHAWMAN.lo -MD -MP -MF .deps/ta_CDLRICKSHAWMAN.Tpo -c -o ta_CDLRICKSHAWMAN.lo ta_CDLRICKSHAWMAN.c\n",
            " gcc -DHAVE_CONFIG_H -I. -I../../include -I../ta_common/ -g -O2 -MT ta_CDLRICKSHAWMAN.lo -MD -MP -MF .deps/ta_CDLRICKSHAWMAN.Tpo -c ta_CDLRICKSHAWMAN.c  -fPIC -DPIC -o .libs/ta_CDLRICKSHAWMAN.o\n",
            " gcc -DHAVE_CONFIG_H -I. -I../../include -I../ta_common/ -g -O2 -MT ta_CDLRICKSHAWMAN.lo -MD -MP -MF .deps/ta_CDLRICKSHAWMAN.Tpo -c ta_CDLRICKSHAWMAN.c -o ta_CDLRICKSHAWMAN.o >/dev/null 2>&1\n",
            "mv -f .deps/ta_CDLRICKSHAWMAN.Tpo .deps/ta_CDLRICKSHAWMAN.Plo\n",
            "/bin/bash ../../libtool --tag=CC   --mode=compile gcc -DHAVE_CONFIG_H -I. -I../../include  -I../ta_common/   -g -O2 -MT ta_CDLRISEFALL3METHODS.lo -MD -MP -MF .deps/ta_CDLRISEFALL3METHODS.Tpo -c -o ta_CDLRISEFALL3METHODS.lo ta_CDLRISEFALL3METHODS.c\n",
            " gcc -DHAVE_CONFIG_H -I. -I../../include -I../ta_common/ -g -O2 -MT ta_CDLRISEFALL3METHODS.lo -MD -MP -MF .deps/ta_CDLRISEFALL3METHODS.Tpo -c ta_CDLRISEFALL3METHODS.c  -fPIC -DPIC -o .libs/ta_CDLRISEFALL3METHODS.o\n",
            " gcc -DHAVE_CONFIG_H -I. -I../../include -I../ta_common/ -g -O2 -MT ta_CDLRISEFALL3METHODS.lo -MD -MP -MF .deps/ta_CDLRISEFALL3METHODS.Tpo -c ta_CDLRISEFALL3METHODS.c -o ta_CDLRISEFALL3METHODS.o >/dev/null 2>&1\n",
            "mv -f .deps/ta_CDLRISEFALL3METHODS.Tpo .deps/ta_CDLRISEFALL3METHODS.Plo\n",
            "/bin/bash ../../libtool --tag=CC   --mode=compile gcc -DHAVE_CONFIG_H -I. -I../../include  -I../ta_common/   -g -O2 -MT ta_CDLSEPARATINGLINES.lo -MD -MP -MF .deps/ta_CDLSEPARATINGLINES.Tpo -c -o ta_CDLSEPARATINGLINES.lo ta_CDLSEPARATINGLINES.c\n",
            " gcc -DHAVE_CONFIG_H -I. -I../../include -I../ta_common/ -g -O2 -MT ta_CDLSEPARATINGLINES.lo -MD -MP -MF .deps/ta_CDLSEPARATINGLINES.Tpo -c ta_CDLSEPARATINGLINES.c  -fPIC -DPIC -o .libs/ta_CDLSEPARATINGLINES.o\n",
            " gcc -DHAVE_CONFIG_H -I. -I../../include -I../ta_common/ -g -O2 -MT ta_CDLSEPARATINGLINES.lo -MD -MP -MF .deps/ta_CDLSEPARATINGLINES.Tpo -c ta_CDLSEPARATINGLINES.c -o ta_CDLSEPARATINGLINES.o >/dev/null 2>&1\n",
            "mv -f .deps/ta_CDLSEPARATINGLINES.Tpo .deps/ta_CDLSEPARATINGLINES.Plo\n",
            "/bin/bash ../../libtool --tag=CC   --mode=compile gcc -DHAVE_CONFIG_H -I. -I../../include  -I../ta_common/   -g -O2 -MT ta_CDLSHOOTINGSTAR.lo -MD -MP -MF .deps/ta_CDLSHOOTINGSTAR.Tpo -c -o ta_CDLSHOOTINGSTAR.lo ta_CDLSHOOTINGSTAR.c\n",
            " gcc -DHAVE_CONFIG_H -I. -I../../include -I../ta_common/ -g -O2 -MT ta_CDLSHOOTINGSTAR.lo -MD -MP -MF .deps/ta_CDLSHOOTINGSTAR.Tpo -c ta_CDLSHOOTINGSTAR.c  -fPIC -DPIC -o .libs/ta_CDLSHOOTINGSTAR.o\n",
            " gcc -DHAVE_CONFIG_H -I. -I../../include -I../ta_common/ -g -O2 -MT ta_CDLSHOOTINGSTAR.lo -MD -MP -MF .deps/ta_CDLSHOOTINGSTAR.Tpo -c ta_CDLSHOOTINGSTAR.c -o ta_CDLSHOOTINGSTAR.o >/dev/null 2>&1\n",
            "mv -f .deps/ta_CDLSHOOTINGSTAR.Tpo .deps/ta_CDLSHOOTINGSTAR.Plo\n",
            "/bin/bash ../../libtool --tag=CC   --mode=compile gcc -DHAVE_CONFIG_H -I. -I../../include  -I../ta_common/   -g -O2 -MT ta_CDLSHORTLINE.lo -MD -MP -MF .deps/ta_CDLSHORTLINE.Tpo -c -o ta_CDLSHORTLINE.lo ta_CDLSHORTLINE.c\n",
            " gcc -DHAVE_CONFIG_H -I. -I../../include -I../ta_common/ -g -O2 -MT ta_CDLSHORTLINE.lo -MD -MP -MF .deps/ta_CDLSHORTLINE.Tpo -c ta_CDLSHORTLINE.c  -fPIC -DPIC -o .libs/ta_CDLSHORTLINE.o\n",
            " gcc -DHAVE_CONFIG_H -I. -I../../include -I../ta_common/ -g -O2 -MT ta_CDLSHORTLINE.lo -MD -MP -MF .deps/ta_CDLSHORTLINE.Tpo -c ta_CDLSHORTLINE.c -o ta_CDLSHORTLINE.o >/dev/null 2>&1\n",
            "mv -f .deps/ta_CDLSHORTLINE.Tpo .deps/ta_CDLSHORTLINE.Plo\n",
            "/bin/bash ../../libtool --tag=CC   --mode=compile gcc -DHAVE_CONFIG_H -I. -I../../include  -I../ta_common/   -g -O2 -MT ta_CDLSPINNINGTOP.lo -MD -MP -MF .deps/ta_CDLSPINNINGTOP.Tpo -c -o ta_CDLSPINNINGTOP.lo ta_CDLSPINNINGTOP.c\n",
            " gcc -DHAVE_CONFIG_H -I. -I../../include -I../ta_common/ -g -O2 -MT ta_CDLSPINNINGTOP.lo -MD -MP -MF .deps/ta_CDLSPINNINGTOP.Tpo -c ta_CDLSPINNINGTOP.c  -fPIC -DPIC -o .libs/ta_CDLSPINNINGTOP.o\n",
            " gcc -DHAVE_CONFIG_H -I. -I../../include -I../ta_common/ -g -O2 -MT ta_CDLSPINNINGTOP.lo -MD -MP -MF .deps/ta_CDLSPINNINGTOP.Tpo -c ta_CDLSPINNINGTOP.c -o ta_CDLSPINNINGTOP.o >/dev/null 2>&1\n",
            "mv -f .deps/ta_CDLSPINNINGTOP.Tpo .deps/ta_CDLSPINNINGTOP.Plo\n",
            "/bin/bash ../../libtool --tag=CC   --mode=compile gcc -DHAVE_CONFIG_H -I. -I../../include  -I../ta_common/   -g -O2 -MT ta_CDLSTALLEDPATTERN.lo -MD -MP -MF .deps/ta_CDLSTALLEDPATTERN.Tpo -c -o ta_CDLSTALLEDPATTERN.lo ta_CDLSTALLEDPATTERN.c\n",
            " gcc -DHAVE_CONFIG_H -I. -I../../include -I../ta_common/ -g -O2 -MT ta_CDLSTALLEDPATTERN.lo -MD -MP -MF .deps/ta_CDLSTALLEDPATTERN.Tpo -c ta_CDLSTALLEDPATTERN.c  -fPIC -DPIC -o .libs/ta_CDLSTALLEDPATTERN.o\n",
            " gcc -DHAVE_CONFIG_H -I. -I../../include -I../ta_common/ -g -O2 -MT ta_CDLSTALLEDPATTERN.lo -MD -MP -MF .deps/ta_CDLSTALLEDPATTERN.Tpo -c ta_CDLSTALLEDPATTERN.c -o ta_CDLSTALLEDPATTERN.o >/dev/null 2>&1\n",
            "mv -f .deps/ta_CDLSTALLEDPATTERN.Tpo .deps/ta_CDLSTALLEDPATTERN.Plo\n",
            "/bin/bash ../../libtool --tag=CC   --mode=compile gcc -DHAVE_CONFIG_H -I. -I../../include  -I../ta_common/   -g -O2 -MT ta_CDLSTICKSANDWICH.lo -MD -MP -MF .deps/ta_CDLSTICKSANDWICH.Tpo -c -o ta_CDLSTICKSANDWICH.lo ta_CDLSTICKSANDWICH.c\n",
            " gcc -DHAVE_CONFIG_H -I. -I../../include -I../ta_common/ -g -O2 -MT ta_CDLSTICKSANDWICH.lo -MD -MP -MF .deps/ta_CDLSTICKSANDWICH.Tpo -c ta_CDLSTICKSANDWICH.c  -fPIC -DPIC -o .libs/ta_CDLSTICKSANDWICH.o\n",
            " gcc -DHAVE_CONFIG_H -I. -I../../include -I../ta_common/ -g -O2 -MT ta_CDLSTICKSANDWICH.lo -MD -MP -MF .deps/ta_CDLSTICKSANDWICH.Tpo -c ta_CDLSTICKSANDWICH.c -o ta_CDLSTICKSANDWICH.o >/dev/null 2>&1\n",
            "mv -f .deps/ta_CDLSTICKSANDWICH.Tpo .deps/ta_CDLSTICKSANDWICH.Plo\n",
            "/bin/bash ../../libtool --tag=CC   --mode=compile gcc -DHAVE_CONFIG_H -I. -I../../include  -I../ta_common/   -g -O2 -MT ta_CDLTAKURI.lo -MD -MP -MF .deps/ta_CDLTAKURI.Tpo -c -o ta_CDLTAKURI.lo ta_CDLTAKURI.c\n",
            " gcc -DHAVE_CONFIG_H -I. -I../../include -I../ta_common/ -g -O2 -MT ta_CDLTAKURI.lo -MD -MP -MF .deps/ta_CDLTAKURI.Tpo -c ta_CDLTAKURI.c  -fPIC -DPIC -o .libs/ta_CDLTAKURI.o\n",
            " gcc -DHAVE_CONFIG_H -I. -I../../include -I../ta_common/ -g -O2 -MT ta_CDLTAKURI.lo -MD -MP -MF .deps/ta_CDLTAKURI.Tpo -c ta_CDLTAKURI.c -o ta_CDLTAKURI.o >/dev/null 2>&1\n",
            "mv -f .deps/ta_CDLTAKURI.Tpo .deps/ta_CDLTAKURI.Plo\n",
            "/bin/bash ../../libtool --tag=CC   --mode=compile gcc -DHAVE_CONFIG_H -I. -I../../include  -I../ta_common/   -g -O2 -MT ta_CDLTASUKIGAP.lo -MD -MP -MF .deps/ta_CDLTASUKIGAP.Tpo -c -o ta_CDLTASUKIGAP.lo ta_CDLTASUKIGAP.c\n",
            " gcc -DHAVE_CONFIG_H -I. -I../../include -I../ta_common/ -g -O2 -MT ta_CDLTASUKIGAP.lo -MD -MP -MF .deps/ta_CDLTASUKIGAP.Tpo -c ta_CDLTASUKIGAP.c  -fPIC -DPIC -o .libs/ta_CDLTASUKIGAP.o\n",
            " gcc -DHAVE_CONFIG_H -I. -I../../include -I../ta_common/ -g -O2 -MT ta_CDLTASUKIGAP.lo -MD -MP -MF .deps/ta_CDLTASUKIGAP.Tpo -c ta_CDLTASUKIGAP.c -o ta_CDLTASUKIGAP.o >/dev/null 2>&1\n",
            "mv -f .deps/ta_CDLTASUKIGAP.Tpo .deps/ta_CDLTASUKIGAP.Plo\n",
            "/bin/bash ../../libtool --tag=CC   --mode=compile gcc -DHAVE_CONFIG_H -I. -I../../include  -I../ta_common/   -g -O2 -MT ta_CDLTHRUSTING.lo -MD -MP -MF .deps/ta_CDLTHRUSTING.Tpo -c -o ta_CDLTHRUSTING.lo ta_CDLTHRUSTING.c\n",
            " gcc -DHAVE_CONFIG_H -I. -I../../include -I../ta_common/ -g -O2 -MT ta_CDLTHRUSTING.lo -MD -MP -MF .deps/ta_CDLTHRUSTING.Tpo -c ta_CDLTHRUSTING.c  -fPIC -DPIC -o .libs/ta_CDLTHRUSTING.o\n",
            " gcc -DHAVE_CONFIG_H -I. -I../../include -I../ta_common/ -g -O2 -MT ta_CDLTHRUSTING.lo -MD -MP -MF .deps/ta_CDLTHRUSTING.Tpo -c ta_CDLTHRUSTING.c -o ta_CDLTHRUSTING.o >/dev/null 2>&1\n",
            "mv -f .deps/ta_CDLTHRUSTING.Tpo .deps/ta_CDLTHRUSTING.Plo\n",
            "/bin/bash ../../libtool --tag=CC   --mode=compile gcc -DHAVE_CONFIG_H -I. -I../../include  -I../ta_common/   -g -O2 -MT ta_CDLTRISTAR.lo -MD -MP -MF .deps/ta_CDLTRISTAR.Tpo -c -o ta_CDLTRISTAR.lo ta_CDLTRISTAR.c\n",
            " gcc -DHAVE_CONFIG_H -I. -I../../include -I../ta_common/ -g -O2 -MT ta_CDLTRISTAR.lo -MD -MP -MF .deps/ta_CDLTRISTAR.Tpo -c ta_CDLTRISTAR.c  -fPIC -DPIC -o .libs/ta_CDLTRISTAR.o\n",
            " gcc -DHAVE_CONFIG_H -I. -I../../include -I../ta_common/ -g -O2 -MT ta_CDLTRISTAR.lo -MD -MP -MF .deps/ta_CDLTRISTAR.Tpo -c ta_CDLTRISTAR.c -o ta_CDLTRISTAR.o >/dev/null 2>&1\n",
            "mv -f .deps/ta_CDLTRISTAR.Tpo .deps/ta_CDLTRISTAR.Plo\n",
            "/bin/bash ../../libtool --tag=CC   --mode=compile gcc -DHAVE_CONFIG_H -I. -I../../include  -I../ta_common/   -g -O2 -MT ta_CDLUNIQUE3RIVER.lo -MD -MP -MF .deps/ta_CDLUNIQUE3RIVER.Tpo -c -o ta_CDLUNIQUE3RIVER.lo ta_CDLUNIQUE3RIVER.c\n",
            " gcc -DHAVE_CONFIG_H -I. -I../../include -I../ta_common/ -g -O2 -MT ta_CDLUNIQUE3RIVER.lo -MD -MP -MF .deps/ta_CDLUNIQUE3RIVER.Tpo -c ta_CDLUNIQUE3RIVER.c  -fPIC -DPIC -o .libs/ta_CDLUNIQUE3RIVER.o\n",
            " gcc -DHAVE_CONFIG_H -I. -I../../include -I../ta_common/ -g -O2 -MT ta_CDLUNIQUE3RIVER.lo -MD -MP -MF .deps/ta_CDLUNIQUE3RIVER.Tpo -c ta_CDLUNIQUE3RIVER.c -o ta_CDLUNIQUE3RIVER.o >/dev/null 2>&1\n",
            "mv -f .deps/ta_CDLUNIQUE3RIVER.Tpo .deps/ta_CDLUNIQUE3RIVER.Plo\n",
            "/bin/bash ../../libtool --tag=CC   --mode=compile gcc -DHAVE_CONFIG_H -I. -I../../include  -I../ta_common/   -g -O2 -MT ta_CDLUPSIDEGAP2CROWS.lo -MD -MP -MF .deps/ta_CDLUPSIDEGAP2CROWS.Tpo -c -o ta_CDLUPSIDEGAP2CROWS.lo ta_CDLUPSIDEGAP2CROWS.c\n",
            " gcc -DHAVE_CONFIG_H -I. -I../../include -I../ta_common/ -g -O2 -MT ta_CDLUPSIDEGAP2CROWS.lo -MD -MP -MF .deps/ta_CDLUPSIDEGAP2CROWS.Tpo -c ta_CDLUPSIDEGAP2CROWS.c  -fPIC -DPIC -o .libs/ta_CDLUPSIDEGAP2CROWS.o\n",
            " gcc -DHAVE_CONFIG_H -I. -I../../include -I../ta_common/ -g -O2 -MT ta_CDLUPSIDEGAP2CROWS.lo -MD -MP -MF .deps/ta_CDLUPSIDEGAP2CROWS.Tpo -c ta_CDLUPSIDEGAP2CROWS.c -o ta_CDLUPSIDEGAP2CROWS.o >/dev/null 2>&1\n",
            "mv -f .deps/ta_CDLUPSIDEGAP2CROWS.Tpo .deps/ta_CDLUPSIDEGAP2CROWS.Plo\n",
            "/bin/bash ../../libtool --tag=CC   --mode=compile gcc -DHAVE_CONFIG_H -I. -I../../include  -I../ta_common/   -g -O2 -MT ta_CDLXSIDEGAP3METHODS.lo -MD -MP -MF .deps/ta_CDLXSIDEGAP3METHODS.Tpo -c -o ta_CDLXSIDEGAP3METHODS.lo ta_CDLXSIDEGAP3METHODS.c\n",
            " gcc -DHAVE_CONFIG_H -I. -I../../include -I../ta_common/ -g -O2 -MT ta_CDLXSIDEGAP3METHODS.lo -MD -MP -MF .deps/ta_CDLXSIDEGAP3METHODS.Tpo -c ta_CDLXSIDEGAP3METHODS.c  -fPIC -DPIC -o .libs/ta_CDLXSIDEGAP3METHODS.o\n",
            " gcc -DHAVE_CONFIG_H -I. -I../../include -I../ta_common/ -g -O2 -MT ta_CDLXSIDEGAP3METHODS.lo -MD -MP -MF .deps/ta_CDLXSIDEGAP3METHODS.Tpo -c ta_CDLXSIDEGAP3METHODS.c -o ta_CDLXSIDEGAP3METHODS.o >/dev/null 2>&1\n",
            "mv -f .deps/ta_CDLXSIDEGAP3METHODS.Tpo .deps/ta_CDLXSIDEGAP3METHODS.Plo\n",
            "/bin/bash ../../libtool --tag=CC   --mode=compile gcc -DHAVE_CONFIG_H -I. -I../../include  -I../ta_common/   -g -O2 -MT ta_CEIL.lo -MD -MP -MF .deps/ta_CEIL.Tpo -c -o ta_CEIL.lo ta_CEIL.c\n",
            " gcc -DHAVE_CONFIG_H -I. -I../../include -I../ta_common/ -g -O2 -MT ta_CEIL.lo -MD -MP -MF .deps/ta_CEIL.Tpo -c ta_CEIL.c  -fPIC -DPIC -o .libs/ta_CEIL.o\n",
            " gcc -DHAVE_CONFIG_H -I. -I../../include -I../ta_common/ -g -O2 -MT ta_CEIL.lo -MD -MP -MF .deps/ta_CEIL.Tpo -c ta_CEIL.c -o ta_CEIL.o >/dev/null 2>&1\n",
            "mv -f .deps/ta_CEIL.Tpo .deps/ta_CEIL.Plo\n",
            "/bin/bash ../../libtool --tag=CC   --mode=compile gcc -DHAVE_CONFIG_H -I. -I../../include  -I../ta_common/   -g -O2 -MT ta_CMO.lo -MD -MP -MF .deps/ta_CMO.Tpo -c -o ta_CMO.lo ta_CMO.c\n",
            " gcc -DHAVE_CONFIG_H -I. -I../../include -I../ta_common/ -g -O2 -MT ta_CMO.lo -MD -MP -MF .deps/ta_CMO.Tpo -c ta_CMO.c  -fPIC -DPIC -o .libs/ta_CMO.o\n",
            " gcc -DHAVE_CONFIG_H -I. -I../../include -I../ta_common/ -g -O2 -MT ta_CMO.lo -MD -MP -MF .deps/ta_CMO.Tpo -c ta_CMO.c -o ta_CMO.o >/dev/null 2>&1\n",
            "mv -f .deps/ta_CMO.Tpo .deps/ta_CMO.Plo\n",
            "/bin/bash ../../libtool --tag=CC   --mode=compile gcc -DHAVE_CONFIG_H -I. -I../../include  -I../ta_common/   -g -O2 -MT ta_CORREL.lo -MD -MP -MF .deps/ta_CORREL.Tpo -c -o ta_CORREL.lo ta_CORREL.c\n",
            " gcc -DHAVE_CONFIG_H -I. -I../../include -I../ta_common/ -g -O2 -MT ta_CORREL.lo -MD -MP -MF .deps/ta_CORREL.Tpo -c ta_CORREL.c  -fPIC -DPIC -o .libs/ta_CORREL.o\n",
            " gcc -DHAVE_CONFIG_H -I. -I../../include -I../ta_common/ -g -O2 -MT ta_CORREL.lo -MD -MP -MF .deps/ta_CORREL.Tpo -c ta_CORREL.c -o ta_CORREL.o >/dev/null 2>&1\n",
            "mv -f .deps/ta_CORREL.Tpo .deps/ta_CORREL.Plo\n",
            "/bin/bash ../../libtool --tag=CC   --mode=compile gcc -DHAVE_CONFIG_H -I. -I../../include  -I../ta_common/   -g -O2 -MT ta_COS.lo -MD -MP -MF .deps/ta_COS.Tpo -c -o ta_COS.lo ta_COS.c\n",
            " gcc -DHAVE_CONFIG_H -I. -I../../include -I../ta_common/ -g -O2 -MT ta_COS.lo -MD -MP -MF .deps/ta_COS.Tpo -c ta_COS.c  -fPIC -DPIC -o .libs/ta_COS.o\n",
            " gcc -DHAVE_CONFIG_H -I. -I../../include -I../ta_common/ -g -O2 -MT ta_COS.lo -MD -MP -MF .deps/ta_COS.Tpo -c ta_COS.c -o ta_COS.o >/dev/null 2>&1\n",
            "mv -f .deps/ta_COS.Tpo .deps/ta_COS.Plo\n",
            "/bin/bash ../../libtool --tag=CC   --mode=compile gcc -DHAVE_CONFIG_H -I. -I../../include  -I../ta_common/   -g -O2 -MT ta_COSH.lo -MD -MP -MF .deps/ta_COSH.Tpo -c -o ta_COSH.lo ta_COSH.c\n",
            " gcc -DHAVE_CONFIG_H -I. -I../../include -I../ta_common/ -g -O2 -MT ta_COSH.lo -MD -MP -MF .deps/ta_COSH.Tpo -c ta_COSH.c  -fPIC -DPIC -o .libs/ta_COSH.o\n",
            " gcc -DHAVE_CONFIG_H -I. -I../../include -I../ta_common/ -g -O2 -MT ta_COSH.lo -MD -MP -MF .deps/ta_COSH.Tpo -c ta_COSH.c -o ta_COSH.o >/dev/null 2>&1\n",
            "mv -f .deps/ta_COSH.Tpo .deps/ta_COSH.Plo\n",
            "/bin/bash ../../libtool --tag=CC   --mode=compile gcc -DHAVE_CONFIG_H -I. -I../../include  -I../ta_common/   -g -O2 -MT ta_DEMA.lo -MD -MP -MF .deps/ta_DEMA.Tpo -c -o ta_DEMA.lo ta_DEMA.c\n",
            " gcc -DHAVE_CONFIG_H -I. -I../../include -I../ta_common/ -g -O2 -MT ta_DEMA.lo -MD -MP -MF .deps/ta_DEMA.Tpo -c ta_DEMA.c  -fPIC -DPIC -o .libs/ta_DEMA.o\n",
            " gcc -DHAVE_CONFIG_H -I. -I../../include -I../ta_common/ -g -O2 -MT ta_DEMA.lo -MD -MP -MF .deps/ta_DEMA.Tpo -c ta_DEMA.c -o ta_DEMA.o >/dev/null 2>&1\n",
            "mv -f .deps/ta_DEMA.Tpo .deps/ta_DEMA.Plo\n",
            "/bin/bash ../../libtool --tag=CC   --mode=compile gcc -DHAVE_CONFIG_H -I. -I../../include  -I../ta_common/   -g -O2 -MT ta_DIV.lo -MD -MP -MF .deps/ta_DIV.Tpo -c -o ta_DIV.lo ta_DIV.c\n",
            " gcc -DHAVE_CONFIG_H -I. -I../../include -I../ta_common/ -g -O2 -MT ta_DIV.lo -MD -MP -MF .deps/ta_DIV.Tpo -c ta_DIV.c  -fPIC -DPIC -o .libs/ta_DIV.o\n",
            " gcc -DHAVE_CONFIG_H -I. -I../../include -I../ta_common/ -g -O2 -MT ta_DIV.lo -MD -MP -MF .deps/ta_DIV.Tpo -c ta_DIV.c -o ta_DIV.o >/dev/null 2>&1\n",
            "mv -f .deps/ta_DIV.Tpo .deps/ta_DIV.Plo\n",
            "/bin/bash ../../libtool --tag=CC   --mode=compile gcc -DHAVE_CONFIG_H -I. -I../../include  -I../ta_common/   -g -O2 -MT ta_DX.lo -MD -MP -MF .deps/ta_DX.Tpo -c -o ta_DX.lo ta_DX.c\n",
            " gcc -DHAVE_CONFIG_H -I. -I../../include -I../ta_common/ -g -O2 -MT ta_DX.lo -MD -MP -MF .deps/ta_DX.Tpo -c ta_DX.c  -fPIC -DPIC -o .libs/ta_DX.o\n",
            " gcc -DHAVE_CONFIG_H -I. -I../../include -I../ta_common/ -g -O2 -MT ta_DX.lo -MD -MP -MF .deps/ta_DX.Tpo -c ta_DX.c -o ta_DX.o >/dev/null 2>&1\n",
            "mv -f .deps/ta_DX.Tpo .deps/ta_DX.Plo\n",
            "/bin/bash ../../libtool --tag=CC   --mode=compile gcc -DHAVE_CONFIG_H -I. -I../../include  -I../ta_common/   -g -O2 -MT ta_EMA.lo -MD -MP -MF .deps/ta_EMA.Tpo -c -o ta_EMA.lo ta_EMA.c\n",
            " gcc -DHAVE_CONFIG_H -I. -I../../include -I../ta_common/ -g -O2 -MT ta_EMA.lo -MD -MP -MF .deps/ta_EMA.Tpo -c ta_EMA.c  -fPIC -DPIC -o .libs/ta_EMA.o\n",
            " gcc -DHAVE_CONFIG_H -I. -I../../include -I../ta_common/ -g -O2 -MT ta_EMA.lo -MD -MP -MF .deps/ta_EMA.Tpo -c ta_EMA.c -o ta_EMA.o >/dev/null 2>&1\n",
            "mv -f .deps/ta_EMA.Tpo .deps/ta_EMA.Plo\n",
            "/bin/bash ../../libtool --tag=CC   --mode=compile gcc -DHAVE_CONFIG_H -I. -I../../include  -I../ta_common/   -g -O2 -MT ta_EXP.lo -MD -MP -MF .deps/ta_EXP.Tpo -c -o ta_EXP.lo ta_EXP.c\n",
            " gcc -DHAVE_CONFIG_H -I. -I../../include -I../ta_common/ -g -O2 -MT ta_EXP.lo -MD -MP -MF .deps/ta_EXP.Tpo -c ta_EXP.c  -fPIC -DPIC -o .libs/ta_EXP.o\n",
            " gcc -DHAVE_CONFIG_H -I. -I../../include -I../ta_common/ -g -O2 -MT ta_EXP.lo -MD -MP -MF .deps/ta_EXP.Tpo -c ta_EXP.c -o ta_EXP.o >/dev/null 2>&1\n",
            "mv -f .deps/ta_EXP.Tpo .deps/ta_EXP.Plo\n",
            "/bin/bash ../../libtool --tag=CC   --mode=compile gcc -DHAVE_CONFIG_H -I. -I../../include  -I../ta_common/   -g -O2 -MT ta_FLOOR.lo -MD -MP -MF .deps/ta_FLOOR.Tpo -c -o ta_FLOOR.lo ta_FLOOR.c\n",
            " gcc -DHAVE_CONFIG_H -I. -I../../include -I../ta_common/ -g -O2 -MT ta_FLOOR.lo -MD -MP -MF .deps/ta_FLOOR.Tpo -c ta_FLOOR.c  -fPIC -DPIC -o .libs/ta_FLOOR.o\n",
            " gcc -DHAVE_CONFIG_H -I. -I../../include -I../ta_common/ -g -O2 -MT ta_FLOOR.lo -MD -MP -MF .deps/ta_FLOOR.Tpo -c ta_FLOOR.c -o ta_FLOOR.o >/dev/null 2>&1\n",
            "mv -f .deps/ta_FLOOR.Tpo .deps/ta_FLOOR.Plo\n",
            "/bin/bash ../../libtool --tag=CC   --mode=compile gcc -DHAVE_CONFIG_H -I. -I../../include  -I../ta_common/   -g -O2 -MT ta_HT_DCPERIOD.lo -MD -MP -MF .deps/ta_HT_DCPERIOD.Tpo -c -o ta_HT_DCPERIOD.lo ta_HT_DCPERIOD.c\n",
            " gcc -DHAVE_CONFIG_H -I. -I../../include -I../ta_common/ -g -O2 -MT ta_HT_DCPERIOD.lo -MD -MP -MF .deps/ta_HT_DCPERIOD.Tpo -c ta_HT_DCPERIOD.c  -fPIC -DPIC -o .libs/ta_HT_DCPERIOD.o\n",
            " gcc -DHAVE_CONFIG_H -I. -I../../include -I../ta_common/ -g -O2 -MT ta_HT_DCPERIOD.lo -MD -MP -MF .deps/ta_HT_DCPERIOD.Tpo -c ta_HT_DCPERIOD.c -o ta_HT_DCPERIOD.o >/dev/null 2>&1\n",
            "mv -f .deps/ta_HT_DCPERIOD.Tpo .deps/ta_HT_DCPERIOD.Plo\n",
            "/bin/bash ../../libtool --tag=CC   --mode=compile gcc -DHAVE_CONFIG_H -I. -I../../include  -I../ta_common/   -g -O2 -MT ta_HT_DCPHASE.lo -MD -MP -MF .deps/ta_HT_DCPHASE.Tpo -c -o ta_HT_DCPHASE.lo ta_HT_DCPHASE.c\n",
            " gcc -DHAVE_CONFIG_H -I. -I../../include -I../ta_common/ -g -O2 -MT ta_HT_DCPHASE.lo -MD -MP -MF .deps/ta_HT_DCPHASE.Tpo -c ta_HT_DCPHASE.c  -fPIC -DPIC -o .libs/ta_HT_DCPHASE.o\n",
            " gcc -DHAVE_CONFIG_H -I. -I../../include -I../ta_common/ -g -O2 -MT ta_HT_DCPHASE.lo -MD -MP -MF .deps/ta_HT_DCPHASE.Tpo -c ta_HT_DCPHASE.c -o ta_HT_DCPHASE.o >/dev/null 2>&1\n",
            "mv -f .deps/ta_HT_DCPHASE.Tpo .deps/ta_HT_DCPHASE.Plo\n",
            "/bin/bash ../../libtool --tag=CC   --mode=compile gcc -DHAVE_CONFIG_H -I. -I../../include  -I../ta_common/   -g -O2 -MT ta_HT_PHASOR.lo -MD -MP -MF .deps/ta_HT_PHASOR.Tpo -c -o ta_HT_PHASOR.lo ta_HT_PHASOR.c\n",
            " gcc -DHAVE_CONFIG_H -I. -I../../include -I../ta_common/ -g -O2 -MT ta_HT_PHASOR.lo -MD -MP -MF .deps/ta_HT_PHASOR.Tpo -c ta_HT_PHASOR.c  -fPIC -DPIC -o .libs/ta_HT_PHASOR.o\n",
            " gcc -DHAVE_CONFIG_H -I. -I../../include -I../ta_common/ -g -O2 -MT ta_HT_PHASOR.lo -MD -MP -MF .deps/ta_HT_PHASOR.Tpo -c ta_HT_PHASOR.c -o ta_HT_PHASOR.o >/dev/null 2>&1\n",
            "mv -f .deps/ta_HT_PHASOR.Tpo .deps/ta_HT_PHASOR.Plo\n",
            "/bin/bash ../../libtool --tag=CC   --mode=compile gcc -DHAVE_CONFIG_H -I. -I../../include  -I../ta_common/   -g -O2 -MT ta_HT_SINE.lo -MD -MP -MF .deps/ta_HT_SINE.Tpo -c -o ta_HT_SINE.lo ta_HT_SINE.c\n",
            " gcc -DHAVE_CONFIG_H -I. -I../../include -I../ta_common/ -g -O2 -MT ta_HT_SINE.lo -MD -MP -MF .deps/ta_HT_SINE.Tpo -c ta_HT_SINE.c  -fPIC -DPIC -o .libs/ta_HT_SINE.o\n",
            " gcc -DHAVE_CONFIG_H -I. -I../../include -I../ta_common/ -g -O2 -MT ta_HT_SINE.lo -MD -MP -MF .deps/ta_HT_SINE.Tpo -c ta_HT_SINE.c -o ta_HT_SINE.o >/dev/null 2>&1\n",
            "mv -f .deps/ta_HT_SINE.Tpo .deps/ta_HT_SINE.Plo\n",
            "/bin/bash ../../libtool --tag=CC   --mode=compile gcc -DHAVE_CONFIG_H -I. -I../../include  -I../ta_common/   -g -O2 -MT ta_HT_TRENDLINE.lo -MD -MP -MF .deps/ta_HT_TRENDLINE.Tpo -c -o ta_HT_TRENDLINE.lo ta_HT_TRENDLINE.c\n",
            " gcc -DHAVE_CONFIG_H -I. -I../../include -I../ta_common/ -g -O2 -MT ta_HT_TRENDLINE.lo -MD -MP -MF .deps/ta_HT_TRENDLINE.Tpo -c ta_HT_TRENDLINE.c  -fPIC -DPIC -o .libs/ta_HT_TRENDLINE.o\n",
            " gcc -DHAVE_CONFIG_H -I. -I../../include -I../ta_common/ -g -O2 -MT ta_HT_TRENDLINE.lo -MD -MP -MF .deps/ta_HT_TRENDLINE.Tpo -c ta_HT_TRENDLINE.c -o ta_HT_TRENDLINE.o >/dev/null 2>&1\n",
            "mv -f .deps/ta_HT_TRENDLINE.Tpo .deps/ta_HT_TRENDLINE.Plo\n",
            "/bin/bash ../../libtool --tag=CC   --mode=compile gcc -DHAVE_CONFIG_H -I. -I../../include  -I../ta_common/   -g -O2 -MT ta_HT_TRENDMODE.lo -MD -MP -MF .deps/ta_HT_TRENDMODE.Tpo -c -o ta_HT_TRENDMODE.lo ta_HT_TRENDMODE.c\n",
            " gcc -DHAVE_CONFIG_H -I. -I../../include -I../ta_common/ -g -O2 -MT ta_HT_TRENDMODE.lo -MD -MP -MF .deps/ta_HT_TRENDMODE.Tpo -c ta_HT_TRENDMODE.c  -fPIC -DPIC -o .libs/ta_HT_TRENDMODE.o\n",
            " gcc -DHAVE_CONFIG_H -I. -I../../include -I../ta_common/ -g -O2 -MT ta_HT_TRENDMODE.lo -MD -MP -MF .deps/ta_HT_TRENDMODE.Tpo -c ta_HT_TRENDMODE.c -o ta_HT_TRENDMODE.o >/dev/null 2>&1\n",
            "mv -f .deps/ta_HT_TRENDMODE.Tpo .deps/ta_HT_TRENDMODE.Plo\n",
            "/bin/bash ../../libtool --tag=CC   --mode=compile gcc -DHAVE_CONFIG_H -I. -I../../include  -I../ta_common/   -g -O2 -MT ta_KAMA.lo -MD -MP -MF .deps/ta_KAMA.Tpo -c -o ta_KAMA.lo ta_KAMA.c\n",
            " gcc -DHAVE_CONFIG_H -I. -I../../include -I../ta_common/ -g -O2 -MT ta_KAMA.lo -MD -MP -MF .deps/ta_KAMA.Tpo -c ta_KAMA.c  -fPIC -DPIC -o .libs/ta_KAMA.o\n",
            " gcc -DHAVE_CONFIG_H -I. -I../../include -I../ta_common/ -g -O2 -MT ta_KAMA.lo -MD -MP -MF .deps/ta_KAMA.Tpo -c ta_KAMA.c -o ta_KAMA.o >/dev/null 2>&1\n",
            "mv -f .deps/ta_KAMA.Tpo .deps/ta_KAMA.Plo\n",
            "/bin/bash ../../libtool --tag=CC   --mode=compile gcc -DHAVE_CONFIG_H -I. -I../../include  -I../ta_common/   -g -O2 -MT ta_LINEARREG.lo -MD -MP -MF .deps/ta_LINEARREG.Tpo -c -o ta_LINEARREG.lo ta_LINEARREG.c\n",
            " gcc -DHAVE_CONFIG_H -I. -I../../include -I../ta_common/ -g -O2 -MT ta_LINEARREG.lo -MD -MP -MF .deps/ta_LINEARREG.Tpo -c ta_LINEARREG.c  -fPIC -DPIC -o .libs/ta_LINEARREG.o\n",
            " gcc -DHAVE_CONFIG_H -I. -I../../include -I../ta_common/ -g -O2 -MT ta_LINEARREG.lo -MD -MP -MF .deps/ta_LINEARREG.Tpo -c ta_LINEARREG.c -o ta_LINEARREG.o >/dev/null 2>&1\n",
            "mv -f .deps/ta_LINEARREG.Tpo .deps/ta_LINEARREG.Plo\n",
            "/bin/bash ../../libtool --tag=CC   --mode=compile gcc -DHAVE_CONFIG_H -I. -I../../include  -I../ta_common/   -g -O2 -MT ta_LINEARREG_ANGLE.lo -MD -MP -MF .deps/ta_LINEARREG_ANGLE.Tpo -c -o ta_LINEARREG_ANGLE.lo ta_LINEARREG_ANGLE.c\n",
            " gcc -DHAVE_CONFIG_H -I. -I../../include -I../ta_common/ -g -O2 -MT ta_LINEARREG_ANGLE.lo -MD -MP -MF .deps/ta_LINEARREG_ANGLE.Tpo -c ta_LINEARREG_ANGLE.c  -fPIC -DPIC -o .libs/ta_LINEARREG_ANGLE.o\n",
            " gcc -DHAVE_CONFIG_H -I. -I../../include -I../ta_common/ -g -O2 -MT ta_LINEARREG_ANGLE.lo -MD -MP -MF .deps/ta_LINEARREG_ANGLE.Tpo -c ta_LINEARREG_ANGLE.c -o ta_LINEARREG_ANGLE.o >/dev/null 2>&1\n",
            "mv -f .deps/ta_LINEARREG_ANGLE.Tpo .deps/ta_LINEARREG_ANGLE.Plo\n",
            "/bin/bash ../../libtool --tag=CC   --mode=compile gcc -DHAVE_CONFIG_H -I. -I../../include  -I../ta_common/   -g -O2 -MT ta_LINEARREG_INTERCEPT.lo -MD -MP -MF .deps/ta_LINEARREG_INTERCEPT.Tpo -c -o ta_LINEARREG_INTERCEPT.lo ta_LINEARREG_INTERCEPT.c\n",
            " gcc -DHAVE_CONFIG_H -I. -I../../include -I../ta_common/ -g -O2 -MT ta_LINEARREG_INTERCEPT.lo -MD -MP -MF .deps/ta_LINEARREG_INTERCEPT.Tpo -c ta_LINEARREG_INTERCEPT.c  -fPIC -DPIC -o .libs/ta_LINEARREG_INTERCEPT.o\n",
            " gcc -DHAVE_CONFIG_H -I. -I../../include -I../ta_common/ -g -O2 -MT ta_LINEARREG_INTERCEPT.lo -MD -MP -MF .deps/ta_LINEARREG_INTERCEPT.Tpo -c ta_LINEARREG_INTERCEPT.c -o ta_LINEARREG_INTERCEPT.o >/dev/null 2>&1\n",
            "mv -f .deps/ta_LINEARREG_INTERCEPT.Tpo .deps/ta_LINEARREG_INTERCEPT.Plo\n",
            "/bin/bash ../../libtool --tag=CC   --mode=compile gcc -DHAVE_CONFIG_H -I. -I../../include  -I../ta_common/   -g -O2 -MT ta_LINEARREG_SLOPE.lo -MD -MP -MF .deps/ta_LINEARREG_SLOPE.Tpo -c -o ta_LINEARREG_SLOPE.lo ta_LINEARREG_SLOPE.c\n",
            " gcc -DHAVE_CONFIG_H -I. -I../../include -I../ta_common/ -g -O2 -MT ta_LINEARREG_SLOPE.lo -MD -MP -MF .deps/ta_LINEARREG_SLOPE.Tpo -c ta_LINEARREG_SLOPE.c  -fPIC -DPIC -o .libs/ta_LINEARREG_SLOPE.o\n",
            " gcc -DHAVE_CONFIG_H -I. -I../../include -I../ta_common/ -g -O2 -MT ta_LINEARREG_SLOPE.lo -MD -MP -MF .deps/ta_LINEARREG_SLOPE.Tpo -c ta_LINEARREG_SLOPE.c -o ta_LINEARREG_SLOPE.o >/dev/null 2>&1\n",
            "mv -f .deps/ta_LINEARREG_SLOPE.Tpo .deps/ta_LINEARREG_SLOPE.Plo\n",
            "/bin/bash ../../libtool --tag=CC   --mode=compile gcc -DHAVE_CONFIG_H -I. -I../../include  -I../ta_common/   -g -O2 -MT ta_LN.lo -MD -MP -MF .deps/ta_LN.Tpo -c -o ta_LN.lo ta_LN.c\n",
            " gcc -DHAVE_CONFIG_H -I. -I../../include -I../ta_common/ -g -O2 -MT ta_LN.lo -MD -MP -MF .deps/ta_LN.Tpo -c ta_LN.c  -fPIC -DPIC -o .libs/ta_LN.o\n",
            " gcc -DHAVE_CONFIG_H -I. -I../../include -I../ta_common/ -g -O2 -MT ta_LN.lo -MD -MP -MF .deps/ta_LN.Tpo -c ta_LN.c -o ta_LN.o >/dev/null 2>&1\n",
            "mv -f .deps/ta_LN.Tpo .deps/ta_LN.Plo\n",
            "/bin/bash ../../libtool --tag=CC   --mode=compile gcc -DHAVE_CONFIG_H -I. -I../../include  -I../ta_common/   -g -O2 -MT ta_LOG10.lo -MD -MP -MF .deps/ta_LOG10.Tpo -c -o ta_LOG10.lo ta_LOG10.c\n",
            " gcc -DHAVE_CONFIG_H -I. -I../../include -I../ta_common/ -g -O2 -MT ta_LOG10.lo -MD -MP -MF .deps/ta_LOG10.Tpo -c ta_LOG10.c  -fPIC -DPIC -o .libs/ta_LOG10.o\n",
            " gcc -DHAVE_CONFIG_H -I. -I../../include -I../ta_common/ -g -O2 -MT ta_LOG10.lo -MD -MP -MF .deps/ta_LOG10.Tpo -c ta_LOG10.c -o ta_LOG10.o >/dev/null 2>&1\n",
            "mv -f .deps/ta_LOG10.Tpo .deps/ta_LOG10.Plo\n",
            "/bin/bash ../../libtool --tag=CC   --mode=compile gcc -DHAVE_CONFIG_H -I. -I../../include  -I../ta_common/   -g -O2 -MT ta_MA.lo -MD -MP -MF .deps/ta_MA.Tpo -c -o ta_MA.lo ta_MA.c\n",
            " gcc -DHAVE_CONFIG_H -I. -I../../include -I../ta_common/ -g -O2 -MT ta_MA.lo -MD -MP -MF .deps/ta_MA.Tpo -c ta_MA.c  -fPIC -DPIC -o .libs/ta_MA.o\n",
            " gcc -DHAVE_CONFIG_H -I. -I../../include -I../ta_common/ -g -O2 -MT ta_MA.lo -MD -MP -MF .deps/ta_MA.Tpo -c ta_MA.c -o ta_MA.o >/dev/null 2>&1\n",
            "mv -f .deps/ta_MA.Tpo .deps/ta_MA.Plo\n",
            "/bin/bash ../../libtool --tag=CC   --mode=compile gcc -DHAVE_CONFIG_H -I. -I../../include  -I../ta_common/   -g -O2 -MT ta_MACD.lo -MD -MP -MF .deps/ta_MACD.Tpo -c -o ta_MACD.lo ta_MACD.c\n",
            " gcc -DHAVE_CONFIG_H -I. -I../../include -I../ta_common/ -g -O2 -MT ta_MACD.lo -MD -MP -MF .deps/ta_MACD.Tpo -c ta_MACD.c  -fPIC -DPIC -o .libs/ta_MACD.o\n",
            " gcc -DHAVE_CONFIG_H -I. -I../../include -I../ta_common/ -g -O2 -MT ta_MACD.lo -MD -MP -MF .deps/ta_MACD.Tpo -c ta_MACD.c -o ta_MACD.o >/dev/null 2>&1\n",
            "mv -f .deps/ta_MACD.Tpo .deps/ta_MACD.Plo\n",
            "/bin/bash ../../libtool --tag=CC   --mode=compile gcc -DHAVE_CONFIG_H -I. -I../../include  -I../ta_common/   -g -O2 -MT ta_MACDEXT.lo -MD -MP -MF .deps/ta_MACDEXT.Tpo -c -o ta_MACDEXT.lo ta_MACDEXT.c\n",
            " gcc -DHAVE_CONFIG_H -I. -I../../include -I../ta_common/ -g -O2 -MT ta_MACDEXT.lo -MD -MP -MF .deps/ta_MACDEXT.Tpo -c ta_MACDEXT.c  -fPIC -DPIC -o .libs/ta_MACDEXT.o\n",
            " gcc -DHAVE_CONFIG_H -I. -I../../include -I../ta_common/ -g -O2 -MT ta_MACDEXT.lo -MD -MP -MF .deps/ta_MACDEXT.Tpo -c ta_MACDEXT.c -o ta_MACDEXT.o >/dev/null 2>&1\n",
            "mv -f .deps/ta_MACDEXT.Tpo .deps/ta_MACDEXT.Plo\n",
            "/bin/bash ../../libtool --tag=CC   --mode=compile gcc -DHAVE_CONFIG_H -I. -I../../include  -I../ta_common/   -g -O2 -MT ta_MACDFIX.lo -MD -MP -MF .deps/ta_MACDFIX.Tpo -c -o ta_MACDFIX.lo ta_MACDFIX.c\n",
            " gcc -DHAVE_CONFIG_H -I. -I../../include -I../ta_common/ -g -O2 -MT ta_MACDFIX.lo -MD -MP -MF .deps/ta_MACDFIX.Tpo -c ta_MACDFIX.c  -fPIC -DPIC -o .libs/ta_MACDFIX.o\n",
            " gcc -DHAVE_CONFIG_H -I. -I../../include -I../ta_common/ -g -O2 -MT ta_MACDFIX.lo -MD -MP -MF .deps/ta_MACDFIX.Tpo -c ta_MACDFIX.c -o ta_MACDFIX.o >/dev/null 2>&1\n",
            "mv -f .deps/ta_MACDFIX.Tpo .deps/ta_MACDFIX.Plo\n",
            "/bin/bash ../../libtool --tag=CC   --mode=compile gcc -DHAVE_CONFIG_H -I. -I../../include  -I../ta_common/   -g -O2 -MT ta_MAMA.lo -MD -MP -MF .deps/ta_MAMA.Tpo -c -o ta_MAMA.lo ta_MAMA.c\n",
            " gcc -DHAVE_CONFIG_H -I. -I../../include -I../ta_common/ -g -O2 -MT ta_MAMA.lo -MD -MP -MF .deps/ta_MAMA.Tpo -c ta_MAMA.c  -fPIC -DPIC -o .libs/ta_MAMA.o\n",
            " gcc -DHAVE_CONFIG_H -I. -I../../include -I../ta_common/ -g -O2 -MT ta_MAMA.lo -MD -MP -MF .deps/ta_MAMA.Tpo -c ta_MAMA.c -o ta_MAMA.o >/dev/null 2>&1\n",
            "mv -f .deps/ta_MAMA.Tpo .deps/ta_MAMA.Plo\n",
            "/bin/bash ../../libtool --tag=CC   --mode=compile gcc -DHAVE_CONFIG_H -I. -I../../include  -I../ta_common/   -g -O2 -MT ta_MAVP.lo -MD -MP -MF .deps/ta_MAVP.Tpo -c -o ta_MAVP.lo ta_MAVP.c\n",
            " gcc -DHAVE_CONFIG_H -I. -I../../include -I../ta_common/ -g -O2 -MT ta_MAVP.lo -MD -MP -MF .deps/ta_MAVP.Tpo -c ta_MAVP.c  -fPIC -DPIC -o .libs/ta_MAVP.o\n",
            " gcc -DHAVE_CONFIG_H -I. -I../../include -I../ta_common/ -g -O2 -MT ta_MAVP.lo -MD -MP -MF .deps/ta_MAVP.Tpo -c ta_MAVP.c -o ta_MAVP.o >/dev/null 2>&1\n",
            "mv -f .deps/ta_MAVP.Tpo .deps/ta_MAVP.Plo\n",
            "/bin/bash ../../libtool --tag=CC   --mode=compile gcc -DHAVE_CONFIG_H -I. -I../../include  -I../ta_common/   -g -O2 -MT ta_MAX.lo -MD -MP -MF .deps/ta_MAX.Tpo -c -o ta_MAX.lo ta_MAX.c\n",
            " gcc -DHAVE_CONFIG_H -I. -I../../include -I../ta_common/ -g -O2 -MT ta_MAX.lo -MD -MP -MF .deps/ta_MAX.Tpo -c ta_MAX.c  -fPIC -DPIC -o .libs/ta_MAX.o\n",
            " gcc -DHAVE_CONFIG_H -I. -I../../include -I../ta_common/ -g -O2 -MT ta_MAX.lo -MD -MP -MF .deps/ta_MAX.Tpo -c ta_MAX.c -o ta_MAX.o >/dev/null 2>&1\n",
            "mv -f .deps/ta_MAX.Tpo .deps/ta_MAX.Plo\n",
            "/bin/bash ../../libtool --tag=CC   --mode=compile gcc -DHAVE_CONFIG_H -I. -I../../include  -I../ta_common/   -g -O2 -MT ta_MAXINDEX.lo -MD -MP -MF .deps/ta_MAXINDEX.Tpo -c -o ta_MAXINDEX.lo ta_MAXINDEX.c\n",
            " gcc -DHAVE_CONFIG_H -I. -I../../include -I../ta_common/ -g -O2 -MT ta_MAXINDEX.lo -MD -MP -MF .deps/ta_MAXINDEX.Tpo -c ta_MAXINDEX.c  -fPIC -DPIC -o .libs/ta_MAXINDEX.o\n",
            " gcc -DHAVE_CONFIG_H -I. -I../../include -I../ta_common/ -g -O2 -MT ta_MAXINDEX.lo -MD -MP -MF .deps/ta_MAXINDEX.Tpo -c ta_MAXINDEX.c -o ta_MAXINDEX.o >/dev/null 2>&1\n",
            "mv -f .deps/ta_MAXINDEX.Tpo .deps/ta_MAXINDEX.Plo\n",
            "/bin/bash ../../libtool --tag=CC   --mode=compile gcc -DHAVE_CONFIG_H -I. -I../../include  -I../ta_common/   -g -O2 -MT ta_MEDPRICE.lo -MD -MP -MF .deps/ta_MEDPRICE.Tpo -c -o ta_MEDPRICE.lo ta_MEDPRICE.c\n",
            " gcc -DHAVE_CONFIG_H -I. -I../../include -I../ta_common/ -g -O2 -MT ta_MEDPRICE.lo -MD -MP -MF .deps/ta_MEDPRICE.Tpo -c ta_MEDPRICE.c  -fPIC -DPIC -o .libs/ta_MEDPRICE.o\n",
            " gcc -DHAVE_CONFIG_H -I. -I../../include -I../ta_common/ -g -O2 -MT ta_MEDPRICE.lo -MD -MP -MF .deps/ta_MEDPRICE.Tpo -c ta_MEDPRICE.c -o ta_MEDPRICE.o >/dev/null 2>&1\n",
            "mv -f .deps/ta_MEDPRICE.Tpo .deps/ta_MEDPRICE.Plo\n",
            "/bin/bash ../../libtool --tag=CC   --mode=compile gcc -DHAVE_CONFIG_H -I. -I../../include  -I../ta_common/   -g -O2 -MT ta_MFI.lo -MD -MP -MF .deps/ta_MFI.Tpo -c -o ta_MFI.lo ta_MFI.c\n",
            " gcc -DHAVE_CONFIG_H -I. -I../../include -I../ta_common/ -g -O2 -MT ta_MFI.lo -MD -MP -MF .deps/ta_MFI.Tpo -c ta_MFI.c  -fPIC -DPIC -o .libs/ta_MFI.o\n",
            " gcc -DHAVE_CONFIG_H -I. -I../../include -I../ta_common/ -g -O2 -MT ta_MFI.lo -MD -MP -MF .deps/ta_MFI.Tpo -c ta_MFI.c -o ta_MFI.o >/dev/null 2>&1\n",
            "mv -f .deps/ta_MFI.Tpo .deps/ta_MFI.Plo\n",
            "/bin/bash ../../libtool --tag=CC   --mode=compile gcc -DHAVE_CONFIG_H -I. -I../../include  -I../ta_common/   -g -O2 -MT ta_MIDPOINT.lo -MD -MP -MF .deps/ta_MIDPOINT.Tpo -c -o ta_MIDPOINT.lo ta_MIDPOINT.c\n",
            " gcc -DHAVE_CONFIG_H -I. -I../../include -I../ta_common/ -g -O2 -MT ta_MIDPOINT.lo -MD -MP -MF .deps/ta_MIDPOINT.Tpo -c ta_MIDPOINT.c  -fPIC -DPIC -o .libs/ta_MIDPOINT.o\n",
            " gcc -DHAVE_CONFIG_H -I. -I../../include -I../ta_common/ -g -O2 -MT ta_MIDPOINT.lo -MD -MP -MF .deps/ta_MIDPOINT.Tpo -c ta_MIDPOINT.c -o ta_MIDPOINT.o >/dev/null 2>&1\n",
            "mv -f .deps/ta_MIDPOINT.Tpo .deps/ta_MIDPOINT.Plo\n",
            "/bin/bash ../../libtool --tag=CC   --mode=compile gcc -DHAVE_CONFIG_H -I. -I../../include  -I../ta_common/   -g -O2 -MT ta_MIDPRICE.lo -MD -MP -MF .deps/ta_MIDPRICE.Tpo -c -o ta_MIDPRICE.lo ta_MIDPRICE.c\n",
            " gcc -DHAVE_CONFIG_H -I. -I../../include -I../ta_common/ -g -O2 -MT ta_MIDPRICE.lo -MD -MP -MF .deps/ta_MIDPRICE.Tpo -c ta_MIDPRICE.c  -fPIC -DPIC -o .libs/ta_MIDPRICE.o\n",
            " gcc -DHAVE_CONFIG_H -I. -I../../include -I../ta_common/ -g -O2 -MT ta_MIDPRICE.lo -MD -MP -MF .deps/ta_MIDPRICE.Tpo -c ta_MIDPRICE.c -o ta_MIDPRICE.o >/dev/null 2>&1\n",
            "mv -f .deps/ta_MIDPRICE.Tpo .deps/ta_MIDPRICE.Plo\n",
            "/bin/bash ../../libtool --tag=CC   --mode=compile gcc -DHAVE_CONFIG_H -I. -I../../include  -I../ta_common/   -g -O2 -MT ta_MIN.lo -MD -MP -MF .deps/ta_MIN.Tpo -c -o ta_MIN.lo ta_MIN.c\n",
            " gcc -DHAVE_CONFIG_H -I. -I../../include -I../ta_common/ -g -O2 -MT ta_MIN.lo -MD -MP -MF .deps/ta_MIN.Tpo -c ta_MIN.c  -fPIC -DPIC -o .libs/ta_MIN.o\n",
            " gcc -DHAVE_CONFIG_H -I. -I../../include -I../ta_common/ -g -O2 -MT ta_MIN.lo -MD -MP -MF .deps/ta_MIN.Tpo -c ta_MIN.c -o ta_MIN.o >/dev/null 2>&1\n",
            "mv -f .deps/ta_MIN.Tpo .deps/ta_MIN.Plo\n",
            "/bin/bash ../../libtool --tag=CC   --mode=compile gcc -DHAVE_CONFIG_H -I. -I../../include  -I../ta_common/   -g -O2 -MT ta_MININDEX.lo -MD -MP -MF .deps/ta_MININDEX.Tpo -c -o ta_MININDEX.lo ta_MININDEX.c\n",
            " gcc -DHAVE_CONFIG_H -I. -I../../include -I../ta_common/ -g -O2 -MT ta_MININDEX.lo -MD -MP -MF .deps/ta_MININDEX.Tpo -c ta_MININDEX.c  -fPIC -DPIC -o .libs/ta_MININDEX.o\n",
            " gcc -DHAVE_CONFIG_H -I. -I../../include -I../ta_common/ -g -O2 -MT ta_MININDEX.lo -MD -MP -MF .deps/ta_MININDEX.Tpo -c ta_MININDEX.c -o ta_MININDEX.o >/dev/null 2>&1\n",
            "mv -f .deps/ta_MININDEX.Tpo .deps/ta_MININDEX.Plo\n",
            "/bin/bash ../../libtool --tag=CC   --mode=compile gcc -DHAVE_CONFIG_H -I. -I../../include  -I../ta_common/   -g -O2 -MT ta_MINMAX.lo -MD -MP -MF .deps/ta_MINMAX.Tpo -c -o ta_MINMAX.lo ta_MINMAX.c\n",
            " gcc -DHAVE_CONFIG_H -I. -I../../include -I../ta_common/ -g -O2 -MT ta_MINMAX.lo -MD -MP -MF .deps/ta_MINMAX.Tpo -c ta_MINMAX.c  -fPIC -DPIC -o .libs/ta_MINMAX.o\n",
            " gcc -DHAVE_CONFIG_H -I. -I../../include -I../ta_common/ -g -O2 -MT ta_MINMAX.lo -MD -MP -MF .deps/ta_MINMAX.Tpo -c ta_MINMAX.c -o ta_MINMAX.o >/dev/null 2>&1\n",
            "mv -f .deps/ta_MINMAX.Tpo .deps/ta_MINMAX.Plo\n",
            "/bin/bash ../../libtool --tag=CC   --mode=compile gcc -DHAVE_CONFIG_H -I. -I../../include  -I../ta_common/   -g -O2 -MT ta_MINMAXINDEX.lo -MD -MP -MF .deps/ta_MINMAXINDEX.Tpo -c -o ta_MINMAXINDEX.lo ta_MINMAXINDEX.c\n",
            " gcc -DHAVE_CONFIG_H -I. -I../../include -I../ta_common/ -g -O2 -MT ta_MINMAXINDEX.lo -MD -MP -MF .deps/ta_MINMAXINDEX.Tpo -c ta_MINMAXINDEX.c  -fPIC -DPIC -o .libs/ta_MINMAXINDEX.o\n",
            " gcc -DHAVE_CONFIG_H -I. -I../../include -I../ta_common/ -g -O2 -MT ta_MINMAXINDEX.lo -MD -MP -MF .deps/ta_MINMAXINDEX.Tpo -c ta_MINMAXINDEX.c -o ta_MINMAXINDEX.o >/dev/null 2>&1\n",
            "mv -f .deps/ta_MINMAXINDEX.Tpo .deps/ta_MINMAXINDEX.Plo\n",
            "/bin/bash ../../libtool --tag=CC   --mode=compile gcc -DHAVE_CONFIG_H -I. -I../../include  -I../ta_common/   -g -O2 -MT ta_MINUS_DI.lo -MD -MP -MF .deps/ta_MINUS_DI.Tpo -c -o ta_MINUS_DI.lo ta_MINUS_DI.c\n",
            " gcc -DHAVE_CONFIG_H -I. -I../../include -I../ta_common/ -g -O2 -MT ta_MINUS_DI.lo -MD -MP -MF .deps/ta_MINUS_DI.Tpo -c ta_MINUS_DI.c  -fPIC -DPIC -o .libs/ta_MINUS_DI.o\n",
            " gcc -DHAVE_CONFIG_H -I. -I../../include -I../ta_common/ -g -O2 -MT ta_MINUS_DI.lo -MD -MP -MF .deps/ta_MINUS_DI.Tpo -c ta_MINUS_DI.c -o ta_MINUS_DI.o >/dev/null 2>&1\n",
            "mv -f .deps/ta_MINUS_DI.Tpo .deps/ta_MINUS_DI.Plo\n",
            "/bin/bash ../../libtool --tag=CC   --mode=compile gcc -DHAVE_CONFIG_H -I. -I../../include  -I../ta_common/   -g -O2 -MT ta_MINUS_DM.lo -MD -MP -MF .deps/ta_MINUS_DM.Tpo -c -o ta_MINUS_DM.lo ta_MINUS_DM.c\n",
            " gcc -DHAVE_CONFIG_H -I. -I../../include -I../ta_common/ -g -O2 -MT ta_MINUS_DM.lo -MD -MP -MF .deps/ta_MINUS_DM.Tpo -c ta_MINUS_DM.c  -fPIC -DPIC -o .libs/ta_MINUS_DM.o\n",
            " gcc -DHAVE_CONFIG_H -I. -I../../include -I../ta_common/ -g -O2 -MT ta_MINUS_DM.lo -MD -MP -MF .deps/ta_MINUS_DM.Tpo -c ta_MINUS_DM.c -o ta_MINUS_DM.o >/dev/null 2>&1\n",
            "mv -f .deps/ta_MINUS_DM.Tpo .deps/ta_MINUS_DM.Plo\n",
            "/bin/bash ../../libtool --tag=CC   --mode=compile gcc -DHAVE_CONFIG_H -I. -I../../include  -I../ta_common/   -g -O2 -MT ta_MOM.lo -MD -MP -MF .deps/ta_MOM.Tpo -c -o ta_MOM.lo ta_MOM.c\n",
            " gcc -DHAVE_CONFIG_H -I. -I../../include -I../ta_common/ -g -O2 -MT ta_MOM.lo -MD -MP -MF .deps/ta_MOM.Tpo -c ta_MOM.c  -fPIC -DPIC -o .libs/ta_MOM.o\n",
            " gcc -DHAVE_CONFIG_H -I. -I../../include -I../ta_common/ -g -O2 -MT ta_MOM.lo -MD -MP -MF .deps/ta_MOM.Tpo -c ta_MOM.c -o ta_MOM.o >/dev/null 2>&1\n",
            "mv -f .deps/ta_MOM.Tpo .deps/ta_MOM.Plo\n",
            "/bin/bash ../../libtool --tag=CC   --mode=compile gcc -DHAVE_CONFIG_H -I. -I../../include  -I../ta_common/   -g -O2 -MT ta_MULT.lo -MD -MP -MF .deps/ta_MULT.Tpo -c -o ta_MULT.lo ta_MULT.c\n",
            " gcc -DHAVE_CONFIG_H -I. -I../../include -I../ta_common/ -g -O2 -MT ta_MULT.lo -MD -MP -MF .deps/ta_MULT.Tpo -c ta_MULT.c  -fPIC -DPIC -o .libs/ta_MULT.o\n",
            " gcc -DHAVE_CONFIG_H -I. -I../../include -I../ta_common/ -g -O2 -MT ta_MULT.lo -MD -MP -MF .deps/ta_MULT.Tpo -c ta_MULT.c -o ta_MULT.o >/dev/null 2>&1\n",
            "mv -f .deps/ta_MULT.Tpo .deps/ta_MULT.Plo\n",
            "/bin/bash ../../libtool --tag=CC   --mode=compile gcc -DHAVE_CONFIG_H -I. -I../../include  -I../ta_common/   -g -O2 -MT ta_NATR.lo -MD -MP -MF .deps/ta_NATR.Tpo -c -o ta_NATR.lo ta_NATR.c\n",
            " gcc -DHAVE_CONFIG_H -I. -I../../include -I../ta_common/ -g -O2 -MT ta_NATR.lo -MD -MP -MF .deps/ta_NATR.Tpo -c ta_NATR.c  -fPIC -DPIC -o .libs/ta_NATR.o\n",
            " gcc -DHAVE_CONFIG_H -I. -I../../include -I../ta_common/ -g -O2 -MT ta_NATR.lo -MD -MP -MF .deps/ta_NATR.Tpo -c ta_NATR.c -o ta_NATR.o >/dev/null 2>&1\n",
            "mv -f .deps/ta_NATR.Tpo .deps/ta_NATR.Plo\n",
            "/bin/bash ../../libtool --tag=CC   --mode=compile gcc -DHAVE_CONFIG_H -I. -I../../include  -I../ta_common/   -g -O2 -MT ta_OBV.lo -MD -MP -MF .deps/ta_OBV.Tpo -c -o ta_OBV.lo ta_OBV.c\n",
            " gcc -DHAVE_CONFIG_H -I. -I../../include -I../ta_common/ -g -O2 -MT ta_OBV.lo -MD -MP -MF .deps/ta_OBV.Tpo -c ta_OBV.c  -fPIC -DPIC -o .libs/ta_OBV.o\n",
            " gcc -DHAVE_CONFIG_H -I. -I../../include -I../ta_common/ -g -O2 -MT ta_OBV.lo -MD -MP -MF .deps/ta_OBV.Tpo -c ta_OBV.c -o ta_OBV.o >/dev/null 2>&1\n",
            "mv -f .deps/ta_OBV.Tpo .deps/ta_OBV.Plo\n",
            "/bin/bash ../../libtool --tag=CC   --mode=compile gcc -DHAVE_CONFIG_H -I. -I../../include  -I../ta_common/   -g -O2 -MT ta_PLUS_DI.lo -MD -MP -MF .deps/ta_PLUS_DI.Tpo -c -o ta_PLUS_DI.lo ta_PLUS_DI.c\n",
            " gcc -DHAVE_CONFIG_H -I. -I../../include -I../ta_common/ -g -O2 -MT ta_PLUS_DI.lo -MD -MP -MF .deps/ta_PLUS_DI.Tpo -c ta_PLUS_DI.c  -fPIC -DPIC -o .libs/ta_PLUS_DI.o\n",
            " gcc -DHAVE_CONFIG_H -I. -I../../include -I../ta_common/ -g -O2 -MT ta_PLUS_DI.lo -MD -MP -MF .deps/ta_PLUS_DI.Tpo -c ta_PLUS_DI.c -o ta_PLUS_DI.o >/dev/null 2>&1\n",
            "mv -f .deps/ta_PLUS_DI.Tpo .deps/ta_PLUS_DI.Plo\n",
            "/bin/bash ../../libtool --tag=CC   --mode=compile gcc -DHAVE_CONFIG_H -I. -I../../include  -I../ta_common/   -g -O2 -MT ta_PLUS_DM.lo -MD -MP -MF .deps/ta_PLUS_DM.Tpo -c -o ta_PLUS_DM.lo ta_PLUS_DM.c\n",
            " gcc -DHAVE_CONFIG_H -I. -I../../include -I../ta_common/ -g -O2 -MT ta_PLUS_DM.lo -MD -MP -MF .deps/ta_PLUS_DM.Tpo -c ta_PLUS_DM.c  -fPIC -DPIC -o .libs/ta_PLUS_DM.o\n",
            " gcc -DHAVE_CONFIG_H -I. -I../../include -I../ta_common/ -g -O2 -MT ta_PLUS_DM.lo -MD -MP -MF .deps/ta_PLUS_DM.Tpo -c ta_PLUS_DM.c -o ta_PLUS_DM.o >/dev/null 2>&1\n",
            "mv -f .deps/ta_PLUS_DM.Tpo .deps/ta_PLUS_DM.Plo\n",
            "/bin/bash ../../libtool --tag=CC   --mode=compile gcc -DHAVE_CONFIG_H -I. -I../../include  -I../ta_common/   -g -O2 -MT ta_PPO.lo -MD -MP -MF .deps/ta_PPO.Tpo -c -o ta_PPO.lo ta_PPO.c\n",
            " gcc -DHAVE_CONFIG_H -I. -I../../include -I../ta_common/ -g -O2 -MT ta_PPO.lo -MD -MP -MF .deps/ta_PPO.Tpo -c ta_PPO.c  -fPIC -DPIC -o .libs/ta_PPO.o\n",
            " gcc -DHAVE_CONFIG_H -I. -I../../include -I../ta_common/ -g -O2 -MT ta_PPO.lo -MD -MP -MF .deps/ta_PPO.Tpo -c ta_PPO.c -o ta_PPO.o >/dev/null 2>&1\n",
            "mv -f .deps/ta_PPO.Tpo .deps/ta_PPO.Plo\n",
            "/bin/bash ../../libtool --tag=CC   --mode=compile gcc -DHAVE_CONFIG_H -I. -I../../include  -I../ta_common/   -g -O2 -MT ta_ROC.lo -MD -MP -MF .deps/ta_ROC.Tpo -c -o ta_ROC.lo ta_ROC.c\n",
            " gcc -DHAVE_CONFIG_H -I. -I../../include -I../ta_common/ -g -O2 -MT ta_ROC.lo -MD -MP -MF .deps/ta_ROC.Tpo -c ta_ROC.c  -fPIC -DPIC -o .libs/ta_ROC.o\n",
            " gcc -DHAVE_CONFIG_H -I. -I../../include -I../ta_common/ -g -O2 -MT ta_ROC.lo -MD -MP -MF .deps/ta_ROC.Tpo -c ta_ROC.c -o ta_ROC.o >/dev/null 2>&1\n",
            "mv -f .deps/ta_ROC.Tpo .deps/ta_ROC.Plo\n",
            "/bin/bash ../../libtool --tag=CC   --mode=compile gcc -DHAVE_CONFIG_H -I. -I../../include  -I../ta_common/   -g -O2 -MT ta_ROCP.lo -MD -MP -MF .deps/ta_ROCP.Tpo -c -o ta_ROCP.lo ta_ROCP.c\n",
            " gcc -DHAVE_CONFIG_H -I. -I../../include -I../ta_common/ -g -O2 -MT ta_ROCP.lo -MD -MP -MF .deps/ta_ROCP.Tpo -c ta_ROCP.c  -fPIC -DPIC -o .libs/ta_ROCP.o\n",
            " gcc -DHAVE_CONFIG_H -I. -I../../include -I../ta_common/ -g -O2 -MT ta_ROCP.lo -MD -MP -MF .deps/ta_ROCP.Tpo -c ta_ROCP.c -o ta_ROCP.o >/dev/null 2>&1\n",
            "mv -f .deps/ta_ROCP.Tpo .deps/ta_ROCP.Plo\n",
            "/bin/bash ../../libtool --tag=CC   --mode=compile gcc -DHAVE_CONFIG_H -I. -I../../include  -I../ta_common/   -g -O2 -MT ta_ROCR.lo -MD -MP -MF .deps/ta_ROCR.Tpo -c -o ta_ROCR.lo ta_ROCR.c\n",
            " gcc -DHAVE_CONFIG_H -I. -I../../include -I../ta_common/ -g -O2 -MT ta_ROCR.lo -MD -MP -MF .deps/ta_ROCR.Tpo -c ta_ROCR.c  -fPIC -DPIC -o .libs/ta_ROCR.o\n",
            " gcc -DHAVE_CONFIG_H -I. -I../../include -I../ta_common/ -g -O2 -MT ta_ROCR.lo -MD -MP -MF .deps/ta_ROCR.Tpo -c ta_ROCR.c -o ta_ROCR.o >/dev/null 2>&1\n",
            "mv -f .deps/ta_ROCR.Tpo .deps/ta_ROCR.Plo\n",
            "/bin/bash ../../libtool --tag=CC   --mode=compile gcc -DHAVE_CONFIG_H -I. -I../../include  -I../ta_common/   -g -O2 -MT ta_ROCR100.lo -MD -MP -MF .deps/ta_ROCR100.Tpo -c -o ta_ROCR100.lo ta_ROCR100.c\n",
            " gcc -DHAVE_CONFIG_H -I. -I../../include -I../ta_common/ -g -O2 -MT ta_ROCR100.lo -MD -MP -MF .deps/ta_ROCR100.Tpo -c ta_ROCR100.c  -fPIC -DPIC -o .libs/ta_ROCR100.o\n",
            " gcc -DHAVE_CONFIG_H -I. -I../../include -I../ta_common/ -g -O2 -MT ta_ROCR100.lo -MD -MP -MF .deps/ta_ROCR100.Tpo -c ta_ROCR100.c -o ta_ROCR100.o >/dev/null 2>&1\n",
            "mv -f .deps/ta_ROCR100.Tpo .deps/ta_ROCR100.Plo\n",
            "/bin/bash ../../libtool --tag=CC   --mode=compile gcc -DHAVE_CONFIG_H -I. -I../../include  -I../ta_common/   -g -O2 -MT ta_RSI.lo -MD -MP -MF .deps/ta_RSI.Tpo -c -o ta_RSI.lo ta_RSI.c\n",
            " gcc -DHAVE_CONFIG_H -I. -I../../include -I../ta_common/ -g -O2 -MT ta_RSI.lo -MD -MP -MF .deps/ta_RSI.Tpo -c ta_RSI.c  -fPIC -DPIC -o .libs/ta_RSI.o\n",
            " gcc -DHAVE_CONFIG_H -I. -I../../include -I../ta_common/ -g -O2 -MT ta_RSI.lo -MD -MP -MF .deps/ta_RSI.Tpo -c ta_RSI.c -o ta_RSI.o >/dev/null 2>&1\n",
            "mv -f .deps/ta_RSI.Tpo .deps/ta_RSI.Plo\n",
            "/bin/bash ../../libtool --tag=CC   --mode=compile gcc -DHAVE_CONFIG_H -I. -I../../include  -I../ta_common/   -g -O2 -MT ta_SAR.lo -MD -MP -MF .deps/ta_SAR.Tpo -c -o ta_SAR.lo ta_SAR.c\n",
            " gcc -DHAVE_CONFIG_H -I. -I../../include -I../ta_common/ -g -O2 -MT ta_SAR.lo -MD -MP -MF .deps/ta_SAR.Tpo -c ta_SAR.c  -fPIC -DPIC -o .libs/ta_SAR.o\n",
            " gcc -DHAVE_CONFIG_H -I. -I../../include -I../ta_common/ -g -O2 -MT ta_SAR.lo -MD -MP -MF .deps/ta_SAR.Tpo -c ta_SAR.c -o ta_SAR.o >/dev/null 2>&1\n",
            "mv -f .deps/ta_SAR.Tpo .deps/ta_SAR.Plo\n",
            "/bin/bash ../../libtool --tag=CC   --mode=compile gcc -DHAVE_CONFIG_H -I. -I../../include  -I../ta_common/   -g -O2 -MT ta_SAREXT.lo -MD -MP -MF .deps/ta_SAREXT.Tpo -c -o ta_SAREXT.lo ta_SAREXT.c\n",
            " gcc -DHAVE_CONFIG_H -I. -I../../include -I../ta_common/ -g -O2 -MT ta_SAREXT.lo -MD -MP -MF .deps/ta_SAREXT.Tpo -c ta_SAREXT.c  -fPIC -DPIC -o .libs/ta_SAREXT.o\n",
            " gcc -DHAVE_CONFIG_H -I. -I../../include -I../ta_common/ -g -O2 -MT ta_SAREXT.lo -MD -MP -MF .deps/ta_SAREXT.Tpo -c ta_SAREXT.c -o ta_SAREXT.o >/dev/null 2>&1\n",
            "mv -f .deps/ta_SAREXT.Tpo .deps/ta_SAREXT.Plo\n",
            "/bin/bash ../../libtool --tag=CC   --mode=compile gcc -DHAVE_CONFIG_H -I. -I../../include  -I../ta_common/   -g -O2 -MT ta_SIN.lo -MD -MP -MF .deps/ta_SIN.Tpo -c -o ta_SIN.lo ta_SIN.c\n",
            " gcc -DHAVE_CONFIG_H -I. -I../../include -I../ta_common/ -g -O2 -MT ta_SIN.lo -MD -MP -MF .deps/ta_SIN.Tpo -c ta_SIN.c  -fPIC -DPIC -o .libs/ta_SIN.o\n",
            " gcc -DHAVE_CONFIG_H -I. -I../../include -I../ta_common/ -g -O2 -MT ta_SIN.lo -MD -MP -MF .deps/ta_SIN.Tpo -c ta_SIN.c -o ta_SIN.o >/dev/null 2>&1\n",
            "mv -f .deps/ta_SIN.Tpo .deps/ta_SIN.Plo\n",
            "/bin/bash ../../libtool --tag=CC   --mode=compile gcc -DHAVE_CONFIG_H -I. -I../../include  -I../ta_common/   -g -O2 -MT ta_SINH.lo -MD -MP -MF .deps/ta_SINH.Tpo -c -o ta_SINH.lo ta_SINH.c\n",
            " gcc -DHAVE_CONFIG_H -I. -I../../include -I../ta_common/ -g -O2 -MT ta_SINH.lo -MD -MP -MF .deps/ta_SINH.Tpo -c ta_SINH.c  -fPIC -DPIC -o .libs/ta_SINH.o\n",
            " gcc -DHAVE_CONFIG_H -I. -I../../include -I../ta_common/ -g -O2 -MT ta_SINH.lo -MD -MP -MF .deps/ta_SINH.Tpo -c ta_SINH.c -o ta_SINH.o >/dev/null 2>&1\n",
            "mv -f .deps/ta_SINH.Tpo .deps/ta_SINH.Plo\n",
            "/bin/bash ../../libtool --tag=CC   --mode=compile gcc -DHAVE_CONFIG_H -I. -I../../include  -I../ta_common/   -g -O2 -MT ta_SMA.lo -MD -MP -MF .deps/ta_SMA.Tpo -c -o ta_SMA.lo ta_SMA.c\n",
            " gcc -DHAVE_CONFIG_H -I. -I../../include -I../ta_common/ -g -O2 -MT ta_SMA.lo -MD -MP -MF .deps/ta_SMA.Tpo -c ta_SMA.c  -fPIC -DPIC -o .libs/ta_SMA.o\n",
            " gcc -DHAVE_CONFIG_H -I. -I../../include -I../ta_common/ -g -O2 -MT ta_SMA.lo -MD -MP -MF .deps/ta_SMA.Tpo -c ta_SMA.c -o ta_SMA.o >/dev/null 2>&1\n",
            "mv -f .deps/ta_SMA.Tpo .deps/ta_SMA.Plo\n",
            "/bin/bash ../../libtool --tag=CC   --mode=compile gcc -DHAVE_CONFIG_H -I. -I../../include  -I../ta_common/   -g -O2 -MT ta_SQRT.lo -MD -MP -MF .deps/ta_SQRT.Tpo -c -o ta_SQRT.lo ta_SQRT.c\n",
            " gcc -DHAVE_CONFIG_H -I. -I../../include -I../ta_common/ -g -O2 -MT ta_SQRT.lo -MD -MP -MF .deps/ta_SQRT.Tpo -c ta_SQRT.c  -fPIC -DPIC -o .libs/ta_SQRT.o\n",
            " gcc -DHAVE_CONFIG_H -I. -I../../include -I../ta_common/ -g -O2 -MT ta_SQRT.lo -MD -MP -MF .deps/ta_SQRT.Tpo -c ta_SQRT.c -o ta_SQRT.o >/dev/null 2>&1\n",
            "mv -f .deps/ta_SQRT.Tpo .deps/ta_SQRT.Plo\n",
            "/bin/bash ../../libtool --tag=CC   --mode=compile gcc -DHAVE_CONFIG_H -I. -I../../include  -I../ta_common/   -g -O2 -MT ta_STDDEV.lo -MD -MP -MF .deps/ta_STDDEV.Tpo -c -o ta_STDDEV.lo ta_STDDEV.c\n",
            " gcc -DHAVE_CONFIG_H -I. -I../../include -I../ta_common/ -g -O2 -MT ta_STDDEV.lo -MD -MP -MF .deps/ta_STDDEV.Tpo -c ta_STDDEV.c  -fPIC -DPIC -o .libs/ta_STDDEV.o\n",
            " gcc -DHAVE_CONFIG_H -I. -I../../include -I../ta_common/ -g -O2 -MT ta_STDDEV.lo -MD -MP -MF .deps/ta_STDDEV.Tpo -c ta_STDDEV.c -o ta_STDDEV.o >/dev/null 2>&1\n",
            "mv -f .deps/ta_STDDEV.Tpo .deps/ta_STDDEV.Plo\n",
            "/bin/bash ../../libtool --tag=CC   --mode=compile gcc -DHAVE_CONFIG_H -I. -I../../include  -I../ta_common/   -g -O2 -MT ta_STOCH.lo -MD -MP -MF .deps/ta_STOCH.Tpo -c -o ta_STOCH.lo ta_STOCH.c\n",
            " gcc -DHAVE_CONFIG_H -I. -I../../include -I../ta_common/ -g -O2 -MT ta_STOCH.lo -MD -MP -MF .deps/ta_STOCH.Tpo -c ta_STOCH.c  -fPIC -DPIC -o .libs/ta_STOCH.o\n",
            " gcc -DHAVE_CONFIG_H -I. -I../../include -I../ta_common/ -g -O2 -MT ta_STOCH.lo -MD -MP -MF .deps/ta_STOCH.Tpo -c ta_STOCH.c -o ta_STOCH.o >/dev/null 2>&1\n",
            "mv -f .deps/ta_STOCH.Tpo .deps/ta_STOCH.Plo\n",
            "/bin/bash ../../libtool --tag=CC   --mode=compile gcc -DHAVE_CONFIG_H -I. -I../../include  -I../ta_common/   -g -O2 -MT ta_STOCHF.lo -MD -MP -MF .deps/ta_STOCHF.Tpo -c -o ta_STOCHF.lo ta_STOCHF.c\n",
            " gcc -DHAVE_CONFIG_H -I. -I../../include -I../ta_common/ -g -O2 -MT ta_STOCHF.lo -MD -MP -MF .deps/ta_STOCHF.Tpo -c ta_STOCHF.c  -fPIC -DPIC -o .libs/ta_STOCHF.o\n",
            " gcc -DHAVE_CONFIG_H -I. -I../../include -I../ta_common/ -g -O2 -MT ta_STOCHF.lo -MD -MP -MF .deps/ta_STOCHF.Tpo -c ta_STOCHF.c -o ta_STOCHF.o >/dev/null 2>&1\n",
            "mv -f .deps/ta_STOCHF.Tpo .deps/ta_STOCHF.Plo\n",
            "/bin/bash ../../libtool --tag=CC   --mode=compile gcc -DHAVE_CONFIG_H -I. -I../../include  -I../ta_common/   -g -O2 -MT ta_STOCHRSI.lo -MD -MP -MF .deps/ta_STOCHRSI.Tpo -c -o ta_STOCHRSI.lo ta_STOCHRSI.c\n",
            " gcc -DHAVE_CONFIG_H -I. -I../../include -I../ta_common/ -g -O2 -MT ta_STOCHRSI.lo -MD -MP -MF .deps/ta_STOCHRSI.Tpo -c ta_STOCHRSI.c  -fPIC -DPIC -o .libs/ta_STOCHRSI.o\n",
            " gcc -DHAVE_CONFIG_H -I. -I../../include -I../ta_common/ -g -O2 -MT ta_STOCHRSI.lo -MD -MP -MF .deps/ta_STOCHRSI.Tpo -c ta_STOCHRSI.c -o ta_STOCHRSI.o >/dev/null 2>&1\n",
            "mv -f .deps/ta_STOCHRSI.Tpo .deps/ta_STOCHRSI.Plo\n",
            "/bin/bash ../../libtool --tag=CC   --mode=compile gcc -DHAVE_CONFIG_H -I. -I../../include  -I../ta_common/   -g -O2 -MT ta_SUB.lo -MD -MP -MF .deps/ta_SUB.Tpo -c -o ta_SUB.lo ta_SUB.c\n",
            " gcc -DHAVE_CONFIG_H -I. -I../../include -I../ta_common/ -g -O2 -MT ta_SUB.lo -MD -MP -MF .deps/ta_SUB.Tpo -c ta_SUB.c  -fPIC -DPIC -o .libs/ta_SUB.o\n",
            " gcc -DHAVE_CONFIG_H -I. -I../../include -I../ta_common/ -g -O2 -MT ta_SUB.lo -MD -MP -MF .deps/ta_SUB.Tpo -c ta_SUB.c -o ta_SUB.o >/dev/null 2>&1\n",
            "mv -f .deps/ta_SUB.Tpo .deps/ta_SUB.Plo\n",
            "/bin/bash ../../libtool --tag=CC   --mode=compile gcc -DHAVE_CONFIG_H -I. -I../../include  -I../ta_common/   -g -O2 -MT ta_SUM.lo -MD -MP -MF .deps/ta_SUM.Tpo -c -o ta_SUM.lo ta_SUM.c\n",
            " gcc -DHAVE_CONFIG_H -I. -I../../include -I../ta_common/ -g -O2 -MT ta_SUM.lo -MD -MP -MF .deps/ta_SUM.Tpo -c ta_SUM.c  -fPIC -DPIC -o .libs/ta_SUM.o\n",
            " gcc -DHAVE_CONFIG_H -I. -I../../include -I../ta_common/ -g -O2 -MT ta_SUM.lo -MD -MP -MF .deps/ta_SUM.Tpo -c ta_SUM.c -o ta_SUM.o >/dev/null 2>&1\n",
            "mv -f .deps/ta_SUM.Tpo .deps/ta_SUM.Plo\n",
            "/bin/bash ../../libtool --tag=CC   --mode=compile gcc -DHAVE_CONFIG_H -I. -I../../include  -I../ta_common/   -g -O2 -MT ta_T3.lo -MD -MP -MF .deps/ta_T3.Tpo -c -o ta_T3.lo ta_T3.c\n",
            " gcc -DHAVE_CONFIG_H -I. -I../../include -I../ta_common/ -g -O2 -MT ta_T3.lo -MD -MP -MF .deps/ta_T3.Tpo -c ta_T3.c  -fPIC -DPIC -o .libs/ta_T3.o\n",
            " gcc -DHAVE_CONFIG_H -I. -I../../include -I../ta_common/ -g -O2 -MT ta_T3.lo -MD -MP -MF .deps/ta_T3.Tpo -c ta_T3.c -o ta_T3.o >/dev/null 2>&1\n",
            "mv -f .deps/ta_T3.Tpo .deps/ta_T3.Plo\n",
            "/bin/bash ../../libtool --tag=CC   --mode=compile gcc -DHAVE_CONFIG_H -I. -I../../include  -I../ta_common/   -g -O2 -MT ta_TAN.lo -MD -MP -MF .deps/ta_TAN.Tpo -c -o ta_TAN.lo ta_TAN.c\n",
            " gcc -DHAVE_CONFIG_H -I. -I../../include -I../ta_common/ -g -O2 -MT ta_TAN.lo -MD -MP -MF .deps/ta_TAN.Tpo -c ta_TAN.c  -fPIC -DPIC -o .libs/ta_TAN.o\n",
            " gcc -DHAVE_CONFIG_H -I. -I../../include -I../ta_common/ -g -O2 -MT ta_TAN.lo -MD -MP -MF .deps/ta_TAN.Tpo -c ta_TAN.c -o ta_TAN.o >/dev/null 2>&1\n",
            "mv -f .deps/ta_TAN.Tpo .deps/ta_TAN.Plo\n",
            "/bin/bash ../../libtool --tag=CC   --mode=compile gcc -DHAVE_CONFIG_H -I. -I../../include  -I../ta_common/   -g -O2 -MT ta_TANH.lo -MD -MP -MF .deps/ta_TANH.Tpo -c -o ta_TANH.lo ta_TANH.c\n",
            " gcc -DHAVE_CONFIG_H -I. -I../../include -I../ta_common/ -g -O2 -MT ta_TANH.lo -MD -MP -MF .deps/ta_TANH.Tpo -c ta_TANH.c  -fPIC -DPIC -o .libs/ta_TANH.o\n",
            " gcc -DHAVE_CONFIG_H -I. -I../../include -I../ta_common/ -g -O2 -MT ta_TANH.lo -MD -MP -MF .deps/ta_TANH.Tpo -c ta_TANH.c -o ta_TANH.o >/dev/null 2>&1\n",
            "mv -f .deps/ta_TANH.Tpo .deps/ta_TANH.Plo\n",
            "/bin/bash ../../libtool --tag=CC   --mode=compile gcc -DHAVE_CONFIG_H -I. -I../../include  -I../ta_common/   -g -O2 -MT ta_TEMA.lo -MD -MP -MF .deps/ta_TEMA.Tpo -c -o ta_TEMA.lo ta_TEMA.c\n",
            " gcc -DHAVE_CONFIG_H -I. -I../../include -I../ta_common/ -g -O2 -MT ta_TEMA.lo -MD -MP -MF .deps/ta_TEMA.Tpo -c ta_TEMA.c  -fPIC -DPIC -o .libs/ta_TEMA.o\n",
            " gcc -DHAVE_CONFIG_H -I. -I../../include -I../ta_common/ -g -O2 -MT ta_TEMA.lo -MD -MP -MF .deps/ta_TEMA.Tpo -c ta_TEMA.c -o ta_TEMA.o >/dev/null 2>&1\n",
            "mv -f .deps/ta_TEMA.Tpo .deps/ta_TEMA.Plo\n",
            "/bin/bash ../../libtool --tag=CC   --mode=compile gcc -DHAVE_CONFIG_H -I. -I../../include  -I../ta_common/   -g -O2 -MT ta_TRANGE.lo -MD -MP -MF .deps/ta_TRANGE.Tpo -c -o ta_TRANGE.lo ta_TRANGE.c\n",
            " gcc -DHAVE_CONFIG_H -I. -I../../include -I../ta_common/ -g -O2 -MT ta_TRANGE.lo -MD -MP -MF .deps/ta_TRANGE.Tpo -c ta_TRANGE.c  -fPIC -DPIC -o .libs/ta_TRANGE.o\n",
            " gcc -DHAVE_CONFIG_H -I. -I../../include -I../ta_common/ -g -O2 -MT ta_TRANGE.lo -MD -MP -MF .deps/ta_TRANGE.Tpo -c ta_TRANGE.c -o ta_TRANGE.o >/dev/null 2>&1\n",
            "mv -f .deps/ta_TRANGE.Tpo .deps/ta_TRANGE.Plo\n",
            "/bin/bash ../../libtool --tag=CC   --mode=compile gcc -DHAVE_CONFIG_H -I. -I../../include  -I../ta_common/   -g -O2 -MT ta_TRIMA.lo -MD -MP -MF .deps/ta_TRIMA.Tpo -c -o ta_TRIMA.lo ta_TRIMA.c\n",
            " gcc -DHAVE_CONFIG_H -I. -I../../include -I../ta_common/ -g -O2 -MT ta_TRIMA.lo -MD -MP -MF .deps/ta_TRIMA.Tpo -c ta_TRIMA.c  -fPIC -DPIC -o .libs/ta_TRIMA.o\n",
            " gcc -DHAVE_CONFIG_H -I. -I../../include -I../ta_common/ -g -O2 -MT ta_TRIMA.lo -MD -MP -MF .deps/ta_TRIMA.Tpo -c ta_TRIMA.c -o ta_TRIMA.o >/dev/null 2>&1\n",
            "mv -f .deps/ta_TRIMA.Tpo .deps/ta_TRIMA.Plo\n",
            "/bin/bash ../../libtool --tag=CC   --mode=compile gcc -DHAVE_CONFIG_H -I. -I../../include  -I../ta_common/   -g -O2 -MT ta_TRIX.lo -MD -MP -MF .deps/ta_TRIX.Tpo -c -o ta_TRIX.lo ta_TRIX.c\n",
            " gcc -DHAVE_CONFIG_H -I. -I../../include -I../ta_common/ -g -O2 -MT ta_TRIX.lo -MD -MP -MF .deps/ta_TRIX.Tpo -c ta_TRIX.c  -fPIC -DPIC -o .libs/ta_TRIX.o\n",
            " gcc -DHAVE_CONFIG_H -I. -I../../include -I../ta_common/ -g -O2 -MT ta_TRIX.lo -MD -MP -MF .deps/ta_TRIX.Tpo -c ta_TRIX.c -o ta_TRIX.o >/dev/null 2>&1\n",
            "mv -f .deps/ta_TRIX.Tpo .deps/ta_TRIX.Plo\n",
            "/bin/bash ../../libtool --tag=CC   --mode=compile gcc -DHAVE_CONFIG_H -I. -I../../include  -I../ta_common/   -g -O2 -MT ta_TSF.lo -MD -MP -MF .deps/ta_TSF.Tpo -c -o ta_TSF.lo ta_TSF.c\n",
            " gcc -DHAVE_CONFIG_H -I. -I../../include -I../ta_common/ -g -O2 -MT ta_TSF.lo -MD -MP -MF .deps/ta_TSF.Tpo -c ta_TSF.c  -fPIC -DPIC -o .libs/ta_TSF.o\n",
            " gcc -DHAVE_CONFIG_H -I. -I../../include -I../ta_common/ -g -O2 -MT ta_TSF.lo -MD -MP -MF .deps/ta_TSF.Tpo -c ta_TSF.c -o ta_TSF.o >/dev/null 2>&1\n",
            "mv -f .deps/ta_TSF.Tpo .deps/ta_TSF.Plo\n",
            "/bin/bash ../../libtool --tag=CC   --mode=compile gcc -DHAVE_CONFIG_H -I. -I../../include  -I../ta_common/   -g -O2 -MT ta_TYPPRICE.lo -MD -MP -MF .deps/ta_TYPPRICE.Tpo -c -o ta_TYPPRICE.lo ta_TYPPRICE.c\n",
            " gcc -DHAVE_CONFIG_H -I. -I../../include -I../ta_common/ -g -O2 -MT ta_TYPPRICE.lo -MD -MP -MF .deps/ta_TYPPRICE.Tpo -c ta_TYPPRICE.c  -fPIC -DPIC -o .libs/ta_TYPPRICE.o\n",
            " gcc -DHAVE_CONFIG_H -I. -I../../include -I../ta_common/ -g -O2 -MT ta_TYPPRICE.lo -MD -MP -MF .deps/ta_TYPPRICE.Tpo -c ta_TYPPRICE.c -o ta_TYPPRICE.o >/dev/null 2>&1\n",
            "mv -f .deps/ta_TYPPRICE.Tpo .deps/ta_TYPPRICE.Plo\n",
            "/bin/bash ../../libtool --tag=CC   --mode=compile gcc -DHAVE_CONFIG_H -I. -I../../include  -I../ta_common/   -g -O2 -MT ta_ULTOSC.lo -MD -MP -MF .deps/ta_ULTOSC.Tpo -c -o ta_ULTOSC.lo ta_ULTOSC.c\n",
            " gcc -DHAVE_CONFIG_H -I. -I../../include -I../ta_common/ -g -O2 -MT ta_ULTOSC.lo -MD -MP -MF .deps/ta_ULTOSC.Tpo -c ta_ULTOSC.c  -fPIC -DPIC -o .libs/ta_ULTOSC.o\n",
            " gcc -DHAVE_CONFIG_H -I. -I../../include -I../ta_common/ -g -O2 -MT ta_ULTOSC.lo -MD -MP -MF .deps/ta_ULTOSC.Tpo -c ta_ULTOSC.c -o ta_ULTOSC.o >/dev/null 2>&1\n",
            "mv -f .deps/ta_ULTOSC.Tpo .deps/ta_ULTOSC.Plo\n",
            "/bin/bash ../../libtool --tag=CC   --mode=compile gcc -DHAVE_CONFIG_H -I. -I../../include  -I../ta_common/   -g -O2 -MT ta_VAR.lo -MD -MP -MF .deps/ta_VAR.Tpo -c -o ta_VAR.lo ta_VAR.c\n",
            " gcc -DHAVE_CONFIG_H -I. -I../../include -I../ta_common/ -g -O2 -MT ta_VAR.lo -MD -MP -MF .deps/ta_VAR.Tpo -c ta_VAR.c  -fPIC -DPIC -o .libs/ta_VAR.o\n",
            " gcc -DHAVE_CONFIG_H -I. -I../../include -I../ta_common/ -g -O2 -MT ta_VAR.lo -MD -MP -MF .deps/ta_VAR.Tpo -c ta_VAR.c -o ta_VAR.o >/dev/null 2>&1\n",
            "mv -f .deps/ta_VAR.Tpo .deps/ta_VAR.Plo\n",
            "/bin/bash ../../libtool --tag=CC   --mode=compile gcc -DHAVE_CONFIG_H -I. -I../../include  -I../ta_common/   -g -O2 -MT ta_WCLPRICE.lo -MD -MP -MF .deps/ta_WCLPRICE.Tpo -c -o ta_WCLPRICE.lo ta_WCLPRICE.c\n",
            " gcc -DHAVE_CONFIG_H -I. -I../../include -I../ta_common/ -g -O2 -MT ta_WCLPRICE.lo -MD -MP -MF .deps/ta_WCLPRICE.Tpo -c ta_WCLPRICE.c  -fPIC -DPIC -o .libs/ta_WCLPRICE.o\n",
            " gcc -DHAVE_CONFIG_H -I. -I../../include -I../ta_common/ -g -O2 -MT ta_WCLPRICE.lo -MD -MP -MF .deps/ta_WCLPRICE.Tpo -c ta_WCLPRICE.c -o ta_WCLPRICE.o >/dev/null 2>&1\n",
            "mv -f .deps/ta_WCLPRICE.Tpo .deps/ta_WCLPRICE.Plo\n",
            "/bin/bash ../../libtool --tag=CC   --mode=compile gcc -DHAVE_CONFIG_H -I. -I../../include  -I../ta_common/   -g -O2 -MT ta_WILLR.lo -MD -MP -MF .deps/ta_WILLR.Tpo -c -o ta_WILLR.lo ta_WILLR.c\n",
            " gcc -DHAVE_CONFIG_H -I. -I../../include -I../ta_common/ -g -O2 -MT ta_WILLR.lo -MD -MP -MF .deps/ta_WILLR.Tpo -c ta_WILLR.c  -fPIC -DPIC -o .libs/ta_WILLR.o\n",
            " gcc -DHAVE_CONFIG_H -I. -I../../include -I../ta_common/ -g -O2 -MT ta_WILLR.lo -MD -MP -MF .deps/ta_WILLR.Tpo -c ta_WILLR.c -o ta_WILLR.o >/dev/null 2>&1\n",
            "mv -f .deps/ta_WILLR.Tpo .deps/ta_WILLR.Plo\n",
            "/bin/bash ../../libtool --tag=CC   --mode=compile gcc -DHAVE_CONFIG_H -I. -I../../include  -I../ta_common/   -g -O2 -MT ta_WMA.lo -MD -MP -MF .deps/ta_WMA.Tpo -c -o ta_WMA.lo ta_WMA.c\n",
            " gcc -DHAVE_CONFIG_H -I. -I../../include -I../ta_common/ -g -O2 -MT ta_WMA.lo -MD -MP -MF .deps/ta_WMA.Tpo -c ta_WMA.c  -fPIC -DPIC -o .libs/ta_WMA.o\n",
            " gcc -DHAVE_CONFIG_H -I. -I../../include -I../ta_common/ -g -O2 -MT ta_WMA.lo -MD -MP -MF .deps/ta_WMA.Tpo -c ta_WMA.c -o ta_WMA.o >/dev/null 2>&1\n",
            "mv -f .deps/ta_WMA.Tpo .deps/ta_WMA.Plo\n",
            "/bin/bash ../../libtool --tag=CC   --mode=link gcc  -g -O2 -version-info 0:0:0  -o libta_func.la  ta_utility.lo ta_ACOS.lo ta_AD.lo ta_ADD.lo ta_ADOSC.lo ta_ADX.lo ta_ADXR.lo ta_APO.lo ta_AROON.lo ta_AROONOSC.lo ta_ASIN.lo ta_ATAN.lo ta_ATR.lo ta_AVGPRICE.lo ta_BBANDS.lo ta_BETA.lo ta_BOP.lo ta_CCI.lo ta_CDL2CROWS.lo ta_CDL3BLACKCROWS.lo ta_CDL3INSIDE.lo ta_CDL3LINESTRIKE.lo ta_CDL3OUTSIDE.lo ta_CDL3STARSINSOUTH.lo ta_CDL3WHITESOLDIERS.lo ta_CDLABANDONEDBABY.lo ta_CDLADVANCEBLOCK.lo ta_CDLBELTHOLD.lo ta_CDLBREAKAWAY.lo ta_CDLCLOSINGMARUBOZU.lo ta_CDLCONCEALBABYSWALL.lo ta_CDLCOUNTERATTACK.lo ta_CDLDARKCLOUDCOVER.lo ta_CDLDOJI.lo ta_CDLDOJISTAR.lo ta_CDLDRAGONFLYDOJI.lo ta_CDLENGULFING.lo ta_CDLEVENINGDOJISTAR.lo ta_CDLEVENINGSTAR.lo ta_CDLGAPSIDESIDEWHITE.lo ta_CDLGRAVESTONEDOJI.lo ta_CDLHAMMER.lo ta_CDLHANGINGMAN.lo ta_CDLHARAMI.lo ta_CDLHARAMICROSS.lo ta_CDLHIGHWAVE.lo ta_CDLHIKKAKE.lo ta_CDLHIKKAKEMOD.lo ta_CDLHOMINGPIGEON.lo ta_CDLIDENTICAL3CROWS.lo ta_CDLINNECK.lo ta_CDLINVERTEDHAMMER.lo ta_CDLKICKING.lo ta_CDLKICKINGBYLENGTH.lo ta_CDLLADDERBOTTOM.lo ta_CDLLONGLEGGEDDOJI.lo ta_CDLLONGLINE.lo ta_CDLMARUBOZU.lo ta_CDLMATCHINGLOW.lo ta_CDLMATHOLD.lo ta_CDLMORNINGDOJISTAR.lo ta_CDLMORNINGSTAR.lo ta_CDLONNECK.lo ta_CDLPIERCING.lo ta_CDLRICKSHAWMAN.lo ta_CDLRISEFALL3METHODS.lo ta_CDLSEPARATINGLINES.lo ta_CDLSHOOTINGSTAR.lo ta_CDLSHORTLINE.lo ta_CDLSPINNINGTOP.lo ta_CDLSTALLEDPATTERN.lo ta_CDLSTICKSANDWICH.lo ta_CDLTAKURI.lo ta_CDLTASUKIGAP.lo ta_CDLTHRUSTING.lo ta_CDLTRISTAR.lo ta_CDLUNIQUE3RIVER.lo ta_CDLUPSIDEGAP2CROWS.lo ta_CDLXSIDEGAP3METHODS.lo ta_CEIL.lo ta_CMO.lo ta_CORREL.lo ta_COS.lo ta_COSH.lo ta_DEMA.lo ta_DIV.lo ta_DX.lo ta_EMA.lo ta_EXP.lo ta_FLOOR.lo ta_HT_DCPERIOD.lo ta_HT_DCPHASE.lo ta_HT_PHASOR.lo ta_HT_SINE.lo ta_HT_TRENDLINE.lo ta_HT_TRENDMODE.lo ta_KAMA.lo ta_LINEARREG.lo ta_LINEARREG_ANGLE.lo ta_LINEARREG_INTERCEPT.lo ta_LINEARREG_SLOPE.lo ta_LN.lo ta_LOG10.lo ta_MA.lo ta_MACD.lo ta_MACDEXT.lo ta_MACDFIX.lo ta_MAMA.lo ta_MAVP.lo ta_MAX.lo ta_MAXINDEX.lo ta_MEDPRICE.lo ta_MFI.lo ta_MIDPOINT.lo ta_MIDPRICE.lo ta_MIN.lo ta_MININDEX.lo ta_MINMAX.lo ta_MINMAXINDEX.lo ta_MINUS_DI.lo ta_MINUS_DM.lo ta_MOM.lo ta_MULT.lo ta_NATR.lo ta_OBV.lo ta_PLUS_DI.lo ta_PLUS_DM.lo ta_PPO.lo ta_ROC.lo ta_ROCP.lo ta_ROCR.lo ta_ROCR100.lo ta_RSI.lo ta_SAR.lo ta_SAREXT.lo ta_SIN.lo ta_SINH.lo ta_SMA.lo ta_SQRT.lo ta_STDDEV.lo ta_STOCH.lo ta_STOCHF.lo ta_STOCHRSI.lo ta_SUB.lo ta_SUM.lo ta_T3.lo ta_TAN.lo ta_TANH.lo ta_TEMA.lo ta_TRANGE.lo ta_TRIMA.lo ta_TRIX.lo ta_TSF.lo ta_TYPPRICE.lo ta_ULTOSC.lo ta_VAR.lo ta_WCLPRICE.lo ta_WILLR.lo ta_WMA.lo  -lpthread -ldl \n",
            "libtool: link: warning: `-version-info/-version-number' is ignored for convenience libraries\n",
            "ar cru .libs/libta_func.a .libs/ta_utility.o .libs/ta_ACOS.o .libs/ta_AD.o .libs/ta_ADD.o .libs/ta_ADOSC.o .libs/ta_ADX.o .libs/ta_ADXR.o .libs/ta_APO.o .libs/ta_AROON.o .libs/ta_AROONOSC.o .libs/ta_ASIN.o .libs/ta_ATAN.o .libs/ta_ATR.o .libs/ta_AVGPRICE.o .libs/ta_BBANDS.o .libs/ta_BETA.o .libs/ta_BOP.o .libs/ta_CCI.o .libs/ta_CDL2CROWS.o .libs/ta_CDL3BLACKCROWS.o .libs/ta_CDL3INSIDE.o .libs/ta_CDL3LINESTRIKE.o .libs/ta_CDL3OUTSIDE.o .libs/ta_CDL3STARSINSOUTH.o .libs/ta_CDL3WHITESOLDIERS.o .libs/ta_CDLABANDONEDBABY.o .libs/ta_CDLADVANCEBLOCK.o .libs/ta_CDLBELTHOLD.o .libs/ta_CDLBREAKAWAY.o .libs/ta_CDLCLOSINGMARUBOZU.o .libs/ta_CDLCONCEALBABYSWALL.o .libs/ta_CDLCOUNTERATTACK.o .libs/ta_CDLDARKCLOUDCOVER.o .libs/ta_CDLDOJI.o .libs/ta_CDLDOJISTAR.o .libs/ta_CDLDRAGONFLYDOJI.o .libs/ta_CDLENGULFING.o .libs/ta_CDLEVENINGDOJISTAR.o .libs/ta_CDLEVENINGSTAR.o .libs/ta_CDLGAPSIDESIDEWHITE.o .libs/ta_CDLGRAVESTONEDOJI.o .libs/ta_CDLHAMMER.o .libs/ta_CDLHANGINGMAN.o .libs/ta_CDLHARAMI.o .libs/ta_CDLHARAMICROSS.o .libs/ta_CDLHIGHWAVE.o .libs/ta_CDLHIKKAKE.o .libs/ta_CDLHIKKAKEMOD.o .libs/ta_CDLHOMINGPIGEON.o .libs/ta_CDLIDENTICAL3CROWS.o .libs/ta_CDLINNECK.o .libs/ta_CDLINVERTEDHAMMER.o .libs/ta_CDLKICKING.o .libs/ta_CDLKICKINGBYLENGTH.o .libs/ta_CDLLADDERBOTTOM.o .libs/ta_CDLLONGLEGGEDDOJI.o .libs/ta_CDLLONGLINE.o .libs/ta_CDLMARUBOZU.o .libs/ta_CDLMATCHINGLOW.o .libs/ta_CDLMATHOLD.o .libs/ta_CDLMORNINGDOJISTAR.o .libs/ta_CDLMORNINGSTAR.o .libs/ta_CDLONNECK.o .libs/ta_CDLPIERCING.o .libs/ta_CDLRICKSHAWMAN.o .libs/ta_CDLRISEFALL3METHODS.o .libs/ta_CDLSEPARATINGLINES.o .libs/ta_CDLSHOOTINGSTAR.o .libs/ta_CDLSHORTLINE.o .libs/ta_CDLSPINNINGTOP.o .libs/ta_CDLSTALLEDPATTERN.o .libs/ta_CDLSTICKSANDWICH.o .libs/ta_CDLTAKURI.o .libs/ta_CDLTASUKIGAP.o .libs/ta_CDLTHRUSTING.o .libs/ta_CDLTRISTAR.o .libs/ta_CDLUNIQUE3RIVER.o .libs/ta_CDLUPSIDEGAP2CROWS.o .libs/ta_CDLXSIDEGAP3METHODS.o .libs/ta_CEIL.o .libs/ta_CMO.o .libs/ta_CORREL.o .libs/ta_COS.o .libs/ta_COSH.o .libs/ta_DEMA.o .libs/ta_DIV.o .libs/ta_DX.o .libs/ta_EMA.o .libs/ta_EXP.o .libs/ta_FLOOR.o .libs/ta_HT_DCPERIOD.o .libs/ta_HT_DCPHASE.o .libs/ta_HT_PHASOR.o .libs/ta_HT_SINE.o .libs/ta_HT_TRENDLINE.o .libs/ta_HT_TRENDMODE.o .libs/ta_KAMA.o .libs/ta_LINEARREG.o .libs/ta_LINEARREG_ANGLE.o .libs/ta_LINEARREG_INTERCEPT.o .libs/ta_LINEARREG_SLOPE.o .libs/ta_LN.o .libs/ta_LOG10.o .libs/ta_MA.o .libs/ta_MACD.o .libs/ta_MACDEXT.o .libs/ta_MACDFIX.o .libs/ta_MAMA.o .libs/ta_MAVP.o .libs/ta_MAX.o .libs/ta_MAXINDEX.o .libs/ta_MEDPRICE.o .libs/ta_MFI.o .libs/ta_MIDPOINT.o .libs/ta_MIDPRICE.o .libs/ta_MIN.o .libs/ta_MININDEX.o .libs/ta_MINMAX.o .libs/ta_MINMAXINDEX.o .libs/ta_MINUS_DI.o .libs/ta_MINUS_DM.o .libs/ta_MOM.o .libs/ta_MULT.o .libs/ta_NATR.o .libs/ta_OBV.o .libs/ta_PLUS_DI.o .libs/ta_PLUS_DM.o .libs/ta_PPO.o .libs/ta_ROC.o .libs/ta_ROCP.o .libs/ta_ROCR.o .libs/ta_ROCR100.o .libs/ta_RSI.o .libs/ta_SAR.o .libs/ta_SAREXT.o .libs/ta_SIN.o .libs/ta_SINH.o .libs/ta_SMA.o .libs/ta_SQRT.o .libs/ta_STDDEV.o .libs/ta_STOCH.o .libs/ta_STOCHF.o .libs/ta_STOCHRSI.o .libs/ta_SUB.o .libs/ta_SUM.o .libs/ta_T3.o .libs/ta_TAN.o .libs/ta_TANH.o .libs/ta_TEMA.o .libs/ta_TRANGE.o .libs/ta_TRIMA.o .libs/ta_TRIX.o .libs/ta_TSF.o .libs/ta_TYPPRICE.o .libs/ta_ULTOSC.o .libs/ta_VAR.o .libs/ta_WCLPRICE.o .libs/ta_WILLR.o .libs/ta_WMA.o\n",
            "ar: `u' modifier ignored since `D' is the default (see `U')\n",
            "ranlib .libs/libta_func.a\n",
            "creating libta_func.la\n",
            "(cd .libs && rm -f libta_func.la && ln -s ../libta_func.la libta_func.la)\n",
            "make[2]: Leaving directory '/root/ta-lib/src/ta_func'\n",
            "make[2]: Entering directory '/root/ta-lib/src'\n",
            "/bin/bash ../libtool --tag=CC   --mode=link gcc  -g -O2 -version-info 0:0:0  -o libta_lib.la -rpath /usr/lib  ta_abstract/libta_abstract.la ta_func/libta_func.la ta_common/libta_common.la -lpthread -ldl \n",
            "mkdir .libs\n",
            "gcc -shared  -Wl,--whole-archive ta_abstract/.libs/libta_abstract.a ta_func/.libs/libta_func.a ta_common/.libs/libta_common.a -Wl,--no-whole-archive  -lpthread -ldl  -Wl,-soname -Wl,libta_lib.so.0 -o .libs/libta_lib.so.0.0.0\n",
            "(cd .libs && rm -f libta_lib.so.0 && ln -s libta_lib.so.0.0.0 libta_lib.so.0)\n",
            "(cd .libs && rm -f libta_lib.so && ln -s libta_lib.so.0.0.0 libta_lib.so)\n",
            "rm -fr .libs/libta_lib.lax\n",
            "mkdir .libs/libta_lib.lax\n",
            "rm -fr .libs/libta_lib.lax/libta_abstract.a\n",
            "mkdir .libs/libta_lib.lax/libta_abstract.a\n",
            "(cd .libs/libta_lib.lax/libta_abstract.a && ar x /root/ta-lib/src/ta_abstract/.libs/libta_abstract.a)\n",
            "rm -fr .libs/libta_lib.lax/libta_func.a\n",
            "mkdir .libs/libta_lib.lax/libta_func.a\n",
            "(cd .libs/libta_lib.lax/libta_func.a && ar x /root/ta-lib/src/ta_func/.libs/libta_func.a)\n",
            "rm -fr .libs/libta_lib.lax/libta_common.a\n",
            "mkdir .libs/libta_lib.lax/libta_common.a\n",
            "(cd .libs/libta_lib.lax/libta_common.a && ar x /root/ta-lib/src/ta_common/.libs/libta_common.a)\n",
            "ar cru .libs/libta_lib.a   .libs/libta_lib.lax/libta_abstract.a/libta_abstract_la-table_q.o .libs/libta_lib.lax/libta_abstract.a/libta_abstract_la-ta_func_api.o .libs/libta_lib.lax/libta_abstract.a/libta_abstract_la-table_p.o .libs/libta_lib.lax/libta_abstract.a/libta_abstract_la-ta_def_ui.o .libs/libta_lib.lax/libta_abstract.a/libta_abstract_la-table_y.o .libs/libta_lib.lax/libta_abstract.a/libta_abstract_la-ta_abstract.o .libs/libta_lib.lax/libta_abstract.a/libta_abstract_la-table_w.o .libs/libta_lib.lax/libta_abstract.a/libta_abstract_la-table_u.o .libs/libta_lib.lax/libta_abstract.a/libta_abstract_la-ta_group_idx.o .libs/libta_lib.lax/libta_abstract.a/libta_abstract_la-table_d.o .libs/libta_lib.lax/libta_abstract.a/libta_abstract_la-table_o.o .libs/libta_lib.lax/libta_abstract.a/libta_abstract_la-table_r.o .libs/libta_lib.lax/libta_abstract.a/libta_abstract_la-table_v.o .libs/libta_lib.lax/libta_abstract.a/libta_abstract_la-table_e.o .libs/libta_lib.lax/libta_abstract.a/libta_abstract_la-table_x.o .libs/libta_lib.lax/libta_abstract.a/libta_abstract_la-table_b.o .libs/libta_lib.lax/libta_abstract.a/libta_abstract_la-table_l.o .libs/libta_lib.lax/libta_abstract.a/libta_abstract_la-table_n.o .libs/libta_lib.lax/libta_abstract.a/libta_abstract_la-table_g.o .libs/libta_lib.lax/libta_abstract.a/libta_abstract_la-table_j.o .libs/libta_lib.lax/libta_abstract.a/libta_abstract_la-table_k.o .libs/libta_lib.lax/libta_abstract.a/libta_abstract_la-table_a.o .libs/libta_lib.lax/libta_abstract.a/libta_abstract_la-ta_frame.o .libs/libta_lib.lax/libta_abstract.a/libta_abstract_la-table_i.o .libs/libta_lib.lax/libta_abstract.a/libta_abstract_la-table_t.o .libs/libta_lib.lax/libta_abstract.a/libta_abstract_la-table_s.o .libs/libta_lib.lax/libta_abstract.a/libta_abstract_la-table_z.o .libs/libta_lib.lax/libta_abstract.a/libta_abstract_la-table_h.o .libs/libta_lib.lax/libta_abstract.a/libta_abstract_la-table_m.o .libs/libta_lib.lax/libta_abstract.a/libta_abstract_la-table_c.o .libs/libta_lib.lax/libta_abstract.a/libta_abstract_la-table_f.o  .libs/libta_lib.lax/libta_func.a/ta_CDL3OUTSIDE.o .libs/libta_lib.lax/libta_func.a/ta_SUM.o .libs/libta_lib.lax/libta_func.a/ta_PPO.o .libs/libta_lib.lax/libta_func.a/ta_LINEARREG_ANGLE.o .libs/libta_lib.lax/libta_func.a/ta_TANH.o .libs/libta_lib.lax/libta_func.a/ta_APO.o .libs/libta_lib.lax/libta_func.a/ta_LOG10.o .libs/libta_lib.lax/libta_func.a/ta_SAR.o .libs/libta_lib.lax/libta_func.a/ta_CDL2CROWS.o .libs/libta_lib.lax/libta_func.a/ta_ROCP.o .libs/libta_lib.lax/libta_func.a/ta_ACOS.o .libs/libta_lib.lax/libta_func.a/ta_CDLDOJI.o .libs/libta_lib.lax/libta_func.a/ta_FLOOR.o .libs/libta_lib.lax/libta_func.a/ta_CDLEVENINGDOJISTAR.o .libs/libta_lib.lax/libta_func.a/ta_VAR.o .libs/libta_lib.lax/libta_func.a/ta_CDLMORNINGSTAR.o .libs/libta_lib.lax/libta_func.a/ta_MAVP.o .libs/libta_lib.lax/libta_func.a/ta_CDLTASUKIGAP.o .libs/libta_lib.lax/libta_func.a/ta_TAN.o .libs/libta_lib.lax/libta_func.a/ta_CDLONNECK.o .libs/libta_lib.lax/libta_func.a/ta_CDLLONGLEGGEDDOJI.o .libs/libta_lib.lax/libta_func.a/ta_STOCH.o .libs/libta_lib.lax/libta_func.a/ta_CDLLONGLINE.o .libs/libta_lib.lax/libta_func.a/ta_CDLTAKURI.o .libs/libta_lib.lax/libta_func.a/ta_CDLHOMINGPIGEON.o .libs/libta_lib.lax/libta_func.a/ta_TYPPRICE.o .libs/libta_lib.lax/libta_func.a/ta_SINH.o .libs/libta_lib.lax/libta_func.a/ta_LINEARREG_SLOPE.o .libs/libta_lib.lax/libta_func.a/ta_MININDEX.o .libs/libta_lib.lax/libta_func.a/ta_TRIX.o .libs/libta_lib.lax/libta_func.a/ta_HT_TRENDMODE.o .libs/libta_lib.lax/libta_func.a/ta_CDLXSIDEGAP3METHODS.o .libs/libta_lib.lax/libta_func.a/ta_HT_SINE.o .libs/libta_lib.lax/libta_func.a/ta_MAMA.o .libs/libta_lib.lax/libta_func.a/ta_COS.o .libs/libta_lib.lax/libta_func.a/ta_BOP.o .libs/libta_lib.lax/libta_func.a/ta_CORREL.o .libs/libta_lib.lax/libta_func.a/ta_BETA.o .libs/libta_lib.lax/libta_func.a/ta_CDLSHOOTINGSTAR.o .libs/libta_lib.lax/libta_func.a/ta_MINUS_DM.o .libs/libta_lib.lax/libta_func.a/ta_WCLPRICE.o .libs/libta_lib.lax/libta_func.a/ta_CDL3STARSINSOUTH.o .libs/libta_lib.lax/libta_func.a/ta_MFI.o .libs/libta_lib.lax/libta_func.a/ta_CCI.o .libs/libta_lib.lax/libta_func.a/ta_CDL3WHITESOLDIERS.o .libs/libta_lib.lax/libta_func.a/ta_PLUS_DM.o .libs/libta_lib.lax/libta_func.a/ta_CDL3BLACKCROWS.o .libs/libta_lib.lax/libta_func.a/ta_BBANDS.o .libs/libta_lib.lax/libta_func.a/ta_CDLTHRUSTING.o .libs/libta_lib.lax/libta_func.a/ta_MEDPRICE.o .libs/libta_lib.lax/libta_func.a/ta_CDLHIKKAKEMOD.o .libs/libta_lib.lax/libta_func.a/ta_RSI.o .libs/libta_lib.lax/libta_func.a/ta_CDLSPINNINGTOP.o .libs/libta_lib.lax/libta_func.a/ta_MOM.o .libs/libta_lib.lax/libta_func.a/ta_T3.o .libs/libta_lib.lax/libta_func.a/ta_CDLGAPSIDESIDEWHITE.o .libs/libta_lib.lax/libta_func.a/ta_CDLUPSIDEGAP2CROWS.o .libs/libta_lib.lax/libta_func.a/ta_CMO.o .libs/libta_lib.lax/libta_func.a/ta_ROCR100.o .libs/libta_lib.lax/libta_func.a/ta_TRIMA.o .libs/libta_lib.lax/libta_func.a/ta_MAX.o .libs/libta_lib.lax/libta_func.a/ta_LINEARREG_INTERCEPT.o .libs/libta_lib.lax/libta_func.a/ta_CDLEVENINGSTAR.o .libs/libta_lib.lax/libta_func.a/ta_ROCR.o .libs/libta_lib.lax/libta_func.a/ta_CDLRICKSHAWMAN.o .libs/libta_lib.lax/libta_func.a/ta_TEMA.o .libs/libta_lib.lax/libta_func.a/ta_CDLKICKINGBYLENGTH.o .libs/libta_lib.lax/libta_func.a/ta_CDLHANGINGMAN.o .libs/libta_lib.lax/libta_func.a/ta_ADD.o .libs/libta_lib.lax/libta_func.a/ta_NATR.o .libs/libta_lib.lax/libta_func.a/ta_AROONOSC.o .libs/libta_lib.lax/libta_func.a/ta_DIV.o .libs/libta_lib.lax/libta_func.a/ta_utility.o .libs/libta_lib.lax/libta_func.a/ta_PLUS_DI.o .libs/libta_lib.lax/libta_func.a/ta_MINUS_DI.o .libs/libta_lib.lax/libta_func.a/ta_CDLCONCEALBABYSWALL.o .libs/libta_lib.lax/libta_func.a/ta_COSH.o .libs/libta_lib.lax/libta_func.a/ta_CDLHARAMI.o .libs/libta_lib.lax/libta_func.a/ta_STOCHRSI.o .libs/libta_lib.lax/libta_func.a/ta_SMA.o .libs/libta_lib.lax/libta_func.a/ta_HT_DCPERIOD.o .libs/libta_lib.lax/libta_func.a/ta_CDL3INSIDE.o .libs/libta_lib.lax/libta_func.a/ta_LINEARREG.o .libs/libta_lib.lax/libta_func.a/ta_CDLPIERCING.o .libs/libta_lib.lax/libta_func.a/ta_CDLDRAGONFLYDOJI.o .libs/libta_lib.lax/libta_func.a/ta_CDLLADDERBOTTOM.o .libs/libta_lib.lax/libta_func.a/ta_MIDPRICE.o .libs/libta_lib.lax/libta_func.a/ta_SQRT.o .libs/libta_lib.lax/libta_func.a/ta_AROON.o .libs/libta_lib.lax/libta_func.a/ta_ATAN.o .libs/libta_lib.lax/libta_func.a/ta_DX.o .libs/libta_lib.lax/libta_func.a/ta_CEIL.o .libs/libta_lib.lax/libta_func.a/ta_DEMA.o .libs/libta_lib.lax/libta_func.a/ta_CDLDOJISTAR.o .libs/libta_lib.lax/libta_func.a/ta_CDLGRAVESTONEDOJI.o .libs/libta_lib.lax/libta_func.a/ta_MIDPOINT.o .libs/libta_lib.lax/libta_func.a/ta_MINMAXINDEX.o .libs/libta_lib.lax/libta_func.a/ta_CDLINVERTEDHAMMER.o .libs/libta_lib.lax/libta_func.a/ta_CDLBREAKAWAY.o .libs/libta_lib.lax/libta_func.a/ta_MAXINDEX.o .libs/libta_lib.lax/libta_func.a/ta_STDDEV.o .libs/libta_lib.lax/libta_func.a/ta_CDLHIGHWAVE.o .libs/libta_lib.lax/libta_func.a/ta_ADX.o .libs/libta_lib.lax/libta_func.a/ta_CDLIDENTICAL3CROWS.o .libs/libta_lib.lax/libta_func.a/ta_CDL3LINESTRIKE.o .libs/libta_lib.lax/libta_func.a/ta_CDLKICKING.o .libs/libta_lib.lax/libta_func.a/ta_CDLSHORTLINE.o .libs/libta_lib.lax/libta_func.a/ta_CDLMATHOLD.o .libs/libta_lib.lax/libta_func.a/ta_HT_TRENDLINE.o .libs/libta_lib.lax/libta_func.a/ta_CDLABANDONEDBABY.o .libs/libta_lib.lax/libta_func.a/ta_CDLSEPARATINGLINES.o .libs/libta_lib.lax/libta_func.a/ta_ULTOSC.o .libs/libta_lib.lax/libta_func.a/ta_ADOSC.o .libs/libta_lib.lax/libta_func.a/ta_MACDEXT.o .libs/libta_lib.lax/libta_func.a/ta_CDLDARKCLOUDCOVER.o .libs/libta_lib.lax/libta_func.a/ta_CDLHAMMER.o .libs/libta_lib.lax/libta_func.a/ta_CDLTRISTAR.o .libs/libta_lib.lax/libta_func.a/ta_CDLUNIQUE3RIVER.o .libs/libta_lib.lax/libta_func.a/ta_HT_DCPHASE.o .libs/libta_lib.lax/libta_func.a/ta_ROC.o .libs/libta_lib.lax/libta_func.a/ta_CDLINNECK.o .libs/libta_lib.lax/libta_func.a/ta_CDLCOUNTERATTACK.o .libs/libta_lib.lax/libta_func.a/ta_OBV.o .libs/libta_lib.lax/libta_func.a/ta_MACDFIX.o .libs/libta_lib.lax/libta_func.a/ta_AVGPRICE.o .libs/libta_lib.lax/libta_func.a/ta_EXP.o .libs/libta_lib.lax/libta_func.a/ta_MA.o .libs/libta_lib.lax/libta_func.a/ta_KAMA.o .libs/libta_lib.lax/libta_func.a/ta_CDLSTALLEDPATTERN.o .libs/libta_lib.lax/libta_func.a/ta_CDLHIKKAKE.o .libs/libta_lib.lax/libta_func.a/ta_ATR.o .libs/libta_lib.lax/libta_func.a/ta_CDLMORNINGDOJISTAR.o .libs/libta_lib.lax/libta_func.a/ta_WILLR.o .libs/libta_lib.lax/libta_func.a/ta_HT_PHASOR.o .libs/libta_lib.lax/libta_func.a/ta_WMA.o .libs/libta_lib.lax/libta_func.a/ta_MIN.o .libs/libta_lib.lax/libta_func.a/ta_CDLHARAMICROSS.o .libs/libta_lib.lax/libta_func.a/ta_CDLCLOSINGMARUBOZU.o .libs/libta_lib.lax/libta_func.a/ta_MINMAX.o .libs/libta_lib.lax/libta_func.a/ta_EMA.o .libs/libta_lib.lax/libta_func.a/ta_LN.o .libs/libta_lib.lax/libta_func.a/ta_AD.o .libs/libta_lib.lax/libta_func.a/ta_CDLRISEFALL3METHODS.o .libs/libta_lib.lax/libta_func.a/ta_MACD.o .libs/libta_lib.lax/libta_func.a/ta_MULT.o .libs/libta_lib.lax/libta_func.a/ta_TSF.o .libs/libta_lib.lax/libta_func.a/ta_CDLMARUBOZU.o .libs/libta_lib.lax/libta_func.a/ta_ASIN.o .libs/libta_lib.lax/libta_func.a/ta_CDLMATCHINGLOW.o .libs/libta_lib.lax/libta_func.a/ta_CDLADVANCEBLOCK.o .libs/libta_lib.lax/libta_func.a/ta_STOCHF.o .libs/libta_lib.lax/libta_func.a/ta_SUB.o .libs/libta_lib.lax/libta_func.a/ta_SAREXT.o .libs/libta_lib.lax/libta_func.a/ta_CDLENGULFING.o .libs/libta_lib.lax/libta_func.a/ta_SIN.o .libs/libta_lib.lax/libta_func.a/ta_CDLBELTHOLD.o .libs/libta_lib.lax/libta_func.a/ta_TRANGE.o .libs/libta_lib.lax/libta_func.a/ta_CDLSTICKSANDWICH.o .libs/libta_lib.lax/libta_func.a/ta_ADXR.o  .libs/libta_lib.lax/libta_common.a/ta_global.o .libs/libta_lib.lax/libta_common.a/ta_retcode.o .libs/libta_lib.lax/libta_common.a/ta_version.o \n",
            "ar: `u' modifier ignored since `D' is the default (see `U')\n",
            "ranlib .libs/libta_lib.a\n",
            "rm -fr .libs/libta_lib.lax\n",
            "creating libta_lib.la\n",
            "(cd .libs && rm -f libta_lib.la && ln -s ../libta_lib.la libta_lib.la)\n",
            "make[2]: Leaving directory '/root/ta-lib/src'\n",
            "make[1]: Leaving directory '/root/ta-lib/src'\n",
            "Making all in src/tools\n",
            "make[1]: Entering directory '/root/ta-lib/src/tools'\n",
            "Making all in gen_code\n",
            "make[2]: Entering directory '/root/ta-lib/src/tools/gen_code'\n",
            "gcc -DHAVE_CONFIG_H -I. -I../../../include  -I../../ta_common   -g -O2 -MT gen_code-gen_code.o -MD -MP -MF .deps/gen_code-gen_code.Tpo -c -o gen_code-gen_code.o `test -f 'gen_code.c' || echo './'`gen_code.c\n",
            "\u001b[01m\u001b[Kgen_code.c:\u001b[m\u001b[K In function ‘\u001b[01m\u001b[KprintFuncHeaderDoc\u001b[m\u001b[K’:\n",
            "\u001b[01m\u001b[Kgen_code.c:3456:4:\u001b[m\u001b[K \u001b[01;35m\u001b[Kwarning: \u001b[m\u001b[Kformat not a string literal and no format arguments [\u001b[01;35m\u001b[K-Wformat-security\u001b[m\u001b[K]\n",
            "    \u001b[01;35m\u001b[Kfprintf\u001b[m\u001b[K( out, prefix );\n",
            "    \u001b[01;35m\u001b[K^~~~~~~\u001b[m\u001b[K\n",
            "mv -f .deps/gen_code-gen_code.Tpo .deps/gen_code-gen_code.Po\n",
            "/bin/bash ../../../libtool --tag=CC   --mode=link gcc  -g -O2 -L../../ta_common -L../../ta_abstract -L../../ta_func  -o gen_code gen_code-gen_code.o -lta_common -lta_abstract_gc -lta_func -lm -lpthread -ldl \n",
            "mkdir .libs\n",
            "gcc -g -O2 -o gen_code gen_code-gen_code.o  -L/root/ta-lib/src/ta_common -L/root/ta-lib/src/ta_abstract -L/root/ta-lib/src/ta_func /root/ta-lib/src/ta_common/.libs/libta_common.a /root/ta-lib/src/ta_abstract/.libs/libta_abstract_gc.a /root/ta-lib/src/ta_func/.libs/libta_func.a -lm -lpthread -ldl\n",
            "make  gen_code\n",
            "make[3]: Entering directory '/root/ta-lib/src/tools/gen_code'\n",
            "make[3]: 'gen_code' is up to date.\n",
            "make[3]: Leaving directory '/root/ta-lib/src/tools/gen_code'\n",
            "cp gen_code ../../../bin\n",
            "make[2]: Leaving directory '/root/ta-lib/src/tools/gen_code'\n",
            "Making all in ta_regtest\n",
            "make[2]: Entering directory '/root/ta-lib/src/tools/ta_regtest'\n",
            "gcc -DHAVE_CONFIG_H -I. -I../../../include  -I../../ta_func -I../../ta_common/trio -I../../ta_common/mt -I../../ta_common -I../../ta_abstract   -g -O2 -MT ta_regtest-ta_regtest.o -MD -MP -MF .deps/ta_regtest-ta_regtest.Tpo -c -o ta_regtest-ta_regtest.o `test -f 'ta_regtest.c' || echo './'`ta_regtest.c\n",
            "mv -f .deps/ta_regtest-ta_regtest.Tpo .deps/ta_regtest-ta_regtest.Po\n",
            "gcc -DHAVE_CONFIG_H -I. -I../../../include  -I../../ta_func -I../../ta_common/trio -I../../ta_common/mt -I../../ta_common -I../../ta_abstract   -g -O2 -MT ta_regtest-test_data.o -MD -MP -MF .deps/ta_regtest-test_data.Tpo -c -o ta_regtest-test_data.o `test -f 'test_data.c' || echo './'`test_data.c\n",
            "mv -f .deps/ta_regtest-test_data.Tpo .deps/ta_regtest-test_data.Po\n",
            "gcc -DHAVE_CONFIG_H -I. -I../../../include  -I../../ta_func -I../../ta_common/trio -I../../ta_common/mt -I../../ta_common -I../../ta_abstract   -g -O2 -MT ta_regtest-test_util.o -MD -MP -MF .deps/ta_regtest-test_util.Tpo -c -o ta_regtest-test_util.o `test -f 'test_util.c' || echo './'`test_util.c\n",
            "mv -f .deps/ta_regtest-test_util.Tpo .deps/ta_regtest-test_util.Po\n",
            "gcc -DHAVE_CONFIG_H -I. -I../../../include  -I../../ta_func -I../../ta_common/trio -I../../ta_common/mt -I../../ta_common -I../../ta_abstract   -g -O2 -MT ta_regtest-test_abstract.o -MD -MP -MF .deps/ta_regtest-test_abstract.Tpo -c -o ta_regtest-test_abstract.o `test -f 'test_abstract.c' || echo './'`test_abstract.c\n",
            "mv -f .deps/ta_regtest-test_abstract.Tpo .deps/ta_regtest-test_abstract.Po\n",
            "gcc -DHAVE_CONFIG_H -I. -I../../../include  -I../../ta_func -I../../ta_common/trio -I../../ta_common/mt -I../../ta_common -I../../ta_abstract   -g -O2 -MT ta_regtest-test_adx.o -MD -MP -MF .deps/ta_regtest-test_adx.Tpo -c -o ta_regtest-test_adx.o `test -f 'ta_test_func/test_adx.c' || echo './'`ta_test_func/test_adx.c\n",
            "mv -f .deps/ta_regtest-test_adx.Tpo .deps/ta_regtest-test_adx.Po\n",
            "gcc -DHAVE_CONFIG_H -I. -I../../../include  -I../../ta_func -I../../ta_common/trio -I../../ta_common/mt -I../../ta_common -I../../ta_abstract   -g -O2 -MT ta_regtest-test_mom.o -MD -MP -MF .deps/ta_regtest-test_mom.Tpo -c -o ta_regtest-test_mom.o `test -f 'ta_test_func/test_mom.c' || echo './'`ta_test_func/test_mom.c\n",
            "mv -f .deps/ta_regtest-test_mom.Tpo .deps/ta_regtest-test_mom.Po\n",
            "gcc -DHAVE_CONFIG_H -I. -I../../../include  -I../../ta_func -I../../ta_common/trio -I../../ta_common/mt -I../../ta_common -I../../ta_abstract   -g -O2 -MT ta_regtest-test_sar.o -MD -MP -MF .deps/ta_regtest-test_sar.Tpo -c -o ta_regtest-test_sar.o `test -f 'ta_test_func/test_sar.c' || echo './'`ta_test_func/test_sar.c\n",
            "mv -f .deps/ta_regtest-test_sar.Tpo .deps/ta_regtest-test_sar.Po\n",
            "gcc -DHAVE_CONFIG_H -I. -I../../../include  -I../../ta_func -I../../ta_common/trio -I../../ta_common/mt -I../../ta_common -I../../ta_abstract   -g -O2 -MT ta_regtest-test_rsi.o -MD -MP -MF .deps/ta_regtest-test_rsi.Tpo -c -o ta_regtest-test_rsi.o `test -f 'ta_test_func/test_rsi.c' || echo './'`ta_test_func/test_rsi.c\n",
            "mv -f .deps/ta_regtest-test_rsi.Tpo .deps/ta_regtest-test_rsi.Po\n",
            "gcc -DHAVE_CONFIG_H -I. -I../../../include  -I../../ta_func -I../../ta_common/trio -I../../ta_common/mt -I../../ta_common -I../../ta_abstract   -g -O2 -MT ta_regtest-test_candlestick.o -MD -MP -MF .deps/ta_regtest-test_candlestick.Tpo -c -o ta_regtest-test_candlestick.o `test -f 'ta_test_func/test_candlestick.c' || echo './'`ta_test_func/test_candlestick.c\n",
            "mv -f .deps/ta_regtest-test_candlestick.Tpo .deps/ta_regtest-test_candlestick.Po\n",
            "gcc -DHAVE_CONFIG_H -I. -I../../../include  -I../../ta_func -I../../ta_common/trio -I../../ta_common/mt -I../../ta_common -I../../ta_abstract   -g -O2 -MT ta_regtest-test_per_ema.o -MD -MP -MF .deps/ta_regtest-test_per_ema.Tpo -c -o ta_regtest-test_per_ema.o `test -f 'ta_test_func/test_per_ema.c' || echo './'`ta_test_func/test_per_ema.c\n",
            "mv -f .deps/ta_regtest-test_per_ema.Tpo .deps/ta_regtest-test_per_ema.Po\n",
            "gcc -DHAVE_CONFIG_H -I. -I../../../include  -I../../ta_func -I../../ta_common/trio -I../../ta_common/mt -I../../ta_common -I../../ta_abstract   -g -O2 -MT ta_regtest-test_per_hlc.o -MD -MP -MF .deps/ta_regtest-test_per_hlc.Tpo -c -o ta_regtest-test_per_hlc.o `test -f 'ta_test_func/test_per_hlc.c' || echo './'`ta_test_func/test_per_hlc.c\n",
            "mv -f .deps/ta_regtest-test_per_hlc.Tpo .deps/ta_regtest-test_per_hlc.Po\n",
            "gcc -DHAVE_CONFIG_H -I. -I../../../include  -I../../ta_func -I../../ta_common/trio -I../../ta_common/mt -I../../ta_common -I../../ta_abstract   -g -O2 -MT ta_regtest-test_stoch.o -MD -MP -MF .deps/ta_regtest-test_stoch.Tpo -c -o ta_regtest-test_stoch.o `test -f 'ta_test_func/test_stoch.c' || echo './'`ta_test_func/test_stoch.c\n",
            "mv -f .deps/ta_regtest-test_stoch.Tpo .deps/ta_regtest-test_stoch.Po\n",
            "gcc -DHAVE_CONFIG_H -I. -I../../../include  -I../../ta_func -I../../ta_common/trio -I../../ta_common/mt -I../../ta_common -I../../ta_abstract   -g -O2 -MT ta_regtest-test_macd.o -MD -MP -MF .deps/ta_regtest-test_macd.Tpo -c -o ta_regtest-test_macd.o `test -f 'ta_test_func/test_macd.c' || echo './'`ta_test_func/test_macd.c\n",
            "mv -f .deps/ta_regtest-test_macd.Tpo .deps/ta_regtest-test_macd.Po\n",
            "gcc -DHAVE_CONFIG_H -I. -I../../../include  -I../../ta_func -I../../ta_common/trio -I../../ta_common/mt -I../../ta_common -I../../ta_abstract   -g -O2 -MT ta_regtest-test_minmax.o -MD -MP -MF .deps/ta_regtest-test_minmax.Tpo -c -o ta_regtest-test_minmax.o `test -f 'ta_test_func/test_minmax.c' || echo './'`ta_test_func/test_minmax.c\n",
            "mv -f .deps/ta_regtest-test_minmax.Tpo .deps/ta_regtest-test_minmax.Po\n",
            "gcc -DHAVE_CONFIG_H -I. -I../../../include  -I../../ta_func -I../../ta_common/trio -I../../ta_common/mt -I../../ta_common -I../../ta_abstract   -g -O2 -MT ta_regtest-test_per_hlcv.o -MD -MP -MF .deps/ta_regtest-test_per_hlcv.Tpo -c -o ta_regtest-test_per_hlcv.o `test -f 'ta_test_func/test_per_hlcv.c' || echo './'`ta_test_func/test_per_hlcv.c\n",
            "mv -f .deps/ta_regtest-test_per_hlcv.Tpo .deps/ta_regtest-test_per_hlcv.Po\n",
            "gcc -DHAVE_CONFIG_H -I. -I../../../include  -I../../ta_func -I../../ta_common/trio -I../../ta_common/mt -I../../ta_common -I../../ta_abstract   -g -O2 -MT ta_regtest-test_1in_1out.o -MD -MP -MF .deps/ta_regtest-test_1in_1out.Tpo -c -o ta_regtest-test_1in_1out.o `test -f 'ta_test_func/test_1in_1out.c' || echo './'`ta_test_func/test_1in_1out.c\n",
            "mv -f .deps/ta_regtest-test_1in_1out.Tpo .deps/ta_regtest-test_1in_1out.Po\n",
            "gcc -DHAVE_CONFIG_H -I. -I../../../include  -I../../ta_func -I../../ta_common/trio -I../../ta_common/mt -I../../ta_common -I../../ta_abstract   -g -O2 -MT ta_regtest-test_1in_2out.o -MD -MP -MF .deps/ta_regtest-test_1in_2out.Tpo -c -o ta_regtest-test_1in_2out.o `test -f 'ta_test_func/test_1in_2out.c' || echo './'`ta_test_func/test_1in_2out.c\n",
            "mv -f .deps/ta_regtest-test_1in_2out.Tpo .deps/ta_regtest-test_1in_2out.Po\n",
            "gcc -DHAVE_CONFIG_H -I. -I../../../include  -I../../ta_func -I../../ta_common/trio -I../../ta_common/mt -I../../ta_common -I../../ta_abstract   -g -O2 -MT ta_regtest-test_per_ohlc.o -MD -MP -MF .deps/ta_regtest-test_per_ohlc.Tpo -c -o ta_regtest-test_per_ohlc.o `test -f 'ta_test_func/test_per_ohlc.c' || echo './'`ta_test_func/test_per_ohlc.c\n",
            "mv -f .deps/ta_regtest-test_per_ohlc.Tpo .deps/ta_regtest-test_per_ohlc.Po\n",
            "gcc -DHAVE_CONFIG_H -I. -I../../../include  -I../../ta_func -I../../ta_common/trio -I../../ta_common/mt -I../../ta_common -I../../ta_abstract   -g -O2 -MT ta_regtest-test_stddev.o -MD -MP -MF .deps/ta_regtest-test_stddev.Tpo -c -o ta_regtest-test_stddev.o `test -f 'ta_test_func/test_stddev.c' || echo './'`ta_test_func/test_stddev.c\n",
            "mv -f .deps/ta_regtest-test_stddev.Tpo .deps/ta_regtest-test_stddev.Po\n",
            "gcc -DHAVE_CONFIG_H -I. -I../../../include  -I../../ta_func -I../../ta_common/trio -I../../ta_common/mt -I../../ta_common -I../../ta_abstract   -g -O2 -MT ta_regtest-test_bbands.o -MD -MP -MF .deps/ta_regtest-test_bbands.Tpo -c -o ta_regtest-test_bbands.o `test -f 'ta_test_func/test_bbands.c' || echo './'`ta_test_func/test_bbands.c\n",
            "mv -f .deps/ta_regtest-test_bbands.Tpo .deps/ta_regtest-test_bbands.Po\n",
            "gcc -DHAVE_CONFIG_H -I. -I../../../include  -I../../ta_func -I../../ta_common/trio -I../../ta_common/mt -I../../ta_common -I../../ta_abstract   -g -O2 -MT ta_regtest-test_ma.o -MD -MP -MF .deps/ta_regtest-test_ma.Tpo -c -o ta_regtest-test_ma.o `test -f 'ta_test_func/test_ma.c' || echo './'`ta_test_func/test_ma.c\n",
            "mv -f .deps/ta_regtest-test_ma.Tpo .deps/ta_regtest-test_ma.Po\n",
            "gcc -DHAVE_CONFIG_H -I. -I../../../include  -I../../ta_func -I../../ta_common/trio -I../../ta_common/mt -I../../ta_common -I../../ta_abstract   -g -O2 -MT ta_regtest-test_po.o -MD -MP -MF .deps/ta_regtest-test_po.Tpo -c -o ta_regtest-test_po.o `test -f 'ta_test_func/test_po.c' || echo './'`ta_test_func/test_po.c\n",
            "mv -f .deps/ta_regtest-test_po.Tpo .deps/ta_regtest-test_po.Po\n",
            "gcc -DHAVE_CONFIG_H -I. -I../../../include  -I../../ta_func -I../../ta_common/trio -I../../ta_common/mt -I../../ta_common -I../../ta_abstract   -g -O2 -MT ta_regtest-test_per_hl.o -MD -MP -MF .deps/ta_regtest-test_per_hl.Tpo -c -o ta_regtest-test_per_hl.o `test -f 'ta_test_func/test_per_hl.c' || echo './'`ta_test_func/test_per_hl.c\n",
            "mv -f .deps/ta_regtest-test_per_hl.Tpo .deps/ta_regtest-test_per_hl.Po\n",
            "gcc -DHAVE_CONFIG_H -I. -I../../../include  -I../../ta_func -I../../ta_common/trio -I../../ta_common/mt -I../../ta_common -I../../ta_abstract   -g -O2 -MT ta_regtest-test_trange.o -MD -MP -MF .deps/ta_regtest-test_trange.Tpo -c -o ta_regtest-test_trange.o `test -f 'ta_test_func/test_trange.c' || echo './'`ta_test_func/test_trange.c\n",
            "mv -f .deps/ta_regtest-test_trange.Tpo .deps/ta_regtest-test_trange.Po\n",
            "gcc -DHAVE_CONFIG_H -I. -I../../../include  -I../../ta_func -I../../ta_common/trio -I../../ta_common/mt -I../../ta_common -I../../ta_abstract   -g -O2 -MT ta_regtest-test_internals.o -MD -MP -MF .deps/ta_regtest-test_internals.Tpo -c -o ta_regtest-test_internals.o `test -f 'test_internals.c' || echo './'`test_internals.c\n",
            "mv -f .deps/ta_regtest-test_internals.Tpo .deps/ta_regtest-test_internals.Po\n",
            "/bin/bash ../../../libtool --tag=CC   --mode=link gcc  -g -O2 -L../.. -lta_lib -lm  -o ta_regtest ta_regtest-ta_regtest.o ta_regtest-test_data.o ta_regtest-test_util.o ta_regtest-test_abstract.o ta_regtest-test_adx.o ta_regtest-test_mom.o ta_regtest-test_sar.o ta_regtest-test_rsi.o ta_regtest-test_candlestick.o ta_regtest-test_per_ema.o ta_regtest-test_per_hlc.o ta_regtest-test_stoch.o ta_regtest-test_macd.o ta_regtest-test_minmax.o ta_regtest-test_per_hlcv.o ta_regtest-test_1in_1out.o ta_regtest-test_1in_2out.o ta_regtest-test_per_ohlc.o ta_regtest-test_stddev.o ta_regtest-test_bbands.o ta_regtest-test_ma.o ta_regtest-test_po.o ta_regtest-test_per_hl.o ta_regtest-test_trange.o ta_regtest-test_internals.o  -lpthread -ldl \n",
            "mkdir .libs\n",
            "gcc -g -O2 -o .libs/ta_regtest ta_regtest-ta_regtest.o ta_regtest-test_data.o ta_regtest-test_util.o ta_regtest-test_abstract.o ta_regtest-test_adx.o ta_regtest-test_mom.o ta_regtest-test_sar.o ta_regtest-test_rsi.o ta_regtest-test_candlestick.o ta_regtest-test_per_ema.o ta_regtest-test_per_hlc.o ta_regtest-test_stoch.o ta_regtest-test_macd.o ta_regtest-test_minmax.o ta_regtest-test_per_hlcv.o ta_regtest-test_1in_1out.o ta_regtest-test_1in_2out.o ta_regtest-test_per_ohlc.o ta_regtest-test_stddev.o ta_regtest-test_bbands.o ta_regtest-test_ma.o ta_regtest-test_po.o ta_regtest-test_per_hl.o ta_regtest-test_trange.o ta_regtest-test_internals.o  -L/root/ta-lib/src /root/ta-lib/src/.libs/libta_lib.so -lm -lpthread -ldl\n",
            "creating ta_regtest\n",
            "make[2]: Leaving directory '/root/ta-lib/src/tools/ta_regtest'\n",
            "make[2]: Entering directory '/root/ta-lib/src/tools'\n",
            "make[2]: Nothing to be done for 'all-am'.\n",
            "make[2]: Leaving directory '/root/ta-lib/src/tools'\n",
            "make[1]: Leaving directory '/root/ta-lib/src/tools'\n",
            "make[1]: Entering directory '/root/ta-lib'\n",
            "make[1]: Nothing to be done for 'all-am'.\n",
            "make[1]: Leaving directory '/root/ta-lib'\n",
            "Making install in src\n",
            "make[1]: Entering directory '/root/ta-lib/src'\n",
            "Making install in ta_abstract\n",
            "make[2]: Entering directory '/root/ta-lib/src/ta_abstract'\n",
            "make[3]: Entering directory '/root/ta-lib/src/ta_abstract'\n",
            "make[3]: Nothing to be done for 'install-exec-am'.\n",
            "test -z \"/usr/include/ta-lib/\" || /bin/mkdir -p \"/usr/include/ta-lib/\"\n",
            " /usr/bin/install -c -m 644 '../../include/ta_defs.h' '/usr/include/ta-lib//ta_defs.h'\n",
            " /usr/bin/install -c -m 644 '../../include/ta_libc.h' '/usr/include/ta-lib//ta_libc.h'\n",
            " /usr/bin/install -c -m 644 '../../include/ta_abstract.h' '/usr/include/ta-lib//ta_abstract.h'\n",
            "make[3]: Leaving directory '/root/ta-lib/src/ta_abstract'\n",
            "make[2]: Leaving directory '/root/ta-lib/src/ta_abstract'\n",
            "Making install in ta_common\n",
            "make[2]: Entering directory '/root/ta-lib/src/ta_common'\n",
            "make[3]: Entering directory '/root/ta-lib/src/ta_common'\n",
            "make[3]: Nothing to be done for 'install-exec-am'.\n",
            "test -z \"/usr/include/ta-lib/\" || /bin/mkdir -p \"/usr/include/ta-lib/\"\n",
            " /usr/bin/install -c -m 644 '../../include/ta_defs.h' '/usr/include/ta-lib//ta_defs.h'\n",
            " /usr/bin/install -c -m 644 '../../include/ta_libc.h' '/usr/include/ta-lib//ta_libc.h'\n",
            " /usr/bin/install -c -m 644 '../../include/ta_common.h' '/usr/include/ta-lib//ta_common.h'\n",
            "make[3]: Leaving directory '/root/ta-lib/src/ta_common'\n",
            "make[2]: Leaving directory '/root/ta-lib/src/ta_common'\n",
            "Making install in ta_func\n",
            "make[2]: Entering directory '/root/ta-lib/src/ta_func'\n",
            "make[3]: Entering directory '/root/ta-lib/src/ta_func'\n",
            "make[3]: Nothing to be done for 'install-exec-am'.\n",
            "test -z \"/usr/include/ta-lib/\" || /bin/mkdir -p \"/usr/include/ta-lib/\"\n",
            " /usr/bin/install -c -m 644 '../../include/ta_defs.h' '/usr/include/ta-lib//ta_defs.h'\n",
            " /usr/bin/install -c -m 644 '../../include/ta_libc.h' '/usr/include/ta-lib//ta_libc.h'\n",
            " /usr/bin/install -c -m 644 '../../include/ta_func.h' '/usr/include/ta-lib//ta_func.h'\n",
            "make[3]: Leaving directory '/root/ta-lib/src/ta_func'\n",
            "make[2]: Leaving directory '/root/ta-lib/src/ta_func'\n",
            "make[2]: Entering directory '/root/ta-lib/src'\n",
            "make[3]: Entering directory '/root/ta-lib/src'\n",
            "test -z \"/usr/lib\" || /bin/mkdir -p \"/usr/lib\"\n",
            " /bin/bash ../libtool --mode=install /usr/bin/install -c  'libta_lib.la' '/usr/lib/libta_lib.la'\n",
            "/usr/bin/install -c .libs/libta_lib.so.0.0.0 /usr/lib/libta_lib.so.0.0.0\n",
            "(cd /usr/lib && { ln -s -f libta_lib.so.0.0.0 libta_lib.so.0 || { rm -f libta_lib.so.0 && ln -s libta_lib.so.0.0.0 libta_lib.so.0; }; })\n",
            "(cd /usr/lib && { ln -s -f libta_lib.so.0.0.0 libta_lib.so || { rm -f libta_lib.so && ln -s libta_lib.so.0.0.0 libta_lib.so; }; })\n",
            "/usr/bin/install -c .libs/libta_lib.lai /usr/lib/libta_lib.la\n",
            "/usr/bin/install -c .libs/libta_lib.a /usr/lib/libta_lib.a\n",
            "chmod 644 /usr/lib/libta_lib.a\n",
            "ranlib /usr/lib/libta_lib.a\n",
            "PATH=\"$PATH:/sbin\" ldconfig -n /usr/lib\n",
            "----------------------------------------------------------------------\n",
            "Libraries have been installed in:\n",
            "   /usr/lib\n",
            "\n",
            "If you ever happen to want to link against installed libraries\n",
            "in a given directory, LIBDIR, you must either use libtool, and\n",
            "specify the full pathname of the library, or use the `-LLIBDIR'\n",
            "flag during linking and do at least one of the following:\n",
            "   - add LIBDIR to the `LD_LIBRARY_PATH' environment variable\n",
            "     during execution\n",
            "   - add LIBDIR to the `LD_RUN_PATH' environment variable\n",
            "     during linking\n",
            "   - use the `-Wl,--rpath -Wl,LIBDIR' linker flag\n",
            "   - have your system administrator add LIBDIR to `/etc/ld.so.conf'\n",
            "\n",
            "See any operating system documentation about shared libraries for\n",
            "more information, such as the ld(1) and ld.so(8) manual pages.\n",
            "----------------------------------------------------------------------\n",
            "make[3]: Nothing to be done for 'install-data-am'.\n",
            "make[3]: Leaving directory '/root/ta-lib/src'\n",
            "make[2]: Leaving directory '/root/ta-lib/src'\n",
            "make[1]: Leaving directory '/root/ta-lib/src'\n",
            "Making install in src/tools\n",
            "make[1]: Entering directory '/root/ta-lib/src/tools'\n",
            "Making install in gen_code\n",
            "make[2]: Entering directory '/root/ta-lib/src/tools/gen_code'\n",
            "make  gen_code\n",
            "make[3]: Entering directory '/root/ta-lib/src/tools/gen_code'\n",
            "make[3]: 'gen_code' is up to date.\n",
            "make[3]: Leaving directory '/root/ta-lib/src/tools/gen_code'\n",
            "cp gen_code ../../../bin\n",
            "make[3]: Entering directory '/root/ta-lib/src/tools/gen_code'\n",
            "make[3]: Nothing to be done for 'install-exec-am'.\n",
            "make[3]: Nothing to be done for 'install-data-am'.\n",
            "make[3]: Leaving directory '/root/ta-lib/src/tools/gen_code'\n",
            "make[2]: Leaving directory '/root/ta-lib/src/tools/gen_code'\n",
            "Making install in ta_regtest\n",
            "make[2]: Entering directory '/root/ta-lib/src/tools/ta_regtest'\n",
            "make[3]: Entering directory '/root/ta-lib/src/tools/ta_regtest'\n",
            "make[3]: Nothing to be done for 'install-exec-am'.\n",
            "make[3]: Nothing to be done for 'install-data-am'.\n",
            "make[3]: Leaving directory '/root/ta-lib/src/tools/ta_regtest'\n",
            "make[2]: Leaving directory '/root/ta-lib/src/tools/ta_regtest'\n",
            "make[2]: Entering directory '/root/ta-lib/src/tools'\n",
            "make[3]: Entering directory '/root/ta-lib/src/tools'\n",
            "make[3]: Nothing to be done for 'install-exec-am'.\n",
            "make[3]: Nothing to be done for 'install-data-am'.\n",
            "make[3]: Leaving directory '/root/ta-lib/src/tools'\n",
            "make[2]: Leaving directory '/root/ta-lib/src/tools'\n",
            "make[1]: Leaving directory '/root/ta-lib/src/tools'\n",
            "make[1]: Entering directory '/root/ta-lib'\n",
            "make[2]: Entering directory '/root/ta-lib'\n",
            "test -z \"/usr/bin\" || /bin/mkdir -p \"/usr/bin\"\n",
            " /usr/bin/install -c 'ta-lib-config' '/usr/bin/ta-lib-config'\n",
            "make[2]: Nothing to be done for 'install-data-am'.\n",
            "make[2]: Leaving directory '/root/ta-lib'\n",
            "make[1]: Leaving directory '/root/ta-lib'\n",
            "Collecting Ta-Lib\n",
            "\u001b[?25l  Downloading https://files.pythonhosted.org/packages/90/05/d4c6a778d7a7de0be366bc4a850b4ffaeac2abad927f95fa8ba6f355a082/TA-Lib-0.4.17.tar.gz (717kB)\n",
            "\u001b[K     |████████████████████████████████| 727kB 2.8MB/s \n",
            "\u001b[?25hRequirement already satisfied: numpy in /usr/local/lib/python3.6/dist-packages (from Ta-Lib) (1.17.4)\n",
            "Building wheels for collected packages: Ta-Lib\n",
            "  Building wheel for Ta-Lib (setup.py) ... \u001b[?25l\u001b[?25hdone\n",
            "  Created wheel for Ta-Lib: filename=TA_Lib-0.4.17-cp36-cp36m-linux_x86_64.whl size=2405542 sha256=b667243fac4e564988628c3dbdb65e985a9a110008964e18e46c1c6fbd7cc1ae\n",
            "  Stored in directory: /root/.cache/pip/wheels/2a/2e/ec/71c565b2e0091e03a2b56abfbfd062f14a01a8d7b20ffe8bd5\n",
            "Successfully built Ta-Lib\n",
            "Installing collected packages: Ta-Lib\n",
            "Successfully installed Ta-Lib-0.4.17\n",
            "/content\n"
          ],
          "name": "stdout"
        }
      ]
    },
    {
      "cell_type": "code",
      "metadata": {
        "id": "VqQfcWcDuX30",
        "colab_type": "code",
        "outputId": "3373ea80-a8d9-459d-a1e4-dc3056d8a155",
        "colab": {
          "base_uri": "https://localhost:8080/",
          "height": 1000
        }
      },
      "source": [
        "!pip install optuna\n",
        "!pip install joblib\n",
        "!pip install catboost\n",
        "!pip install six\n",
        "#!pip --no-cache-dir install lightgbm --install-option=--gpu --install-option=\"--opencl-include-dir=/usr/local/cuda/include/\" --install-option=\"--opencl-library=/usr/local/cuda/lib64/libOpenCL.so\"\n",
        "#!pip install lightgbm --install-option=--GPU\n",
        "#!sudo pip --no-cache-dir install -I lightgbm --install-option=--gpu --install-option=\"--opencl-include-dir=/usr/local/cuda/include/\" --install-option=\"--opencl-library=/usr/local/cuda/lib64/libOpenCL.so\"\n",
        "\n",
        "import lightgbm as lgb\n",
        "import xgboost as xgb\n",
        "import catboost as cat\n",
        "from catboost import Pool\n",
        "from catboost import CatBoost\n",
        "from sklearn import datasets\n",
        "import dateutil\n",
        "from sklearn.model_selection import train_test_split\n",
        "from sklearn.metrics import accuracy_score, f1_score\n",
        "import pickle\n",
        "import csv\n",
        "import matplotlib.pyplot as plt\n",
        "from scipy.spatial.distance import correlation\n",
        "import numpy as np\n",
        "import pandas as pd\n",
        "#from multiprocessing import Pool, Value, Array\n",
        "import multiprocessing as multi\n",
        "from joblib import Parallel, delayed\n",
        "import talib as ta\n",
        "from datetime import datetime, timedelta, timezone\n",
        "import sklearn.metrics\n",
        "from sklearn.model_selection import train_test_split\n",
        "from functools import partial\n",
        "import optuna\n",
        "import joblib\n",
        "from joblib import Parallel, delayed\n",
        "import time\n",
        "import random"
      ],
      "execution_count": 0,
      "outputs": [
        {
          "output_type": "stream",
          "text": [
            "Collecting optuna\n",
            "\u001b[?25l  Downloading https://files.pythonhosted.org/packages/d4/6a/4d80b3014797cf318a5252afb27031e9e7502854fb7930f27db0ee10bb75/optuna-0.19.0.tar.gz (126kB)\n",
            "\u001b[K     |████████████████████████████████| 133kB 2.8MB/s \n",
            "\u001b[?25hCollecting alembic\n",
            "\u001b[?25l  Downloading https://files.pythonhosted.org/packages/84/64/493c45119dce700a4b9eeecc436ef9e8835ab67bae6414f040cdc7b58f4b/alembic-1.3.1.tar.gz (1.1MB)\n",
            "\u001b[K     |████████████████████████████████| 1.1MB 52.5MB/s \n",
            "\u001b[?25hCollecting cliff\n",
            "\u001b[?25l  Downloading https://files.pythonhosted.org/packages/f6/a9/e976ba91e57043c4b6add2c394e6d1ffc26712c694379c3fe72f942d2440/cliff-2.16.0-py2.py3-none-any.whl (78kB)\n",
            "\u001b[K     |████████████████████████████████| 81kB 11.2MB/s \n",
            "\u001b[?25hCollecting colorlog\n",
            "  Downloading https://files.pythonhosted.org/packages/68/4d/892728b0c14547224f0ac40884e722a3d00cb54e7a146aea0b3186806c9e/colorlog-4.0.2-py2.py3-none-any.whl\n",
            "Requirement already satisfied: numpy in /usr/local/lib/python3.6/dist-packages (from optuna) (1.17.4)\n",
            "Requirement already satisfied: scipy in /usr/local/lib/python3.6/dist-packages (from optuna) (1.3.3)\n",
            "Requirement already satisfied: six in /usr/local/lib/python3.6/dist-packages (from optuna) (1.12.0)\n",
            "Requirement already satisfied: sqlalchemy>=1.1.0 in /usr/local/lib/python3.6/dist-packages (from optuna) (1.3.11)\n",
            "Requirement already satisfied: tqdm in /usr/local/lib/python3.6/dist-packages (from optuna) (4.28.1)\n",
            "Requirement already satisfied: typing in /usr/local/lib/python3.6/dist-packages (from optuna) (3.6.6)\n",
            "Collecting Mako\n",
            "\u001b[?25l  Downloading https://files.pythonhosted.org/packages/b0/3c/8dcd6883d009f7cae0f3157fb53e9afb05a0d3d33b3db1268ec2e6f4a56b/Mako-1.1.0.tar.gz (463kB)\n",
            "\u001b[K     |████████████████████████████████| 471kB 61.0MB/s \n",
            "\u001b[?25hCollecting python-editor>=0.3\n",
            "  Downloading https://files.pythonhosted.org/packages/c6/d3/201fc3abe391bbae6606e6f1d598c15d367033332bd54352b12f35513717/python_editor-1.0.4-py3-none-any.whl\n",
            "Requirement already satisfied: python-dateutil in /usr/local/lib/python3.6/dist-packages (from alembic->optuna) (2.6.1)\n",
            "Requirement already satisfied: PyYAML>=3.12 in /usr/local/lib/python3.6/dist-packages (from cliff->optuna) (3.13)\n",
            "Collecting stevedore>=1.20.0\n",
            "\u001b[?25l  Downloading https://files.pythonhosted.org/packages/b1/e1/f5ddbd83f60b03f522f173c03e406c1bff8343f0232a292ac96aa633b47a/stevedore-1.31.0-py2.py3-none-any.whl (43kB)\n",
            "\u001b[K     |████████████████████████████████| 51kB 8.9MB/s \n",
            "\u001b[?25hRequirement already satisfied: PrettyTable<0.8,>=0.7.2 in /usr/local/lib/python3.6/dist-packages (from cliff->optuna) (0.7.2)\n",
            "Requirement already satisfied: pyparsing>=2.1.0 in /usr/local/lib/python3.6/dist-packages (from cliff->optuna) (2.4.5)\n",
            "Collecting pbr!=2.1.0,>=2.0.0\n",
            "\u001b[?25l  Downloading https://files.pythonhosted.org/packages/7a/db/a968fd7beb9fe06901c1841cb25c9ccb666ca1b9a19b114d1bbedf1126fc/pbr-5.4.4-py2.py3-none-any.whl (110kB)\n",
            "\u001b[K     |████████████████████████████████| 112kB 65.4MB/s \n",
            "\u001b[?25hCollecting cmd2!=0.8.3,<0.9.0,>=0.8.0\n",
            "\u001b[?25l  Downloading https://files.pythonhosted.org/packages/e9/40/a71caa2aaff10c73612a7106e2d35f693e85b8cf6e37ab0774274bca3cf9/cmd2-0.8.9-py2.py3-none-any.whl (53kB)\n",
            "\u001b[K     |████████████████████████████████| 61kB 10.6MB/s \n",
            "\u001b[?25hRequirement already satisfied: MarkupSafe>=0.9.2 in /usr/local/lib/python3.6/dist-packages (from Mako->alembic->optuna) (1.1.1)\n",
            "Requirement already satisfied: wcwidth; sys_platform != \"win32\" in /usr/local/lib/python3.6/dist-packages (from cmd2!=0.8.3,<0.9.0,>=0.8.0->cliff->optuna) (0.1.7)\n",
            "Collecting pyperclip\n",
            "  Downloading https://files.pythonhosted.org/packages/2d/0f/4eda562dffd085945d57c2d9a5da745cfb5228c02bc90f2c74bbac746243/pyperclip-1.7.0.tar.gz\n",
            "Building wheels for collected packages: optuna, alembic, Mako, pyperclip\n",
            "  Building wheel for optuna (setup.py) ... \u001b[?25l\u001b[?25hdone\n",
            "  Created wheel for optuna: filename=optuna-0.19.0-cp36-none-any.whl size=170198 sha256=f1493278cbe4554eaef6fb6987db6fd58338bf1cb7b053aeb3b4d1c3b017e99b\n",
            "  Stored in directory: /root/.cache/pip/wheels/49/bf/47/090a43457caeff74397397da1c98a8aaed685257c16a5ba1f0\n",
            "  Building wheel for alembic (setup.py) ... \u001b[?25l\u001b[?25hdone\n",
            "  Created wheel for alembic: filename=alembic-1.3.1-py2.py3-none-any.whl size=144523 sha256=1ef4f304ecc4ec2cd754790e1aed2782b8143feefd8215f30d48aaa02142e1e1\n",
            "  Stored in directory: /root/.cache/pip/wheels/b2/d4/19/5ab879d30af7cbc79e6dcc1d421795b1aa9d78f455b0412ef7\n",
            "  Building wheel for Mako (setup.py) ... \u001b[?25l\u001b[?25hdone\n",
            "  Created wheel for Mako: filename=Mako-1.1.0-cp36-none-any.whl size=75363 sha256=a73b2bc4a4b02b45fe562943ea088d1108cec9f8cedfd5ffff8fc29d50bebcc6\n",
            "  Stored in directory: /root/.cache/pip/wheels/98/32/7b/a291926643fc1d1e02593e0d9e247c5a866a366b8343b7aa27\n",
            "  Building wheel for pyperclip (setup.py) ... \u001b[?25l\u001b[?25hdone\n",
            "  Created wheel for pyperclip: filename=pyperclip-1.7.0-cp36-none-any.whl size=8359 sha256=039a76a1dcbd7ba618209eb317023c6508f1a3e83314214c131afcadc907fefb\n",
            "  Stored in directory: /root/.cache/pip/wheels/92/f0/ac/2ba2972034e98971c3654ece337ac61e546bdeb34ca960dc8c\n",
            "Successfully built optuna alembic Mako pyperclip\n",
            "Installing collected packages: Mako, python-editor, alembic, pbr, stevedore, pyperclip, cmd2, cliff, colorlog, optuna\n",
            "Successfully installed Mako-1.1.0 alembic-1.3.1 cliff-2.16.0 cmd2-0.8.9 colorlog-4.0.2 optuna-0.19.0 pbr-5.4.4 pyperclip-1.7.0 python-editor-1.0.4 stevedore-1.31.0\n",
            "Requirement already satisfied: joblib in /usr/local/lib/python3.6/dist-packages (0.14.0)\n",
            "Collecting catboost\n",
            "\u001b[?25l  Downloading https://files.pythonhosted.org/packages/7c/8d/ca8799e7b7cd1c5f84c1e92e6d3dd81ff03957211c959c0d4c027e95888a/catboost-0.20-cp36-none-manylinux1_x86_64.whl (63.6MB)\n",
            "\u001b[K     |████████████████████████████████| 63.6MB 110.2MB/s \n",
            "\u001b[?25hRequirement already satisfied: matplotlib in /usr/local/lib/python3.6/dist-packages (from catboost) (3.1.2)\n",
            "Requirement already satisfied: numpy>=1.16.0 in /usr/local/lib/python3.6/dist-packages (from catboost) (1.17.4)\n",
            "Requirement already satisfied: graphviz in /usr/local/lib/python3.6/dist-packages (from catboost) (0.10.1)\n",
            "Requirement already satisfied: pandas>=0.24.0 in /usr/local/lib/python3.6/dist-packages (from catboost) (0.25.3)\n",
            "Requirement already satisfied: scipy in /usr/local/lib/python3.6/dist-packages (from catboost) (1.3.3)\n",
            "Requirement already satisfied: six in /usr/local/lib/python3.6/dist-packages (from catboost) (1.12.0)\n",
            "Requirement already satisfied: plotly in /usr/local/lib/python3.6/dist-packages (from catboost) (4.1.1)\n",
            "Requirement already satisfied: cycler>=0.10 in /usr/local/lib/python3.6/dist-packages (from matplotlib->catboost) (0.10.0)\n",
            "Requirement already satisfied: pyparsing!=2.0.4,!=2.1.2,!=2.1.6,>=2.0.1 in /usr/local/lib/python3.6/dist-packages (from matplotlib->catboost) (2.4.5)\n",
            "Requirement already satisfied: python-dateutil>=2.1 in /usr/local/lib/python3.6/dist-packages (from matplotlib->catboost) (2.6.1)\n",
            "Requirement already satisfied: kiwisolver>=1.0.1 in /usr/local/lib/python3.6/dist-packages (from matplotlib->catboost) (1.1.0)\n",
            "Requirement already satisfied: pytz>=2017.2 in /usr/local/lib/python3.6/dist-packages (from pandas>=0.24.0->catboost) (2018.9)\n",
            "Requirement already satisfied: retrying>=1.3.3 in /usr/local/lib/python3.6/dist-packages (from plotly->catboost) (1.3.3)\n",
            "Requirement already satisfied: setuptools in /usr/local/lib/python3.6/dist-packages (from kiwisolver>=1.0.1->matplotlib->catboost) (42.0.2)\n",
            "Installing collected packages: catboost\n",
            "Successfully installed catboost-0.20\n",
            "Requirement already satisfied: six in /usr/local/lib/python3.6/dist-packages (1.12.0)\n"
          ],
          "name": "stdout"
        }
      ]
    },
    {
      "cell_type": "code",
      "metadata": {
        "id": "eLmcIF8ou7u9",
        "colab_type": "code",
        "colab": {}
      },
      "source": [
        "class OneMinData:\n",
        "    def initialize(self):\n",
        "        self.func_dict = {}  # key = [func_name + term], val = (function object, term)\n",
        "        self.index_data_dict = {}  # key= [func_name + term]], val = [index data]\n",
        "        self.unix_time = []\n",
        "        self.dt = []\n",
        "        self.open = []\n",
        "        self.high = []\n",
        "        self.low = []\n",
        "        self.close = []\n",
        "        self.open_change = []\n",
        "        self.high_change = []\n",
        "        self.low_change = []\n",
        "        self.close_change = []\n",
        "        self.size = []\n",
        "        self.future_side = []\n",
        "\n",
        "    def cut_data(self, num_data):\n",
        "        for k in self.index_data_dict:\n",
        "            self.index_data_dict[k] = self.index_data_dict[k][-num_data:]\n",
        "        self.unix_time = self.unix_time[-num_data:]\n",
        "        self.dt = self.dt[-num_data:]\n",
        "        self.open = self.open[-num_data:]\n",
        "        self.high = self.high[-num_data:]\n",
        "        self.low = self.low[-num_data:]\n",
        "        self.close = self.close[-num_data:]\n",
        "        self.open_change = self.open_change[-num_data:]\n",
        "        self.high_change = self.high_change[-num_data:]\n",
        "        self.low_change = self.low_change[-num_data:]\n",
        "        self.close_change = self.close_change[-num_data:]\n",
        "        self.size = self.size[-num_data:]\n",
        "        self.future_side = self.future_side[-num_data:]\n",
        "\n",
        "    def cut_data2(self, from_ind, to_ind):\n",
        "        for k in self.index_data_dict:\n",
        "            self.index_data_dict[k] = self.index_data_dict[k][from_ind:to_ind]\n",
        "        self.unix_time = self.unix_time[from_ind:to_ind]\n",
        "        self.dt = self.dt[from_ind:to_ind]\n",
        "        self.open = self.open[from_ind:to_ind]\n",
        "        self.high = self.high[from_ind:to_ind]\n",
        "        self.low = self.low[from_ind:to_ind]\n",
        "        self.close = self.close[from_ind:to_ind]\n",
        "        self.open_change = self.open_change[from_ind:to_ind]\n",
        "        self.high_change = self.high_change[from_ind:to_ind]\n",
        "        self.low_change = self.low_change[from_ind:to_ind]\n",
        "        self.close_change = self.close_change[from_ind:to_ind]\n",
        "        self.size = self.size[from_ind:to_ind]\n",
        "        self.future_side = self.future_side[from_ind:to_ind]\n",
        "\n",
        "    def del_data(self, num_remain_data):\n",
        "        if len(self.dt) > num_remain_data:\n",
        "            for k in self.index_data_dict:\n",
        "                del self.index_data_dict[k][:-num_remain_data]\n",
        "            del self.unix_time[:-num_remain_data]\n",
        "            del self.dt[:-num_remain_data]\n",
        "            del self.open[:-num_remain_data]\n",
        "            del self.high[:-num_remain_data]\n",
        "            del self.low[:-num_remain_data]\n",
        "            del self.close[:-num_remain_data]\n",
        "            del self.open_change[:-num_remain_data]\n",
        "            del self.high_change[:-num_remain_data]\n",
        "            del self.low_change[:-num_remain_data]\n",
        "            del self.close_change[:-num_remain_data]\n",
        "            del self.size[:-num_remain_data]\n",
        "            del self.future_side[:-num_remain_data]\n",
        "\n",
        "    def extract_data(self, ex_from, to):\n",
        "        if len(self.dt) > ex_from:\n",
        "            for k in self.index_data_dict:\n",
        "                del self.index_data_dict[k][-ex_from:-to]\n",
        "            del self.unix_time[-ex_from:-to]\n",
        "            del self.dt[-ex_from:-to]\n",
        "            del self.open[-ex_from:-to]\n",
        "            del self.high[-ex_from:-to]\n",
        "            del self.low[-ex_from:-to]\n",
        "            del self.close[-ex_from:-to]\n",
        "            del self.open_change[-ex_from:-to]\n",
        "            del self.high_change[-ex_from:-to]\n",
        "            del self.low_change[-ex_from:-to]\n",
        "            del self.close_change[-ex_from:-to]\n",
        "            del self.size[-ex_from:-to]\n",
        "            del self.future_side[-ex_from:-to]\n",
        "\n",
        "    def add_and_pop(self, unix_time, dt, open, high, low, close, size):\n",
        "        self.unix_time.append(unix_time)\n",
        "        self.unix_time.pop(0)\n",
        "        self.dt.append(dt)\n",
        "        self.dt.pop(0)\n",
        "        self.open.append(open)\n",
        "        self.open.pop(0)\n",
        "        self.high.append(high)\n",
        "        self.high.pop(0)\n",
        "        self.low.append(low)\n",
        "        self.low.pop(0)\n",
        "        self.close.append(close)\n",
        "        self.close.pop(0)\n",
        "        self.open_change.append(open)\n",
        "        self.open_change.pop(0)\n",
        "        self.high_change.append(high)\n",
        "        self.high_change.pop(0)\n",
        "        self.low_change.append(low)\n",
        "        self.low_change.pop(0)\n",
        "        self.close_change.append(close)\n",
        "        self.close_change.pop(0)\n",
        "        self.size.append(size)\n",
        "        self.size.pop(0)"
      ],
      "execution_count": 0,
      "outputs": []
    },
    {
      "cell_type": "code",
      "metadata": {
        "id": "An4QTgSuvF7a",
        "colab_type": "code",
        "colab": {}
      },
      "source": [
        "class OneMinMarketData:\n",
        "    @classmethod\n",
        "    def initialize_for_bot(cls, num_term, from_ind, to_ind, kijun_val, kijun_period):\n",
        "        cls.num_term = num_term\n",
        "        cls.kijun_val = kijun_val\n",
        "        cls.kijun_period = kijun_period\n",
        "        cls.term_list = cls.generate_term_list2(num_term)\n",
        "        cls.ohlc = cls.read_from_csv('/content/drive/My Drive/mex_data.csv')\n",
        "        cls.ohlc.cut_data2(from_ind, to_ind)\n",
        "        cls.__generate_all_func_dict()\n",
        "        cls.__calc_all_index_dict()\n",
        "        \n",
        "    @classmethod\n",
        "    def update_for_bot(cls):\n",
        "        cls.__calc_all_index()\n",
        "        \n",
        "\n",
        "    @classmethod\n",
        "    def read_from_csv(cls, file_name):\n",
        "        ohlc = OneMinData()\n",
        "        ohlc.initialize()\n",
        "        df = pd.read_csv(file_name)\n",
        "        ohlc.dt = list(map(lambda x: datetime.strptime(str(x), '%Y-%m-%d %H:%M:%S'), list(df['dt'])))\n",
        "        ohlc.unix_time = list(df['timestamp'])\n",
        "        ohlc.open = list(df['open'])\n",
        "        ohlc.high = list(df['high'])\n",
        "        ohlc.low = list(df['low'])\n",
        "        ohlc.close = list(df['close'])\n",
        "        ohlc.size = list(df['volume'])\n",
        "        return ohlc\n",
        "    \n",
        "    \n",
        "    @classmethod\n",
        "    def write_all_func_dict(cls):\n",
        "        with open('/content/drive/My Drive/Model/bpsp_cols.csv', 'w') as file:\n",
        "            writer = csv.writer(file, lineterminator='\\n')\n",
        "            writer.writerow(list(cls.ohlc.func_dict.keys()))\n",
        "        print('completed write bpsp columns')\n",
        "        \n",
        "        \n",
        "    @classmethod\n",
        "    def read_func_dict(cls):\n",
        "        #read from func / term list\n",
        "        cols = []\n",
        "        with open('/content/drive/My Drive/Model/bpsp_cols.csv', 'r') as f:\n",
        "            reader = csv.reader(f)\n",
        "            for r in reader:\n",
        "                cols.append(r)\n",
        "        #copy matched key func val\n",
        "        func_obj= {}\n",
        "        for col in cols[0]:\n",
        "            if col not in ['open', 'high', 'low', 'close']:\n",
        "                func_obj[col] = cls.ohlc.func_dict[col]\n",
        "        #replace ohlc.func_dict\n",
        "        cls.ohlc.func_dict = func_obj\n",
        "    \n",
        "    \n",
        "    \n",
        "    '''\n",
        "    generate all func / term as a dict\n",
        "    calc all index as a dict\n",
        "    generate df from the index data dict\n",
        "    calc correlation\n",
        "    remove correlated columns\n",
        "    renew fund / term dict with non-correlated func / term\n",
        "    calc index data of the renewed dict\n",
        "    '''\n",
        "    \n",
        "    @classmethod\n",
        "    def __generate_all_func_dict(cls):\n",
        "        for term in cls.term_list:\n",
        "            cls.ohlc.func_dict['ema:'+str(term)] = (OneMinMarketData.calc_ema,term)\n",
        "            #cls.ohlc.func_dict['ema_kairi:'+str(term)] = (OneMinMarketData.calc_ema_kairi,term)\n",
        "            #cls.ohlc.func_dict['ema_gra:'+str(term)] = (OneMinMarketData.calc_ema_gra,term)\n",
        "            cls.ohlc.func_dict['dema:'+str(term)] = (OneMinMarketData.calc_dema,term)\n",
        "            #cls.ohlc.func_dict['dema_kairi:'+str(term)] = (OneMinMarketData.calc_dema_kairi,term)\n",
        "            #cls.ohlc.func_dict['dema_gra:'+str(term)] = (OneMinMarketData.calc_dema_gra,term)\n",
        "            cls.ohlc.func_dict['momentum:'+str(term)] = (OneMinMarketData.calc_momentum,term)\n",
        "            cls.ohlc.func_dict['rate_of_change:'+str(term)] = (OneMinMarketData.calc_rate_of_change,term)\n",
        "            cls.ohlc.func_dict['rsi:'+str(term)] = (OneMinMarketData.calc_rsi,term)\n",
        "            cls.ohlc.func_dict['williams_R:'+str(term)] = (OneMinMarketData.calc_williams_R,term)\n",
        "            cls.ohlc.func_dict['beta:'+str(term)] = (OneMinMarketData.calc_beta,term)\n",
        "            cls.ohlc.func_dict['time_series_forecast:'+str(term)] = (OneMinMarketData.calc_time_series_forecast,term)\n",
        "            cls.ohlc.func_dict['correl:'+str(term)] = (OneMinMarketData.calc_correl,term)\n",
        "            cls.ohlc.func_dict['linear_reg:'+str(term)] = (OneMinMarketData.calc_linear_reg,term)\n",
        "            cls.ohlc.func_dict['linear_reg_angle:'+str(term)] = (OneMinMarketData.calc_linear_reg_angle,term)\n",
        "            cls.ohlc.func_dict['linear_reg_intercept:'+str(term)] = (OneMinMarketData.calc_linear_reg_intercept,term)\n",
        "            cls.ohlc.func_dict['linear_reg_slope:'+str(term)] = (OneMinMarketData.calc_linear_reg_slope,term)\n",
        "            cls.ohlc.func_dict['stdv:'+str(term)] = (OneMinMarketData.calc_stdv,term)\n",
        "            cls.ohlc.func_dict['var:'+str(term)] = (OneMinMarketData.calc_var,term)\n",
        "            cls.ohlc.func_dict['adx:'+str(term)] = (OneMinMarketData.calc_adx,term)\n",
        "            cls.ohlc.func_dict['aroon_os:'+str(term)] = (OneMinMarketData.calc_aroon_os,term)\n",
        "            cls.ohlc.func_dict['cci:'+str(term)] = (OneMinMarketData.calc_cci,term)\n",
        "            cls.ohlc.func_dict['dx:'+str(term)] = (OneMinMarketData.calc_dx,term)\n",
        "            if term >= 10:\n",
        "                cls.ohlc.func_dict['macd:'+str(term)] = (OneMinMarketData.calc_macd,term)\n",
        "                cls.ohlc.func_dict['macd_signal:'+str(term)] = (OneMinMarketData.calc_macd_signal,term)\n",
        "                cls.ohlc.func_dict['macd_hist:'+str(term)] = (OneMinMarketData.calc_macd_hist,term)\n",
        "            if term <= 300:\n",
        "                cls.ohlc.func_dict['calc_high_kairi:'+str(term)] = (OneMinMarketData.calc_high_kairi,term)\n",
        "                cls.ohlc.func_dict['calc_low_kairi:'+str(term)] = (OneMinMarketData.calc_low_kairi,term)\n",
        "                '''\n",
        "            cls.ohlc.func_dict['makairi_momentum:'+str(term)] = (OneMinMarketData.generate_makairi,OneMinMarketData.calc_momentum, term)\n",
        "            cls.ohlc.func_dict['makairi_rate_of_change:'+str(term)] = (OneMinMarketData.generate_makairi,OneMinMarketData.calc_rate_of_change, term)\n",
        "            cls.ohlc.func_dict['makairi_rsi:'+str(term)] = (OneMinMarketData.generate_makairi,OneMinMarketData.calc_rsi, term)\n",
        "            cls.ohlc.func_dict['makairi_williams_R:'+str(term)] = (OneMinMarketData.generate_makairi,OneMinMarketData.calc_williams_R, term)\n",
        "            cls.ohlc.func_dict['makairi_beta:'+str(term)] = (OneMinMarketData.generate_makairi,OneMinMarketData.calc_beta, term)\n",
        "            cls.ohlc.func_dict['makairi_time_series_forecast:'+str(term)] = (OneMinMarketData.generate_makairi,OneMinMarketData.calc_time_series_forecast, term)\n",
        "            cls.ohlc.func_dict['makairi_correl:'+str(term)] = (OneMinMarketData.generate_makairi,OneMinMarketData.calc_correl, term)\n",
        "            cls.ohlc.func_dict['makairi_linear_reg:'+str(term)] = (OneMinMarketData.generate_makairi,OneMinMarketData.calc_linear_reg, term)\n",
        "            cls.ohlc.func_dict['makairi_linear_reg_angle:'+str(term)] = (OneMinMarketData.generate_makairi,OneMinMarketData.calc_linear_reg_angle, term)\n",
        "            cls.ohlc.func_dict['makairi_linear_reg_intercept:'+str(term)] = (OneMinMarketData.generate_makairi,OneMinMarketData.calc_linear_reg_intercept, term)\n",
        "            cls.ohlc.func_dict['makairi_linear_reg_slope:'+str(term)] = (OneMinMarketData.generate_makairi,OneMinMarketData.calc_linear_reg_slope, term)\n",
        "            cls.ohlc.func_dict['makairi_stdv:'+str(term)] = (OneMinMarketData.generate_makairi,OneMinMarketData.calc_stdv, term)\n",
        "            cls.ohlc.func_dict['makairi_var:'+str(term)] = (OneMinMarketData.generate_makairi,OneMinMarketData.calc_var, term)\n",
        "            cls.ohlc.func_dict['makairi_adx:'+str(term)] = (OneMinMarketData.generate_makairi,OneMinMarketData.calc_adx, term)\n",
        "            cls.ohlc.func_dict['makairi_aroon_os:'+str(term)] = (OneMinMarketData.generate_makairi,OneMinMarketData.calc_aroon_os, term)\n",
        "            cls.ohlc.func_dict['makairi_cci:'+str(term)] = (OneMinMarketData.generate_makairi,OneMinMarketData.calc_cci, term)\n",
        "            cls.ohlc.func_dict['makairi_dx:'+str(term)] = (OneMinMarketData.generate_makairi,OneMinMarketData.calc_dx, term)\n",
        "            \n",
        "            cls.ohlc.func_dict['diff_momentum:'+str(term)] = (OneMinMarketData.generate_diff,OneMinMarketData.calc_momentum, term)\n",
        "            cls.ohlc.func_dict['diff_rate_of_change:'+str(term)] = (OneMinMarketData.generate_diff,OneMinMarketData.calc_rate_of_change, term)\n",
        "            cls.ohlc.func_dict['diff_rsi:'+str(term)] = (OneMinMarketData.generate_diff,OneMinMarketData.calc_rsi, term)\n",
        "            cls.ohlc.func_dict['diff_williams_R:'+str(term)] = (OneMinMarketData.generate_diff,OneMinMarketData.calc_williams_R, term)\n",
        "            cls.ohlc.func_dict['diff_beta:'+str(term)] = (OneMinMarketData.generate_diff,OneMinMarketData.calc_beta, term)\n",
        "            cls.ohlc.func_dict['diff_time_series_forecast:'+str(term)] = (OneMinMarketData.generate_diff,OneMinMarketData.calc_time_series_forecast, term)\n",
        "            cls.ohlc.func_dict['diff_correl:'+str(term)] = (OneMinMarketData.generate_diff,OneMinMarketData.calc_correl, term)\n",
        "            cls.ohlc.func_dict['diff_linear_reg:'+str(term)] = (OneMinMarketData.generate_diff,OneMinMarketData.calc_linear_reg, term)\n",
        "            cls.ohlc.func_dict['diff_linear_reg_angle:'+str(term)] = (OneMinMarketData.generate_diff,OneMinMarketData.calc_linear_reg_angle, term)\n",
        "            cls.ohlc.func_dict['diff_linear_reg_intercept:'+str(term)] = (OneMinMarketData.generate_diff,OneMinMarketData.calc_linear_reg_intercept, term)\n",
        "            cls.ohlc.func_dict['diff_linear_reg_slope:'+str(term)] = (OneMinMarketData.generate_diff,OneMinMarketData.calc_linear_reg_slope, term)\n",
        "            cls.ohlc.func_dict['diff_stdv:'+str(term)] = (OneMinMarketData.generate_diff,OneMinMarketData.calc_stdv, term)\n",
        "            cls.ohlc.func_dict['diff_var:'+str(term)] = (OneMinMarketData.generate_diff,OneMinMarketData.calc_var, term)\n",
        "            cls.ohlc.func_dict['diff_adx:'+str(term)] = (OneMinMarketData.generate_diff,OneMinMarketData.calc_adx, term)\n",
        "            cls.ohlc.func_dict['diff_aroon_os:'+str(term)] = (OneMinMarketData.generate_diff,OneMinMarketData.calc_aroon_os, term)\n",
        "            cls.ohlc.func_dict['diff_cci:'+str(term)] = (OneMinMarketData.generate_diff,OneMinMarketData.calc_cci, term)\n",
        "            cls.ohlc.func_dict['diff_dx:'+str(term)] = (OneMinMarketData.generate_diff,OneMinMarketData.calc_dx, term)\n",
        "            '''\n",
        "        cls.ohlc.func_dict['normalized_ave_true_range:'+str(0)] = (OneMinMarketData.calc_normalized_ave_true_range,0)\n",
        "        cls.ohlc.func_dict['three_outside_updown:'+str(0)] = (OneMinMarketData.calc_three_outside_updown,0)\n",
        "        cls.ohlc.func_dict['breakway:'+str(0)] = (OneMinMarketData.calc_breakway,0)\n",
        "        cls.ohlc.func_dict['dark_cloud_cover:'+str(0)] = (OneMinMarketData.calc_dark_cloud_cover,0)\n",
        "        cls.ohlc.func_dict['dragonfly_doji:'+str(0)] = (OneMinMarketData.calc_dragonfly_doji,0)\n",
        "        cls.ohlc.func_dict['updown_sidebyside_white_lines:'+str(0)] = (OneMinMarketData.calc_updown_sidebyside_white_lines,0)\n",
        "        cls.ohlc.func_dict['haramisen:'+str(0)] = (OneMinMarketData.calc_haramisen,0)\n",
        "        cls.ohlc.func_dict['hikkake_pattern:'+str(0)] = (OneMinMarketData.calc_hikkake_pattern,0)\n",
        "        cls.ohlc.func_dict['neck_pattern:'+str(0)] = (OneMinMarketData.calc_neck_pattern,0)\n",
        "        cls.ohlc.func_dict['upsidedownside_gap_three_method:'+str(0)] = (OneMinMarketData.calc_upsidedownside_gap_three_method,0)\n",
        "        cls.ohlc.func_dict['sar:'+str(0)] = (OneMinMarketData.calc_sar,0)\n",
        "        cls.ohlc.func_dict['bop:'+str(0)] = (OneMinMarketData.calc_bop,0)\n",
        "        cls.ohlc.func_dict['uwahige:'+str(0)] = (OneMinMarketData.calc_uwahige_length,0)\n",
        "        cls.ohlc.func_dict['shitahige:'+str(0)] = (OneMinMarketData.calc_shitahige_length,0)\n",
        "        \n",
        "        \n",
        "    @classmethod\n",
        "    def __calc_all_index_dict(cls):\n",
        "        print('calculating all index dict')\n",
        "        start_time = time.time()\n",
        "\n",
        "        #cls.calc_ohlc_change()\n",
        "\n",
        "        for k in cls.ohlc.func_dict:\n",
        "            if int(k.split(':')[1]) > 0:\n",
        "                if k.split('_')[0] != 'makairi' and k.split('_')[0] != 'diff' and  k.split(':')[0] not in ['ema_kairi', 'ema_gra', 'dema_kairi', 'dema_gra']:\n",
        "                    cls.ohlc.index_data_dict[k] = cls.ohlc.func_dict[k][0](cls.ohlc.func_dict[k][1])\n",
        "            else:\n",
        "                cls.ohlc.index_data_dict[k] = cls.ohlc.func_dict[k][0]()\n",
        "        print('completed non makairi diff index. time=', time.time() - start_time)\n",
        "\n",
        "        start_time = time.time()\n",
        "        for k in cls.ohlc.func_dict:\n",
        "            if k.split('_')[0] == 'makairi':\n",
        "                data = cls.ohlc.func_dict[k][1](cls.ohlc.func_dict[k][2])\n",
        "                cls.ohlc.index_data_dict[k] = cls.ohlc.func_dict[k][0](data, cls.ohlc.func_dict[k][2])\n",
        "            elif k.split('_')[0] == 'diff':\n",
        "                data = cls.ohlc.func_dict[k][1](cls.ohlc.func_dict[k][2])\n",
        "                cls.ohlc.index_data_dict[k] = cls.ohlc.func_dict[k][0](data)\n",
        "\n",
        "        cls.ohlc.future_side = cls.calc_future_side()\n",
        "        print('completed calc makairi diff index. time=', time.time() - start_time)\n",
        "\n",
        "            \n",
        "            \n",
        "    @classmethod\n",
        "    def genrate_df_from_dict(cls):\n",
        "        start_time = time.time()\n",
        "        cut_size = cls.term_list[-1] + 1\n",
        "        end = len(cls.ohlc.close) - cls.kijun_period #due to bpsp\n",
        "        OneMinMarketData.ohlc.index_data_dict['dt'] = cls.ohlc.dt\n",
        "        OneMinMarketData.ohlc.index_data_dict['size'] = cls.ohlc.size\n",
        "        OneMinMarketData.ohlc.index_data_dict['close'] = cls.ohlc.close\n",
        "        df = pd.DataFrame(OneMinMarketData.ohlc.index_data_dict)\n",
        "        '''\n",
        "        df = df.assign(dt=cls.ohlc.dt)\n",
        "        df = df.assign(open=cls.ohlc.open)\n",
        "        df = df.assign(high=cls.ohlc.high)\n",
        "        df = df.assign(low=cls.ohlc.low)\n",
        "        df = df.assign(close=cls.ohlc.close)\n",
        "        df = df.assign(open_change=cls.ohlc.open_change)\n",
        "        df = df.assign(high_change=cls.ohlc.high_change)\n",
        "        df = df.assign(low_change=cls.ohlc.low_change)\n",
        "        df = df.assign(close_change=cls.ohlc.close_change)\n",
        "        df = df.assign(size=cls.ohlc.size)\n",
        "        '''\n",
        "        df = df.iloc[cut_size:end] \n",
        "        #df['future_side'] = cls.ohlc.future_side[cut_size:]\n",
        "        df = df.assign(future_side=cls.ohlc.future_side[cut_size:])\n",
        "        print('completed generate df from dict. time=', time.time() - start_time)\n",
        "        return df\n",
        "\n",
        "\n",
        "    @classmethod\n",
        "    def remove_cols_contains_nan(cls,  df):\n",
        "        start_time = time.time()\n",
        "        remove_cols = []\n",
        "        tmp = df.copy()\n",
        "        for col in tmp.columns:\n",
        "            for ind,d in enumerate(tmp[col]):\n",
        "                if str(d) =='nan':\n",
        "                    remove_cols.append(col)\n",
        "                    break\n",
        "        if len(remove_cols) > 0:\n",
        "            df.drop(remove_cols, axis=1, inplace=True)\n",
        "            print('removed ', len(remove_cols), ' cols contains nan.')\n",
        "        print('completed remove cols contains nan. time=', time.time() - start_time)\n",
        "        return df\n",
        "        \n",
        "    @classmethod\n",
        "    def remove_cols_contains_nan2(cls, df):\n",
        "        start_time = time.time()\n",
        "        pre_n = len(df.columns)\n",
        "        after_n = len(df.dropna(axis = 1, how = 'any').columns)\n",
        "        print('removed ', pre_n - after_n, 'cols contains nan.')\n",
        "        print('completed remove cols contains nan. time=', time.time() - start_time)\n",
        "        return df.dropna(axis = 1, how = 'any')\n",
        "\n",
        "    @classmethod\n",
        "    def __calc_all_index(cls):\n",
        "        start_time = time.time()\n",
        "        cls.ohlc.ave_price = cls.calc_ave_price(cls.ohlc.open, cls.ohlc.high, cls.ohlc.low, cls.ohlc.close)\n",
        "        for term in cls.term_list:\n",
        "            cls.ohlc.ema[term] = cls.calc_ema(term, cls.ohlc.close)\n",
        "            cls.ohlc.ema_kairi[term] = cls.calc_ema_kairi(cls.ohlc.close, cls.ohlc.ema[term])\n",
        "            cls.ohlc.ema_gra[term] = cls.calc_ema_gra(cls.ohlc.ema[term])\n",
        "            cls.ohlc.dema[term] = cls.calc_dema(term, cls.ohlc.close)\n",
        "            cls.ohlc.dema_kairi[term] = cls.calc_dema_kairi(cls.ohlc.close, cls.ohlc.dema[term])\n",
        "            cls.ohlc.dema_gra[term] = cls.calc_dema_gra(cls.ohlc.dema[term])\n",
        "            cls.ohlc.momentum[term] = cls.calc_momentum(term, cls.ohlc.close)\n",
        "            cls.ohlc.rate_of_change[term] = cls.calc_rate_of_change(term, cls.ohlc.close)\n",
        "            cls.ohlc.rsi[term] = cls.calc_rsi(term, cls.ohlc.close)\n",
        "            cls.ohlc.williams_R[term] = cls.calc_williams_R(term, cls.ohlc.high, cls.ohlc.low, cls.ohlc.close)\n",
        "            cls.ohlc.beta[term] = cls.calc_beta(term, cls.ohlc.high, cls.ohlc.low)\n",
        "            cls.ohlc.tsf[term] = cls.calc_time_series_forecast(term, cls.ohlc.close)\n",
        "            cls.ohlc.correl[term] = cls.calc_correl(term, cls.ohlc.high, cls.ohlc.low)\n",
        "            cls.ohlc.linear_reg[term] = cls.calc_linear_reg(term, cls.ohlc.close)\n",
        "            cls.ohlc.linear_reg_angle[term] = cls.calc_linear_reg_angle(term, cls.ohlc.close)\n",
        "            cls.ohlc.linear_reg_intercept[term] = cls.calc_linear_reg_intercept(term, cls.ohlc.close)\n",
        "            cls.ohlc.linear_reg_slope[term] = cls.calc_linear_reg_slope(term, cls.ohlc.close)\n",
        "            cls.ohlc.stdv[term] = cls.calc_stdv(term, cls.ohlc.close)\n",
        "            cls.ohlc.var[term] = cls.calc_var(term, cls.ohlc.close)\n",
        "            cls.ohlc.linear_reg_ave[term] = cls.calc_linear_reg(term, cls.ohlc.ave_price)\n",
        "            cls.ohlc.linear_reg_angle_ave[term] = cls.calc_linear_reg_angle(term, cls.ohlc.ave_price)\n",
        "            cls.ohlc.linear_reg_intercept_ave[term] = cls.calc_linear_reg_intercept(term, cls.ohlc.ave_price)\n",
        "            cls.ohlc.linear_reg_slope_ave[term] = cls.calc_linear_reg_slope(term, cls.ohlc.ave_price)\n",
        "            cls.ohlc.stdv_ave[term] = cls.calc_stdv(term, cls.ohlc.ave_price)\n",
        "            cls.ohlc.var_ave[term] = cls.calc_var(term, cls.ohlc.ave_price)\n",
        "            cls.ohlc.adx[term] = cls.calc_adx(term, cls.ohlc.high, cls.ohlc.low, cls.ohlc.close)\n",
        "            cls.ohlc.aroon_os[term] = cls.calc_aroon_os(term, cls.ohlc.high, cls.ohlc.low)\n",
        "            cls.ohlc.cci[term] = cls.calc_cci(term, cls.ohlc.high, cls.ohlc.low, cls.ohlc.close)\n",
        "            cls.ohlc.dx[term] = cls.calc_dx(term, cls.ohlc.high, cls.ohlc.low, cls.ohlc.close)\n",
        "            if term >= 10:\n",
        "                cls.ohlc.macd[term], cls.ohlc.macdsignal[term], cls.ohlc.macdhist[term] = cls.calc_macd(cls.ohlc.close, int(float(term) / 2.0), term, int(float(term) / 3.0))\n",
        "                cls.ohlc.macd[term] = list(cls.ohlc.macd[term])\n",
        "                cls.ohlc.macdsignal[term] = list(cls.ohlc.macdsignal[term])\n",
        "                cls.ohlc.macdhist[term] = list(cls.ohlc.macdhist[term])\n",
        "                cls.ohlc.macd_ave[term], cls.ohlc.macdsignal_ave[term], cls.ohlc.macdhist_ave[term] = cls.calc_macd(cls.ohlc.ave_price, int(float(term) / 2.0), term,int(float(term) / 3.0))\n",
        "                cls.ohlc.macd_ave[term] = list(cls.ohlc.macd_ave[term])\n",
        "                cls.ohlc.macdsignal_ave[term] = list(cls.ohlc.macdsignal_ave[term])\n",
        "                cls.ohlc.macdhist_ave[term] = list(cls.ohlc.macdhist_ave[term])\n",
        "        cls.ohlc.normalized_ave_true_range = cls.calc_normalized_ave_true_range(cls.ohlc.high, cls.ohlc.low,\n",
        "                                                                                cls.ohlc.close)\n",
        "        cls.ohlc.three_outside_updown = cls.calc_three_outside_updown(cls.ohlc.open, cls.ohlc.high, cls.ohlc.low,\n",
        "                                                                      cls.ohlc.close)\n",
        "        cls.ohlc.breakway = cls.calc_breakway(cls.ohlc.open, cls.ohlc.high, cls.ohlc.low, cls.ohlc.close)\n",
        "        cls.ohlc.dark_cloud_cover = cls.calc_dark_cloud_cover(cls.ohlc.open, cls.ohlc.high, cls.ohlc.low,\n",
        "                                                              cls.ohlc.close)\n",
        "        cls.ohlc.dragonfly_doji = cls.calc_dragonfly_doji(cls.ohlc.open, cls.ohlc.high, cls.ohlc.low, cls.ohlc.close)\n",
        "        cls.ohlc.updown_sidebyside_white_lines = cls.calc_updown_sidebyside_white_lines(cls.ohlc.open, cls.ohlc.high,\n",
        "                                                                                        cls.ohlc.low, cls.ohlc.close)\n",
        "        cls.ohlc.haramisen = cls.calc_haramisen(cls.ohlc.open, cls.ohlc.high, cls.ohlc.low, cls.ohlc.close)\n",
        "        cls.ohlc.hikkake_pattern = cls.calc_hikkake_pattern(cls.ohlc.open, cls.ohlc.high, cls.ohlc.low, cls.ohlc.close)\n",
        "        cls.ohlc.neck_pattern = cls.calc_neck_pattern(cls.ohlc.open, cls.ohlc.high, cls.ohlc.low, cls.ohlc.close)\n",
        "        cls.ohlc.upsidedownside_gap_three_method = cls.calc_upsidedownside_gap_three_method(cls.ohlc.open,\n",
        "                                                                                            cls.ohlc.high, cls.ohlc.low,\n",
        "                                                                                            cls.ohlc.close)\n",
        "        cls.ohlc.sar = cls.calc_sar(cls.ohlc.high, cls.ohlc.low, 0.02, 0.2)\n",
        "        cls.ohlc.bop = cls.calc_bop(cls.ohlc.open, cls.ohlc.high, cls.ohlc.low, cls.ohlc.close)\n",
        "        #cls.ohlc.bp, cls.ohlc.sp = cls.calc_pl_ls_points()\n",
        "\n",
        "        #generate various index\n",
        "        for term in cls.term_list:\n",
        "            cls.ohlc.various_makairi['emakairi'+str(term)] = cls.ohlc.ema_kairi[term]\n",
        "            cls.ohlc.various_makairi['demakairi' + str(term)] = cls.ohlc.dema_kairi[term]\n",
        "            cls.ohlc.various_diff['emadiff'+str(term)] = cls.ohlc.ema_kairi[term]\n",
        "            cls.ohlc.various_diff['demadiff' + str(term)] = cls.ohlc.dema_kairi[term]\n",
        "            cls.ohlc.various_makairi['momkairi' + str(term)] = cls.ohlc.momentum[term]\n",
        "            cls.ohlc.various_diff['momdiff' + str(term)] = cls.ohlc.momentum[term]\n",
        "            cls.ohlc.various_makairi['rsikairi' + str(term)] = cls.ohlc.rsi[term]\n",
        "            cls.ohlc.various_diff['rsidiff' + str(term)] = cls.ohlc.rsi[term]\n",
        "            cls.ohlc.various_makairi['williams_Rkairi' + str(term)] = cls.ohlc.williams_R[term]\n",
        "            cls.ohlc.various_diff['williams_Rdiff' + str(term)] = cls.ohlc.williams_R[term]\n",
        "            cls.ohlc.various_makairi['betakairi' + str(term)] = cls.ohlc.beta[term]\n",
        "            cls.ohlc.various_diff['betadiff' + str(term)] = cls.ohlc.beta[term]\n",
        "            cls.ohlc.various_makairi['linear_regkairi' + str(term)] = cls.ohlc.linear_reg[term]\n",
        "            cls.ohlc.various_diff['linear_regdiff' + str(term)] = cls.ohlc.linear_reg[term]\n",
        "            cls.ohlc.various_makairi['linear_reg_slopekairi' + str(term)] = cls.ohlc.linear_reg_slope[term]\n",
        "            cls.ohlc.various_diff['linear_reg_slopediff' + str(term)] = cls.ohlc.linear_reg_slope[term]\n",
        "            cls.ohlc.various_makairi['adxkairi' + str(term)] = cls.ohlc.adx[term]\n",
        "            cls.ohlc.various_diff['adxdiff' + str(term)] = cls.ohlc.adx[term]\n",
        "            cls.ohlc.various_makairi['aroon_oskairi' + str(term)] = cls.ohlc.aroon_os[term]\n",
        "            cls.ohlc.various_diff['aroon_osdiff' + str(term)] = cls.ohlc.aroon_os[term]\n",
        "            cls.ohlc.various_makairi['ccikairi' + str(term)] = cls.ohlc.cci[term]\n",
        "            cls.ohlc.various_diff['ccidiff' + str(term)] = cls.ohlc.cci[term]\n",
        "            if term >= 10:\n",
        "                cls.ohlc.various_makairi['macdkairi' + str(term)] = cls.ohlc.macd[term]\n",
        "                cls.ohlc.various_diff['macddiff' + str(term)] = cls.ohlc.macd[term]\n",
        "                cls.ohlc.various_makairi['macdsignalkairi' + str(term)] = cls.ohlc.macdsignal[term]\n",
        "                cls.ohlc.various_diff['macdsignaldiff' + str(term)] = cls.ohlc.macdsignal[term]\n",
        "                cls.ohlc.various_makairi['macdhistkairi' + str(term)] = cls.ohlc.macdhist[term]\n",
        "                cls.ohlc.various_diff['macdhistdiff' + str(term)] = cls.ohlc.macdhist[term]\n",
        "        cls.ohlc.future_side = cls.calc_future_side()\n",
        "        print('calc all index1 time={}'.format(time.time() - start_time))\n",
        "\n",
        "\n",
        "    @classmethod\n",
        "    def generate_raw_df(cls):\n",
        "        def __change_dict_key(d, col_name):\n",
        "            newd = dict(map(lambda k: (col_name + str(k), d[k][:]), d.keys()))\n",
        "            return newd\n",
        "        '''data_dict = {'dt':cls.ohlc.dt[:], 'open':cls.ohlc.open[:], 'high':cls.ohlc.high[:],'low':cls.ohlc.low[:],\n",
        "                    'close':cls.ohlc.close[:], 'size':cls.ohlc.size[:], 'normalized_ave_true_range':cls.ohlc.normalized_ave_true_range[:],\n",
        "                    'sar':cls.ohlc.sar[:],'bop':cls.ohlc.bop[:]}'''\n",
        "        data_dict = {'dt': cls.ohlc.dt[:], 'open': cls.ohlc.open[:], 'high': cls.ohlc.high[:], 'low': cls.ohlc.low[:],\n",
        "                     'close': cls.ohlc.close[:], 'size': cls.ohlc.size[:],\n",
        "                     'normalized_ave_true_range': cls.ohlc.normalized_ave_true_range[:],\n",
        "                     'three_outside_updown': cls.ohlc.three_outside_updown[:], 'breakway': cls.ohlc.breakway[:],\n",
        "                     'dark_cloud_cover': cls.ohlc.dark_cloud_cover[:],\n",
        "                     'dragonfly_doji': cls.ohlc.dragonfly_doji[:],\n",
        "                     'three_oupdown_sidebyside_white_linesutside_updown': cls.ohlc.updown_sidebyside_white_lines[:],\n",
        "                     'haramisen': cls.ohlc.haramisen[:], 'haramhikkake_patternisen': cls.ohlc.hikkake_pattern[:],\n",
        "                     'neck_pattern': cls.ohlc.neck_pattern[:],\n",
        "                     'upsidedownside_gap_three_method': cls.ohlc.upsidedownside_gap_three_method[:],\n",
        "                     'sar': cls.ohlc.sar[:], 'bop': cls.ohlc.bop[:]}\n",
        "        data_dict = {**data_dict, **__change_dict_key(cls.ohlc.ema, 'ema'),\n",
        "                     **__change_dict_key(cls.ohlc.ema_ave, 'ema_ave'),\n",
        "                     **__change_dict_key(cls.ohlc.ema_kairi, 'ema_kairi'),\n",
        "                     **__change_dict_key(cls.ohlc.dema_kairi, 'dema_kairi'),\n",
        "                     **__change_dict_key(cls.ohlc.ema_gra, 'ema_gra'), **__change_dict_key(cls.ohlc.dema, 'dema'),\n",
        "                     **__change_dict_key(cls.ohlc.dema_ave, 'dema_ave'),\n",
        "                     **__change_dict_key(cls.ohlc.dema_gra, 'dema_gra'),\n",
        "                     **__change_dict_key(cls.ohlc.midprice, 'midprice'),\n",
        "                     **__change_dict_key(cls.ohlc.momentum, 'momentum'),\n",
        "                     **__change_dict_key(cls.ohlc.momentum_ave, 'momentum_ave'),\n",
        "                     **__change_dict_key(cls.ohlc.rate_of_change, 'rate_of_change'),\n",
        "                     **__change_dict_key(cls.ohlc.rsi, 'rsi'), **__change_dict_key(cls.ohlc.williams_R, 'williams_R'),\n",
        "                     **__change_dict_key(cls.ohlc.beta, 'beta'), **__change_dict_key(cls.ohlc.tsf, 'tsf'),\n",
        "                     **__change_dict_key(cls.ohlc.correl, 'correl'),\n",
        "                     **__change_dict_key(cls.ohlc.linear_reg, 'linear_reg'),\n",
        "                     **__change_dict_key(cls.ohlc.linear_reg_angle, 'linear_reg_angle'),\n",
        "                     **__change_dict_key(cls.ohlc.linear_reg_intercept, 'linear_reg_intercept'),\n",
        "                     **__change_dict_key(cls.ohlc.linear_reg_slope, 'linear_reg_slope'),\n",
        "                     **__change_dict_key(cls.ohlc.stdv, 'stdv'), **__change_dict_key(cls.ohlc.var, 'var'),\n",
        "                     **__change_dict_key(cls.ohlc.linear_reg_ave, 'linear_reg_ave'),\n",
        "                     **__change_dict_key(cls.ohlc.linear_reg_angle_ave, 'linear_reg_angle_ave'),\n",
        "                     **__change_dict_key(cls.ohlc.linear_reg_intercept_ave, 'linear_reg_intercept_ave'),\n",
        "                     **__change_dict_key(cls.ohlc.linear_reg_slope_ave, 'linear_reg_slope_ave'),\n",
        "                     **__change_dict_key(cls.ohlc.stdv_ave, 'stdv_ave'),\n",
        "                     **__change_dict_key(cls.ohlc.var_ave, 'var_ave'), **__change_dict_key(cls.ohlc.adx, 'adx'),\n",
        "                     **__change_dict_key(cls.ohlc.aroon_os, 'aroon_os'),\n",
        "                     **__change_dict_key(cls.ohlc.cci, 'cci'), **__change_dict_key(cls.ohlc.dx, 'dx'),\n",
        "                     **__change_dict_key(cls.ohlc.macd, 'macd'),\n",
        "                     **__change_dict_key(cls.ohlc.macdsignal, 'macdsignal'),\n",
        "                     **__change_dict_key(cls.ohlc.macdhist, 'macdhist'),\n",
        "                     **__change_dict_key(cls.ohlc.macd_ave, 'macd_ave'),\n",
        "                     **__change_dict_key(cls.ohlc.macdsignal_ave, 'macdsignal_ave'),\n",
        "                     **__change_dict_key(cls.ohlc.macdhist_ave, 'macdhist_ave'),\n",
        "                     ** __change_dict_key(cls.ohlc.various_makairi, 'various_makairi'),\n",
        "                     **__change_dict_key(cls.ohlc.various_diff, 'various_diff')}\n",
        "        df = pd.DataFrame.from_dict(data_dict)\n",
        "        return df\n",
        "\n",
        "    '''\n",
        "    dema, adx, macdはnum_term * 2くらいnanが発生する\n",
        "    print(df.isnull().sum())\n",
        "    '''\n",
        "\n",
        "    @classmethod\n",
        "    def generate_df(cls):\n",
        "        def __change_dict_key(d, col_name):\n",
        "            newd = dict(map(lambda k: (col_name + '_'+str(k), d[k][cut_size:end]), d.keys()))\n",
        "            return newd\n",
        "\n",
        "        start_time = time.time()\n",
        "        cut_size = cls.term_list[-1] * 2\n",
        "        end = len(cls.ohlc.close) - 10 #remove last 700min data as future bp / sp maybe not precise in\n",
        "        data_dict = {'dt': cls.ohlc.dt[cut_size:end], 'open': cls.ohlc.open[cut_size:end],\n",
        "                     'high': cls.ohlc.high[cut_size:end], 'low': cls.ohlc.low[cut_size:end],\n",
        "                     'close': cls.ohlc.close[cut_size:end], 'size': cls.ohlc.size[cut_size:end],\n",
        "                     'normalized_ave_true_range': cls.ohlc.normalized_ave_true_range[cut_size:end],\n",
        "                     'three_outside_updown': cls.ohlc.three_outside_updown[cut_size:end],\n",
        "                     'breakway': cls.ohlc.breakway[cut_size:end],\n",
        "                     'dark_cloud_cover': cls.ohlc.dark_cloud_cover[cut_size:end],\n",
        "                     'dragonfly_doji': cls.ohlc.dragonfly_doji[cut_size:end],\n",
        "                     'three_oupdown_sidebyside_white_linesutside_updown': cls.ohlc.updown_sidebyside_white_lines[\n",
        "                                                                          cut_size:end],\n",
        "                     'haramisen': cls.ohlc.haramisen[cut_size:end],\n",
        "                     'haramhikkake_patternisen': cls.ohlc.hikkake_pattern[cut_size:end],\n",
        "                     'neck_pattern': cls.ohlc.neck_pattern[cut_size:end],\n",
        "                     'upsidedownside_gap_three_method': cls.ohlc.upsidedownside_gap_three_method[cut_size:end],\n",
        "                     'sar': cls.ohlc.sar[cut_size:end], 'bop': cls.ohlc.bop[cut_size:end]}\n",
        "        data_dict = {**data_dict, **__change_dict_key(cls.ohlc.ema, 'ema'),\n",
        "                     **__change_dict_key(cls.ohlc.ema_ave, 'ema_ave'),\n",
        "                     **__change_dict_key(cls.ohlc.ema_kairi, 'ema_kairi'),\n",
        "                     **__change_dict_key(cls.ohlc.dema_kairi, 'dema_kairi'),\n",
        "                     **__change_dict_key(cls.ohlc.ema_gra, 'ema_gra'), **__change_dict_key(cls.ohlc.dema, 'dema'),\n",
        "                     **__change_dict_key(cls.ohlc.dema_ave, 'dema_ave'),\n",
        "                     **__change_dict_key(cls.ohlc.dema_gra, 'dema_gra'),\n",
        "                     **__change_dict_key(cls.ohlc.midprice, 'midprice'),\n",
        "                     **__change_dict_key(cls.ohlc.momentum, 'momentum'),\n",
        "                     **__change_dict_key(cls.ohlc.momentum_ave, 'momentum_ave'),\n",
        "                     **__change_dict_key(cls.ohlc.rate_of_change, 'rate_of_change'),\n",
        "                     **__change_dict_key(cls.ohlc.rsi, 'rsi'), **__change_dict_key(cls.ohlc.williams_R, 'williams_R'),\n",
        "                     **__change_dict_key(cls.ohlc.beta, 'beta'), **__change_dict_key(cls.ohlc.tsf, 'tsf'),\n",
        "                     **__change_dict_key(cls.ohlc.correl, 'correl'),\n",
        "                     **__change_dict_key(cls.ohlc.linear_reg, 'linear_reg'),\n",
        "                     **__change_dict_key(cls.ohlc.linear_reg_angle, 'linear_reg_angle'),\n",
        "                     **__change_dict_key(cls.ohlc.linear_reg_intercept, 'linear_reg_intercept'),\n",
        "                     **__change_dict_key(cls.ohlc.linear_reg_slope, 'linear_reg_slope'),\n",
        "                     **__change_dict_key(cls.ohlc.stdv, 'stdv'), **__change_dict_key(cls.ohlc.var, 'var'),\n",
        "                     **__change_dict_key(cls.ohlc.linear_reg_ave, 'linear_reg_ave'),\n",
        "                     **__change_dict_key(cls.ohlc.linear_reg_angle_ave, 'linear_reg_angle_ave'),\n",
        "                     **__change_dict_key(cls.ohlc.linear_reg_intercept_ave, 'linear_reg_intercept_ave'),\n",
        "                     **__change_dict_key(cls.ohlc.linear_reg_slope_ave, 'linear_reg_slope_ave'),\n",
        "                     **__change_dict_key(cls.ohlc.stdv_ave, 'stdv_ave'),\n",
        "                     **__change_dict_key(cls.ohlc.var_ave, 'var_ave'), **__change_dict_key(cls.ohlc.adx, 'adx'),\n",
        "                     **__change_dict_key(cls.ohlc.aroon_os, 'aroon_os'),\n",
        "                     **__change_dict_key(cls.ohlc.cci, 'cci'), **__change_dict_key(cls.ohlc.dx, 'dx'),\n",
        "                     **__change_dict_key(cls.ohlc.macd, 'macd'),\n",
        "                     **__change_dict_key(cls.ohlc.macdsignal, 'macdsignal'),\n",
        "                     **__change_dict_key(cls.ohlc.macdhist, 'macdhist'),\n",
        "                     **__change_dict_key(cls.ohlc.macd_ave, 'macd_ave'),\n",
        "                     **__change_dict_key(cls.ohlc.macdsignal_ave, 'macdsignal_ave'),\n",
        "                     **__change_dict_key(cls.ohlc.macdhist_ave, 'macdhist_ave'),\n",
        "                     **__change_dict_key(cls.ohlc.various_makairi, 'various_makairi'),\n",
        "                     **__change_dict_key(cls.ohlc.various_diff, 'various_diff')}\n",
        "        data_dict['bpsp'] = cls.ohlc.bpsp[cut_size:end]\n",
        "#        data_dict['bp'] = cls.ohlc.bp[cut_size:end]\n",
        "#        data_dict['sp'] = cls.ohlc.sp[cut_size:end]\n",
        "        df = pd.DataFrame.from_dict(data_dict)\n",
        "        return df\n",
        "\n",
        "    @classmethod\n",
        "    def generate_term_list(cls, num):\n",
        "        term_list = []\n",
        "        category_n = [5, 50, 200]\n",
        "        term_list.extend(list(np.round(np.linspace(category_n[0], category_n[0] * num, num))))\n",
        "        term_list.extend(list(np.round(np.linspace(category_n[1] + (category_n[0] * num),category_n[1] + (category_n[0] * num) + category_n[1] * num), num)))\n",
        "        term_list.extend(list(np.round(np.linspace(category_n[2] + category_n[1] + (category_n[0] * num) + (category_n[1] * num),category_n[2] + (category_n[1] * num) + category_n[2] * num), num)))\n",
        "        return list(map(int, term_list))\n",
        "\n",
        "    @classmethod\n",
        "    def generate_term_list2(cls, max_term):\n",
        "        term_list = []\n",
        "        term_list = list(np.linspace(10, max_term, num=(max_term-10)/20))\n",
        "        return list(map(int, term_list))\n",
        "\n",
        "    @classmethod\n",
        "    def detect_max_term(cls):\n",
        "        max_term = 0\n",
        "        cols = []\n",
        "        with open(\"./Model/bpsp_cols.csv\", \"r\") as f:\n",
        "            reader = csv.reader(f)\n",
        "            for r in reader:\n",
        "                cols.append(r)\n",
        "        for col in cols[0]:\n",
        "            if col not in ['open', 'high', 'low', 'close']:\n",
        "                if max_term < int(col.split(':')[1]):\n",
        "                    max_term = int(col.split(':')[1])\n",
        "        return max_term\n",
        "\n",
        "\n",
        "    @classmethod\n",
        "    def calc_ohlc_change(cls):\n",
        "        cls.ohlc.open_change.append(0)\n",
        "        cls.ohlc.high_change.append(0)\n",
        "        cls.ohlc.low_change.append(0)\n",
        "        cls.ohlc.close_change.append(0)\n",
        "        for i in range(len(cls.ohlc.close)-1):\n",
        "            close = cls.ohlc.close[i]\n",
        "            cls.ohlc.open_change.append(round(cls.ohlc.open[i+1] / close,5))\n",
        "            cls.ohlc.high_change.append(round(cls.ohlc.high[i + 1] / close, 5))\n",
        "            cls.ohlc.low_change.append(round(cls.ohlc.low[i + 1] / close, 5))\n",
        "            cls.ohlc.close_change.append(round(cls.ohlc.close[i + 1] / close,5))\n",
        "\n",
        "\n",
        "     #kairi of data\n",
        "    @classmethod\n",
        "    def generate_makairi(cls, data, ma_term):\n",
        "        ma = np.array(list(ta.MA(np.array(data, dtype='f8'), timeperiod=ma_term)),dtype='f8')\n",
        "        return list(map(lambda c, e: (c - e) / e, np.array(data, dtype='f8'), ma))\n",
        "\n",
        "    @classmethod\n",
        "    def generate_diff(cls, data):\n",
        "        return list(ta.ROC(np.array(data, dtype='f8'), timeperiod=1))\n",
        "        #return [0] + list(np.diff(np.array(data, dtype='f8')))\n",
        "\n",
        "\n",
        "    #points of long can get pt before lc and vice versa\n",
        "    @classmethod\n",
        "    def calc_pl_ls_points(cls):  # both pl and ls should be plus val as abs\n",
        "        buy_points = []\n",
        "        sell_points = []\n",
        "        print(cls.pt)\n",
        "        for i in range(len(cls.ohlc.close)):\n",
        "            entry_p = cls.ohlc.open[i]\n",
        "            j = 0\n",
        "            while True: #loop for bp\n",
        "                if i+ j < len(cls.ohlc.close):\n",
        "                    if -cls.lc >= cls.ohlc.low[i+j] - entry_p: #lc before pt for buy\n",
        "                        buy_points.append(0)\n",
        "                        break\n",
        "                    elif cls.pt <= cls.ohlc.high[i+j] - entry_p:\n",
        "                        buy_points.append(1)\n",
        "                        break\n",
        "                else:\n",
        "                    buy_points.append(0)\n",
        "                    break\n",
        "                j +=1\n",
        "            j = 0\n",
        "            while True: #loop for sp\n",
        "                if i+ j < len(cls.ohlc.close):\n",
        "                    if -cls.lc >= entry_p - cls.ohlc.high[i+j]: #lc before pt for buy\n",
        "                        sell_points.append(0)\n",
        "                        break\n",
        "                    elif cls.pt <= entry_p - cls.ohlc.low[i+j]:\n",
        "                        sell_points.append(1)\n",
        "                        break\n",
        "                else:\n",
        "                    sell_points.append(0)\n",
        "                    break\n",
        "                j +=1\n",
        "        return buy_points, sell_points\n",
        "    \n",
        "    \n",
        "    #higher pl in next 1m for bp sp\n",
        "    @classmethod\n",
        "    def calc_bpsp_points(cls):\n",
        "        bpsp = [] #0: buy, 1:sell\n",
        "        for i in range(1, len(cls.ohlc.close)):\n",
        "            if cls.ohlc.close[i] - cls.ohlc.close[i-1] > cls.ohlc.close[i-1] - cls.ohlc.close[i]:\n",
        "                bpsp.append(1)\n",
        "            else:\n",
        "                bpsp.append(0)\n",
        "        bpsp.append(None)\n",
        "        return bpsp\n",
        "        \n",
        "\n",
        "    @classmethod\n",
        "    def calc_bpsp_points2(cls):\n",
        "        bp = []\n",
        "        sp = []\n",
        "        for i in range(len(cls.ohlc.close) - cls.kijun_period):\n",
        "            flg_buy = 0\n",
        "            flg_sell = 0\n",
        "            entry_p = cls.ohlc.close[i]\n",
        "            j = 0\n",
        "            for j in range(cls.kijun_period):\n",
        "                if i+j < len(cls.ohlc.close):\n",
        "                    if cls.ohlc.close[i+j] - entry_p >= cls.kijun_val:\n",
        "                        flg_buy = 1\n",
        "                    if entry_p - cls.ohlc.close[i+j] >= cls.kijun_val:\n",
        "                        flg_sell = 1\n",
        "                else:\n",
        "                    break\n",
        "            bp.append(flg_buy)\n",
        "            sp.append(flg_sell)\n",
        "        return bp, sp\n",
        "\n",
        "\n",
        "    @classmethod\n",
        "    def calc_future_side(cls):\n",
        "        future_side = []\n",
        "        num_buy = 0\n",
        "        num_sell = 0\n",
        "        num_no = 0\n",
        "        num_both = 0\n",
        "        for i in range(len(cls.ohlc.close) - cls.kijun_period):\n",
        "            buy_max = 0\n",
        "            sell_max = 0\n",
        "            entry_p = cls.ohlc.close[i]\n",
        "            for j in range(cls.kijun_period):\n",
        "                buy_max = max(buy_max, cls.ohlc.close[i+j] - entry_p)\n",
        "                sell_max = max(sell_max, entry_p - cls.ohlc.close[i+j])\n",
        "            if buy_max >= cls.kijun_val and sell_max >= cls.kijun_val:\n",
        "                future_side.append('both')\n",
        "                num_both += 1\n",
        "            elif buy_max >= cls.kijun_val and sell_max < cls.kijun_val:\n",
        "                future_side.append('buy')\n",
        "                num_buy += 1\n",
        "            elif buy_max < cls.kijun_val and sell_max >= cls.kijun_val:\n",
        "                future_side.append('sell')\n",
        "                num_sell += 1\n",
        "            elif buy_max < cls.kijun_val and sell_max < cls.kijun_val:\n",
        "                future_side.append('no')\n",
        "                num_no += 1\n",
        "\n",
        "        print('future_side allocation in Market Data:')\n",
        "        tsum = float(len(future_side))\n",
        "        print('no:', round(float(num_no) / tsum, 4), 'buy:', round(float(num_buy) / tsum, 4), 'sell:', round(float(num_sell) / tsum, 4), 'both:', round(float(num_both) / tsum, 4))\n",
        "        return future_side\n",
        "\n",
        "    @classmethod\n",
        "    def remove_all_correlated_cols(cls, df, corr_kijun):\n",
        "        def remove_high_corr_cols(df, col_name, kijun):\n",
        "            remove_cols = []\n",
        "            num_corr = 0\n",
        "            for i in range(len(df.columns) - 1):\n",
        "                if df.columns[i] != col_name and df.columns[i] != 'dt':\n",
        "                    corr = df[col_name].corr(df[df.columns[i]])\n",
        "                    if corr > kijun and df.columns[i] not in ['open', 'high', 'low', 'close', 'size', 'future_side']:\n",
        "                        num_corr += 1\n",
        "                        remove_cols.append(df.columns[i])\n",
        "            if len(remove_cols) > 0:\n",
        "                df.drop(remove_cols, axis = 1, inplace = True)\n",
        "                print('removed '+str(num_corr) + 'cols', ' total cols='+str(len(df.columns)))\n",
        "            print('completed remove all correlated cols. time=', time.time() - start_time)\n",
        "            return df\n",
        "\n",
        "        nt= 0\n",
        "        df2 = df.copy()\n",
        "        while True:\n",
        "            if len(df2.columns) <= nt:\n",
        "                print('kita')\n",
        "                break\n",
        "            elif df2.columns[nt] != 'dt':\n",
        "                df2 = remove_high_corr_cols(df2, df2.columns[nt], corr_kijun)\n",
        "            nt += 1\n",
        "        return df2\n",
        "\n",
        "    \n",
        "    @classmethod\n",
        "    def remove_all_correlated_cols2(self, df, corr_kijun):\n",
        "        print('removing all correlated columns..')\n",
        "        df2 = df.copy()\n",
        "        df3 = df.copy()\n",
        "        df2.drop(['dt'], axis=1, inplace=True)\n",
        "        #corrs = np.corrcoef(np.array(df2).transpose())\n",
        "        corrs = np.corrcoef(np.array(df2))\n",
        "        remove_cols = []\n",
        "        cols = list(df2.columns)\n",
        "        for cor in corrs:\n",
        "            for i in range(len(cor)):\n",
        "                if cor[i] != 1.0 and cor[i] > corr_kijun:\n",
        "                    if cols[i] not in remove_cols and cols[i] not in ['open', 'high', 'low', 'close', 'size', 'future_side']:\n",
        "                        remove_cols.append(cols[i])\n",
        "        df3.drop(remove_cols, axis=1, inplace=True)\n",
        "        print('removed '+str(len(remove_cols))+' colums')\n",
        "        print(remove_cols)\n",
        "        return df3, corrs\n",
        "    \n",
        "    @classmethod\n",
        "    def remove_all_correlated_cols3(self, df, corr_kijun):\n",
        "        print('removing all correlated columns..')\n",
        "        start_time = time.time()\n",
        "        df2 = df.copy()\n",
        "        df3 = df.copy()\n",
        "        df2.drop(['dt','future_side'], axis=1, inplace=True)\n",
        "        corrs = np.corrcoef(np.array(df2).transpose())\n",
        "\n",
        "        # 1. 0番目から0.9以上のindexを検索\n",
        "        def check_corr_kijun(cor, cor_ind, kijun):\n",
        "            rem = []\n",
        "            for i, c in enumerate(cor):\n",
        "                if c >= kijun and i != cor_ind:\n",
        "                    rem.append(i)\n",
        "            return rem\n",
        "\n",
        "        tmp_remo = []\n",
        "        for i, cor in enumerate(corrs):\n",
        "            if i not in tmp_remo:  # 3. 該当indexを除いて次のindexを対象に1の操作を実行\n",
        "                # 2. 該当したindexをtmp_remoに記録\n",
        "                tmp_remo.extend(check_corr_kijun(cor, i, corr_kijun))\n",
        "        \n",
        "        cols = list(df2.columns)\n",
        "        for col in cols:\n",
        "            cor = 1 - correlation(df2['close'], df2[col])\n",
        "            if cor >= corr_kijun:\n",
        "                tmp_remo.extend(col)\n",
        "\n",
        "        # 4. tmp_remoに記録されたindexのcolumnをdfから削除\n",
        "        target_col = []\n",
        "        cols = list(df2.columns)\n",
        "        for tr in tmp_remo:\n",
        "            target_col.append(cols[tr])\n",
        "        excludes = ['dt', 'open', 'high', 'low', 'close', 'close_change', 'dt', 'future_side']\n",
        "        for ex in excludes:\n",
        "            if ex in target_col:\n",
        "                target_col.remove(ex)\n",
        "        df3.drop(target_col, axis=1, inplace=True)\n",
        "        print('removed ' + str(len(target_col)) + ' colums', 'remaining col=' + str(len(df3.columns)))\n",
        "        print('completed remove all correlated cols3. time=', time.time() - start_time)\n",
        "        return df3, corrs\n",
        "                    \n",
        "\n",
        "    @classmethod\n",
        "    def remove_all_correlated_cols4(cls, df, corr_kijun):\n",
        "        print('removing all correlated columns..')\n",
        "        start_time = time.time()\n",
        "        dff = df.copy()\n",
        "        dff.drop(['dt','future_side'], axis=1, inplace=True)\n",
        "        cols = list(dff.columns)\n",
        "        df_res = df.copy()\n",
        "        corr_matrix = np.corrcoef(np.array(dff).transpose())\n",
        "        df_new = pd.DataFrame(data=corr_matrix, index=cols, columns=cols, dtype='float')\n",
        "        upper = df_new.where(np.triu(np.ones(df_new.shape), k=1).astype(np.bool))\n",
        "        to_drop = [column for column in upper.columns if any(upper[column] > corr_kijun)]\n",
        "        excludes = ['dt', 'open', 'high', 'low', 'close', 'close_change', 'future_side', 'size']\n",
        "        for ex in excludes:\n",
        "            if ex in to_drop:\n",
        "                to_drop.remove(ex)\n",
        "        df_res.drop(to_drop, axis=1, inplace=True)\n",
        "        print('removed ' + str(len(to_drop)) + ' colums', 'remaining col=' + str(len(df_res.columns)))\n",
        "        print('completed remove all correlated cols4. time=', time.time() - start_time)\n",
        "        return df_res\n",
        "\n",
        "\n",
        "    @classmethod\n",
        "    def remove_price_dependent_cols(cls, df):\n",
        "        print('removing all price dependent columns..')\n",
        "        max_ind = np.array(list(df['close'])).argmax()\n",
        "        min_ind = np.array(list(df['close'])).argmin()\n",
        "        cols = list(df.columns)\n",
        "        target_cols = []\n",
        "        for col in cols:\n",
        "            if abs(np.array(df[col]).argmax() - max_ind) <= 10 and abs(np.array(df[col]).argmin() - min_ind) <= 10:\n",
        "                target_cols.append(col)\n",
        "        excludes = ['dt', 'open', 'high', 'low', 'close', 'close_change', 'future_side']\n",
        "        for ex in excludes:\n",
        "            if ex in target_cols:\n",
        "                target_cols.remove(ex)\n",
        "        df.drop(target_cols, axis=1, inplace=True)\n",
        "        print('removed ' + str(len(target_cols)) + ' colums', 'remaining col=' + str(len(df.columns)))\n",
        "        return df\n",
        "\n",
        "    @classmethod\n",
        "    def remove_price_dependent_cols2(cls, df, corr_kijun):\n",
        "        print('removing all price dependent columns..')\n",
        "        dff = df.copy()\n",
        "        df_res = df.copy()\n",
        "        dff.drop(['dt','future_side'], axis=1, inplace=True)\n",
        "        cols = list(dff.columns)\n",
        "        to_drop = []\n",
        "        for col in cols:\n",
        "            corr = np.corrcoef(dff['close'], dff[col], rowvar=False)[1][0]\n",
        "            if corr > corr_kijun:\n",
        "                to_drop.append(col)\n",
        "        excludes = ['dt', 'open', 'high', 'low', 'close', 'future_side', 'size']\n",
        "        for ex in excludes:\n",
        "            if ex in to_drop:\n",
        "                to_drop.remove(ex)\n",
        "        df_res.drop(to_drop, axis=1, inplace=True)\n",
        "        print('removed ' + str(len(to_drop)) + ' colums', 'remaining col=' + str(len(df.columns)))\n",
        "        return df_res\n",
        "\n",
        "\n",
        "    #5min, 15min, 1hの足でのヒゲにしたほうがいい\n",
        "    @classmethod\n",
        "    def calc_uwahige_length(cls):\n",
        "        return list(map(lambda i: (cls.ohlc.high[i] - cls.ohlc.close[i])/ cls.ohlc.open[i] if cls.ohlc.close[i] > cls.ohlc.open[i] else (cls.ohlc.high[i] - cls.ohlc.open[i]) / cls.ohlc.open[i], range(0, len(cls.ohlc.close))))\n",
        "\n",
        "    @classmethod\n",
        "    def calc_5min_uwahige_length(cls):\n",
        "        return list(map(lambda i: (cls.ohlc.high[i] - cls.ohlc.close[i])/ cls.ohlc.open[i] if cls.ohlc.close[i] > cls.ohlc.open[i] else (cls.ohlc.high[i] - cls.ohlc.open[i]) / cls.ohlc.open[i], range(0, len(cls.ohlc.close))))\n",
        "\n",
        "    @classmethod\n",
        "    def calc_shitahige_length(cls):\n",
        "        return list(map(lambda i: (cls.ohlc.open[i] - cls.ohlc.low[i])/ cls.ohlc.open[i] if cls.ohlc.close[i] > cls.ohlc.open[i] else (cls.ohlc.close[i] - cls.ohlc.low[i]) / cls.ohlc.open[i], range(0, len(cls.ohlc.close))))\n",
        "\n",
        "    @classmethod\n",
        "    def calc_high_kairi(cls, term):\n",
        "        max_list = []\n",
        "        max_list = list(map(lambda i: max(cls.ohlc.high[i:i+term]), range(0, len(cls.ohlc.high)-term)))\n",
        "        kairi = [0] * term\n",
        "        kairi.extend(list(map(lambda i: max_list[i]/cls.ohlc.close[i+term], range(0,len(max_list)))))\n",
        "        return kairi\n",
        "\n",
        "    @classmethod\n",
        "    def calc_low_kairi(cls, term):\n",
        "        low_list = []\n",
        "        low_list = list(map(lambda i: max(cls.ohlc.low[i:i+term]), range(0, len(cls.ohlc.low)-term)))\n",
        "        kairi = [0] * term\n",
        "        kairi.extend(list(map(lambda i: low_list[i]/cls.ohlc.close[i+term], range(0,len(low_list)))))\n",
        "        return kairi\n",
        "\n",
        "\n",
        "    @classmethod\n",
        "    def calc_ema(cls, term):\n",
        "        return list(ta.EMA(np.array(cls.ohlc.close, dtype='f8'), timeperiod=term))\n",
        "\n",
        "    \n",
        "    @classmethod\n",
        "    def calc_ema_kairi(cls, term):\n",
        "        return list(map(lambda c, e: (c - e) / e, np.array(cls.ohlc.close, dtype='f8'), np.array(cls.ohlc.index_data_dict['ema:'+str(term)], dtype='f8')))\n",
        "\n",
        "    @classmethod\n",
        "    def calc_dema_kairi(cls, term):\n",
        "        return list(map(lambda c, d: (c - d) / d, np.array(cls.ohlc.close, dtype='f8'), np.array(cls.ohlc.index_data_dict['dema:'+str(term)], dtype='f8')))\n",
        "\n",
        "    @classmethod\n",
        "    def calc_ema_gra(cls, term):\n",
        "        return list(pd.Series(cls.ohlc.index_data_dict['ema:'+str(term)]).diff())\n",
        "\n",
        "    @classmethod\n",
        "    def calc_dema_gra(cls, term):\n",
        "        return list(pd.Series(cls.ohlc.index_data_dict['dema:'+str(term)]).diff())\n",
        "\n",
        "    @classmethod\n",
        "    def calc_dema(cls, term):\n",
        "        return list(ta.DEMA(np.array(cls.ohlc.close, dtype='f8'), timeperiod=term))\n",
        "\n",
        "    #termの2倍くらいnanが続く\n",
        "    @classmethod\n",
        "    def calc_adx(cls, term):\n",
        "        return list(\n",
        "            ta.ADX(np.array(cls.ohlc.high, dtype='f8'), np.array(cls.ohlc.low, dtype='f8'), np.array(cls.ohlc.close, dtype='f8'), timeperiod=term))\n",
        "\n",
        "    @classmethod\n",
        "    def calc_aroon_os(cls, term):\n",
        "        return list(ta.AROONOSC(np.array(cls.ohlc.high, dtype='f8'), np.array(cls.ohlc.low, dtype='f8'), timeperiod=term))\n",
        "\n",
        "    @classmethod\n",
        "    def calc_cci(cls, term):\n",
        "        return list(\n",
        "            ta.CCI(np.array(cls.ohlc.high, dtype='f8'), np.array(cls.ohlc.low, dtype='f8'), np.array(cls.ohlc.close, dtype='f8'), timeperiod=term))\n",
        "\n",
        "    @classmethod\n",
        "    def calc_dx(cls, term):\n",
        "        return list(\n",
        "            ta.DX(np.array(cls.ohlc.high, dtype='f8'), np.array(cls.ohlc.low, dtype='f8'), np.array(cls.ohlc.close, dtype='f8'), timeperiod=term))\n",
        "\n",
        "    @classmethod\n",
        "    def calc_midprice(cls, term, high, low):\n",
        "        return list(ta.MIDPRICE(np.array(high, dtype='f8'), np.array(low, dtype='f8'), timeperiod=term))\n",
        "\n",
        "    \n",
        "    @classmethod\n",
        "    def calc_macd(cls, term):\n",
        "        slowperiod = term\n",
        "        fastperiod= int(term / 2.0)\n",
        "        signalperiod=int(term / 3.0)\n",
        "        macd, signal, hist =  ta.MACD(np.array(cls.ohlc.close, dtype='f8'), np.array(fastperiod, dtype='i8'), np.array(slowperiod, dtype='i8'), np.array(signalperiod, dtype='i8'))\n",
        "        return macd\n",
        "    \n",
        "    @classmethod\n",
        "    def calc_macd_signal(cls, term):\n",
        "        slowperiod = term\n",
        "        fastperiod= int(term / 2.0)\n",
        "        signalperiod=int(term / 3.0)\n",
        "        macd, signal, hist =  ta.MACD(np.array(cls.ohlc.close, dtype='f8'), np.array(fastperiod, dtype='i8'), np.array(slowperiod, dtype='i8'),\n",
        "                       np.array(signalperiod, dtype='i8'))\n",
        "        return signal\n",
        "    \n",
        "    @classmethod\n",
        "    def calc_macd_hist(cls, term):\n",
        "        slowperiod = term\n",
        "        fastperiod= int(term / 2.0)\n",
        "        signalperiod=int(term / 3.0)\n",
        "        macd, signal, hist = ta.MACD(np.array(cls.ohlc.close, dtype='f8'), np.array(fastperiod, dtype='i8'), np.array(slowperiod, dtype='i8'),\n",
        "                       np.array(signalperiod, dtype='i8'))\n",
        "        return hist\n",
        "\n",
        "    @classmethod\n",
        "    def calc_momentum(cls, term):\n",
        "        return list(ta.MOM(np.array(cls.ohlc.close, dtype='f8'), timeperiod=term))\n",
        "\n",
        "    @classmethod\n",
        "    def calc_rate_of_change(cls, term):\n",
        "        return list(ta.ROC(np.array(cls.ohlc.close, dtype='f8'), timeperiod=term))\n",
        "\n",
        "    @classmethod\n",
        "    def calc_rsi(cls, term):\n",
        "        return list(ta.RSI(np.array(cls.ohlc.close, dtype='f8'), timeperiod=term))\n",
        "\n",
        "    @classmethod\n",
        "    def calc_williams_R(cls, term):\n",
        "        return list(ta.WILLR(np.array(cls.ohlc.high, dtype='f8'), np.array(cls.ohlc.low, dtype='f8'), np.array(cls.ohlc.close, dtype='f8'),timeperiod=term))\n",
        "\n",
        "    @classmethod\n",
        "    def calc_beta(cls, term):\n",
        "        return list(ta.BETA(np.array(cls.ohlc.high, dtype='f8'), np.array(cls.ohlc.low, dtype='f8'), timeperiod=term))\n",
        "\n",
        "    @classmethod\n",
        "    def calc_time_series_forecast(cls, term):\n",
        "        return list(ta.TSF(np.array(cls.ohlc.close, dtype='f8'), timeperiod=term))\n",
        "\n",
        "    @classmethod\n",
        "    def calc_correl(cls, term):\n",
        "        return list(ta.CORREL(np.array(cls.ohlc.high, dtype='f8'), np.array(cls.ohlc.low, dtype='f8'), timeperiod=term))\n",
        "\n",
        "    @classmethod\n",
        "    def calc_linear_reg(cls, term):\n",
        "        return list(ta.LINEARREG(np.array(cls.ohlc.close, dtype='f8'), timeperiod=term))\n",
        "\n",
        "    @classmethod\n",
        "    def calc_linear_reg_angle(cls, term):\n",
        "        return list(ta.LINEARREG_ANGLE(np.array(cls.ohlc.close, dtype='f8'), timeperiod=term))\n",
        "\n",
        "    @classmethod\n",
        "    def calc_linear_reg_intercept(cls, term):\n",
        "        return list(ta.LINEARREG_SLOPE(np.array(cls.ohlc.close, dtype='f8'), timeperiod=term))\n",
        "\n",
        "    @classmethod\n",
        "    def calc_linear_reg_slope(cls, term):\n",
        "        return list(ta.LINEARREG_INTERCEPT(np.array(cls.ohlc.close, dtype='f8'), timeperiod=term))\n",
        "\n",
        "    @classmethod\n",
        "    def calc_stdv(cls, term):\n",
        "        return list(ta.STDDEV(np.array(cls.ohlc.close, dtype='f8'), timeperiod=term, nbdev=1))\n",
        "\n",
        "    @classmethod\n",
        "    def calc_var(cls, term):\n",
        "        return list(ta.VAR(np.array(cls.ohlc.close, dtype='f8'), timeperiod=term, nbdev=1))\n",
        "\n",
        "    @classmethod\n",
        "    def calc_normalized_ave_true_range(cls):\n",
        "        return list(ta.NATR(np.array(cls.ohlc.high, dtype='f8'), np.array(cls.ohlc.low, dtype='f8'), np.array(cls.ohlc.close, dtype='f8')))\n",
        "\n",
        "    @classmethod\n",
        "    def calc_three_outside_updown(cls):\n",
        "        return list(ta.CDL3OUTSIDE(np.array(cls.ohlc.open, dtype='f8'), np.array(cls.ohlc.high, dtype='f8'), np.array(cls.ohlc.low, dtype='f8'),\n",
        "                                   np.array(cls.ohlc.close, dtype='f8')))\n",
        "\n",
        "    @classmethod\n",
        "    def calc_breakway(cls):\n",
        "        return list(ta.CDLBREAKAWAY(np.array(cls.ohlc.open, dtype='f8'), np.array(cls.ohlc.high, dtype='f8'), np.array(cls.ohlc.low, dtype='f8'),\n",
        "                                    np.array(cls.ohlc.close, dtype='f8')))\n",
        "\n",
        "    @classmethod\n",
        "    def calc_dark_cloud_cover(cls):\n",
        "        return list(ta.CDLDARKCLOUDCOVER(np.array(cls.ohlc.open, dtype='f8'), np.array(cls.ohlc.high, dtype='f8'), np.array(cls.ohlc.low, dtype='f8'),\n",
        "                                 np.array(cls.ohlc.close, dtype='f8'), penetration=0))\n",
        "\n",
        "    @classmethod\n",
        "    def calc_dragonfly_doji(cls):\n",
        "        return list(ta.CDLDRAGONFLYDOJI(np.array(cls.ohlc.open, dtype='f8'), np.array(cls.ohlc.high, dtype='f8'), np.array(cls.ohlc.low, dtype='f8'),\n",
        "                                np.array(cls.ohlc.close, dtype='f8')))\n",
        "\n",
        "    @classmethod\n",
        "    def calc_updown_sidebyside_white_lines(cls):\n",
        "        return list(\n",
        "            ta.CDLGAPSIDESIDEWHITE(np.array(cls.ohlc.open, dtype='f8'), np.array(cls.ohlc.high, dtype='f8'), np.array(cls.ohlc.low, dtype='f8'),\n",
        "                                   np.array(cls.ohlc.close, dtype='f8')))\n",
        "\n",
        "    @classmethod\n",
        "    def calc_haramisen(cls):\n",
        "        return list(ta.CDLHARAMI(np.array(cls.ohlc.open, dtype='f8'), np.array(cls.ohlc.high, dtype='f8'), np.array(cls.ohlc.low, dtype='f8'), np.array(cls.ohlc.close, dtype='f8')))\n",
        "\n",
        "    @classmethod\n",
        "    def calc_hikkake_pattern(cls):\n",
        "        return list(ta.CDLHIKKAKEMOD(np.array(cls.ohlc.open, dtype='f8'), np.array(cls.ohlc.high, dtype='f8'), np.array(cls.ohlc.low, dtype='f8'),np.array(cls.ohlc.close, dtype='f8')))\n",
        "\n",
        "    @classmethod\n",
        "    def calc_neck_pattern(cls):\n",
        "        return list(ta.CDLINNECK(np.array(cls.ohlc.open, dtype='f8'), np.array(cls.ohlc.high, dtype='f8'), np.array(cls.ohlc.low, dtype='f8'), np.array(cls.ohlc.close, dtype='f8')))\n",
        "\n",
        "    @classmethod\n",
        "    def calc_sar(cls):\n",
        "        accelation = 0.02\n",
        "        maximum = 0.2\n",
        "        return list(ta.SAR(np.array(cls.ohlc.high, dtype='f8'), np.array(cls.ohlc.low, dtype='f8'), np.array(accelation, dtype='f8'), np.array(maximum, dtype='f8')))\n",
        "\n",
        "    @classmethod\n",
        "    def calc_bop(cls):\n",
        "        return list(ta.BOP(np.array(cls.ohlc.open, dtype='f8'), np.array(cls.ohlc.high, dtype='f8'), np.array(cls.ohlc.low, dtype='f8'),np.array(cls.ohlc.close, dtype='f8')))\n",
        "\n",
        "    @classmethod\n",
        "    def calc_upsidedownside_gap_three_method(cls):\n",
        "        return list(ta.CDLXSIDEGAP3METHODS(np.array(cls.ohlc.open, dtype='f8'), np.array(cls.ohlc.high, dtype='f8'), np.array(cls.ohlc.low, dtype='f8'),np.array(cls.ohlc.close, dtype='f8')))\n",
        "\n",
        "    @classmethod\n",
        "    def check_matched_index(cls, test_x):\n",
        "        test = list(test_x['open'])\n",
        "        op = cls.ohlc.open\n",
        "        for i in range(len(op)):\n",
        "            flg = True\n",
        "            for j in range(30):\n",
        "                if test[j] != op[i + j]:\n",
        "                    flg = False\n",
        "                    break\n",
        "            if flg:\n",
        "                return i\n",
        "        print('no matche index found!')\n",
        "        return -1\n",
        "\n",
        "\n",
        "    @classmethod\n",
        "    def check_matched_index_change(cls, test_x):\n",
        "        test = list(test_x['close_change'])\n",
        "        op = cls.ohlc.close_change\n",
        "        for i in range(len(op)):\n",
        "            flg = True\n",
        "            for j in range(30):\n",
        "                if test[j] != op[i + j]:\n",
        "                    flg = False\n",
        "                    break\n",
        "            if flg:\n",
        "                return i\n",
        "        print('no matche index found!')\n",
        "        return -1\n",
        "\n",
        "    @classmethod\n",
        "    def check_matched_dt(cls, test_x, df2):\n",
        "        col = list(test_x.columns)[0]\n",
        "        test_data = list(test_x[col].iloc[0:30])\n",
        "\n",
        "        for ind,data in enumerate(df2[col]):\n",
        "            if data == test_data[0]:\n",
        "                if test_data == list(df2[col].iloc[ind:ind+30]):\n",
        "                    return cls.ohlc.dt.index(df2['dt'].iloc[ind])\n",
        "        print('matched index was not found')\n",
        "        return -1"
      ],
      "execution_count": 0,
      "outputs": []
    },
    {
      "cell_type": "code",
      "metadata": {
        "id": "uak-g5I0vI0X",
        "colab_type": "code",
        "colab": {}
      },
      "source": [
        "'''\n",
        "send order with current ohlc (t)\n",
        "executed with open price of (t+1), send order with ohlc(t+1)\n",
        "executed with open price of (t+2), send order with ohlc(t+2)\n",
        "\n",
        "・消す order idを記録しておいて、move to nextの最後で対象を全部消す。\n",
        "・\n",
        "'''\n",
        "\n",
        "\n",
        "class SimAccount:\n",
        "    def __init__(self):\n",
        "        self.__initialize_order()\n",
        "        self.__initialize_holding()\n",
        "\n",
        "        self.log_data_list = []\n",
        "        self.log_data_df = pd.DataFrame()\n",
        "\n",
        "        self.base_margin_rate = 1.2\n",
        "        self.leverage = 4.0\n",
        "        self.slip_page = 0\n",
        "        self.fee = 0.00015\n",
        "        self.force_loss_cut_rate = 0.5\n",
        "        self.initial_asset = 1500000\n",
        "        self.order_cancel_delay = 1\n",
        "        self.ls_penalty = 0\n",
        "\n",
        "        self.pl_kijun = 0\n",
        "        self.ls_kijun = 0\n",
        "\n",
        "        self.total_pl = 0\n",
        "        self.realized_pl = 0\n",
        "        self.current_pl = 0\n",
        "        self.num_trade = 0\n",
        "        self.num_sell = 0\n",
        "        self.num_buy = 0\n",
        "        self.num_win = 0\n",
        "        self.win_rate = 0\n",
        "        self.asset = self.initial_asset\n",
        "\n",
        "        self.dt_log = []\n",
        "        self.i_log = []\n",
        "        self.order_log = []\n",
        "        self.holding_log = []\n",
        "        self.total_pl_log = []\n",
        "        self.action_log = []\n",
        "        self.price_log = []\n",
        "        self.performance_total_pl_log = []\n",
        "        self.performance_dt_log = []\n",
        "        self.pl_stability = 0\n",
        "\n",
        "        self.start_dt = ''\n",
        "        self.end_dt = ''\n",
        "\n",
        "    def __initialize_order(self):\n",
        "        self.order_serial_num = 0\n",
        "        self.order_serial_list = []\n",
        "        self.order_serial = {}\n",
        "        self.order_side ={}\n",
        "        self.order_price = {}\n",
        "        self.order_size = {}\n",
        "        self.order_i = {}\n",
        "        self.order_dt = {}\n",
        "        self.order_ut = {}\n",
        "        self.order_type = {}  # market / limit\n",
        "        self.order_cancel = {} #True / False\n",
        "        self.order_expire = {}\n",
        "\n",
        "    def __del_order(self, target_serial):\n",
        "        if target_serial in self.order_serial_list:\n",
        "            self.order_serial_list.remove(target_serial)\n",
        "            del self.order_serial[target_serial]\n",
        "            del self.order_side[target_serial]\n",
        "            del self.order_price[target_serial]\n",
        "            del self.order_size[target_serial]\n",
        "            del self.order_i[target_serial]\n",
        "            del self.order_dt[target_serial]\n",
        "            del self.order_ut[target_serial]\n",
        "            del self.order_type[target_serial]  # market / limit\n",
        "            del self.order_cancel[target_serial] #True / False\n",
        "            del self.order_expire[target_serial]\n",
        "\n",
        "    def __initialize_holding(self):\n",
        "        self.holding_side = ''\n",
        "        self.holding_price = 0\n",
        "        self.holding_size = 0\n",
        "        self.holding_i = 0\n",
        "        self.holding_dt = ''\n",
        "        self.holding_ut = 0\n",
        "\n",
        "\n",
        "    def check_executions(self, i, dt, openp, high, low):\n",
        "        self.__check_loss_cut(i, dt, high, low)\n",
        "        self.__check_execution(i, dt, openp, high, low)\n",
        "        self.__check_cancel(i, dt)\n",
        "        self.__check_pl(i, dt, high, low)\n",
        "        self.__check_ls(i, dt, high, low)\n",
        "\n",
        "    def move_to_next(self, i, dt, openp, high, low, close):\n",
        "        if len(str(self.start_dt)) < 3:\n",
        "            self.start_dt = dt\n",
        "        #self.__check_loss_cut(i, dt, high, low)\n",
        "        #self.__check_execution(i, dt, openp, high, low)\n",
        "        #self.__check_cancel(i, dt)\n",
        "        #self.__check_pl(i, dt, high, low)\n",
        "        #self.__check_ls(i, dt, high, low)\n",
        "        if self.holding_side != '':\n",
        "            self.current_pl = (close - self.holding_price) * self.holding_size if self.holding_side == 'buy' else (self.holding_price - close) * self.holding_size\n",
        "        else:\n",
        "            self.current_pl = 0\n",
        "        self.total_pl = self.realized_pl + self.current_pl\n",
        "        self.performance_total_pl_log.append(self.total_pl)\n",
        "        self.performance_dt_log.append(dt)\n",
        "        self.asset = self.initial_asset + self.total_pl\n",
        "        self.price_log.append(close)\n",
        "        # self.__add_log('i:'+str(i), i)\n",
        "\n",
        "    def last_day_operation(self, i, dt, openp, high, low, close):\n",
        "        self.__check_loss_cut(i, dt, high, low)\n",
        "        self.__check_execution(i, dt, openp, high, low)\n",
        "        self.__check_cancel(i, dt)\n",
        "        if self.holding_side != '':\n",
        "            self.realized_pl += (close - self.holding_price) * self.holding_size if self.holding_side == 'buy' else (self.holding_price - close) * self.holding_size\n",
        "        self.total_pl = self.realized_pl\n",
        "        self.num_trade += 1\n",
        "        self.total_pl_log.append(self.total_pl)\n",
        "        self.performance_total_pl_log.append(self.total_pl)\n",
        "        self.performance_dt_log.append(dt)\n",
        "        if self.num_trade > 0:\n",
        "            self.win_rate = round(float(self.num_win) / float(self.num_trade), 4)\n",
        "        self.__add_log('Sim Finished.', i, dt)\n",
        "        self.end_dt = dt\n",
        "        self.__calc_pl_stability()\n",
        "        self.log_data_df = pd.DataFrame.from_dict(self.log_data_list, orient='columns')\n",
        "\n",
        "    def entry_order(self, side, price, size, type, expire, pl, ls, i, dt):\n",
        "        if side == 'buy':\n",
        "            self.num_buy += 1\n",
        "        elif side == 'sell':\n",
        "            self.num_sell += 1\n",
        "        \n",
        "        self.order_serial[self.order_serial_num] = self.order_serial_num\n",
        "        self.order_side[self.order_serial_num] =side\n",
        "        self.order_price[self.order_serial_num] = price\n",
        "        self.order_size[self.order_serial_num] = size\n",
        "        self.order_i[self.order_serial_num] = i\n",
        "        self.order_dt[self.order_serial_num] = dt\n",
        "        self.order_ut[self.order_serial_num] = 0\n",
        "        self.order_type[self.order_serial_num] = type  # limit, market\n",
        "        self.order_cancel[self.order_serial_num] = False\n",
        "        self.order_expire[self.order_serial_num] = expire\n",
        "        self.pl_kijun = pl\n",
        "        self.ls_kijun = ls\n",
        "        self.order_serial_list.append(self.order_serial_num)\n",
        "        self.order_serial_num += 1\n",
        "        self.__add_log('entry order' + side + ' type=' + type, i, dt)\n",
        "\n",
        "    def __update_holding(self, side, price, size, pl, ls, i, dt):\n",
        "        self.holding_side = side\n",
        "        self.holding_price = price\n",
        "        self.holding_size = size\n",
        "        self.holding_i = i\n",
        "        self.holding_dt = dt\n",
        "        self.pl_kijun = pl\n",
        "        self.ls_kijun = ls\n",
        "\n",
        "    #always cancel latest order\n",
        "    def cancel_order(self, i, dt, ut):\n",
        "        num = self.order_serial_list[-1]\n",
        "        if self.order_type[num] != 'losscut' and self.order_cancel[num] == False:\n",
        "            self.order_cancel[num] = True\n",
        "            self.order_i[num] = i\n",
        "            self.order_dt[num] = dt\n",
        "            self.order_ut[num] = ut\n",
        "\n",
        "    def __check_cancel(self, i, dt):\n",
        "        ks = list(self.order_cancel.keys())\n",
        "        for k in ks:\n",
        "            if k in self.order_cancel:\n",
        "                if self.order_cancel[k]:\n",
        "                    self.__del_order(k)\n",
        "                    self.__add_log('order cancelled.', i, dt)\n",
        "\n",
        "    def __check_expiration(self, i, dt):\n",
        "        ks = list(self.order_i.keys())\n",
        "        for k in ks:\n",
        "            if k in self.order_type[k]:\n",
        "                if i - self.order_i[k] >= self.order_expire[k] and self.order_type[k] == 'limit':\n",
        "                    self.__del_order(k)\n",
        "                    self.__add_log('order expired.', i, dt)\n",
        "\n",
        "    '''\n",
        "    直前のpredictionが反対出なければpl判定させずにholdした方が効率的\n",
        "    '''\n",
        "    def __check_pl(self, i, dt, high, low):\n",
        "        if self.holding_side != '' and self.pl_kijun > 0:\n",
        "            if self.holding_side == 'buy' and self.holding_price + self.pl_kijun <= high:\n",
        "                self.__add_log('pl executed.', i, dt)\n",
        "                self.__calc_executed_pl(self.holding_price + self.pl_kijun, self.holding_size, i)\n",
        "                self.__initialize_holding()\n",
        "                # self.__update_holding(self.holding_side, self.holding_price + self.pl_kijun + 100, self.holding_size, self.pl_kijun, self.ls_kijun, True, i, dt, ut)\n",
        "            if self.holding_side == 'sell' and self.holding_price - self.pl_kijun >= low:\n",
        "                self.__add_log('pl executed.', i, dt)\n",
        "                self.__calc_executed_pl(self.holding_price - self.pl_kijun, self.holding_size, i)\n",
        "                self.__initialize_holding()\n",
        "                # self.__update_holding(self.holding_side, self.holding_price - self.pl_kijun - 100, self.holding_size, self.pl_kijun, self.ls_kijun, True, i, dt, ut)\n",
        "\n",
        "    def __check_ls(self, i, dt, high, low):\n",
        "        if self.holding_side != '' and self.ls_kijun > 0:\n",
        "            if self.holding_side == 'buy' and low - self.holding_price<= -self.ls_kijun:\n",
        "                self.__add_log('ls executed.', i, dt)\n",
        "                #self.__calc_executed_pl(self.holding_price - self.ls_kijun - self.ls_penalty, self.holding_size, i)\n",
        "                self.__calc_executed_pl(self.holding_price - self.ls_kijun, self.holding_size, i)\n",
        "                self.__initialize_holding()\n",
        "            if self.holding_side == 'sell' and self.holding_price - high <= -self.ls_kijun:\n",
        "                self.__add_log('ls executed.', i, dt)\n",
        "                #self.__calc_executed_pl(self.holding_price + self.ls_kijun + self.ls_penalty, self.holding_size, i)\n",
        "                self.__calc_executed_pl(self.holding_price + self.ls_kijun, self.holding_size, i)\n",
        "                self.__initialize_holding()\n",
        "\n",
        "    def __check_execution(self, i, dt, openp, high, low):\n",
        "        ks = list(self.order_i.keys())\n",
        "        for k in ks:\n",
        "            if k in self.order_side:\n",
        "                if self.order_side[k] != '' and self.order_i[k] < i:\n",
        "                    if self.order_type[k] == 'market':\n",
        "                        self.__process_execution(openp, i, dt, k)\n",
        "                        self.__del_order(k)\n",
        "                    elif self.order_type[k] == 'limit' and ((self.order_side[k] == 'buy' and self.order_price[k] >= low) or (\n",
        "                            self.order_side[k] == 'sell' and self.order_price[k] <= high)):\n",
        "                        self.__process_execution(self.order_price[k], i, dt)\n",
        "                        self.__del_order(k)\n",
        "                    elif self.order_type[k] != 'market' and self.order_type[k] != 'limit' and self.order_type[k] != 'losscut':\n",
        "                        print('Invalid order type!' + self.order_type[k])\n",
        "                        self.__add_log('invalid order type!' + self.order_type[k], i, dt)\n",
        "\n",
        "    def __process_execution(self, exec_price, i, dt, k):\n",
        "        if self.order_side[k] != '':\n",
        "            if self.holding_side == '':  # no position\n",
        "                self.__update_holding(self.order_side[k], exec_price, self.order_size[k], self.pl_kijun, self.ls_kijun, i, dt)\n",
        "                self.__add_log('New Entry:' + self.order_type[k], i, dt)\n",
        "            else:\n",
        "                if self.holding_side == self.order_side[k]:  # order side and position side is matched\n",
        "                    ave_price = round(((self.holding_price * self.holding_size) + (exec_price * self.order_size[k])) / (self.order_size[k] + self.holding_size))  # averaged holding price\n",
        "                    self.__update_holding(self.holding_side, ave_price, self.order_size[k] + self.holding_size, self.pl_kijun, self.ls_kijun, i, dt)\n",
        "                    self.__add_log('Additional Entry:' + self.order_type[k], i, dt)\n",
        "                elif self.holding_size > self.order_size[k]:  # side is not matched and holding size > order size\n",
        "                    self.__calc_executed_pl(exec_price, self.order_size[k], i)\n",
        "                    self.__update_holding(self.holding_side, self.holding_price, self.holding_size - self.order_size[k], self.pl_kijun, self.ls_kijun, i, dt)\n",
        "                    self.__add_log('Exit Order (h>o):' + self.order_type[k], i, dt)\n",
        "                elif self.holding_size == self.order_size[k]:\n",
        "                    self.__add_log('Exit Order (h=o):' + self.order_type[k], i, dt)\n",
        "                    self.__calc_executed_pl(exec_price, self.order_size[k], i)\n",
        "                    self.__initialize_holding()\n",
        "                else:  # in case order size is bigger than holding size\n",
        "                    self.__calc_executed_pl(exec_price, self.holding_size, i)\n",
        "                    self.__add_log('Exit & Entry Order (h<o):' + self.holding_side, i, dt)\n",
        "                    self.__update_holding(self.order_side[k], exec_price, self.order_size[k] - self.holding_size, self.pl_kijun, self.ls_kijun, i, dt)\n",
        "\n",
        "    def __calc_executed_pl(self, exec_price, size, i):  # assume all order size was executed\n",
        "        pl = (exec_price - self.holding_price * (self.fee + 1)) * size if self.holding_side == 'buy' else (self.holding_price * (1-self.fee) - exec_price) * size\n",
        "        #pl = (exec_price - self.holding_price) * size if self.holding_side == 'buy' else (self.holding_price - exec_price) * size\n",
        "        self.realized_pl += round(pl,4)\n",
        "        self.num_trade += 1\n",
        "        if pl > 0:\n",
        "            self.num_win += 1\n",
        "\n",
        "    def __check_loss_cut(self, i, dt, high, low):\n",
        "        if self.holding_side != '':\n",
        "            price = high if self.holding_side == 'sell' else low\n",
        "            req_collateral = self.holding_size * price / self.leverage\n",
        "            pl = price - self.holding_price if self.holding_side == 'buy' else self.holding_price - price\n",
        "            pl = pl * self.holding_size\n",
        "            margin_rate = (self.initial_asset + self.realized_pl + pl) / req_collateral\n",
        "            if margin_rate <= self.force_loss_cut_rate:\n",
        "                self.__force_exit(i, dt)\n",
        "                self.__add_log('Loss cut postion! margin_rate=' + str(margin_rate), i, dt)\n",
        "\n",
        "    def __force_exit(self, i, dt):\n",
        "        #self.__initialize_order()\n",
        "        self.entry_order('buy' if self.holding_side == 'sell' else 'sell', 0, self.holding_size, 'losscut', 10, 9999, 9999, i, dt)\n",
        "        \n",
        "    def __calc_pl_stability(self):\n",
        "        m = np.mean(np.diff(self.performance_total_pl_log))\n",
        "        res = 0\n",
        "        self.pl_stability = round(sum(map(lambda x: pow(m-x,2), np.diff(self.performance_total_pl_log))), 4)\n",
        "\n",
        "    def __add_log(self, log, i, dt):\n",
        "        self.total_pl_log.append(self.total_pl)\n",
        "        self.action_log.append(log)\n",
        "        self.holding_log.append(self.holding_side + ' @' + str(self.holding_price) + ' x' + str(self.holding_size))\n",
        "        if len(self.order_i) > 0:\n",
        "            k = self.order_serial_list[-1]\n",
        "            self.order_log.append(self.order_side[k] + ' @' + str(self.order_price[k]) + ' x' + str(self.order_size[k]) + ' cancel=' + str(self.order_cancel[k]) + ' type=' + self.order_type[k])\n",
        "        else:\n",
        "            self.order_log.append('' + ' @' + '0' + ' x' + '0' + ' cancel=' + 'False' + ' type=' + '')\n",
        "        self.i_log.append(i)\n",
        "        self.dt_log.append(dt)\n",
        "        if len(self.order_serial_list) > 0: \n",
        "            k=self.order_serial_list[-1]\n",
        "            #print(';i={}, dt={}, action={}, holding side={}, holding price={}, holding size={}, order side={}, order price={}, order size={}, pl={}, num_trade={}'\n",
        "            #.format(i, dt, log, self.holding_side, self.holding_price, self.holding_size, self.order_side[k], self.order_price[k], self.order_size[k], self.total_pl, self.num_trade))\n",
        "            self.log_data_list.append({'i':i, 'dt':dt, 'action':log, 'holding_side':self.holding_side,'holding_price':self.holding_price, 'holding_size':self.holding_size, 'order_side':self.order_side[k], 'order_price':self.order_price[k], 'order_size':self.order_size[k],\n",
        "                                       'total_pl':self.total_pl, 'num_trade':self.num_trade})\n",
        "        else:\n",
        "            #print(';i={}, dt={}, action={}, holding side={}, holding price={}, holding size={}, order side={}, order price={}, order size={}, pl={}, num_trade={}'.format(i, dt, log, self.holding_side, self.holding_price, self.holding_size, '', '0', '0', self.total_pl, self.num_trade))\n",
        "            self.log_data_list.append({'i':i, 'dt':dt, 'action':log, 'holding_side':self.holding_side, 'holding_price':self.holding_price, 'holding_size':self.holding_size, 'order_side':0, 'order_price':0, 'order_size':0,\n",
        "                                       'total_pl':self.total_pl, 'num_trade':self.num_trade})"
      ],
      "execution_count": 0,
      "outputs": []
    },
    {
      "cell_type": "code",
      "metadata": {
        "id": "ihnPOiMnvMPK",
        "colab_type": "code",
        "colab": {}
      },
      "source": [
        "\n",
        "class Strategy:\n",
        "    @classmethod\n",
        "    def model_prediction(cls, start_ind, bp, sp, i, ac):\n",
        "        omd = OneMinMarketData\n",
        "        dd = DecisionData()\n",
        "        pred_side = ''\n",
        "        if bp[i] == 1 and sp[i] == 0:\n",
        "            pred_side = 'buy'\n",
        "        elif bp[i] == 0 and sp[i] == 1:\n",
        "            pred_side = 'sell'\n",
        "        elif bp[i] == 0 and sp[i] == 0:\n",
        "            pred_side = 'no'\n",
        "        elif bp[i] == 1 and sp[i] == 1:\n",
        "            pred_side = 'both'\n",
        "\n",
        "        if ac.holding_side == '' and ac.order_side == '' and (\n",
        "                pred_side == 'buy' or pred_side == 'sell'):  # no position no order\n",
        "            dd.set_decision(pred_side, 0, cls.__calc_opt_size(omd.ohlc.open[start_ind + i], ac), 'market', False, 10)\n",
        "        elif (ac.holding_side == 'buy' or ac.holding_side == 'sell') and (pred_side == 'buy' or pred_side == 'sell') and \\\n",
        "                ac.holding_side != pred_side and ac.order_side == '':\n",
        "            dd.set_decision(pred_side, 0, ac.holding_size + cls.__calc_opt_size(omd.ohlc.open[start_ind + i], ac), 'market', False, 10)  # exit and re-entry\n",
        "        return dd\n",
        "    \n",
        "    \n",
        "    @classmethod\n",
        "    def model_prediction_onemin(cls, start_ind, prediction, i, ac):\n",
        "        dd = DecisionData()\n",
        "        omd = OneMinMarketData\n",
        "        pred_side ={0: 'no', 1: 'buy', 2: 'sell', 3: 'both'}[prediction[i]]\n",
        "\n",
        "        if ac.holding_side != pred_side:\n",
        "            if ac.holding_side == '' and (pred_side == 'buy' or pred_side == 'sell'):  # no position no order\n",
        "                dd.set_decision(pred_side, 0, cls.__calc_opt_size(OneMinMarketData.ohlc.open[start_ind + i], ac),'market', False, 10)\n",
        "            elif (ac.holding_side == 'buy' or ac.holding_side == 'sell') and (pred_side == 'buy' or pred_side == 'sell') and ac.holding_side != pred_side:\n",
        "                dd.set_decision(pred_side, 0,ac.holding_size + cls.__calc_opt_size(OneMinMarketData.ohlc.open[start_ind + i], ac),'market', False, 10)  # exit and re-entry\n",
        "        return dd\n",
        "    \n",
        "    \n",
        "    @classmethod\n",
        "    def model_prediction_opt(cls, time_exit, zero_three_exit_loss, zero_three_exit_profit, stdata, i, ac: SimAccount):\n",
        "        dd = DecisionData()\n",
        "        pred_side ={0: 'no', 1: 'buy', 2: 'sell', 3: 'both'}[stdata.prediction[i]]\n",
        "        if ac.holding_side == '' and ac.order_side == '' and (pred_side == 'buy' or pred_side == 'sell'):  # no position no order\n",
        "            dd.set_decision(pred_side, 0, cls.__calc_opt_size(stdata.price[i], ac), 'market', False, 10)\n",
        "        elif (ac.holding_side == 'buy' or ac.holding_side == 'sell') and (pred_side == 'buy' or pred_side == 'sell') and \\\n",
        "                ac.holding_side != pred_side and ac.order_side != '' and ac.order_side != ac.holding_side and ac.order_type == 'limit':  # holding side != pred side and pl ordering -> cancel pl order\n",
        "            dd.set_decision(pred_side, 0, 0, '', True, 10)  # cancel order\n",
        "        elif (ac.holding_side == 'buy' or ac.holding_side == 'sell') and (pred_side == 'buy' or pred_side == 'sell') and ac.holding_side != pred_side and ac.order_side == '':\n",
        "            dd.set_decision(pred_side, 0, ac.holding_size + cls.__calc_opt_size(stdata.price[i], ac), 'market', False, 10)  # exit and re-entry\n",
        "        elif time_exit >= 60 and ac.holding_side != '' and (stdata.ut[i] - ac.holding_ut) >= time_exit and (pred_side =='no' or pred_side =='both'):\n",
        "            if ac.order_side != '':\n",
        "                dd.set_decision(pred_side, 0, 0, '', True, 10)  # cancel order\n",
        "            else:\n",
        "                dd.set_decision('buy' if ac.holding_side == 'sell' else 'sell', 0, ac.holding_size, 'market', False, 10)\n",
        "        elif zero_three_exit_loss and ac.holding_side != '' and ac.current_pl < 0 and (pred_side =='no' or pred_side =='both'):\n",
        "            if ac.order_side != '':\n",
        "                dd.set_decision(pred_side, 0, 0, '', True, 10)  # cancel order\n",
        "            else:\n",
        "                dd.set_decision('buy' if ac.holding_side == 'sell' else 'sell', 0, ac.holding_size, 'market', False, 10)\n",
        "        elif zero_three_exit_profit and ac.holding_side != '' and ac.current_pl > 0 and (pred_side =='no' or pred_side =='both'):\n",
        "            if ac.order_side != '':\n",
        "                dd.set_decision(pred_side, 0, 0, '', True, 10)  # cancel order\n",
        "            else:\n",
        "                dd.set_decision('buy' if ac.holding_side == 'sell' else 'sell', 0, ac.holding_size, 'market', False, 10)\n",
        "        return dd\n",
        "    \n",
        "    \n",
        "    @classmethod\n",
        "    def model_bp_prediction(cls, pl, ls, stdata, i, ac):\n",
        "        dd = DecisionData()\n",
        "        pred_side = 'buy'  if stdata.prediction[i] == 1 else ''\n",
        "        \n",
        "        if ac.holding_side == '' and ac.order_side == '' and pred_side == 'buy': #no position no order\n",
        "            dd.set_decision(pred_side, 0,cls.__calc_opt_size(stdata.price[i], ac), 'market', False, 10)\n",
        "        return dd\n",
        "    \n",
        "    \n",
        "    @classmethod\n",
        "    def model_buysell_prediction(cls, pl, ls, stdata, i, ac):\n",
        "        dd = DecisionData()\n",
        "        pred_side ={0: 'no', 1: 'buy', -1: 'sell'}[stdata.prediction[i]]\n",
        "        if ac.holding_side == '' and ac.order_side == '' and (pred_side == 'buy' or pred_side == 'sell') : #no position no order\n",
        "            dd.set_decision(pred_side, 0,cls.__calc_opt_size(stdata.price[i], ac), 'market', False, 10)\n",
        "        elif (ac.holding_side == 'buy' or ac.holding_side == 'sell') and (pred_side =='buy' or pred_side == 'sell') and ac.holding_side != pred_side and ac.order_side =='':\n",
        "            dd.set_decision(pred_side, 0,ac.holding_size + cls.__calc_opt_size(stdata.price[i], ac), 'market', False, 10) #exit and re-entry\n",
        "        return dd\n",
        "    \n",
        "    @classmethod\n",
        "    def model_sp_prediction(cls, pl, ls, stdata, i, ac):\n",
        "        dd = DecisionData()\n",
        "        pred_side = 'sell'  if stdata.prediction[i] == 1 else ''\n",
        "        \n",
        "        if ac.holding_side == '' and ac.order_side == '' and pred_side == 'sell': #no position no order\n",
        "            dd.set_decision(pred_side, 0,cls.__calc_opt_size(stdata.price[i], ac), 'market', False, 10)\n",
        "        return dd\n",
        "    \n",
        "    @classmethod\n",
        "    def ema_trend_follow(cls, stdata, i, ac):\n",
        "        dd = DecisionData()\n",
        "        pred_side = 'buy' if stdata.prediction[i] > 0 else 'sell'\n",
        "        if ac.holding_side == '' and ac.order_side == '' and (pred_side == 'buy' or pred_side == 'sell') : #no position no order\n",
        "            dd.set_decision(pred_side, 0,cls.__calc_opt_size(stdata.price[i], ac), 'market', False, 10)\n",
        "        elif (ac.holding_side == 'buy' or ac.holding_side == 'sell') and (pred_side =='buy' or pred_side == 'sell') and \\\n",
        "                ac.holding_side != pred_side and ac.order_side =='':\n",
        "            dd.set_decision(pred_side, 0,ac.holding_size + cls.__calc_opt_size(stdata.price[i], ac), 'market', False, 10) #exit and re-entry\n",
        "        return dd\n",
        "        \n",
        "    @classmethod\n",
        "    def ema_trend_contrarian(cls, stdata, i, ac):\n",
        "        dd = DecisionData()\n",
        "        pred_side = 'sell' if stdata.prediction[i] > 0 else 'buy'\n",
        "        if ac.holding_side == '' and ac.order_side == '' and (pred_side == 'buy' or pred_side == 'sell') : #no position no order\n",
        "            dd.set_decision(pred_side, 0,cls.__calc_opt_size(stdata.price[i], ac), 'market', False, 10)\n",
        "        elif (ac.holding_side == 'buy' or ac.holding_side == 'sell') and (pred_side =='buy' or pred_side == 'sell') and \\\n",
        "                ac.holding_side != pred_side and ac.order_side =='':\n",
        "            dd.set_decision(pred_side, 0,ac.holding_size + cls.__calc_opt_size(stdata.price[i], ac), 'market', False, 10) #exit and re-entry\n",
        "        return dd\n",
        "            \n",
        "            \n",
        "    @classmethod\n",
        "    def __calc_opt_size(cls, price, ac):\n",
        "        return 0.01\n",
        "#        return round((ac.asset * ac.leverage) / (price * 1.0 * ac.base_margin_rate), 2)\n",
        "\n",
        "class DecisionData:\n",
        "    def __init__(self):\n",
        "        self.side = ''\n",
        "        self.size = 0\n",
        "        self.price = 0\n",
        "        self.type = 0\n",
        "        self.cancel = False\n",
        "        self.expire = 0  #sec\n",
        "\n",
        "    def set_decision(self, side, price, size, type, cancel, expire):\n",
        "        self.side = side\n",
        "        self.price = price\n",
        "        self.size = size\n",
        "        self.type = type\n",
        "        self.cancel = cancel\n",
        "        self.expire = expire"
      ],
      "execution_count": 0,
      "outputs": []
    },
    {
      "cell_type": "code",
      "metadata": {
        "id": "GfHbbL3EvOV5",
        "colab_type": "code",
        "colab": {}
      },
      "source": [
        "'''\n",
        "'''\n",
        "class Sim:\n",
        "    @classmethod\n",
        "    def sim_model_pred(cls, start_ind, bp, sp, pt, lc, ac):\n",
        "        end_i = len(bp)\n",
        "        for i in range(len(bp)-1):\n",
        "            dd = Strategy.model_prediction(start_ind,bp,sp,i,ac)\n",
        "            if dd.side != '':\n",
        "                ac.entry_order(dd.side, dd.price, dd.size, dd.type, dd.expire, 0, 0, i, OneMinMarketData.ohlc.dt[start_ind + i])\n",
        "            ac.move_to_next(i, OneMinMarketData.ohlc.dt[start_ind + i], OneMinMarketData.ohlc.open[start_ind + i], OneMinMarketData.ohlc.high[start_ind + i], OneMinMarketData.ohlc.low[start_ind + i],OneMinMarketData.ohlc.close[start_ind + i])\n",
        "        ac.last_day_operation(end_i, omd.ohlc.dt[start_ind + end_i], OneMinMarketData.ohlc.open[start_ind + end_i], OneMinMarketData.ohlc.high[start_ind + end_i], OneMinMarketData.ohlc.low[start_ind + end_i], OneMinMarketData.ohlc.close[start_ind + end_i])\n",
        "        return ac\n",
        "    \n",
        "    \n",
        "    @classmethod\n",
        "    def sim_model_pred_onemin(cls, start_ind, prediction, pt, lc, ac):\n",
        "        omd = OneMinMarketData\n",
        "        for i in range(len(prediction) - 1):\n",
        "            ac.check_executions(i, omd.ohlc.dt[start_ind + i], omd.ohlc.open[start_ind + i], omd.ohlc.high[start_ind + i], omd.ohlc.low[start_ind + i])\n",
        "            dd = Strategy.model_prediction_onemin(start_ind, prediction, i, ac)\n",
        "            if dd.side != '':\n",
        "                ac.entry_order(dd.side, dd.price, dd.size, dd.type, dd.expire, pt, lc, i, omd.ohlc.dt[start_ind + i])\n",
        "            ac.move_to_next(i, omd.ohlc.dt[start_ind + i], omd.ohlc.open[start_ind + i],omd.ohlc.high[start_ind + i], omd.ohlc.low[start_ind + i],omd.ohlc.close[start_ind + i])\n",
        "        end_i = len(prediction) - 1\n",
        "        ac.last_day_operation(end_i, omd.ohlc.dt[start_ind + end_i], omd.ohlc.open[start_ind + end_i],omd.ohlc.high[start_ind + end_i], omd.ohlc.low[start_ind + end_i],\n",
        "                              omd.ohlc.close[start_ind + end_i])\n",
        "        return ac\n",
        "\n",
        "\n",
        "\n",
        "    @classmethod\n",
        "    def sim_model_pred_onemin_avert(cls, start_ind, prediction, pt, lc, ac, avert_period_kijun=120, avert_val_kijun=-0.005):\n",
        "        omd = OneMinMarketData\n",
        "        ac2 = SimAccount()\n",
        "        for i in range(len(prediction) - 1):\n",
        "            ac.check_executions(i, omd.ohlc.dt[start_ind + i], omd.ohlc.open[start_ind + i], omd.ohlc.high[start_ind + i], omd.ohlc.low[start_ind + i])\n",
        "            ac2.check_executions(i, omd.ohlc.dt[start_ind + i], omd.ohlc.open[start_ind + i], omd.ohlc.high[start_ind + i], omd.ohlc.low[start_ind + i])\n",
        "            dd2 = Strategy.model_prediction_onemin(start_ind, prediction, i, ac2)\n",
        "            dd = Strategy.model_prediction_onemin(start_ind, prediction, i, ac)\n",
        "            if dd2.side == 'no' or dd2.side == 'both':\n",
        "                print('invalid dd2side!')\n",
        "                print(dd2.side)\n",
        "            if ac.holding_size > 0.01:\n",
        "                print('large holding!', ac.holding_size)\n",
        "            if dd2.side != '':\n",
        "                ac2.entry_order(dd2.side, dd2.price, dd2.size, dd2.type, dd2.expire, pt, lc, i, omd.ohlc.dt[start_ind + i]) #ac2は常にトレード\n",
        "            if len(ac2.performance_total_pl_log) > avert_period_kijun+10: #pl_check_term以上のpl logが溜まったらcheckを開始\n",
        "                #if ac2.performance_total_pl_log[-1] - ac2.performance_total_pl_log[-pl_check_term] > 0: #check pl of ac2\n",
        "                if np.gradient(ta.MA(np.array(ac2.performance_total_pl_log[-avert_period_kijun-10:], dtype='f8'), timeperiod=avert_period_kijun))[-1] > avert_val_kijun:\n",
        "                    if dd2.side != '':\n",
        "                        if dd2.side != ac.holding_side and ac.holding_side != '':#ac2と同じポジションを取る\n",
        "                            ac.entry_order('buy' if ac.holding_side=='sell' else 'sell', 0, 0.02, 'market', 10, pt, lc, i, omd.ohlc.dt[start_ind + i])\n",
        "                        elif dd2.side != ac.holding_side and ac.holding_side == '':#ac2と同じポジションを取る\n",
        "                            ac.entry_order(dd2.side, 0, 0.01, 'market', 10, pt, lc, i, omd.ohlc.dt[start_ind + i])\n",
        "                        else: #ac2のddと同じときは何もしない\n",
        "                            pass\n",
        "                    else: #\n",
        "                        pass\n",
        "                        #if ac.holding_side != '': #ac2に合わせるためにexit all\n",
        "                        #    ac.entry_order('buy' if ac.holding_side=='sell' else 'sell', 0, 0.01, 'market', 10, pt, lc, i, omd.ohlc.dt[start_ind + i])\n",
        "                else: #ac2のpl_check_termにおけるplがマイナスの時はacでのトレードを停止\n",
        "                    if ac.holding_side != '':\n",
        "                        ac.entry_order('buy' if ac.holding_side=='sell' else 'sell', 0, 0.01, 'market', 10, pt, lc, i, omd.ohlc.dt[start_ind + i])\n",
        "            else:#logがたまるまでは普通にトレード\n",
        "                if dd.side != '':\n",
        "                    ac.entry_order(dd.side, dd.price, dd.size, dd.type, dd.expire, pt, lc, i, omd.ohlc.dt[start_ind + i])\n",
        "            ac.move_to_next(i, omd.ohlc.dt[start_ind + i], omd.ohlc.open[start_ind + i],omd.ohlc.high[start_ind + i], omd.ohlc.low[start_ind + i],omd.ohlc.close[start_ind + i])\n",
        "            ac2.move_to_next(i, omd.ohlc.dt[start_ind + i], omd.ohlc.open[start_ind + i],omd.ohlc.high[start_ind + i], omd.ohlc.low[start_ind + i],omd.ohlc.close[start_ind + i])\n",
        "        end_i = len(prediction) - 1\n",
        "        ac.last_day_operation(end_i, omd.ohlc.dt[start_ind + end_i], omd.ohlc.open[start_ind + end_i],omd.ohlc.high[start_ind + end_i], omd.ohlc.low[start_ind + end_i],\n",
        "                              omd.ohlc.close[start_ind + end_i])\n",
        "        return ac\n",
        "    \n",
        "    @classmethod\n",
        "    def sim_lgbmodel(cls, stdata, pl_kijun, ac):\n",
        "        print('sim length:'+str(stdata.dt[0]) + str(stdata.dt[-1]))\n",
        "        for i in range(len(stdata.prediction)-1):\n",
        "            dd = Strategy.model_prediction(pl_kijun, stdata,i,ac)\n",
        "            if dd.cancel:\n",
        "                ac.cancel_order(i, stdata.dt[i],stdata.ut[i])\n",
        "            elif dd.side != '':\n",
        "                ac.entry_order(dd.side,dd.price,dd.size,dd.type,dd.expire,i,stdata.dt[i],stdata.ut[i],stdata.price[i])\n",
        "            ac.move_to_next(i,stdata.dt[i],stdata.ut[i],stdata.price[i])\n",
        "        ac.last_day_operation(len(stdata.prediction)-1,stdata.dt[len(stdata.prediction)-1],stdata.ut[len(stdata.prediction)-1],stdata.price[len(stdata.prediction)-1])\n",
        "        return ac\n",
        "    \n",
        "    \n",
        "    @classmethod\n",
        "    def sim_bp(cls, stdata, pl, ls, ac):\n",
        "        print('sim length:'+str(stdata.dt[0]) + str(stdata.dt[-1]))\n",
        "        for i in range(len(stdata.prediction)-1):\n",
        "            dd = Strategy.model_bp_prediction(pl, ls, stdata,i,ac)\n",
        "            if dd.side != '':\n",
        "                ac.entry_order(dd.side,dd.price,dd.size,dd.type,dd.expire,pl,ls,i,stdata.dt[i],stdata.ut[i],stdata.price[i]) #ntry_order(self, side, price, size, type, expire, pl, ls, i, dt, ut, tick_price):\n",
        "            ac.move_to_next(i,stdata.dt[i],stdata.ut[i],stdata.price[i])\n",
        "        ac.last_day_operation(len(stdata.prediction)-1,stdata.dt[len(stdata.prediction)-1],stdata.ut[len(stdata.prediction)-1],stdata.price[len(stdata.prediction)-1])\n",
        "        return ac\n",
        "    \n",
        "    @classmethod\n",
        "    def sim_sp(cls, stdata, pl, ls, ac):\n",
        "        print('sim length:'+str(stdata.dt[0]) + str(stdata.dt[-1]))\n",
        "        for i in range(len(stdata.prediction)-1):\n",
        "            dd = Strategy.model_sp_prediction(pl, ls, stdata,i,ac)\n",
        "            if dd.side != '':\n",
        "                ac.entry_order(dd.side,dd.price,dd.size,dd.type,dd.expire,pl,ls,i,stdata.dt[i],stdata.ut[i],stdata.price[i]) #ntry_order(self, side, price, size, type, expire, pl, ls, i, dt, ut, tick_price):\n",
        "            ac.move_to_next(i,stdata.dt[i],stdata.ut[i],stdata.price[i])\n",
        "        ac.last_day_operation(len(stdata.prediction)-1,stdata.dt[len(stdata.prediction)-1],stdata.ut[len(stdata.prediction)-1],stdata.price[len(stdata.prediction)-1])\n",
        "        return ac\n",
        "    \n",
        "    @classmethod\n",
        "    def sim_buysell(cls, stdata, pl, ls, ac):\n",
        "        print('sim length:'+str(stdata.dt[0]) + str(stdata.dt[-1]))\n",
        "        one_min_checker = 1\n",
        "        for i in range(len(stdata.prediction)-1):\n",
        "            if ac.suspension_flg  == False:\n",
        "                dd = Strategy.model_buysell_prediction(pl, ls, stdata, i, ac)\n",
        "                if dd.side != '':\n",
        "                    ac.entry_order(dd.side,dd.price,dd.size,dd.type,dd.expire,pl,ls,i,stdata.dt[i],stdata.ut[i],stdata.price[i]) #ntry_order(self, side, price, size, type, expire, pl, ls, i, dt, ut, tick_price):\n",
        "            if i > one_min_checker * 60:\n",
        "                one_min_checker += 1\n",
        "                ac.suspension_flg = False\n",
        "            ac.move_to_next(i,stdata.dt[i],stdata.ut[i],stdata.price[i])\n",
        "        ac.last_day_operation(len(stdata.prediction)-1,stdata.dt[len(stdata.prediction)-1],stdata.ut[len(stdata.prediction)-1],stdata.price[len(stdata.prediction)-1])\n",
        "        return ac\n",
        "    \n",
        "    \n",
        "    @classmethod\n",
        "    def sim_lgbmodel_opt(cls, stdata, pl, losscut, time_exit, zero_three_exit_loss, zero_three_exit_profit, ac:SimAccount):\n",
        "        print('sim length:' + str(stdata.dt[0]) + str(stdata.dt[-1]))\n",
        "        one_min_checker = 1\n",
        "        for i in range(len(stdata.prediction) -1):\n",
        "            if ac.suspension_flg  == False:\n",
        "                dd =Strategy.model_prediction_opt(time_exit, zero_three_exit_loss, zero_three_exit_profit, stdata, i, ac)\n",
        "                if dd.cancel:\n",
        "                    ac.cancel_order(i, stdata.dt[i], stdata.ut[i])\n",
        "                elif dd.side != '':\n",
        "                    ac.entry_order(dd.side,dd.price,dd.size,dd.type,dd.expire, pl, losscut, i, stdata.dt[i], stdata.ut[i], stdata.price[i])\n",
        "            if i > one_min_checker * 60:\n",
        "                one_min_checker += 1\n",
        "                ac.suspension_flg = False\n",
        "            ac.move_to_next(i, stdata.dt[i], stdata.ut[i], stdata.price[i])\n",
        "        ac.last_day_operation(len(stdata.prediction) - 1, stdata.dt[len(stdata.prediction) - 1],stdata.ut[len(stdata.prediction) - 1], stdata.price[len(stdata.prediction) - 1])\n",
        "        return ac\n",
        "    \n",
        "    @classmethod\n",
        "    def sim_ema_trend_follow(cls, stdata, ac):\n",
        "        print('sim length:'+str(stdata.dt[0]) + str(stdata.dt[-1]))\n",
        "        for i in range(len(stdata.prediction)-1):\n",
        "            dd = Strategy.ema_trend_follow(stdata,i,ac)\n",
        "            if dd.side != '':\n",
        "                ac.entry_order(dd.side,dd.price,dd.size,dd.type,dd.expire,i,stdata.dt[i],stdata.ut[i],stdata.price[i])\n",
        "            ac.move_to_next(i,stdata.dt[i],stdata.ut[i],stdata.price[i])\n",
        "        ac.last_day_operation(len(stdata.prediction)-1,stdata.dt[len(stdata.prediction)-1],stdata.ut[len(stdata.prediction)-1],stdata.price[len(stdata.prediction)-1])\n",
        "        return ac\n",
        "    \n",
        "    \n",
        "    @classmethod\n",
        "    def sim_ema_trend_contrarian(cls, stdata, ac):\n",
        "        print('sim length:'+str(stdata.dt[0]) + str(stdata.dt[-1]))\n",
        "        for i in range(len(stdata.prediction)-1):\n",
        "            dd = Strategy.ema_trend_contrarian(stdata,i,ac)\n",
        "            if dd.side != '':\n",
        "                ac.entry_order(dd.side,dd.price,dd.size,dd.type,dd.expire,i,stdata.dt[i],stdata.ut[i],stdata.price[i])\n",
        "            ac.move_to_next(i,stdata.dt[i],stdata.ut[i],stdata.price[i])\n",
        "        ac.last_day_operation(len(stdata.prediction)-1,stdata.dt[len(stdata.prediction)-1],stdata.ut[len(stdata.prediction)-1],stdata.price[len(stdata.prediction)-1])\n",
        "        return ac\n",
        "    \n",
        "    @classmethod\n",
        "    def sim_ema_tftc_switch(cls, stdata, ac, pl_sma_term):\n",
        "        print('sim length:'+str(stdata.dt[0]) + str(stdata.dt[-1]))\n",
        "        tf_ac = SimAccount()\n",
        "        tc_ac = SimAccount()\n",
        "        tf_pl_sma = []\n",
        "        tc_pl_sma = []\n",
        "        tf_pl_sum = 0\n",
        "        tc_pl_sum = 0\n",
        "        sim_min_count = 60\n",
        "        switch_flg = 0 #0:tf, 1:tc\n",
        "        for i in range(len(stdata.prediction)-1):\n",
        "            #sim for tf\n",
        "            dd = Strategy.ema_trend_follow(stdata,i,tf_ac)\n",
        "            if dd.side != '':\n",
        "                tf_ac.entry_order(dd.side,dd.price,dd.size,dd.type,dd.expire,i,stdata.dt[i],stdata.ut[i],stdata.price[i])\n",
        "            tf_ac.move_to_next(i,stdata.dt[i],stdata.ut[i],stdata.price[i])\n",
        "            #sim for tc\n",
        "            dd = Strategy.ema_trend_contrarian(stdata,i,tc_ac)\n",
        "            if dd.side != '':\n",
        "                tc_ac.entry_order(dd.side,dd.price,dd.size,dd.type,dd.expire,i,stdata.dt[i],stdata.ut[i],stdata.price[i])\n",
        "            tc_ac.move_to_next(i,stdata.dt[i],stdata.ut[i],stdata.price[i])\n",
        "        return ac"
      ],
      "execution_count": 0,
      "outputs": []
    },
    {
      "cell_type": "code",
      "metadata": {
        "id": "bn3BrnKRvQat",
        "colab_type": "code",
        "colab": {}
      },
      "source": [
        "\n",
        "import lightgbm as lgb\n",
        "from sklearn import datasets\n",
        "from sklearn.model_selection import train_test_split\n",
        "\n",
        "from numba import jit\n",
        "import numpy as np\n",
        "import pandas as pd\n",
        "\n",
        "\n",
        "class LgbModel:\n",
        "    def load_model(self):\n",
        "        with open('/content/drive/My Drive/Model/lgb_bpsp_model.dat', mode='rb') as f:\n",
        "            self.model = pickle.load(f)\n",
        "\n",
        "    def check_train_test_index_duplication(self, train_x, test_x):\n",
        "        train_list = list(train_x.index.values)\n",
        "        test_list = list(test_x.index.values)\n",
        "        dupli = set(train_list) & set(test_list)\n",
        "        if len(dupli) > 0:\n",
        "            print('Index duplication in train and test df was found!')\n",
        "            print(dupli)\n",
        "\n",
        "    def generate_bpsp_data(self, train_df, test_df, valid_size=0.2, rs=None):\n",
        "        train_df['future_side'] = train_df['future_side'].map({'no': 0, 'buy': 1, 'sell': 2, 'both': 3}).astype(int)\n",
        "        test_df['future_side'] = test_df['future_side'].map({'no': 0, 'buy': 1, 'sell': 2, 'both': 3}).astype(int)\n",
        "        print('train / valid period=', train_df['dt'].iloc[0], ' - ', train_df['dt'].iloc[-1])\n",
        "        print('test period=', test_df['dt'].iloc[0], ' - ', test_df['dt'].iloc[-1])\n",
        "\n",
        "        # generate training data to include same num of buy / sell bpsp\n",
        "        buy_df = train_df[train_df.future_side == 1]\n",
        "        sell_df = train_df[train_df.future_side == 2]\n",
        "        no_df = train_df[train_df.future_side == 0]\n",
        "        both_df = train_df[train_df.future_side == 3]\n",
        "        max_data = max([len(buy_df), len(sell_df), len(no_df), len(both_df)])\n",
        "        new_train_df = pd.DataFrame()\n",
        "        new_train_df = new_train_df.append(buy_df)\n",
        "        new_train_df = new_train_df.append(sell_df)\n",
        "        new_train_df = new_train_df.append(no_df)\n",
        "        new_train_df = new_train_df.append(both_df)\n",
        "\n",
        "        new_train_df = new_train_df.sample(frac=1, random_state = rs)\n",
        "        #train_x, valid_x = train_test_split(new_train_df.drop(['size', 'future_side'], axis=1), train_size=(1.0-valid_size), shuffle=False)\n",
        "        #y = new_train_df['future_side']\n",
        "        #y.columns = ['future_side']\n",
        "        #train_y, valid_y = train_test_split(y, train_size=(1.0-valid_size), shuffle=False)\n",
        "        train_ind = int(len(new_train_df) * (1.0-valid_size))\n",
        "        train_x = new_train_df.iloc[:train_ind].drop(['dt','size', 'future_side'], axis=1)\n",
        "        train_y = new_train_df['future_side'].iloc[:train_ind]\n",
        "        train_y.columns = ['future_side']\n",
        "        valid_x = new_train_df.iloc[train_ind:].drop(['dt','size', 'future_side'], axis=1)\n",
        "        valid_y = new_train_df['future_side'].iloc[train_ind:]\n",
        "        valid_y.columns = ['future_side']\n",
        "\n",
        "        test_x = test_df.drop(['dt','size', 'future_side'], axis=1)\n",
        "        test_y = test_df['future_side']\n",
        "        test_y.columns = ['future_side']\n",
        "\n",
        "        self.check_train_test_index_duplication(train_x, test_x)\n",
        "        print('buy sell point data description:')\n",
        "        print('train_x', train_x.shape)\n",
        "        print('train_y', train_y.shape)\n",
        "        print('test_x', test_x.shape)\n",
        "        print('test_y', test_y.shape)\n",
        "        print('valid_x', valid_x.shape)\n",
        "        print('valid_y', valid_y.shape)\n",
        "        return train_x, test_x, train_y, test_y, valid_x, valid_y\n",
        "\n",
        "\n",
        "    def generate_bpsp_data2(self, train_df, test_df, valid_size=0.2, rs=None):\n",
        "        train_df['future_side'] = train_df['future_side'].map({'no': 0, 'buy': 1, 'sell': 2, 'both': 3}).astype(int)\n",
        "        test_df['future_side'] = test_df['future_side'].map({'no': 0, 'buy': 1, 'sell': 2, 'both': 3}).astype(int)\n",
        "        print('train / valid period=', train_df['dt'].iloc[0], ' - ', train_df['dt'].iloc[-1])\n",
        "        print('test period=', test_df['dt'].iloc[0], ' - ', test_df['dt'].iloc[-1])\n",
        "\n",
        "        # generate training data to include same num of buy / sell bpsp\n",
        "        buy_df = train_df[train_df.future_side == 1]\n",
        "        sell_df = train_df[train_df.future_side == 2]\n",
        "        no_df = train_df[train_df.future_side == 0]\n",
        "        both_df = train_df[train_df.future_side == 3]\n",
        "        max_data = max([len(buy_df), len(sell_df), len(no_df), len(both_df)])\n",
        "        new_train_df = pd.DataFrame()\n",
        "\n",
        "        if max_data > len(buy_df):\n",
        "            selected = buy_df.sample(n=max_data - len(buy_df), replace=True, random_state = rs)\n",
        "            new_train_df = new_train_df.append(selected)\n",
        "            new_train_df = new_train_df.append(buy_df)\n",
        "        else:\n",
        "            new_train_df = buy_df\n",
        "        if max_data > len(sell_df):\n",
        "            selected = sell_df.sample(n=max_data - len(sell_df), replace=True, random_state = rs)\n",
        "            new_train_df = new_train_df.append(selected)\n",
        "            new_train_df = new_train_df.append(sell_df)\n",
        "        else:\n",
        "            new_train_df = new_train_df.append(sell_df)\n",
        "        if max_data > len(no_df):\n",
        "            selected = no_df.sample(n=max_data - len(no_df), replace=True, random_state = rs)\n",
        "            new_train_df = new_train_df.append(selected)\n",
        "            new_train_df = new_train_df.append(no_df)\n",
        "        else:\n",
        "            new_train_df = new_train_df.append(no_df)\n",
        "        if max_data > len(both_df):\n",
        "            selected = both_df.sample(n=max_data - len(both_df), replace=True, random_state = rs)\n",
        "            new_train_df = new_train_df.append(selected)\n",
        "        else:\n",
        "            new_train_df = new_train_df.append(both_df)\n",
        "            new_train_df = new_train_df.append(both_df)\n",
        "        '''\n",
        "        new_train_df = new_train_df.append(buy_df)\n",
        "        new_train_df = new_train_df.append(sell_df)\n",
        "        new_train_df = new_train_df.append(no_df)\n",
        "        new_train_df = new_train_df.append(both_df)\n",
        "        '''\n",
        "        new_train_df = new_train_df.sample(frac=1, random_state = rs)\n",
        "        #train_x, valid_x = train_test_split(new_train_df.drop(['size', 'future_side'], axis=1), train_size=(1.0-valid_size), shuffle=False)\n",
        "        #y = new_train_df['future_side']\n",
        "        #y.columns = ['future_side']\n",
        "        #train_y, valid_y = train_test_split(y, train_size=(1.0-valid_size), shuffle=False)\n",
        "        train_ind = int(len(new_train_df) * (1.0-valid_size))\n",
        "        train_x = new_train_df.iloc[:train_ind].drop(['dt','size', 'future_side'], axis=1)\n",
        "        train_y = new_train_df['future_side'].iloc[:train_ind]\n",
        "        train_y.columns = ['future_side']\n",
        "        valid_x = new_train_df.iloc[train_ind:].drop(['dt','size', 'future_side'], axis=1)\n",
        "        valid_y = new_train_df['future_side'].iloc[train_ind:]\n",
        "        valid_y.columns = ['future_side']\n",
        "\n",
        "        test_x = test_df.drop(['dt','size', 'future_side'], axis=1)\n",
        "        test_y = test_df['future_side']\n",
        "        test_y.columns = ['future_side']\n",
        "\n",
        "        self.check_train_test_index_duplication(train_x, test_x)\n",
        "        print('buy sell point data description:')\n",
        "        print('train_x', train_x.shape)\n",
        "        print('train_y', train_y.shape)\n",
        "        print('test_x', test_x.shape)\n",
        "        print('test_y', test_y.shape)\n",
        "        print('valid_x', valid_x.shape)\n",
        "        print('valid_y', valid_y.shape)\n",
        "        return train_x, test_x, train_y, test_y, valid_x, valid_y\n",
        "    \n",
        "    \n",
        "    def genrate_col_removed_data(self, train_x, test_x, valid_x, cols):\n",
        "        return train_x[cols], test_x[cols], valid_x[cols]\n",
        "    \n",
        "    \n",
        "    def generate_bsp_data_no_random(self, df:pd.DataFrame, side, train_size=0.6, valid_size = 0.2):\n",
        "        dfx = None\n",
        "        dfy = None\n",
        "        col_name ='bp' if side =='buy' else 'sp'\n",
        "        dfx = df.drop(['dt','size',col_name],axis = 1)\n",
        "        dfy = df[col_name]\n",
        "        dfy.columns = [col_name]\n",
        "        train_x, test_x, train_y, test_y = train_test_split(dfx, dfy, train_size=train_size, shuffle = False)\n",
        "        count_buy_in_train = train_y.values.sum()\n",
        "        non_buy_list = []\n",
        "        buy_list = []\n",
        "\n",
        "        for i in range(len(train_y)): #train_y = 0のdataをリスト化\n",
        "            if train_y.iloc[i] == 0:\n",
        "                non_buy_list.append(train_x.iloc[i])\n",
        "            elif train_y.iloc[i] == 1:\n",
        "                    buy_list.append(train_x.iloc[i])\n",
        "        if len(buy_list) != count_buy_in_train:\n",
        "            print('len(buy_list) is not matched with count_buy_in_train !!')\n",
        "        new_train_df = pd.DataFrame()\n",
        "        new_train_df = new_train_df.append(non_buy_list)\n",
        "        num = len(non_buy_list) // len(buy_list)\n",
        "        for i in range(num):\n",
        "            new_train_df = new_train_df.append(buy_list)\n",
        "        num = len(non_buy_list) % len(buy_list)\n",
        "        amari = int(round(len(buy_list) * num))\n",
        "        new_train_df = new_train_df.append(buy_list[:amari])\n",
        "        new_buy_points = [0] * len(non_buy_list)\n",
        "        new_buy_points.extend([1] *  (len(new_train_df) - len(non_buy_list)))\n",
        "        if side == 'buy':\n",
        "            new_train_df = new_train_df.assign(bp=new_buy_points)\n",
        "        else:\n",
        "            new_train_df = new_train_df.assign(sp=new_buy_points)\n",
        "        train_y = new_train_df[col_name]\n",
        "        new_train_df = new_train_df.drop([col_name],axis = 1)\n",
        "        train_xx, valid_x, train_yy, valid_y = train_test_split(new_train_df, train_y, train_size=1.0-valid_size, random_state=42)\n",
        "        print('buy sell point data description:')\n",
        "        print('side=',side)\n",
        "        print('train_x', train_xx.shape)\n",
        "        print('train_y', train_yy.shape)\n",
        "        print('test_x', test_x.shape)\n",
        "        print('test_y', test_y.shape)\n",
        "        print('valid_x', valid_x.shape)\n",
        "        print('valid_y', valid_y.shape)\n",
        "        return train_xx, test_x, train_yy, test_y, valid_x, valid_y\n",
        "    \n",
        "    def select_important_cols(self, model, train_xb):\n",
        "        importance = pd.DataFrame(model.feature_importance(), index=list(train_xb.columns), columns=['importance'])\n",
        "        data = importance.sort_values('importance',ascending=False)\n",
        "\n",
        "        col = list(data.columns)[0]\n",
        "        indicies = list(data.index)\n",
        "        kijun = 0.9 * data[col].sum()\n",
        "\n",
        "        cols = []\n",
        "        current_sum = 0\n",
        "        target = kijun\n",
        "        i = 0\n",
        "        while current_sum < target:\n",
        "            current_sum += data[col].iloc[i]\n",
        "            cols.append(indicies[i])\n",
        "            i += 1\n",
        "        return cols\n",
        "    \n",
        "    def select_important_cols2(self, model, train_xb):\n",
        "        importance = pd.DataFrame(model.feature_importance(), index=list(train_xb.columns), columns=['importance'])\n",
        "        data = importance.sort_values('importance',ascending=False)\n",
        "\n",
        "        col = list(data.columns)[0]\n",
        "        indicies = list(data.index)\n",
        "        print('selected 200 cols, total importance =', data[col].iloc[:200].sum())\n",
        "        return indicies[:200]\n",
        "    \n",
        "    \n",
        "    \n",
        "    def train(self, train_x, train_y):\n",
        "        #print('training data description')\n",
        "        #print('train_x:',train_x.shape)\n",
        "        #print('train_y:',train_y.shape)\n",
        "        train_start_ind = OneMinMarketData.check_matched_index(train_x)\n",
        "        print('train period:', OneMinMarketData.ohlc.dt[train_start_ind], OneMinMarketData.ohlc.dt[train_start_ind + len(train_y)])\n",
        "        train = lgb.Dataset(train_x.values.astype(np.float32), train_y.values.astype(np.float32))\n",
        "        lgbm_params = {\n",
        "        'objective': 'multiclass',\n",
        "        'num_class': 4,\n",
        "            'boosting': 'dart',\n",
        "            'tree_learner': 'data',\n",
        "            'learning_rate':0.05,\n",
        "            'num_iterations':200,\n",
        "#            'device':'gpu',\n",
        "        }\n",
        "        model = lgb.train(lgbm_params, train)\n",
        "        return model\n",
        "    \n",
        "    def train_params(self, train_x, train_y, params):\n",
        "        #print('training data description')\n",
        "        #print('train_x:',train_x.shape)\n",
        "        #print('train_y:',train_y.shape)\n",
        "        train = lgb.Dataset(train_x.values.astype(np.float32), train_y.values.astype(np.float32))\n",
        "        model = lgb.train(params, train)\n",
        "        return model\n",
        "    \n",
        "    def load_model(self):\n",
        "        model_buy = None\n",
        "        model_sell = None\n",
        "        with open('/content/drive/My Drive/Model/lgb_model_buy.dat', 'rb') as f:\n",
        "            model_buy = pickle.load(f)\n",
        "        with open('/content/drive/My Drive/Model/lgb_model_sell.dat', 'rb') as f:\n",
        "            model_sell = pickle.load(f)\n",
        "        return model_buy, model_sell\n",
        "    \n",
        "    def train_params_with_validations(self, train_x, train_y, valid_x, valid_y, params, verbose=None):\n",
        "        #print('training data description')\n",
        "        #print('train_x:',train_x.shape)\n",
        "        #print('train_y:',train_y.shape)\n",
        "        #train_start_ind = OneMinMarketData.check_matched_index(train_x)\n",
        "        #print('train period:', OneMinMarketData.ohlc.dt[train_start_ind], OneMinMarketData.ohlc.dt[train_start_ind + len(train_y)])\n",
        "        train = lgb.Dataset(train_x.values.astype(np.float32), train_y.values.astype(np.float32))\n",
        "        lgb_eval = lgb.Dataset(valid_x.values.astype(np.float32), valid_y.values.astype(np.float32), reference=train)\n",
        "        #train = lgb.Dataset(data=train_x, label=train_y, categorical_feature='auto')\n",
        "        #lgb_eval = lgb.Dataset(data=valid_x, label=valid_y, reference=train, categorical_feature='auto')\n",
        "        model = lgb.train(params, train, valid_sets = lgb_eval, verbose_eval=verbose)\n",
        "        return model\n",
        "    \n",
        "    def bpsp_prediction(self, model, test_x, uppder_kijun):\n",
        "        prediction = []\n",
        "        pval = model.predict(test_x, num_iteration=model.best_iteration)\n",
        "        for p in pval:\n",
        "            res = list(map(lambda x: 1.0 if x >= uppder_kijun else 0, p))\n",
        "            if (res[0] == 1 and res[1] == 0 and res[2] == 0 and res[3] == 0) or (res[0] == 0 and res[1] == 0 and res[2] == 0 and res[3] == 0):\n",
        "                prediction.append(0)\n",
        "            elif res[0] == 0 and res[1] == 1 and res[2] == 0 and res[3] == 0:\n",
        "                prediction.append(1)\n",
        "            elif res[0] == 0 and res[1] == 0 and res[2] == 1 and res[3] == 0:\n",
        "                prediction.append(2)\n",
        "            elif res[0] == 0 and res[1] == 0 and res[2] == 0 and res[3] == 1:\n",
        "                prediction.append(3)\n",
        "            else:\n",
        "                prediction.append(0) #複数は発火した時は0にする\n",
        "        return prediction\n",
        "\n",
        "\n",
        "    def bpsp_prediction2(self, model, test_x):\n",
        "        prediction = []\n",
        "        pval = model.predict(test_x.values.astype(np.float32), num_iteration=model.best_iteration)\n",
        "        for p in pval:\n",
        "            prediction.append(np.argmax(p))\n",
        "        return prediction\n",
        "\n",
        "    def bpsp_prediction2_kai(self, model, test_x):\n",
        "        return list(np.argmax(model.predict(test_x.values.astype(np.float32), num_iteration=model.best_iteration), axis=1))\n",
        "\n",
        "    def bpsp_prediction3(self, model, test_x, pred_kijun):\n",
        "        prediction = []\n",
        "        pval = model.predict(test_x.values.astype(np.float32), num_iteration=model.best_iteration)\n",
        "        for p in pval:\n",
        "            if max(p) > pred_kijun:\n",
        "                prediction.append(np.argmax(p))\n",
        "            else:\n",
        "                prediction.append(0)\n",
        "        return prediction\n",
        "\n",
        "\n",
        "    def calc_bpsp_accuracy(self, prediction, test_y):\n",
        "        num = len(prediction)\n",
        "        matched = 0\n",
        "        y = np.array(test_y)\n",
        "        for i in range(len(prediction)):\n",
        "            if prediction[i] == y[i]:\n",
        "                matched += 1\n",
        "        return round(float(matched) / float(num), 4)\n",
        "                \n",
        "    \n",
        "    def bp_prediciton(self, model, test_x,  kijun):\n",
        "        pred = model.predict(test_x, num_iteration=model.best_iteration)\n",
        "        res = []\n",
        "        for i in pred:\n",
        "            if i >= kijun:\n",
        "                res.append(1)\n",
        "            else:\n",
        "                res.append(0)\n",
        "        return res\n",
        "    \n",
        "    def bp_buysell_prediction(self, prediction_buy, prediction_sell, upper_kijun, lower_kijun):\n",
        "        if len(prediction_buy) == len(prediction_sell):\n",
        "            res = []\n",
        "            for i in range(len(prediction_buy)):\n",
        "                if prediction_buy[i] >= upper_kijun and prediction_sell[i] <= lower_kijun:\n",
        "                    res.append(1)\n",
        "                elif prediction_sell[i] >= upper_kijun and prediction_buy[i] <= lower_kijun:\n",
        "                    res.append(-1)\n",
        "                else:\n",
        "                    res.append(0)\n",
        "            return res\n",
        "        else:\n",
        "            print('bp_buysell_prediction - buy prediction and sell predition num is not matched!!')\n",
        "            return []\n",
        "            \n",
        "    \n",
        "    def bp_buysell_prediction2(self, model_buy, model_sell, test_x, upper_kijun, lower_kijun):\n",
        "        p_buy = model_buy.predict(test_x, num_iteration=model_buy.best_iteration)\n",
        "        p_sell = model_sell.predict(test_x, num_iteration=model_sell.best_iteration)\n",
        "        res = []\n",
        "        for i in range(len(p_buy)):\n",
        "            if p_buy[i] >= upper_kijun and p_sell[i] <= lower_kijun:\n",
        "                res.append(1)\n",
        "            elif p_sell[i] >= upper_kijun and p_buy[i] <= lower_kijun:\n",
        "                res.append(-1)\n",
        "            else:\n",
        "                res.append(0)\n",
        "        return res\n",
        "\n",
        "    def calc_buysell_accuracy(self, predictions, test_y):\n",
        "        num = predictions.count(1) + predictions.count(2)\n",
        "        matched = 0\n",
        "        y = np.array(test_y)\n",
        "        for i in range(len(predictions)):\n",
        "            if predictions[i] == 1 and y[i] == 1 or predictions[i] == 2 and y[i] == 2:\n",
        "                matched += 1\n",
        "        if num >0:\n",
        "            return float(matched) / float(num)\n",
        "        else:\n",
        "            return 0\n",
        "        \n",
        "    def calc_total_accuracy(self, predictions, test_y):\n",
        "        matched = 0\n",
        "        y = np.array(test_y)\n",
        "        for i in range(len(predictions)):\n",
        "            if predictions[i] == y[i]:\n",
        "                matched += 1\n",
        "        return float(matched) / float(len(predictions))\n",
        "            \n",
        "    def calc_bp_accuracy(self, predictions, test_y):\n",
        "        matched = 0\n",
        "        y = np.array(test_y)\n",
        "        for i in range(len(predictions)):\n",
        "            if predictions[i] == 1 and y[i] ==1:\n",
        "                matched += 1\n",
        "        if sum(predictions) > 0:\n",
        "            return float(matched) / float(sum(predictions))\n",
        "        else:\n",
        "            return 0\n",
        "        \n",
        "    \n",
        "    \n",
        "    #count only matched with test_y (0 or 1)\n",
        "    def calc_bp_accuracy2(self, predictions, test_y):\n",
        "        matched = 0\n",
        "        y = np.array(test_y)\n",
        "        for i in range(len(predictions)):\n",
        "            if predictions[i] == y[i]:\n",
        "                matched += 1\n",
        "        if sum(predictions) > 0:\n",
        "            return float(matched) / float(len(predictions))\n",
        "        else:\n",
        "            return 0\n",
        "\n",
        "    def eval_multi_score(self, pred, test_y):\n",
        "        correct = [0,0,0,0]\n",
        "        for i in range(len(pred)):\n",
        "            if pred[i] == test_y.iloc[i]:\n",
        "                correct[pred[i]] += 1\n",
        "        bar_val = [correct[0]/float((test_y==0).sum()),correct[1]/float((test_y==1).sum()),correct[2]/float((test_y==2).sum()),correct[3]/float((test_y==3).sum())]\n",
        "        plt.bar(['no','buy','sell','both'],bar_val)\n",
        "        print('accuracy=',accuracy_score(pred, test_y))\n",
        "        print('f1=',f1_score(pred, test_y, average='macro'))\n",
        "        print('buy/sell accuracy=',np.mean([bar_val[1], bar_val[2]]))"
      ],
      "execution_count": 0,
      "outputs": []
    },
    {
      "cell_type": "code",
      "metadata": {
        "id": "_eYFGHuHFE4M",
        "colab_type": "code",
        "colab": {}
      },
      "source": [
        "'''\n",
        "Catboost\n",
        "'''\n",
        "\n",
        "class CatboostModel:\n",
        "    def param_train(self, train_x, train_y, params):\n",
        "        train_pool = Pool(train_x, label=train_y)\n",
        "        cbc= cat.CatBoostClassifier(**params)\n",
        "        clf = cbc.fit(train_pool)\n",
        "        return clf\n",
        "\n",
        "    def predict(self, model, test_x, test_y):\n",
        "        pred = model.predict(Pool(test_x, label=test_y), prediction_type='Class')\n",
        "        res = []\n",
        "        for p in pred:\n",
        "            res.append(p[0])\n",
        "        return res\n"
      ],
      "execution_count": 0,
      "outputs": []
    },
    {
      "cell_type": "code",
      "metadata": {
        "id": "FNCHshB0el-k",
        "colab_type": "code",
        "colab": {}
      },
      "source": [
        "\n",
        "\n",
        "class XgbModel:\n",
        "    def train(self, train_x, train_y):\n",
        "        print('train_x', train_x.shape)\n",
        "        print('train_y', train_y.shape)\n",
        "        train = xgb.DMatrix(train_x, label = train_y)\n",
        "        param = {'max_depth':4,\n",
        "                 'num_class':4,\n",
        "                 'eta':0.001,\n",
        "                 #'min_child_weight':1,\n",
        "                 #'gamma':1,\n",
        "                 #'subsample':0.9,\n",
        "                 #'colsample_bytree':0.9,\n",
        "                 #'lambda':3,\n",
        "                 #'grow_policy' :'lossguide',\n",
        "                 'objective':'multi:softmax',\n",
        "                 'tree_method':'gpu_hist',\n",
        "                 'early_stopping_rounds':100,\n",
        "                 'verbosity':2\n",
        "                 #'silent':True\n",
        "                }\n",
        "        num_round = 260000\n",
        "        bst = xgb.train(param, train, num_round)\n",
        "        return bst\n",
        "    \n",
        "    def train_param(self, train_x, train_y, param, n_round):\n",
        "        train_data = xgb.DMatrix(train_x, label = train_y)\n",
        "        bst = xgb.train(param, train_data, n_round)\n",
        "        return bst\n",
        "\n",
        "    @jit\n",
        "    def calc_accuracy(self, predict, test_y):\n",
        "        num = len(predict)\n",
        "        matched = 0\n",
        "        y = np.array(test_y)\n",
        "        for i in range(len(predict)):\n",
        "            if predict[i] == y[i]:\n",
        "                matched += 1\n",
        "        return float(matched) / float(num)\n",
        "\n",
        "    def calc_specific_accuracy(self, predict, test_y, target_future_id):\n",
        "        num = pd.Series(test_y).value_counts()[target_future_id]\n",
        "        matched = 0\n",
        "        y = np.array(test_y)\n",
        "        for i in range(len(predict)):\n",
        "            if y[i] == target_future_id and predict[i] == target_future_id:\n",
        "                matched += 1\n",
        "        return float(matched) / float(num)"
      ],
      "execution_count": 0,
      "outputs": []
    },
    {
      "cell_type": "code",
      "metadata": {
        "id": "mcw4PtlFvVnX",
        "colab_type": "code",
        "colab": {}
      },
      "source": [
        "\n",
        "class OptuningBP:\n",
        "    def objective(trial):\n",
        "        params = {'objective': 'multiclass', 'num_class':4, 'boosting': 'gbdt', 'learning_rate':0.1,  'num_iterations':1000,'early_stopping_rounds':30, 'silent':True} \n",
        "        #params = {'objective': 'multiclass', 'num_class':4, 'boosting': 'gbdt', 'learning_rate':0.1, 'device':'gpu', 'num_iterations':200,'early_stopping_rounds':30, 'silent':True} \n",
        "        #params = {'objective': 'multiclass', 'num_class':4, 'boosting': 'gbdt', 'learning_rate':0.1, 'device':'gpu', 'num_iterations':200, 'silent':True} \n",
        "        #params['learning_rate'] = trial.suggest_uniform('learning_rate',0.01, 1.5)\n",
        "#        params['num_iterations'] = trial.suggest_int('num_iterations', 10, 15000)\n",
        "        params['max_depth'] = trial.suggest_int('max_depth',2, 10)\n",
        "        params['max_bin'] = trial.suggest_int('max_bin', 2, 200)\n",
        "        params['num_leaves'] = trial.suggest_int('num_leaves', 4, 2 ** params['max_depth'])\n",
        "        params['min_data_in_leaf'] = trial.suggest_int('min_data_in_leaf', 0, 100)\n",
        "        params['min_sum_hessian_in_leaf'] = trial.suggest_uniform('min_sum_hessian_in_leaf',1e-5, 1e+1)\n",
        "        params['bagging_fraction'] = trial.suggest_uniform('bagging_fraction',1e-4, 1)\n",
        "        params['bagging_freq'] = trial.suggest_int('bagging_freq',0, 100)\n",
        "        params['feature_fraction'] = trial.suggest_uniform('feature_fraction',1e-4, 1)\n",
        "        params['lambda_l1'] = trial.suggest_int('lambda_l1',0, 100)\n",
        "        params['lambda_l2'] = trial.suggest_int('lambda_l2',0, 100)\n",
        "        params['min_gain_to_split'] = trial.suggest_int('min_gain_to_split',0, 100)\n",
        "        upper_kijun = trial.suggest_int('upper_kijun', 10,90)\n",
        "        avert_period_kijun = trial.suggest_int('avert_period_kijun', 10,300)\n",
        "\n",
        "        #kijun_val = trial.suggest_int('kijun_val', 30,300)\n",
        "#        if params['boosting'] == 'dart':\n",
        " #           params['drop_rate'] = trial.suggest_uniform('drop_rate',0, 1.0)\n",
        "           # params['max_drop'] = trial.suggest_int('max_drop', 1, 10)\n",
        " #           params['skip_drop'] = trial.suggest_uniform('skip_drop',0, 1.0)\n",
        "\n",
        "        sim = Sim()\n",
        "        ac = SimAccount()\n",
        "        model = lgbmodel.train_params_with_validations(train_xb, train_yb, valid_xb, valid_yb, params)\n",
        "        prediction = lgbmodel.bpsp_prediction(model, test_xb, upper_kijun/100.0)\n",
        "        ac = sim.sim_model_pred_onemin_avert(start_ind, prediction, pt, lc, ac, avert_period_kijun)\n",
        "        print('total pl={},num trade={},win rate={}, pl_stability={}, num_buy={}, num_sell={}'.format(ac.total_pl,ac.num_trade,ac.win_rate, ac.pl_stability, ac.num_buy,ac.num_sell))\n",
        "        return -ac.total_pl\n",
        "\n",
        "start = time.time()\n",
        "num_term = 4\n",
        "corr_kijun = 0.7\n",
        "upper_kijun = 0.5\n",
        "from_ind = 0\n",
        "to_ind = 144000\n",
        "\n",
        "train_len = 30000\n",
        "test_len = 100000\n",
        "test_start_ind = 30000 #should be larger than train_len\n",
        "valid_size = 0.05\n",
        "\n",
        "kijun_val =50   \n",
        "kijun_period = 120\n",
        "pt = kijun_val\n",
        "lc = 10000\n",
        "random_state = None\n",
        "\n",
        "OneMinMarketData.initialize_for_bot(num_term, from_ind, to_ind, kijun_val, kijun_period)\n",
        "df = OneMinMarketData.genrate_df_from_dict()\n",
        "df = OneMinMarketData.remove_cols_contains_nan2(df)\n",
        "df2 = OneMinMarketData.remove_price_dependent_cols2(df, corr_kijun)\n",
        "\n",
        "sim = Sim()\n",
        "ac = SimAccount()\n",
        "start_ind_log = 0\n",
        "end_ind_log = 0\n",
        "i=0\n",
        "lgbmodel = LgbModel()\n",
        "train_df = df2.iloc[test_start_ind - train_len + (test_len * i):(test_len * i) + test_start_ind]\n",
        "test_df = df2.iloc[kijun_period + (test_len * i) + test_start_ind:kijun_period + test_start_ind + (test_len * i) + test_len]\n",
        "print('generating bpsp data2')\n",
        "train_xb, test_xb, train_yb, test_yb, valid_xb, valid_yb = lgbmodel.generate_bpsp_data2(train_df, test_df, valid_size, random_state)\n",
        "\n",
        "cols = list(train_xb.columns)\n",
        "remove_cols = ['open', 'high', 'low', 'close', 'open_change', 'high_change' , 'low_change', 'close_change', 'dt']\n",
        "\n",
        "for col in remove_cols:\n",
        "    if col in cols:\n",
        "        cols.remove(col)\n",
        "cols.sort()\n",
        "train_xb = train_xb.loc[:,cols]\n",
        "test_xb = test_xb.loc[:,cols]\n",
        "valid_xb = valid_xb.loc[:,cols]\n",
        "print('removed unsed index')\n",
        "\n",
        "if list(train_xb.columns) == list(test_xb.columns) == list(valid_xb.columns):\n",
        "    pass\n",
        "else:\n",
        "    print('train col, test col, valid col are not matched!')\n",
        "\n",
        "start_ind = OneMinMarketData.check_matched_dt(test_xb, df2)\n",
        "\n",
        "study = optuna.create_study()\n",
        "f = partial(OptuningBP.objective)\n",
        "study.optimize(f, n_trials=200)\n",
        "print('time to calc data={}'.format(time.time() - start))\n",
        "print('best params:',study.best_params)"
      ],
      "execution_count": 0,
      "outputs": []
    },
    {
      "cell_type": "code",
      "metadata": {
        "id": "R2Zzi5HtDBL8",
        "colab_type": "code",
        "outputId": "712f28c7-1198-4abc-ee62-a2efb0e7737c",
        "colab": {
          "base_uri": "https://localhost:8080/",
          "height": 1000
        }
      },
      "source": [
        "class OptunaSim:\n",
        "    def objective(trial):\n",
        "        params['avert_onemin'] = trial.suggest_int('avert_onemine',0,1)\n",
        "        params['upper_kijun'] = trial.suggest_int('upper_kijun',10, 95)\n",
        "        params['avert_period_kijun'] = trial.suggest_int('avert_period_kijun',10,1000)\n",
        "        params['avert_val_kijun'] = trial.suggest_int('avert_val_kijun',-100,100)\n",
        "        #params['pt'] = trial.suggest_int('pt',10,500)\n",
        "        #params['pred_method'] = trial.suggest_int('pred_method',0,4)\n",
        "\n",
        "        params['pt'] = 50\n",
        "        lc = 50000\n",
        "        params['pred_method'] = 0\n",
        "        if params['pred_method'] == 0:\n",
        "            prediction = lgbmodel.bpsp_prediction(model, opt_test_xb.astype(np.float32), params['upper_kijun']/100.0)\n",
        "        elif params['pred_method'] == 1:\n",
        "            prediction = lgbmodel.bpsp_prediction2(model, opt_test_xb.astype(np.float32))\n",
        "        elif params['pred_method'] == 2:\n",
        "            prediction = lgbmodel.bpsp_prediction2_kai(model, opt_test_xb.astype(np.float32))\n",
        "        elif params['pred_method'] == 3:\n",
        "            prediction = lgbmodel.bpsp_prediction3(model, opt_test_xb.astype(np.float32), params['upper_kijun']/100.0)\n",
        "            \n",
        "        sim = Sim()\n",
        "        ac = SimAccount()\n",
        "        if params['avert_onemin'] == 0:\n",
        "            ac = sim.sim_model_pred_onemin(start_ind, prediction, params['pt'], lc, ac)\n",
        "        elif params['avert_onemin'] == 1:\n",
        "            ac = sim.sim_model_pred_onemin_avert(start_ind, prediction, params['pt'], lc, ac, params['avert_period_kijun'], params['avert_val_kijun'] / 10000.0)\n",
        "        print('total pl={},num trade={},win rate={}, pl_stability={}, num_buy={}, num_sell={}'.format(ac.total_pl,ac.num_trade,ac.win_rate, ac.pl_stability, ac.num_buy,ac.num_sell))\n",
        "        return -ac.total_pl\n",
        "\n",
        "opt_test_xb = test_xb.iloc[:5000]\n",
        "study = optuna.create_study()\n",
        "f = partial(OptunaSim.objective)\n",
        "study.optimize(f, n_trials=200)\n",
        "print('time to calc data={}'.format(time.time() - start))\n",
        "print('best params:',study.best_params)"
      ],
      "execution_count": 0,
      "outputs": [
        {
          "output_type": "stream",
          "text": [
            "\u001b[32m[I 2019-12-08 11:31:22,829]\u001b[0m Finished trial#0 resulted in value: 0.7393000000000003. Current best value is 0.7393000000000003 with parameters: {'avert_onemine': 0, 'upper_kijun': 45, 'avert_period_kijun': 825, 'avert_val_kijun': 43}.\u001b[0m\n"
          ],
          "name": "stderr"
        },
        {
          "output_type": "stream",
          "text": [
            "total pl=-0.7393000000000003,num trade=27,win rate=0.5926, pl_stability=9.7007, num_buy=13, num_sell=14\n"
          ],
          "name": "stdout"
        },
        {
          "output_type": "stream",
          "text": [
            "\u001b[32m[I 2019-12-08 11:31:26,401]\u001b[0m Finished trial#1 resulted in value: -0.6479. Current best value is -0.6479 with parameters: {'avert_onemine': 1, 'upper_kijun': 59, 'avert_period_kijun': 214, 'avert_val_kijun': 47}.\u001b[0m\n"
          ],
          "name": "stderr"
        },
        {
          "output_type": "stream",
          "text": [
            "total pl=0.6479,num trade=4,win rate=0.75, pl_stability=0.2816, num_buy=2, num_sell=2\n"
          ],
          "name": "stdout"
        },
        {
          "output_type": "stream",
          "text": [
            "\u001b[32m[I 2019-12-08 11:31:29,769]\u001b[0m Finished trial#2 resulted in value: -2.1714. Current best value is -2.1714 with parameters: {'avert_onemine': 0, 'upper_kijun': 77, 'avert_period_kijun': 116, 'avert_val_kijun': 58}.\u001b[0m\n"
          ],
          "name": "stderr"
        },
        {
          "output_type": "stream",
          "text": [
            "total pl=2.1714,num trade=11,win rate=0.7273, pl_stability=6.904, num_buy=6, num_sell=4\n"
          ],
          "name": "stdout"
        },
        {
          "output_type": "stream",
          "text": [
            "\u001b[32m[I 2019-12-08 11:31:33,175]\u001b[0m Finished trial#3 resulted in value: -0.9683. Current best value is -2.1714 with parameters: {'avert_onemine': 0, 'upper_kijun': 77, 'avert_period_kijun': 116, 'avert_val_kijun': 58}.\u001b[0m\n"
          ],
          "name": "stderr"
        },
        {
          "output_type": "stream",
          "text": [
            "total pl=0.9683,num trade=6,win rate=0.5, pl_stability=6.1919, num_buy=2, num_sell=3\n"
          ],
          "name": "stdout"
        },
        {
          "output_type": "stream",
          "text": [
            "\u001b[32m[I 2019-12-08 11:31:36,770]\u001b[0m Finished trial#4 resulted in value: -0.46290000000000003. Current best value is -2.1714 with parameters: {'avert_onemine': 0, 'upper_kijun': 77, 'avert_period_kijun': 116, 'avert_val_kijun': 58}.\u001b[0m\n"
          ],
          "name": "stderr"
        },
        {
          "output_type": "stream",
          "text": [
            "total pl=0.46290000000000003,num trade=4,win rate=0.5, pl_stability=0.1152, num_buy=2, num_sell=2\n"
          ],
          "name": "stdout"
        },
        {
          "output_type": "stream",
          "text": [
            "\u001b[32m[I 2019-12-08 11:31:40,481]\u001b[0m Finished trial#5 resulted in value: 0.7928999999999996. Current best value is -2.1714 with parameters: {'avert_onemine': 0, 'upper_kijun': 77, 'avert_period_kijun': 116, 'avert_val_kijun': 58}.\u001b[0m\n"
          ],
          "name": "stderr"
        },
        {
          "output_type": "stream",
          "text": [
            "total pl=-0.7928999999999996,num trade=31,win rate=0.6129, pl_stability=9.6803, num_buy=16, num_sell=15\n"
          ],
          "name": "stdout"
        },
        {
          "output_type": "stream",
          "text": [
            "\u001b[32m[I 2019-12-08 11:31:44,116]\u001b[0m Finished trial#6 resulted in value: -1.1436000000000002. Current best value is -2.1714 with parameters: {'avert_onemine': 0, 'upper_kijun': 77, 'avert_period_kijun': 116, 'avert_val_kijun': 58}.\u001b[0m\n"
          ],
          "name": "stderr"
        },
        {
          "output_type": "stream",
          "text": [
            "total pl=1.1436000000000002,num trade=8,win rate=0.5, pl_stability=2.2954, num_buy=6, num_sell=5\n"
          ],
          "name": "stdout"
        },
        {
          "output_type": "stream",
          "text": [
            "\u001b[32m[I 2019-12-08 11:31:47,493]\u001b[0m Finished trial#7 resulted in value: -0.9033. Current best value is -2.1714 with parameters: {'avert_onemine': 0, 'upper_kijun': 77, 'avert_period_kijun': 116, 'avert_val_kijun': 58}.\u001b[0m\n"
          ],
          "name": "stderr"
        },
        {
          "output_type": "stream",
          "text": [
            "total pl=0.9033,num trade=6,win rate=0.5, pl_stability=6.1629, num_buy=2, num_sell=3\n",
            "total pl=0.28080000000000005,num trade=5,win rate=0.4, pl_stability=6.245, num_buy=2, num_sell=2\n"
          ],
          "name": "stdout"
        },
        {
          "output_type": "stream",
          "text": [
            "\u001b[32m[I 2019-12-08 11:31:50,891]\u001b[0m Finished trial#8 resulted in value: -0.28080000000000005. Current best value is -2.1714 with parameters: {'avert_onemine': 0, 'upper_kijun': 77, 'avert_period_kijun': 116, 'avert_val_kijun': 58}.\u001b[0m\n",
            "\u001b[32m[I 2019-12-08 11:31:54,259]\u001b[0m Finished trial#9 resulted in value: -2.1715999999999998. Current best value is -2.1715999999999998 with parameters: {'avert_onemine': 0, 'upper_kijun': 15, 'avert_period_kijun': 579, 'avert_val_kijun': -25}.\u001b[0m\n"
          ],
          "name": "stderr"
        },
        {
          "output_type": "stream",
          "text": [
            "total pl=2.1715999999999998,num trade=11,win rate=0.7273, pl_stability=6.9784, num_buy=6, num_sell=4\n"
          ],
          "name": "stdout"
        },
        {
          "output_type": "stream",
          "text": [
            "\u001b[32m[I 2019-12-08 11:31:57,672]\u001b[0m Finished trial#10 resulted in value: -0.7733. Current best value is -2.1715999999999998 with parameters: {'avert_onemine': 0, 'upper_kijun': 15, 'avert_period_kijun': 579, 'avert_val_kijun': -25}.\u001b[0m\n"
          ],
          "name": "stderr"
        },
        {
          "output_type": "stream",
          "text": [
            "total pl=0.7733,num trade=6,win rate=0.5, pl_stability=7.043, num_buy=2, num_sell=3\n"
          ],
          "name": "stdout"
        },
        {
          "output_type": "stream",
          "text": [
            "\u001b[32m[I 2019-12-08 11:32:01,081]\u001b[0m Finished trial#11 resulted in value: -2.9997. Current best value is -2.9997 with parameters: {'avert_onemine': 0, 'upper_kijun': 70, 'avert_period_kijun': 358, 'avert_val_kijun': -25}.\u001b[0m\n"
          ],
          "name": "stderr"
        },
        {
          "output_type": "stream",
          "text": [
            "total pl=2.9997,num trade=14,win rate=0.7143, pl_stability=8.8553, num_buy=7, num_sell=7\n"
          ],
          "name": "stdout"
        },
        {
          "output_type": "stream",
          "text": [
            "\u001b[32m[I 2019-12-08 11:32:04,464]\u001b[0m Finished trial#12 resulted in value: -2.9646999999999997. Current best value is -2.9997 with parameters: {'avert_onemine': 0, 'upper_kijun': 70, 'avert_period_kijun': 358, 'avert_val_kijun': -25}.\u001b[0m\n"
          ],
          "name": "stderr"
        },
        {
          "output_type": "stream",
          "text": [
            "total pl=2.9646999999999997,num trade=14,win rate=0.7143, pl_stability=8.8764, num_buy=7, num_sell=7\n"
          ],
          "name": "stdout"
        },
        {
          "output_type": "stream",
          "text": [
            "\u001b[32m[I 2019-12-08 11:32:07,836]\u001b[0m Finished trial#13 resulted in value: -3.2526. Current best value is -3.2526 with parameters: {'avert_onemine': 0, 'upper_kijun': 72, 'avert_period_kijun': 300, 'avert_val_kijun': -97}.\u001b[0m\n"
          ],
          "name": "stderr"
        },
        {
          "output_type": "stream",
          "text": [
            "total pl=3.2526,num trade=15,win rate=0.7333, pl_stability=8.5888, num_buy=7, num_sell=7\n"
          ],
          "name": "stdout"
        },
        {
          "output_type": "stream",
          "text": [
            "\u001b[32m[I 2019-12-08 11:32:11,228]\u001b[0m Finished trial#14 resulted in value: -2.9646999999999997. Current best value is -3.2526 with parameters: {'avert_onemine': 0, 'upper_kijun': 72, 'avert_period_kijun': 300, 'avert_val_kijun': -97}.\u001b[0m\n"
          ],
          "name": "stderr"
        },
        {
          "output_type": "stream",
          "text": [
            "total pl=2.9646999999999997,num trade=14,win rate=0.7143, pl_stability=8.8764, num_buy=7, num_sell=7\n"
          ],
          "name": "stdout"
        },
        {
          "output_type": "stream",
          "text": [
            "\u001b[32m[I 2019-12-08 11:32:14,624]\u001b[0m Finished trial#15 resulted in value: -3.2526. Current best value is -3.2526 with parameters: {'avert_onemine': 0, 'upper_kijun': 72, 'avert_period_kijun': 300, 'avert_val_kijun': -97}.\u001b[0m\n"
          ],
          "name": "stderr"
        },
        {
          "output_type": "stream",
          "text": [
            "total pl=3.2526,num trade=15,win rate=0.7333, pl_stability=8.5888, num_buy=7, num_sell=7\n",
            "total pl=-0.6651000000000002,num trade=25,win rate=0.6, pl_stability=9.6991, num_buy=12, num_sell=13\n"
          ],
          "name": "stdout"
        },
        {
          "output_type": "stream",
          "text": [
            "\u001b[32m[I 2019-12-08 11:32:18,037]\u001b[0m Finished trial#16 resulted in value: 0.6651000000000002. Current best value is -3.2526 with parameters: {'avert_onemine': 0, 'upper_kijun': 72, 'avert_period_kijun': 300, 'avert_val_kijun': -97}.\u001b[0m\n",
            "\u001b[32m[I 2019-12-08 11:32:21,421]\u001b[0m Finished trial#17 resulted in value: -1.4635. Current best value is -3.2526 with parameters: {'avert_onemine': 0, 'upper_kijun': 72, 'avert_period_kijun': 300, 'avert_val_kijun': -97}.\u001b[0m\n"
          ],
          "name": "stderr"
        },
        {
          "output_type": "stream",
          "text": [
            "total pl=1.4635,num trade=4,win rate=0.75, pl_stability=1.604, num_buy=3, num_sell=0\n"
          ],
          "name": "stdout"
        },
        {
          "output_type": "stream",
          "text": [
            "\u001b[32m[I 2019-12-08 11:32:24,802]\u001b[0m Finished trial#18 resulted in value: -2.1714. Current best value is -3.2526 with parameters: {'avert_onemine': 0, 'upper_kijun': 72, 'avert_period_kijun': 300, 'avert_val_kijun': -97}.\u001b[0m\n"
          ],
          "name": "stderr"
        },
        {
          "output_type": "stream",
          "text": [
            "total pl=2.1714,num trade=11,win rate=0.7273, pl_stability=6.904, num_buy=6, num_sell=4\n"
          ],
          "name": "stdout"
        },
        {
          "output_type": "stream",
          "text": [
            "\u001b[32m[I 2019-12-08 11:32:28,456]\u001b[0m Finished trial#19 resulted in value: -0.8948000000000003. Current best value is -3.2526 with parameters: {'avert_onemine': 0, 'upper_kijun': 72, 'avert_period_kijun': 300, 'avert_val_kijun': -97}.\u001b[0m\n"
          ],
          "name": "stderr"
        },
        {
          "output_type": "stream",
          "text": [
            "total pl=0.8948000000000003,num trade=14,win rate=0.7143, pl_stability=9.2016, num_buy=6, num_sell=8\n"
          ],
          "name": "stdout"
        },
        {
          "output_type": "stream",
          "text": [
            "\u001b[32m[I 2019-12-08 11:32:31,869]\u001b[0m Finished trial#20 resulted in value: -0.1197999999999998. Current best value is -3.2526 with parameters: {'avert_onemine': 0, 'upper_kijun': 72, 'avert_period_kijun': 300, 'avert_val_kijun': -97}.\u001b[0m\n"
          ],
          "name": "stderr"
        },
        {
          "output_type": "stream",
          "text": [
            "total pl=0.1197999999999998,num trade=27,win rate=0.6296, pl_stability=9.6706, num_buy=13, num_sell=14\n"
          ],
          "name": "stdout"
        },
        {
          "output_type": "stream",
          "text": [
            "\u001b[32m[I 2019-12-08 11:32:35,252]\u001b[0m Finished trial#21 resulted in value: -3.0572. Current best value is -3.2526 with parameters: {'avert_onemine': 0, 'upper_kijun': 72, 'avert_period_kijun': 300, 'avert_val_kijun': -97}.\u001b[0m\n"
          ],
          "name": "stderr"
        },
        {
          "output_type": "stream",
          "text": [
            "total pl=3.0572,num trade=13,win rate=0.7692, pl_stability=7.2578, num_buy=7, num_sell=5\n"
          ],
          "name": "stdout"
        },
        {
          "output_type": "stream",
          "text": [
            "\u001b[32m[I 2019-12-08 11:32:38,655]\u001b[0m Finished trial#22 resulted in value: -1.6737. Current best value is -3.2526 with parameters: {'avert_onemine': 0, 'upper_kijun': 72, 'avert_period_kijun': 300, 'avert_val_kijun': -97}.\u001b[0m\n"
          ],
          "name": "stderr"
        },
        {
          "output_type": "stream",
          "text": [
            "total pl=1.6737,num trade=10,win rate=0.7, pl_stability=6.8599, num_buy=5, num_sell=4\n"
          ],
          "name": "stdout"
        },
        {
          "output_type": "stream",
          "text": [
            "\u001b[32m[I 2019-12-08 11:32:42,049]\u001b[0m Finished trial#23 resulted in value: -2.9646999999999997. Current best value is -3.2526 with parameters: {'avert_onemine': 0, 'upper_kijun': 72, 'avert_period_kijun': 300, 'avert_val_kijun': -97}.\u001b[0m\n"
          ],
          "name": "stderr"
        },
        {
          "output_type": "stream",
          "text": [
            "total pl=2.9646999999999997,num trade=14,win rate=0.7143, pl_stability=8.8764, num_buy=7, num_sell=7\n"
          ],
          "name": "stdout"
        },
        {
          "output_type": "stream",
          "text": [
            "\u001b[32m[I 2019-12-08 11:32:45,488]\u001b[0m Finished trial#24 resulted in value: -1.3948. Current best value is -3.2526 with parameters: {'avert_onemine': 0, 'upper_kijun': 72, 'avert_period_kijun': 300, 'avert_val_kijun': -97}.\u001b[0m\n"
          ],
          "name": "stderr"
        },
        {
          "output_type": "stream",
          "text": [
            "total pl=1.3948,num trade=14,win rate=0.7143, pl_stability=9.1615, num_buy=6, num_sell=7\n"
          ],
          "name": "stdout"
        },
        {
          "output_type": "stream",
          "text": [
            "\u001b[32m[I 2019-12-08 11:32:48,908]\u001b[0m Finished trial#25 resulted in value: -1.4635. Current best value is -3.2526 with parameters: {'avert_onemine': 0, 'upper_kijun': 72, 'avert_period_kijun': 300, 'avert_val_kijun': -97}.\u001b[0m\n"
          ],
          "name": "stderr"
        },
        {
          "output_type": "stream",
          "text": [
            "total pl=1.4635,num trade=4,win rate=0.75, pl_stability=1.604, num_buy=3, num_sell=0\n",
            "total pl=0.7982,num trade=8,win rate=0.625, pl_stability=6.1524, num_buy=3, num_sell=4\n"
          ],
          "name": "stdout"
        },
        {
          "output_type": "stream",
          "text": [
            "\u001b[32m[I 2019-12-08 11:32:52,312]\u001b[0m Finished trial#26 resulted in value: -0.7982. Current best value is -3.2526 with parameters: {'avert_onemine': 0, 'upper_kijun': 72, 'avert_period_kijun': 300, 'avert_val_kijun': -97}.\u001b[0m\n",
            "\u001b[32m[I 2019-12-08 11:32:55,721]\u001b[0m Finished trial#27 resulted in value: 0.20650000000000024. Current best value is -3.2526 with parameters: {'avert_onemine': 0, 'upper_kijun': 72, 'avert_period_kijun': 300, 'avert_val_kijun': -97}.\u001b[0m\n"
          ],
          "name": "stderr"
        },
        {
          "output_type": "stream",
          "text": [
            "total pl=-0.20650000000000024,num trade=19,win rate=0.6316, pl_stability=9.6888, num_buy=9, num_sell=10\n",
            "total pl=3.0572,num trade=13,win rate=0.7692, pl_stability=7.2578, num_buy=7, num_sell=5\n"
          ],
          "name": "stdout"
        },
        {
          "output_type": "stream",
          "text": [
            "\u001b[32m[I 2019-12-08 11:32:59,126]\u001b[0m Finished trial#28 resulted in value: -3.0572. Current best value is -3.2526 with parameters: {'avert_onemine': 0, 'upper_kijun': 72, 'avert_period_kijun': 300, 'avert_val_kijun': -97}.\u001b[0m\n"
          ],
          "name": "stderr"
        },
        {
          "output_type": "stream",
          "text": [
            "total pl=0.18829999999999983,num trade=17,win rate=0.6471, pl_stability=9.6728, num_buy=8, num_sell=9\n"
          ],
          "name": "stdout"
        },
        {
          "output_type": "stream",
          "text": [
            "\u001b[32m[I 2019-12-08 11:33:02,530]\u001b[0m Finished trial#29 resulted in value: -0.18829999999999983. Current best value is -3.2526 with parameters: {'avert_onemine': 0, 'upper_kijun': 72, 'avert_period_kijun': 300, 'avert_val_kijun': -97}.\u001b[0m\n"
          ],
          "name": "stderr"
        },
        {
          "output_type": "stream",
          "text": [
            "total pl=-0.5093000000000003,num trade=41,win rate=0.6829, pl_stability=9.6368, num_buy=20, num_sell=21\n"
          ],
          "name": "stdout"
        },
        {
          "output_type": "stream",
          "text": [
            "\u001b[32m[I 2019-12-08 11:33:05,911]\u001b[0m Finished trial#30 resulted in value: 0.5093000000000003. Current best value is -3.2526 with parameters: {'avert_onemine': 0, 'upper_kijun': 72, 'avert_period_kijun': 300, 'avert_val_kijun': -97}.\u001b[0m\n",
            "\u001b[32m[I 2019-12-08 11:33:09,311]\u001b[0m Finished trial#31 resulted in value: -2.5943000000000005. Current best value is -3.2526 with parameters: {'avert_onemine': 0, 'upper_kijun': 72, 'avert_period_kijun': 300, 'avert_val_kijun': -97}.\u001b[0m\n"
          ],
          "name": "stderr"
        },
        {
          "output_type": "stream",
          "text": [
            "total pl=2.5943000000000005,num trade=12,win rate=0.75, pl_stability=7.0129, num_buy=7, num_sell=4\n"
          ],
          "name": "stdout"
        },
        {
          "output_type": "stream",
          "text": [
            "\u001b[32m[I 2019-12-08 11:33:12,691]\u001b[0m Finished trial#32 resulted in value: -1.4297999999999997. Current best value is -3.2526 with parameters: {'avert_onemine': 0, 'upper_kijun': 72, 'avert_period_kijun': 300, 'avert_val_kijun': -97}.\u001b[0m\n"
          ],
          "name": "stderr"
        },
        {
          "output_type": "stream",
          "text": [
            "total pl=1.4297999999999997,num trade=14,win rate=0.7143, pl_stability=9.0714, num_buy=6, num_sell=7\n"
          ],
          "name": "stdout"
        },
        {
          "output_type": "stream",
          "text": [
            "\u001b[32m[I 2019-12-08 11:33:16,083]\u001b[0m Finished trial#33 resulted in value: -3.5449. Current best value is -3.5449 with parameters: {'avert_onemine': 0, 'upper_kijun': 73, 'avert_period_kijun': 166, 'avert_val_kijun': -87}.\u001b[0m\n"
          ],
          "name": "stderr"
        },
        {
          "output_type": "stream",
          "text": [
            "total pl=3.5449,num trade=14,win rate=0.7857, pl_stability=7.3056, num_buy=7, num_sell=6\n"
          ],
          "name": "stdout"
        },
        {
          "output_type": "stream",
          "text": [
            "\u001b[32m[I 2019-12-08 11:33:19,474]\u001b[0m Finished trial#34 resulted in value: -0.5633. Current best value is -3.5449 with parameters: {'avert_onemine': 0, 'upper_kijun': 73, 'avert_period_kijun': 166, 'avert_val_kijun': -87}.\u001b[0m\n"
          ],
          "name": "stderr"
        },
        {
          "output_type": "stream",
          "text": [
            "total pl=0.5633,num trade=6,win rate=0.5, pl_stability=6.6202, num_buy=2, num_sell=3\n"
          ],
          "name": "stdout"
        },
        {
          "output_type": "stream",
          "text": [
            "\u001b[32m[I 2019-12-08 11:33:22,871]\u001b[0m Finished trial#35 resulted in value: -0.9733. Current best value is -3.5449 with parameters: {'avert_onemine': 0, 'upper_kijun': 73, 'avert_period_kijun': 166, 'avert_val_kijun': -87}.\u001b[0m\n"
          ],
          "name": "stderr"
        },
        {
          "output_type": "stream",
          "text": [
            "total pl=0.9733,num trade=6,win rate=0.5, pl_stability=6.1919, num_buy=2, num_sell=3\n"
          ],
          "name": "stdout"
        },
        {
          "output_type": "stream",
          "text": [
            "\u001b[32m[I 2019-12-08 11:33:26,539]\u001b[0m Finished trial#36 resulted in value: -0.054800000000000126. Current best value is -3.5449 with parameters: {'avert_onemine': 0, 'upper_kijun': 73, 'avert_period_kijun': 166, 'avert_val_kijun': -87}.\u001b[0m\n"
          ],
          "name": "stderr"
        },
        {
          "output_type": "stream",
          "text": [
            "total pl=0.054800000000000126,num trade=14,win rate=0.6429, pl_stability=9.4209, num_buy=6, num_sell=8\n"
          ],
          "name": "stdout"
        },
        {
          "output_type": "stream",
          "text": [
            "\u001b[32m[I 2019-12-08 11:33:29,940]\u001b[0m Finished trial#37 resulted in value: -3.5449. Current best value is -3.5449 with parameters: {'avert_onemine': 0, 'upper_kijun': 73, 'avert_period_kijun': 166, 'avert_val_kijun': -87}.\u001b[0m\n"
          ],
          "name": "stderr"
        },
        {
          "output_type": "stream",
          "text": [
            "total pl=3.5449,num trade=14,win rate=0.7857, pl_stability=7.3056, num_buy=7, num_sell=6\n"
          ],
          "name": "stdout"
        },
        {
          "output_type": "stream",
          "text": [
            "\u001b[32m[I 2019-12-08 11:33:33,331]\u001b[0m Finished trial#38 resulted in value: -1.5209000000000001. Current best value is -3.5449 with parameters: {'avert_onemine': 0, 'upper_kijun': 73, 'avert_period_kijun': 166, 'avert_val_kijun': -87}.\u001b[0m\n"
          ],
          "name": "stderr"
        },
        {
          "output_type": "stream",
          "text": [
            "total pl=1.5209000000000001,num trade=5,win rate=0.8, pl_stability=6.216, num_buy=2, num_sell=2\n"
          ],
          "name": "stdout"
        },
        {
          "output_type": "stream",
          "text": [
            "\u001b[32m[I 2019-12-08 11:33:36,975]\u001b[0m Finished trial#39 resulted in value: 2.0666. Current best value is -3.5449 with parameters: {'avert_onemine': 0, 'upper_kijun': 73, 'avert_period_kijun': 166, 'avert_val_kijun': -87}.\u001b[0m\n"
          ],
          "name": "stderr"
        },
        {
          "output_type": "stream",
          "text": [
            "total pl=-2.0666,num trade=17,win rate=0.5882, pl_stability=7.907, num_buy=9, num_sell=11\n"
          ],
          "name": "stdout"
        },
        {
          "output_type": "stream",
          "text": [
            "\u001b[32m[I 2019-12-08 11:33:40,387]\u001b[0m Finished trial#40 resulted in value: -1.7648. Current best value is -3.5449 with parameters: {'avert_onemine': 0, 'upper_kijun': 73, 'avert_period_kijun': 166, 'avert_val_kijun': -87}.\u001b[0m\n"
          ],
          "name": "stderr"
        },
        {
          "output_type": "stream",
          "text": [
            "total pl=1.7648,num trade=14,win rate=0.7143, pl_stability=8.7842, num_buy=6, num_sell=7\n"
          ],
          "name": "stdout"
        },
        {
          "output_type": "stream",
          "text": [
            "\u001b[32m[I 2019-12-08 11:33:43,807]\u001b[0m Finished trial#41 resulted in value: -3.0572. Current best value is -3.5449 with parameters: {'avert_onemine': 0, 'upper_kijun': 73, 'avert_period_kijun': 166, 'avert_val_kijun': -87}.\u001b[0m\n"
          ],
          "name": "stderr"
        },
        {
          "output_type": "stream",
          "text": [
            "total pl=3.0572,num trade=13,win rate=0.7692, pl_stability=7.2578, num_buy=7, num_sell=5\n"
          ],
          "name": "stdout"
        },
        {
          "output_type": "stream",
          "text": [
            "\u001b[32m[I 2019-12-08 11:33:47,199]\u001b[0m Finished trial#42 resulted in value: -0.5633. Current best value is -3.5449 with parameters: {'avert_onemine': 0, 'upper_kijun': 73, 'avert_period_kijun': 166, 'avert_val_kijun': -87}.\u001b[0m\n"
          ],
          "name": "stderr"
        },
        {
          "output_type": "stream",
          "text": [
            "total pl=0.5633,num trade=6,win rate=0.5, pl_stability=6.6202, num_buy=2, num_sell=3\n"
          ],
          "name": "stdout"
        },
        {
          "output_type": "stream",
          "text": [
            "\u001b[32m[I 2019-12-08 11:33:50,604]\u001b[0m Finished trial#43 resulted in value: -3.5449. Current best value is -3.5449 with parameters: {'avert_onemine': 0, 'upper_kijun': 73, 'avert_period_kijun': 166, 'avert_val_kijun': -87}.\u001b[0m\n"
          ],
          "name": "stderr"
        },
        {
          "output_type": "stream",
          "text": [
            "total pl=3.5449,num trade=14,win rate=0.7857, pl_stability=7.3056, num_buy=7, num_sell=6\n"
          ],
          "name": "stdout"
        },
        {
          "output_type": "stream",
          "text": [
            "\u001b[32m[I 2019-12-08 11:33:54,026]\u001b[0m Finished trial#44 resulted in value: -1.6737. Current best value is -3.5449 with parameters: {'avert_onemine': 0, 'upper_kijun': 73, 'avert_period_kijun': 166, 'avert_val_kijun': -87}.\u001b[0m\n"
          ],
          "name": "stderr"
        },
        {
          "output_type": "stream",
          "text": [
            "total pl=1.6737,num trade=10,win rate=0.7, pl_stability=6.8599, num_buy=5, num_sell=4\n"
          ],
          "name": "stdout"
        },
        {
          "output_type": "stream",
          "text": [
            "\u001b[32m[I 2019-12-08 11:33:57,448]\u001b[0m Finished trial#45 resulted in value: -3.1047000000000002. Current best value is -3.5449 with parameters: {'avert_onemine': 0, 'upper_kijun': 73, 'avert_period_kijun': 166, 'avert_val_kijun': -87}.\u001b[0m\n"
          ],
          "name": "stderr"
        },
        {
          "output_type": "stream",
          "text": [
            "total pl=3.1047000000000002,num trade=14,win rate=0.7143, pl_stability=8.8645, num_buy=7, num_sell=7\n"
          ],
          "name": "stdout"
        },
        {
          "output_type": "stream",
          "text": [
            "\u001b[32m[I 2019-12-08 11:34:00,846]\u001b[0m Finished trial#46 resulted in value: -0.9683. Current best value is -3.5449 with parameters: {'avert_onemine': 0, 'upper_kijun': 73, 'avert_period_kijun': 166, 'avert_val_kijun': -87}.\u001b[0m\n"
          ],
          "name": "stderr"
        },
        {
          "output_type": "stream",
          "text": [
            "total pl=0.9683,num trade=6,win rate=0.5, pl_stability=6.1919, num_buy=2, num_sell=3\n"
          ],
          "name": "stdout"
        },
        {
          "output_type": "stream",
          "text": [
            "\u001b[32m[I 2019-12-08 11:34:04,270]\u001b[0m Finished trial#47 resulted in value: -1.7648. Current best value is -3.5449 with parameters: {'avert_onemine': 0, 'upper_kijun': 73, 'avert_period_kijun': 166, 'avert_val_kijun': -87}.\u001b[0m\n"
          ],
          "name": "stderr"
        },
        {
          "output_type": "stream",
          "text": [
            "total pl=1.7648,num trade=14,win rate=0.7143, pl_stability=8.7842, num_buy=6, num_sell=7\n"
          ],
          "name": "stdout"
        },
        {
          "output_type": "stream",
          "text": [
            "\u001b[32m[I 2019-12-08 11:34:07,681]\u001b[0m Finished trial#48 resulted in value: -3.1047000000000002. Current best value is -3.5449 with parameters: {'avert_onemine': 0, 'upper_kijun': 73, 'avert_period_kijun': 166, 'avert_val_kijun': -87}.\u001b[0m\n"
          ],
          "name": "stderr"
        },
        {
          "output_type": "stream",
          "text": [
            "total pl=3.1047000000000002,num trade=14,win rate=0.7143, pl_stability=8.8645, num_buy=7, num_sell=7\n"
          ],
          "name": "stdout"
        },
        {
          "output_type": "stream",
          "text": [
            "\u001b[32m[I 2019-12-08 11:34:11,131]\u001b[0m Finished trial#49 resulted in value: -0.09480000000000016. Current best value is -3.5449 with parameters: {'avert_onemine': 0, 'upper_kijun': 73, 'avert_period_kijun': 166, 'avert_val_kijun': -87}.\u001b[0m\n"
          ],
          "name": "stderr"
        },
        {
          "output_type": "stream",
          "text": [
            "total pl=0.09480000000000016,num trade=14,win rate=0.6429, pl_stability=9.4193, num_buy=6, num_sell=8\n"
          ],
          "name": "stdout"
        },
        {
          "output_type": "stream",
          "text": [
            "\u001b[32m[I 2019-12-08 11:34:14,556]\u001b[0m Finished trial#50 resulted in value: -2.1714. Current best value is -3.5449 with parameters: {'avert_onemine': 0, 'upper_kijun': 73, 'avert_period_kijun': 166, 'avert_val_kijun': -87}.\u001b[0m\n"
          ],
          "name": "stderr"
        },
        {
          "output_type": "stream",
          "text": [
            "total pl=2.1714,num trade=11,win rate=0.7273, pl_stability=6.9019, num_buy=6, num_sell=4\n"
          ],
          "name": "stdout"
        },
        {
          "output_type": "stream",
          "text": [
            "\u001b[32m[I 2019-12-08 11:34:17,974]\u001b[0m Finished trial#51 resulted in value: -3.1047000000000002. Current best value is -3.5449 with parameters: {'avert_onemine': 0, 'upper_kijun': 73, 'avert_period_kijun': 166, 'avert_val_kijun': -87}.\u001b[0m\n"
          ],
          "name": "stderr"
        },
        {
          "output_type": "stream",
          "text": [
            "total pl=3.1047000000000002,num trade=14,win rate=0.7143, pl_stability=8.8645, num_buy=7, num_sell=7\n"
          ],
          "name": "stdout"
        },
        {
          "output_type": "stream",
          "text": [
            "\u001b[32m[I 2019-12-08 11:34:21,390]\u001b[0m Finished trial#52 resulted in value: -3.2526. Current best value is -3.5449 with parameters: {'avert_onemine': 0, 'upper_kijun': 73, 'avert_period_kijun': 166, 'avert_val_kijun': -87}.\u001b[0m\n"
          ],
          "name": "stderr"
        },
        {
          "output_type": "stream",
          "text": [
            "total pl=3.2526,num trade=15,win rate=0.7333, pl_stability=8.5888, num_buy=7, num_sell=7\n"
          ],
          "name": "stdout"
        },
        {
          "output_type": "stream",
          "text": [
            "\u001b[32m[I 2019-12-08 11:34:24,829]\u001b[0m Finished trial#53 resulted in value: -0.31079999999999997. Current best value is -3.5449 with parameters: {'avert_onemine': 0, 'upper_kijun': 73, 'avert_period_kijun': 166, 'avert_val_kijun': -87}.\u001b[0m\n"
          ],
          "name": "stderr"
        },
        {
          "output_type": "stream",
          "text": [
            "total pl=0.31079999999999997,num trade=5,win rate=0.4, pl_stability=6.2371, num_buy=2, num_sell=2\n"
          ],
          "name": "stdout"
        },
        {
          "output_type": "stream",
          "text": [
            "\u001b[32m[I 2019-12-08 11:34:28,248]\u001b[0m Finished trial#54 resulted in value: -2.5797999999999996. Current best value is -3.5449 with parameters: {'avert_onemine': 0, 'upper_kijun': 73, 'avert_period_kijun': 166, 'avert_val_kijun': -87}.\u001b[0m\n"
          ],
          "name": "stderr"
        },
        {
          "output_type": "stream",
          "text": [
            "total pl=2.5797999999999996,num trade=14,win rate=0.7143, pl_stability=8.9871, num_buy=7, num_sell=7\n"
          ],
          "name": "stdout"
        },
        {
          "output_type": "stream",
          "text": [
            "\u001b[32m[I 2019-12-08 11:34:31,679]\u001b[0m Finished trial#55 resulted in value: -2.5943000000000005. Current best value is -3.5449 with parameters: {'avert_onemine': 0, 'upper_kijun': 73, 'avert_period_kijun': 166, 'avert_val_kijun': -87}.\u001b[0m\n"
          ],
          "name": "stderr"
        },
        {
          "output_type": "stream",
          "text": [
            "total pl=2.5943000000000005,num trade=12,win rate=0.75, pl_stability=7.0129, num_buy=7, num_sell=4\n"
          ],
          "name": "stdout"
        },
        {
          "output_type": "stream",
          "text": [
            "\u001b[32m[I 2019-12-08 11:34:35,084]\u001b[0m Finished trial#56 resulted in value: -0.7982. Current best value is -3.5449 with parameters: {'avert_onemine': 0, 'upper_kijun': 73, 'avert_period_kijun': 166, 'avert_val_kijun': -87}.\u001b[0m\n"
          ],
          "name": "stderr"
        },
        {
          "output_type": "stream",
          "text": [
            "total pl=0.7982,num trade=8,win rate=0.625, pl_stability=6.1524, num_buy=3, num_sell=4\n"
          ],
          "name": "stdout"
        },
        {
          "output_type": "stream",
          "text": [
            "\u001b[32m[I 2019-12-08 11:34:38,502]\u001b[0m Finished trial#57 resulted in value: -0.8948000000000003. Current best value is -3.5449 with parameters: {'avert_onemine': 0, 'upper_kijun': 73, 'avert_period_kijun': 166, 'avert_val_kijun': -87}.\u001b[0m\n"
          ],
          "name": "stderr"
        },
        {
          "output_type": "stream",
          "text": [
            "total pl=0.8948000000000003,num trade=14,win rate=0.7143, pl_stability=9.2016, num_buy=6, num_sell=8\n"
          ],
          "name": "stdout"
        },
        {
          "output_type": "stream",
          "text": [
            "\u001b[32m[I 2019-12-08 11:34:41,917]\u001b[0m Finished trial#58 resulted in value: -0.06339999999999987. Current best value is -3.5449 with parameters: {'avert_onemine': 0, 'upper_kijun': 73, 'avert_period_kijun': 166, 'avert_val_kijun': -87}.\u001b[0m\n"
          ],
          "name": "stderr"
        },
        {
          "output_type": "stream",
          "text": [
            "total pl=0.06339999999999987,num trade=17,win rate=0.6471, pl_stability=9.6708, num_buy=8, num_sell=9\n"
          ],
          "name": "stdout"
        },
        {
          "output_type": "stream",
          "text": [
            "\u001b[32m[I 2019-12-08 11:34:45,338]\u001b[0m Finished trial#59 resulted in value: -3.5449. Current best value is -3.5449 with parameters: {'avert_onemine': 0, 'upper_kijun': 73, 'avert_period_kijun': 166, 'avert_val_kijun': -87}.\u001b[0m\n"
          ],
          "name": "stderr"
        },
        {
          "output_type": "stream",
          "text": [
            "total pl=3.5449,num trade=14,win rate=0.7857, pl_stability=7.3056, num_buy=7, num_sell=6\n"
          ],
          "name": "stdout"
        },
        {
          "output_type": "stream",
          "text": [
            "\u001b[32m[I 2019-12-08 11:34:48,747]\u001b[0m Finished trial#60 resulted in value: -2.8996999999999993. Current best value is -3.5449 with parameters: {'avert_onemine': 0, 'upper_kijun': 73, 'avert_period_kijun': 166, 'avert_val_kijun': -87}.\u001b[0m\n"
          ],
          "name": "stderr"
        },
        {
          "output_type": "stream",
          "text": [
            "total pl=2.8996999999999993,num trade=14,win rate=0.7143, pl_stability=8.8991, num_buy=7, num_sell=7\n"
          ],
          "name": "stdout"
        },
        {
          "output_type": "stream",
          "text": [
            "\u001b[32m[I 2019-12-08 11:34:52,152]\u001b[0m Finished trial#61 resulted in value: -2.6593. Current best value is -3.5449 with parameters: {'avert_onemine': 0, 'upper_kijun': 73, 'avert_period_kijun': 166, 'avert_val_kijun': -87}.\u001b[0m\n"
          ],
          "name": "stderr"
        },
        {
          "output_type": "stream",
          "text": [
            "total pl=2.6593,num trade=12,win rate=0.75, pl_stability=6.9911, num_buy=7, num_sell=4\n"
          ],
          "name": "stdout"
        },
        {
          "output_type": "stream",
          "text": [
            "\u001b[32m[I 2019-12-08 11:34:55,554]\u001b[0m Finished trial#62 resulted in value: -3.2526. Current best value is -3.5449 with parameters: {'avert_onemine': 0, 'upper_kijun': 73, 'avert_period_kijun': 166, 'avert_val_kijun': -87}.\u001b[0m\n"
          ],
          "name": "stderr"
        },
        {
          "output_type": "stream",
          "text": [
            "total pl=3.2526,num trade=15,win rate=0.7333, pl_stability=8.5888, num_buy=7, num_sell=7\n",
            "total pl=1.2210999999999999,num trade=9,win rate=0.6667, pl_stability=6.6749, num_buy=4, num_sell=4\n"
          ],
          "name": "stdout"
        },
        {
          "output_type": "stream",
          "text": [
            "\u001b[32m[I 2019-12-08 11:34:59,001]\u001b[0m Finished trial#63 resulted in value: -1.2210999999999999. Current best value is -3.5449 with parameters: {'avert_onemine': 0, 'upper_kijun': 73, 'avert_period_kijun': 166, 'avert_val_kijun': -87}.\u001b[0m\n",
            "\u001b[32m[I 2019-12-08 11:35:02,431]\u001b[0m Finished trial#64 resulted in value: -1.3948. Current best value is -3.5449 with parameters: {'avert_onemine': 0, 'upper_kijun': 73, 'avert_period_kijun': 166, 'avert_val_kijun': -87}.\u001b[0m\n"
          ],
          "name": "stderr"
        },
        {
          "output_type": "stream",
          "text": [
            "total pl=1.3948,num trade=14,win rate=0.7143, pl_stability=9.1615, num_buy=6, num_sell=7\n"
          ],
          "name": "stdout"
        },
        {
          "output_type": "stream",
          "text": [
            "\u001b[32m[I 2019-12-08 11:35:05,846]\u001b[0m Finished trial#65 resulted in value: -3.5449. Current best value is -3.5449 with parameters: {'avert_onemine': 0, 'upper_kijun': 73, 'avert_period_kijun': 166, 'avert_val_kijun': -87}.\u001b[0m\n"
          ],
          "name": "stderr"
        },
        {
          "output_type": "stream",
          "text": [
            "total pl=3.5449,num trade=14,win rate=0.7857, pl_stability=7.3056, num_buy=7, num_sell=6\n"
          ],
          "name": "stdout"
        },
        {
          "output_type": "stream",
          "text": [
            "\u001b[32m[I 2019-12-08 11:35:09,254]\u001b[0m Finished trial#66 resulted in value: -3.2526. Current best value is -3.5449 with parameters: {'avert_onemine': 0, 'upper_kijun': 73, 'avert_period_kijun': 166, 'avert_val_kijun': -87}.\u001b[0m\n"
          ],
          "name": "stderr"
        },
        {
          "output_type": "stream",
          "text": [
            "total pl=3.2526,num trade=15,win rate=0.7333, pl_stability=8.5888, num_buy=7, num_sell=7\n"
          ],
          "name": "stdout"
        },
        {
          "output_type": "stream",
          "text": [
            "\u001b[32m[I 2019-12-08 11:35:12,656]\u001b[0m Finished trial#67 resulted in value: -0.5633. Current best value is -3.5449 with parameters: {'avert_onemine': 0, 'upper_kijun': 73, 'avert_period_kijun': 166, 'avert_val_kijun': -87}.\u001b[0m\n"
          ],
          "name": "stderr"
        },
        {
          "output_type": "stream",
          "text": [
            "total pl=0.5633,num trade=6,win rate=0.5, pl_stability=6.6202, num_buy=2, num_sell=3\n"
          ],
          "name": "stdout"
        },
        {
          "output_type": "stream",
          "text": [
            "\u001b[32m[I 2019-12-08 11:35:16,066]\u001b[0m Finished trial#68 resulted in value: -2.1714. Current best value is -3.5449 with parameters: {'avert_onemine': 0, 'upper_kijun': 73, 'avert_period_kijun': 166, 'avert_val_kijun': -87}.\u001b[0m\n"
          ],
          "name": "stderr"
        },
        {
          "output_type": "stream",
          "text": [
            "total pl=2.1714,num trade=11,win rate=0.7273, pl_stability=6.904, num_buy=6, num_sell=4\n"
          ],
          "name": "stdout"
        },
        {
          "output_type": "stream",
          "text": [
            "\u001b[32m[I 2019-12-08 11:35:19,483]\u001b[0m Finished trial#69 resulted in value: -2.9646999999999997. Current best value is -3.5449 with parameters: {'avert_onemine': 0, 'upper_kijun': 73, 'avert_period_kijun': 166, 'avert_val_kijun': -87}.\u001b[0m\n"
          ],
          "name": "stderr"
        },
        {
          "output_type": "stream",
          "text": [
            "total pl=2.9646999999999997,num trade=14,win rate=0.7143, pl_stability=8.8764, num_buy=7, num_sell=7\n"
          ],
          "name": "stdout"
        },
        {
          "output_type": "stream",
          "text": [
            "\u001b[32m[I 2019-12-08 11:35:22,899]\u001b[0m Finished trial#70 resulted in value: -0.9683. Current best value is -3.5449 with parameters: {'avert_onemine': 0, 'upper_kijun': 73, 'avert_period_kijun': 166, 'avert_val_kijun': -87}.\u001b[0m\n"
          ],
          "name": "stderr"
        },
        {
          "output_type": "stream",
          "text": [
            "total pl=0.9683,num trade=6,win rate=0.5, pl_stability=6.1919, num_buy=2, num_sell=3\n",
            "total pl=3.5449,num trade=14,win rate=0.7857, pl_stability=7.3056, num_buy=7, num_sell=6\n"
          ],
          "name": "stdout"
        },
        {
          "output_type": "stream",
          "text": [
            "\u001b[32m[I 2019-12-08 11:35:26,296]\u001b[0m Finished trial#71 resulted in value: -3.5449. Current best value is -3.5449 with parameters: {'avert_onemine': 0, 'upper_kijun': 73, 'avert_period_kijun': 166, 'avert_val_kijun': -87}.\u001b[0m\n",
            "\u001b[32m[I 2019-12-08 11:35:29,723]\u001b[0m Finished trial#72 resulted in value: -3.0572. Current best value is -3.5449 with parameters: {'avert_onemine': 0, 'upper_kijun': 73, 'avert_period_kijun': 166, 'avert_val_kijun': -87}.\u001b[0m\n"
          ],
          "name": "stderr"
        },
        {
          "output_type": "stream",
          "text": [
            "total pl=3.0572,num trade=13,win rate=0.7692, pl_stability=7.2578, num_buy=7, num_sell=5\n"
          ],
          "name": "stdout"
        },
        {
          "output_type": "stream",
          "text": [
            "\u001b[32m[I 2019-12-08 11:35:33,172]\u001b[0m Finished trial#73 resulted in value: -2.8996999999999993. Current best value is -3.5449 with parameters: {'avert_onemine': 0, 'upper_kijun': 73, 'avert_period_kijun': 166, 'avert_val_kijun': -87}.\u001b[0m\n"
          ],
          "name": "stderr"
        },
        {
          "output_type": "stream",
          "text": [
            "total pl=2.8996999999999993,num trade=14,win rate=0.7143, pl_stability=8.8991, num_buy=7, num_sell=7\n"
          ],
          "name": "stdout"
        },
        {
          "output_type": "stream",
          "text": [
            "\u001b[32m[I 2019-12-08 11:35:36,627]\u001b[0m Finished trial#74 resulted in value: -3.5449. Current best value is -3.5449 with parameters: {'avert_onemine': 0, 'upper_kijun': 73, 'avert_period_kijun': 166, 'avert_val_kijun': -87}.\u001b[0m\n"
          ],
          "name": "stderr"
        },
        {
          "output_type": "stream",
          "text": [
            "total pl=3.5449,num trade=14,win rate=0.7857, pl_stability=7.3056, num_buy=7, num_sell=6\n"
          ],
          "name": "stdout"
        },
        {
          "output_type": "stream",
          "text": [
            "\u001b[32m[I 2019-12-08 11:35:40,039]\u001b[0m Finished trial#75 resulted in value: -2.6593. Current best value is -3.5449 with parameters: {'avert_onemine': 0, 'upper_kijun': 73, 'avert_period_kijun': 166, 'avert_val_kijun': -87}.\u001b[0m\n"
          ],
          "name": "stderr"
        },
        {
          "output_type": "stream",
          "text": [
            "total pl=2.6593,num trade=12,win rate=0.75, pl_stability=6.9911, num_buy=7, num_sell=4\n"
          ],
          "name": "stdout"
        },
        {
          "output_type": "stream",
          "text": [
            "\u001b[32m[I 2019-12-08 11:35:43,447]\u001b[0m Finished trial#76 resulted in value: -1.3948. Current best value is -3.5449 with parameters: {'avert_onemine': 0, 'upper_kijun': 73, 'avert_period_kijun': 166, 'avert_val_kijun': -87}.\u001b[0m\n"
          ],
          "name": "stderr"
        },
        {
          "output_type": "stream",
          "text": [
            "total pl=1.3948,num trade=14,win rate=0.7143, pl_stability=9.1615, num_buy=6, num_sell=7\n"
          ],
          "name": "stdout"
        },
        {
          "output_type": "stream",
          "text": [
            "\u001b[32m[I 2019-12-08 11:35:46,860]\u001b[0m Finished trial#77 resulted in value: -3.5449. Current best value is -3.5449 with parameters: {'avert_onemine': 0, 'upper_kijun': 73, 'avert_period_kijun': 166, 'avert_val_kijun': -87}.\u001b[0m\n"
          ],
          "name": "stderr"
        },
        {
          "output_type": "stream",
          "text": [
            "total pl=3.5449,num trade=14,win rate=0.7857, pl_stability=7.3056, num_buy=7, num_sell=6\n"
          ],
          "name": "stdout"
        },
        {
          "output_type": "stream",
          "text": [
            "\u001b[32m[I 2019-12-08 11:35:50,278]\u001b[0m Finished trial#78 resulted in value: -0.7982. Current best value is -3.5449 with parameters: {'avert_onemine': 0, 'upper_kijun': 73, 'avert_period_kijun': 166, 'avert_val_kijun': -87}.\u001b[0m\n"
          ],
          "name": "stderr"
        },
        {
          "output_type": "stream",
          "text": [
            "total pl=0.7982,num trade=8,win rate=0.625, pl_stability=6.1524, num_buy=3, num_sell=4\n"
          ],
          "name": "stdout"
        },
        {
          "output_type": "stream",
          "text": [
            "\u001b[32m[I 2019-12-08 11:35:53,673]\u001b[0m Finished trial#79 resulted in value: -0.11479999999999987. Current best value is -3.5449 with parameters: {'avert_onemine': 0, 'upper_kijun': 73, 'avert_period_kijun': 166, 'avert_val_kijun': -87}.\u001b[0m\n"
          ],
          "name": "stderr"
        },
        {
          "output_type": "stream",
          "text": [
            "total pl=0.11479999999999987,num trade=14,win rate=0.5714, pl_stability=9.5634, num_buy=6, num_sell=8\n",
            "total pl=2.1714,num trade=11,win rate=0.7273, pl_stability=6.9019, num_buy=6, num_sell=4\n"
          ],
          "name": "stdout"
        },
        {
          "output_type": "stream",
          "text": [
            "\u001b[32m[I 2019-12-08 11:35:57,116]\u001b[0m Finished trial#80 resulted in value: -2.1714. Current best value is -3.5449 with parameters: {'avert_onemine': 0, 'upper_kijun': 73, 'avert_period_kijun': 166, 'avert_val_kijun': -87}.\u001b[0m\n",
            "\u001b[32m[I 2019-12-08 11:36:00,541]\u001b[0m Finished trial#81 resulted in value: -3.5449. Current best value is -3.5449 with parameters: {'avert_onemine': 0, 'upper_kijun': 73, 'avert_period_kijun': 166, 'avert_val_kijun': -87}.\u001b[0m\n"
          ],
          "name": "stderr"
        },
        {
          "output_type": "stream",
          "text": [
            "total pl=3.5449,num trade=14,win rate=0.7857, pl_stability=7.3056, num_buy=7, num_sell=6\n"
          ],
          "name": "stdout"
        },
        {
          "output_type": "stream",
          "text": [
            "\u001b[32m[I 2019-12-08 11:36:04,012]\u001b[0m Finished trial#82 resulted in value: -3.0572. Current best value is -3.5449 with parameters: {'avert_onemine': 0, 'upper_kijun': 73, 'avert_period_kijun': 166, 'avert_val_kijun': -87}.\u001b[0m\n"
          ],
          "name": "stderr"
        },
        {
          "output_type": "stream",
          "text": [
            "total pl=3.0572,num trade=13,win rate=0.7692, pl_stability=7.2578, num_buy=7, num_sell=5\n"
          ],
          "name": "stdout"
        },
        {
          "output_type": "stream",
          "text": [
            "\u001b[32m[I 2019-12-08 11:36:07,440]\u001b[0m Finished trial#83 resulted in value: -2.9646999999999997. Current best value is -3.5449 with parameters: {'avert_onemine': 0, 'upper_kijun': 73, 'avert_period_kijun': 166, 'avert_val_kijun': -87}.\u001b[0m\n"
          ],
          "name": "stderr"
        },
        {
          "output_type": "stream",
          "text": [
            "total pl=2.9646999999999997,num trade=14,win rate=0.7143, pl_stability=8.8764, num_buy=7, num_sell=7\n"
          ],
          "name": "stdout"
        },
        {
          "output_type": "stream",
          "text": [
            "\u001b[32m[I 2019-12-08 11:36:10,856]\u001b[0m Finished trial#84 resulted in value: -2.1714. Current best value is -3.5449 with parameters: {'avert_onemine': 0, 'upper_kijun': 73, 'avert_period_kijun': 166, 'avert_val_kijun': -87}.\u001b[0m\n"
          ],
          "name": "stderr"
        },
        {
          "output_type": "stream",
          "text": [
            "total pl=2.1714,num trade=11,win rate=0.7273, pl_stability=6.904, num_buy=6, num_sell=4\n"
          ],
          "name": "stdout"
        },
        {
          "output_type": "stream",
          "text": [
            "\u001b[32m[I 2019-12-08 11:36:14,262]\u001b[0m Finished trial#85 resulted in value: -1.4059. Current best value is -3.5449 with parameters: {'avert_onemine': 0, 'upper_kijun': 73, 'avert_period_kijun': 166, 'avert_val_kijun': -87}.\u001b[0m\n"
          ],
          "name": "stderr"
        },
        {
          "output_type": "stream",
          "text": [
            "total pl=1.4059,num trade=5,win rate=0.6, pl_stability=5.9246, num_buy=2, num_sell=2\n"
          ],
          "name": "stdout"
        },
        {
          "output_type": "stream",
          "text": [
            "\u001b[32m[I 2019-12-08 11:36:17,680]\u001b[0m Finished trial#86 resulted in value: -1.7648. Current best value is -3.5449 with parameters: {'avert_onemine': 0, 'upper_kijun': 73, 'avert_period_kijun': 166, 'avert_val_kijun': -87}.\u001b[0m\n"
          ],
          "name": "stderr"
        },
        {
          "output_type": "stream",
          "text": [
            "total pl=1.7648,num trade=14,win rate=0.7143, pl_stability=8.7842, num_buy=6, num_sell=7\n"
          ],
          "name": "stdout"
        },
        {
          "output_type": "stream",
          "text": [
            "\u001b[32m[I 2019-12-08 11:36:21,140]\u001b[0m Finished trial#87 resulted in value: -3.5449. Current best value is -3.5449 with parameters: {'avert_onemine': 0, 'upper_kijun': 73, 'avert_period_kijun': 166, 'avert_val_kijun': -87}.\u001b[0m\n"
          ],
          "name": "stderr"
        },
        {
          "output_type": "stream",
          "text": [
            "total pl=3.5449,num trade=14,win rate=0.7857, pl_stability=7.3056, num_buy=7, num_sell=6\n",
            "total pl=2.9997,num trade=14,win rate=0.7143, pl_stability=8.8553, num_buy=7, num_sell=7\n"
          ],
          "name": "stdout"
        },
        {
          "output_type": "stream",
          "text": [
            "\u001b[32m[I 2019-12-08 11:36:24,574]\u001b[0m Finished trial#88 resulted in value: -2.9997. Current best value is -3.5449 with parameters: {'avert_onemine': 0, 'upper_kijun': 73, 'avert_period_kijun': 166, 'avert_val_kijun': -87}.\u001b[0m\n"
          ],
          "name": "stderr"
        },
        {
          "output_type": "stream",
          "text": [
            "total pl=-1.3117000000000003,num trade=6,win rate=0.5, pl_stability=4.5486, num_buy=3, num_sell=4\n"
          ],
          "name": "stdout"
        },
        {
          "output_type": "stream",
          "text": [
            "\u001b[32m[I 2019-12-08 11:36:28,201]\u001b[0m Finished trial#89 resulted in value: 1.3117000000000003. Current best value is -3.5449 with parameters: {'avert_onemine': 0, 'upper_kijun': 73, 'avert_period_kijun': 166, 'avert_val_kijun': -87}.\u001b[0m\n"
          ],
          "name": "stderr"
        },
        {
          "output_type": "stream",
          "text": [
            "total pl=0.09770000000000015,num trade=15,win rate=0.6667, pl_stability=9.4679, num_buy=7, num_sell=8\n"
          ],
          "name": "stdout"
        },
        {
          "output_type": "stream",
          "text": [
            "\u001b[32m[I 2019-12-08 11:36:31,605]\u001b[0m Finished trial#90 resulted in value: -0.09770000000000015. Current best value is -3.5449 with parameters: {'avert_onemine': 0, 'upper_kijun': 73, 'avert_period_kijun': 166, 'avert_val_kijun': -87}.\u001b[0m\n",
            "\u001b[32m[I 2019-12-08 11:36:35,010]\u001b[0m Finished trial#91 resulted in value: -3.5449. Current best value is -3.5449 with parameters: {'avert_onemine': 0, 'upper_kijun': 73, 'avert_period_kijun': 166, 'avert_val_kijun': -87}.\u001b[0m\n"
          ],
          "name": "stderr"
        },
        {
          "output_type": "stream",
          "text": [
            "total pl=3.5449,num trade=14,win rate=0.7857, pl_stability=7.3056, num_buy=7, num_sell=6\n"
          ],
          "name": "stdout"
        },
        {
          "output_type": "stream",
          "text": [
            "\u001b[32m[I 2019-12-08 11:36:38,405]\u001b[0m Finished trial#92 resulted in value: -2.5943000000000005. Current best value is -3.5449 with parameters: {'avert_onemine': 0, 'upper_kijun': 73, 'avert_period_kijun': 166, 'avert_val_kijun': -87}.\u001b[0m\n"
          ],
          "name": "stderr"
        },
        {
          "output_type": "stream",
          "text": [
            "total pl=2.5943000000000005,num trade=12,win rate=0.75, pl_stability=7.0129, num_buy=7, num_sell=4\n"
          ],
          "name": "stdout"
        },
        {
          "output_type": "stream",
          "text": [
            "\u001b[32m[I 2019-12-08 11:36:41,798]\u001b[0m Finished trial#93 resulted in value: -1.6737. Current best value is -3.5449 with parameters: {'avert_onemine': 0, 'upper_kijun': 73, 'avert_period_kijun': 166, 'avert_val_kijun': -87}.\u001b[0m\n"
          ],
          "name": "stderr"
        },
        {
          "output_type": "stream",
          "text": [
            "total pl=1.6737,num trade=10,win rate=0.7, pl_stability=6.8599, num_buy=5, num_sell=4\n"
          ],
          "name": "stdout"
        },
        {
          "output_type": "stream",
          "text": [
            "\u001b[32m[I 2019-12-08 11:36:45,203]\u001b[0m Finished trial#94 resulted in value: -2.5797999999999996. Current best value is -3.5449 with parameters: {'avert_onemine': 0, 'upper_kijun': 73, 'avert_period_kijun': 166, 'avert_val_kijun': -87}.\u001b[0m\n"
          ],
          "name": "stderr"
        },
        {
          "output_type": "stream",
          "text": [
            "total pl=2.5797999999999996,num trade=14,win rate=0.7143, pl_stability=8.9871, num_buy=7, num_sell=7\n"
          ],
          "name": "stdout"
        },
        {
          "output_type": "stream",
          "text": [
            "\u001b[32m[I 2019-12-08 11:36:48,597]\u001b[0m Finished trial#95 resulted in value: -3.5449. Current best value is -3.5449 with parameters: {'avert_onemine': 0, 'upper_kijun': 73, 'avert_period_kijun': 166, 'avert_val_kijun': -87}.\u001b[0m\n"
          ],
          "name": "stderr"
        },
        {
          "output_type": "stream",
          "text": [
            "total pl=3.5449,num trade=14,win rate=0.7857, pl_stability=7.3056, num_buy=7, num_sell=6\n"
          ],
          "name": "stdout"
        },
        {
          "output_type": "stream",
          "text": [
            "\u001b[32m[I 2019-12-08 11:36:51,999]\u001b[0m Finished trial#96 resulted in value: -2.9997. Current best value is -3.5449 with parameters: {'avert_onemine': 0, 'upper_kijun': 73, 'avert_period_kijun': 166, 'avert_val_kijun': -87}.\u001b[0m\n"
          ],
          "name": "stderr"
        },
        {
          "output_type": "stream",
          "text": [
            "total pl=2.9997,num trade=14,win rate=0.7143, pl_stability=8.8553, num_buy=7, num_sell=7\n"
          ],
          "name": "stdout"
        },
        {
          "output_type": "stream",
          "text": [
            "\u001b[32m[I 2019-12-08 11:36:55,407]\u001b[0m Finished trial#97 resulted in value: -2.6593. Current best value is -3.5449 with parameters: {'avert_onemine': 0, 'upper_kijun': 73, 'avert_period_kijun': 166, 'avert_val_kijun': -87}.\u001b[0m\n"
          ],
          "name": "stderr"
        },
        {
          "output_type": "stream",
          "text": [
            "total pl=2.6593,num trade=12,win rate=0.75, pl_stability=6.9911, num_buy=7, num_sell=4\n"
          ],
          "name": "stdout"
        },
        {
          "output_type": "stream",
          "text": [
            "\u001b[32m[I 2019-12-08 11:36:58,795]\u001b[0m Finished trial#98 resulted in value: -1.1848000000000003. Current best value is -3.5449 with parameters: {'avert_onemine': 0, 'upper_kijun': 73, 'avert_period_kijun': 166, 'avert_val_kijun': -87}.\u001b[0m\n"
          ],
          "name": "stderr"
        },
        {
          "output_type": "stream",
          "text": [
            "total pl=1.1848000000000003,num trade=14,win rate=0.7143, pl_stability=9.1947, num_buy=6, num_sell=8\n"
          ],
          "name": "stdout"
        },
        {
          "output_type": "stream",
          "text": [
            "\u001b[32m[I 2019-12-08 11:37:02,192]\u001b[0m Finished trial#99 resulted in value: -0.7982. Current best value is -3.5449 with parameters: {'avert_onemine': 0, 'upper_kijun': 73, 'avert_period_kijun': 166, 'avert_val_kijun': -87}.\u001b[0m\n"
          ],
          "name": "stderr"
        },
        {
          "output_type": "stream",
          "text": [
            "total pl=0.7982,num trade=8,win rate=0.625, pl_stability=6.1524, num_buy=3, num_sell=4\n"
          ],
          "name": "stdout"
        },
        {
          "output_type": "stream",
          "text": [
            "\u001b[32m[I 2019-12-08 11:37:05,579]\u001b[0m Finished trial#100 resulted in value: -3.1047000000000002. Current best value is -3.5449 with parameters: {'avert_onemine': 0, 'upper_kijun': 73, 'avert_period_kijun': 166, 'avert_val_kijun': -87}.\u001b[0m\n"
          ],
          "name": "stderr"
        },
        {
          "output_type": "stream",
          "text": [
            "total pl=3.1047000000000002,num trade=14,win rate=0.7143, pl_stability=8.8645, num_buy=7, num_sell=7\n"
          ],
          "name": "stdout"
        },
        {
          "output_type": "stream",
          "text": [
            "\u001b[32m[I 2019-12-08 11:37:08,980]\u001b[0m Finished trial#101 resulted in value: -3.5449. Current best value is -3.5449 with parameters: {'avert_onemine': 0, 'upper_kijun': 73, 'avert_period_kijun': 166, 'avert_val_kijun': -87}.\u001b[0m\n"
          ],
          "name": "stderr"
        },
        {
          "output_type": "stream",
          "text": [
            "total pl=3.5449,num trade=14,win rate=0.7857, pl_stability=7.3056, num_buy=7, num_sell=6\n"
          ],
          "name": "stdout"
        },
        {
          "output_type": "stream",
          "text": [
            "\u001b[32m[I 2019-12-08 11:37:12,413]\u001b[0m Finished trial#102 resulted in value: -3.5449. Current best value is -3.5449 with parameters: {'avert_onemine': 0, 'upper_kijun': 73, 'avert_period_kijun': 166, 'avert_val_kijun': -87}.\u001b[0m\n"
          ],
          "name": "stderr"
        },
        {
          "output_type": "stream",
          "text": [
            "total pl=3.5449,num trade=14,win rate=0.7857, pl_stability=7.3056, num_buy=7, num_sell=6\n"
          ],
          "name": "stdout"
        },
        {
          "output_type": "stream",
          "text": [
            "\u001b[32m[I 2019-12-08 11:37:15,805]\u001b[0m Finished trial#103 resulted in value: -2.1714. Current best value is -3.5449 with parameters: {'avert_onemine': 0, 'upper_kijun': 73, 'avert_period_kijun': 166, 'avert_val_kijun': -87}.\u001b[0m\n"
          ],
          "name": "stderr"
        },
        {
          "output_type": "stream",
          "text": [
            "total pl=2.1714,num trade=11,win rate=0.7273, pl_stability=6.9019, num_buy=6, num_sell=4\n"
          ],
          "name": "stdout"
        },
        {
          "output_type": "stream",
          "text": [
            "\u001b[32m[I 2019-12-08 11:37:19,196]\u001b[0m Finished trial#104 resulted in value: -2.8996999999999993. Current best value is -3.5449 with parameters: {'avert_onemine': 0, 'upper_kijun': 73, 'avert_period_kijun': 166, 'avert_val_kijun': -87}.\u001b[0m\n"
          ],
          "name": "stderr"
        },
        {
          "output_type": "stream",
          "text": [
            "total pl=2.8996999999999993,num trade=14,win rate=0.7143, pl_stability=8.8991, num_buy=7, num_sell=7\n"
          ],
          "name": "stdout"
        },
        {
          "output_type": "stream",
          "text": [
            "\u001b[32m[I 2019-12-08 11:37:22,588]\u001b[0m Finished trial#105 resulted in value: -2.5943000000000005. Current best value is -3.5449 with parameters: {'avert_onemine': 0, 'upper_kijun': 73, 'avert_period_kijun': 166, 'avert_val_kijun': -87}.\u001b[0m\n"
          ],
          "name": "stderr"
        },
        {
          "output_type": "stream",
          "text": [
            "total pl=2.5943000000000005,num trade=12,win rate=0.75, pl_stability=7.0129, num_buy=7, num_sell=4\n"
          ],
          "name": "stdout"
        },
        {
          "output_type": "stream",
          "text": [
            "\u001b[32m[I 2019-12-08 11:37:25,961]\u001b[0m Finished trial#106 resulted in value: -2.9997. Current best value is -3.5449 with parameters: {'avert_onemine': 0, 'upper_kijun': 73, 'avert_period_kijun': 166, 'avert_val_kijun': -87}.\u001b[0m\n"
          ],
          "name": "stderr"
        },
        {
          "output_type": "stream",
          "text": [
            "total pl=2.9997,num trade=14,win rate=0.7143, pl_stability=8.8553, num_buy=7, num_sell=7\n"
          ],
          "name": "stdout"
        },
        {
          "output_type": "stream",
          "text": [
            "\u001b[32m[I 2019-12-08 11:37:29,354]\u001b[0m Finished trial#107 resulted in value: -1.7648. Current best value is -3.5449 with parameters: {'avert_onemine': 0, 'upper_kijun': 73, 'avert_period_kijun': 166, 'avert_val_kijun': -87}.\u001b[0m\n"
          ],
          "name": "stderr"
        },
        {
          "output_type": "stream",
          "text": [
            "total pl=1.7648,num trade=14,win rate=0.7143, pl_stability=8.7842, num_buy=6, num_sell=7\n"
          ],
          "name": "stdout"
        },
        {
          "output_type": "stream",
          "text": [
            "\u001b[32m[I 2019-12-08 11:37:32,796]\u001b[0m Finished trial#108 resulted in value: -3.2526. Current best value is -3.5449 with parameters: {'avert_onemine': 0, 'upper_kijun': 73, 'avert_period_kijun': 166, 'avert_val_kijun': -87}.\u001b[0m\n"
          ],
          "name": "stderr"
        },
        {
          "output_type": "stream",
          "text": [
            "total pl=3.2526,num trade=15,win rate=0.7333, pl_stability=8.5888, num_buy=7, num_sell=7\n"
          ],
          "name": "stdout"
        },
        {
          "output_type": "stream",
          "text": [
            "\u001b[32m[I 2019-12-08 11:37:36,199]\u001b[0m Finished trial#109 resulted in value: -2.1714. Current best value is -3.5449 with parameters: {'avert_onemine': 0, 'upper_kijun': 73, 'avert_period_kijun': 166, 'avert_val_kijun': -87}.\u001b[0m\n"
          ],
          "name": "stderr"
        },
        {
          "output_type": "stream",
          "text": [
            "total pl=2.1714,num trade=11,win rate=0.7273, pl_stability=6.904, num_buy=6, num_sell=4\n"
          ],
          "name": "stdout"
        },
        {
          "output_type": "stream",
          "text": [
            "\u001b[32m[I 2019-12-08 11:37:39,618]\u001b[0m Finished trial#110 resulted in value: 0.6195999999999999. Current best value is -3.5449 with parameters: {'avert_onemine': 0, 'upper_kijun': 73, 'avert_period_kijun': 166, 'avert_val_kijun': -87}.\u001b[0m\n"
          ],
          "name": "stderr"
        },
        {
          "output_type": "stream",
          "text": [
            "total pl=-0.6195999999999999,num trade=36,win rate=0.6111, pl_stability=9.737, num_buy=18, num_sell=18\n"
          ],
          "name": "stdout"
        },
        {
          "output_type": "stream",
          "text": [
            "\u001b[32m[I 2019-12-08 11:37:43,007]\u001b[0m Finished trial#111 resulted in value: -3.5449. Current best value is -3.5449 with parameters: {'avert_onemine': 0, 'upper_kijun': 73, 'avert_period_kijun': 166, 'avert_val_kijun': -87}.\u001b[0m\n"
          ],
          "name": "stderr"
        },
        {
          "output_type": "stream",
          "text": [
            "total pl=3.5449,num trade=14,win rate=0.7857, pl_stability=7.3056, num_buy=7, num_sell=6\n"
          ],
          "name": "stdout"
        },
        {
          "output_type": "stream",
          "text": [
            "\u001b[32m[I 2019-12-08 11:37:46,392]\u001b[0m Finished trial#112 resulted in value: -3.0572. Current best value is -3.5449 with parameters: {'avert_onemine': 0, 'upper_kijun': 73, 'avert_period_kijun': 166, 'avert_val_kijun': -87}.\u001b[0m\n"
          ],
          "name": "stderr"
        },
        {
          "output_type": "stream",
          "text": [
            "total pl=3.0572,num trade=13,win rate=0.7692, pl_stability=7.2578, num_buy=7, num_sell=5\n"
          ],
          "name": "stdout"
        },
        {
          "output_type": "stream",
          "text": [
            "\u001b[32m[I 2019-12-08 11:37:49,809]\u001b[0m Finished trial#113 resulted in value: -1.2210999999999999. Current best value is -3.5449 with parameters: {'avert_onemine': 0, 'upper_kijun': 73, 'avert_period_kijun': 166, 'avert_val_kijun': -87}.\u001b[0m\n"
          ],
          "name": "stderr"
        },
        {
          "output_type": "stream",
          "text": [
            "total pl=1.2210999999999999,num trade=9,win rate=0.6667, pl_stability=6.6749, num_buy=4, num_sell=4\n",
            "total pl=2.8996999999999993,num trade=14,win rate=0.7143, pl_stability=8.8991, num_buy=7, num_sell=7\n"
          ],
          "name": "stdout"
        },
        {
          "output_type": "stream",
          "text": [
            "\u001b[32m[I 2019-12-08 11:37:53,231]\u001b[0m Finished trial#114 resulted in value: -2.8996999999999993. Current best value is -3.5449 with parameters: {'avert_onemine': 0, 'upper_kijun': 73, 'avert_period_kijun': 166, 'avert_val_kijun': -87}.\u001b[0m\n",
            "\u001b[32m[I 2019-12-08 11:37:56,618]\u001b[0m Finished trial#115 resulted in value: -3.5449. Current best value is -3.5449 with parameters: {'avert_onemine': 0, 'upper_kijun': 73, 'avert_period_kijun': 166, 'avert_val_kijun': -87}.\u001b[0m\n"
          ],
          "name": "stderr"
        },
        {
          "output_type": "stream",
          "text": [
            "total pl=3.5449,num trade=14,win rate=0.7857, pl_stability=7.3056, num_buy=7, num_sell=6\n"
          ],
          "name": "stdout"
        },
        {
          "output_type": "stream",
          "text": [
            "\u001b[32m[I 2019-12-08 11:38:00,034]\u001b[0m Finished trial#116 resulted in value: -3.1047000000000002. Current best value is -3.5449 with parameters: {'avert_onemine': 0, 'upper_kijun': 73, 'avert_period_kijun': 166, 'avert_val_kijun': -87}.\u001b[0m\n"
          ],
          "name": "stderr"
        },
        {
          "output_type": "stream",
          "text": [
            "total pl=3.1047000000000002,num trade=14,win rate=0.7143, pl_stability=8.8645, num_buy=7, num_sell=7\n"
          ],
          "name": "stdout"
        },
        {
          "output_type": "stream",
          "text": [
            "\u001b[32m[I 2019-12-08 11:38:03,432]\u001b[0m Finished trial#117 resulted in value: -2.1714. Current best value is -3.5449 with parameters: {'avert_onemine': 0, 'upper_kijun': 73, 'avert_period_kijun': 166, 'avert_val_kijun': -87}.\u001b[0m\n"
          ],
          "name": "stderr"
        },
        {
          "output_type": "stream",
          "text": [
            "total pl=2.1714,num trade=11,win rate=0.7273, pl_stability=6.904, num_buy=6, num_sell=4\n"
          ],
          "name": "stdout"
        },
        {
          "output_type": "stream",
          "text": [
            "\u001b[32m[I 2019-12-08 11:38:06,824]\u001b[0m Finished trial#118 resulted in value: -1.4297999999999997. Current best value is -3.5449 with parameters: {'avert_onemine': 0, 'upper_kijun': 73, 'avert_period_kijun': 166, 'avert_val_kijun': -87}.\u001b[0m\n"
          ],
          "name": "stderr"
        },
        {
          "output_type": "stream",
          "text": [
            "total pl=1.4297999999999997,num trade=14,win rate=0.7143, pl_stability=9.0714, num_buy=6, num_sell=7\n"
          ],
          "name": "stdout"
        },
        {
          "output_type": "stream",
          "text": [
            "\u001b[32m[I 2019-12-08 11:38:10,234]\u001b[0m Finished trial#119 resulted in value: -2.5943000000000005. Current best value is -3.5449 with parameters: {'avert_onemine': 0, 'upper_kijun': 73, 'avert_period_kijun': 166, 'avert_val_kijun': -87}.\u001b[0m\n"
          ],
          "name": "stderr"
        },
        {
          "output_type": "stream",
          "text": [
            "total pl=2.5943000000000005,num trade=12,win rate=0.75, pl_stability=7.0129, num_buy=7, num_sell=4\n"
          ],
          "name": "stdout"
        },
        {
          "output_type": "stream",
          "text": [
            "\u001b[32m[I 2019-12-08 11:38:13,687]\u001b[0m Finished trial#120 resulted in value: -1.6737. Current best value is -3.5449 with parameters: {'avert_onemine': 0, 'upper_kijun': 73, 'avert_period_kijun': 166, 'avert_val_kijun': -87}.\u001b[0m\n"
          ],
          "name": "stderr"
        },
        {
          "output_type": "stream",
          "text": [
            "total pl=1.6737,num trade=10,win rate=0.7, pl_stability=6.8599, num_buy=5, num_sell=4\n",
            "total pl=3.5449,num trade=14,win rate=0.7857, pl_stability=7.3056, num_buy=7, num_sell=6\n"
          ],
          "name": "stdout"
        },
        {
          "output_type": "stream",
          "text": [
            "\u001b[32m[I 2019-12-08 11:38:17,142]\u001b[0m Finished trial#121 resulted in value: -3.5449. Current best value is -3.5449 with parameters: {'avert_onemine': 0, 'upper_kijun': 73, 'avert_period_kijun': 166, 'avert_val_kijun': -87}.\u001b[0m\n"
          ],
          "name": "stderr"
        },
        {
          "output_type": "stream",
          "text": [
            "total pl=2.9997,num trade=14,win rate=0.7143, pl_stability=8.8553, num_buy=7, num_sell=7\n"
          ],
          "name": "stdout"
        },
        {
          "output_type": "stream",
          "text": [
            "\u001b[32m[I 2019-12-08 11:38:20,582]\u001b[0m Finished trial#122 resulted in value: -2.9997. Current best value is -3.5449 with parameters: {'avert_onemine': 0, 'upper_kijun': 73, 'avert_period_kijun': 166, 'avert_val_kijun': -87}.\u001b[0m\n"
          ],
          "name": "stderr"
        },
        {
          "output_type": "stream",
          "text": [
            "total pl=3.2526,num trade=15,win rate=0.7333, pl_stability=8.5888, num_buy=7, num_sell=7\n"
          ],
          "name": "stdout"
        },
        {
          "output_type": "stream",
          "text": [
            "\u001b[32m[I 2019-12-08 11:38:23,983]\u001b[0m Finished trial#123 resulted in value: -3.2526. Current best value is -3.5449 with parameters: {'avert_onemine': 0, 'upper_kijun': 73, 'avert_period_kijun': 166, 'avert_val_kijun': -87}.\u001b[0m\n"
          ],
          "name": "stderr"
        },
        {
          "output_type": "stream",
          "text": [
            "total pl=2.6593,num trade=12,win rate=0.75, pl_stability=6.9911, num_buy=7, num_sell=4\n"
          ],
          "name": "stdout"
        },
        {
          "output_type": "stream",
          "text": [
            "\u001b[32m[I 2019-12-08 11:38:27,423]\u001b[0m Finished trial#124 resulted in value: -2.6593. Current best value is -3.5449 with parameters: {'avert_onemine': 0, 'upper_kijun': 73, 'avert_period_kijun': 166, 'avert_val_kijun': -87}.\u001b[0m\n"
          ],
          "name": "stderr"
        },
        {
          "output_type": "stream",
          "text": [
            "total pl=3.5449,num trade=14,win rate=0.7857, pl_stability=7.3056, num_buy=7, num_sell=6\n"
          ],
          "name": "stdout"
        },
        {
          "output_type": "stream",
          "text": [
            "\u001b[32m[I 2019-12-08 11:38:30,841]\u001b[0m Finished trial#125 resulted in value: -3.5449. Current best value is -3.5449 with parameters: {'avert_onemine': 0, 'upper_kijun': 73, 'avert_period_kijun': 166, 'avert_val_kijun': -87}.\u001b[0m\n"
          ],
          "name": "stderr"
        },
        {
          "output_type": "stream",
          "text": [
            "total pl=2.9646999999999997,num trade=14,win rate=0.7143, pl_stability=8.8764, num_buy=7, num_sell=7\n"
          ],
          "name": "stdout"
        },
        {
          "output_type": "stream",
          "text": [
            "\u001b[32m[I 2019-12-08 11:38:34,262]\u001b[0m Finished trial#126 resulted in value: -2.9646999999999997. Current best value is -3.5449 with parameters: {'avert_onemine': 0, 'upper_kijun': 73, 'avert_period_kijun': 166, 'avert_val_kijun': -87}.\u001b[0m\n"
          ],
          "name": "stderr"
        },
        {
          "output_type": "stream",
          "text": [
            "total pl=3.0572,num trade=13,win rate=0.7692, pl_stability=7.2578, num_buy=7, num_sell=5\n"
          ],
          "name": "stdout"
        },
        {
          "output_type": "stream",
          "text": [
            "\u001b[32m[I 2019-12-08 11:38:37,681]\u001b[0m Finished trial#127 resulted in value: -3.0572. Current best value is -3.5449 with parameters: {'avert_onemine': 0, 'upper_kijun': 73, 'avert_period_kijun': 166, 'avert_val_kijun': -87}.\u001b[0m\n",
            "\u001b[32m[I 2019-12-08 11:38:41,122]\u001b[0m Finished trial#128 resulted in value: -0.5633. Current best value is -3.5449 with parameters: {'avert_onemine': 0, 'upper_kijun': 73, 'avert_period_kijun': 166, 'avert_val_kijun': -87}.\u001b[0m\n"
          ],
          "name": "stderr"
        },
        {
          "output_type": "stream",
          "text": [
            "total pl=0.5633,num trade=6,win rate=0.5, pl_stability=6.6202, num_buy=2, num_sell=3\n"
          ],
          "name": "stdout"
        },
        {
          "output_type": "stream",
          "text": [
            "\u001b[32m[I 2019-12-08 11:38:44,525]\u001b[0m Finished trial#129 resulted in value: -2.5797999999999996. Current best value is -3.5449 with parameters: {'avert_onemine': 0, 'upper_kijun': 73, 'avert_period_kijun': 166, 'avert_val_kijun': -87}.\u001b[0m\n"
          ],
          "name": "stderr"
        },
        {
          "output_type": "stream",
          "text": [
            "total pl=2.5797999999999996,num trade=14,win rate=0.7143, pl_stability=8.9871, num_buy=7, num_sell=7\n"
          ],
          "name": "stdout"
        },
        {
          "output_type": "stream",
          "text": [
            "\u001b[32m[I 2019-12-08 11:38:47,934]\u001b[0m Finished trial#130 resulted in value: -3.1047000000000002. Current best value is -3.5449 with parameters: {'avert_onemine': 0, 'upper_kijun': 73, 'avert_period_kijun': 166, 'avert_val_kijun': -87}.\u001b[0m\n"
          ],
          "name": "stderr"
        },
        {
          "output_type": "stream",
          "text": [
            "total pl=3.1047000000000002,num trade=14,win rate=0.7143, pl_stability=8.8645, num_buy=7, num_sell=7\n"
          ],
          "name": "stdout"
        },
        {
          "output_type": "stream",
          "text": [
            "\u001b[32m[I 2019-12-08 11:38:51,359]\u001b[0m Finished trial#131 resulted in value: -3.5449. Current best value is -3.5449 with parameters: {'avert_onemine': 0, 'upper_kijun': 73, 'avert_period_kijun': 166, 'avert_val_kijun': -87}.\u001b[0m\n"
          ],
          "name": "stderr"
        },
        {
          "output_type": "stream",
          "text": [
            "total pl=3.5449,num trade=14,win rate=0.7857, pl_stability=7.3056, num_buy=7, num_sell=6\n"
          ],
          "name": "stdout"
        },
        {
          "output_type": "stream",
          "text": [
            "\u001b[32m[I 2019-12-08 11:38:54,768]\u001b[0m Finished trial#132 resulted in value: -3.5449. Current best value is -3.5449 with parameters: {'avert_onemine': 0, 'upper_kijun': 73, 'avert_period_kijun': 166, 'avert_val_kijun': -87}.\u001b[0m\n"
          ],
          "name": "stderr"
        },
        {
          "output_type": "stream",
          "text": [
            "total pl=3.5449,num trade=14,win rate=0.7857, pl_stability=7.3056, num_buy=7, num_sell=6\n"
          ],
          "name": "stdout"
        },
        {
          "output_type": "stream",
          "text": [
            "\u001b[32m[I 2019-12-08 11:38:58,202]\u001b[0m Finished trial#133 resulted in value: -2.5943000000000005. Current best value is -3.5449 with parameters: {'avert_onemine': 0, 'upper_kijun': 73, 'avert_period_kijun': 166, 'avert_val_kijun': -87}.\u001b[0m\n"
          ],
          "name": "stderr"
        },
        {
          "output_type": "stream",
          "text": [
            "total pl=2.5943000000000005,num trade=12,win rate=0.75, pl_stability=7.0129, num_buy=7, num_sell=4\n"
          ],
          "name": "stdout"
        },
        {
          "output_type": "stream",
          "text": [
            "\u001b[32m[I 2019-12-08 11:39:01,618]\u001b[0m Finished trial#134 resulted in value: -2.1714. Current best value is -3.5449 with parameters: {'avert_onemine': 0, 'upper_kijun': 73, 'avert_period_kijun': 166, 'avert_val_kijun': -87}.\u001b[0m\n"
          ],
          "name": "stderr"
        },
        {
          "output_type": "stream",
          "text": [
            "total pl=2.1714,num trade=11,win rate=0.7273, pl_stability=6.9019, num_buy=6, num_sell=4\n"
          ],
          "name": "stdout"
        },
        {
          "output_type": "stream",
          "text": [
            "\u001b[32m[I 2019-12-08 11:39:05,049]\u001b[0m Finished trial#135 resulted in value: -2.9997. Current best value is -3.5449 with parameters: {'avert_onemine': 0, 'upper_kijun': 73, 'avert_period_kijun': 166, 'avert_val_kijun': -87}.\u001b[0m\n"
          ],
          "name": "stderr"
        },
        {
          "output_type": "stream",
          "text": [
            "total pl=2.9997,num trade=14,win rate=0.7143, pl_stability=8.8553, num_buy=7, num_sell=7\n"
          ],
          "name": "stdout"
        },
        {
          "output_type": "stream",
          "text": [
            "\u001b[32m[I 2019-12-08 11:39:08,493]\u001b[0m Finished trial#136 resulted in value: -2.6593. Current best value is -3.5449 with parameters: {'avert_onemine': 0, 'upper_kijun': 73, 'avert_period_kijun': 166, 'avert_val_kijun': -87}.\u001b[0m\n"
          ],
          "name": "stderr"
        },
        {
          "output_type": "stream",
          "text": [
            "total pl=2.6593,num trade=12,win rate=0.75, pl_stability=6.9911, num_buy=7, num_sell=4\n"
          ],
          "name": "stdout"
        },
        {
          "output_type": "stream",
          "text": [
            "\u001b[32m[I 2019-12-08 11:39:11,924]\u001b[0m Finished trial#137 resulted in value: -3.5449. Current best value is -3.5449 with parameters: {'avert_onemine': 0, 'upper_kijun': 73, 'avert_period_kijun': 166, 'avert_val_kijun': -87}.\u001b[0m\n"
          ],
          "name": "stderr"
        },
        {
          "output_type": "stream",
          "text": [
            "total pl=3.5449,num trade=14,win rate=0.7857, pl_stability=7.3056, num_buy=7, num_sell=6\n"
          ],
          "name": "stdout"
        },
        {
          "output_type": "stream",
          "text": [
            "\u001b[32m[I 2019-12-08 11:39:15,371]\u001b[0m Finished trial#138 resulted in value: -2.8996999999999993. Current best value is -3.5449 with parameters: {'avert_onemine': 0, 'upper_kijun': 73, 'avert_period_kijun': 166, 'avert_val_kijun': -87}.\u001b[0m\n"
          ],
          "name": "stderr"
        },
        {
          "output_type": "stream",
          "text": [
            "total pl=2.8996999999999993,num trade=14,win rate=0.7143, pl_stability=8.8991, num_buy=7, num_sell=7\n"
          ],
          "name": "stdout"
        },
        {
          "output_type": "stream",
          "text": [
            "\u001b[32m[I 2019-12-08 11:39:18,803]\u001b[0m Finished trial#139 resulted in value: -1.2210999999999999. Current best value is -3.5449 with parameters: {'avert_onemine': 0, 'upper_kijun': 73, 'avert_period_kijun': 166, 'avert_val_kijun': -87}.\u001b[0m\n"
          ],
          "name": "stderr"
        },
        {
          "output_type": "stream",
          "text": [
            "total pl=1.2210999999999999,num trade=9,win rate=0.6667, pl_stability=6.6749, num_buy=4, num_sell=4\n"
          ],
          "name": "stdout"
        },
        {
          "output_type": "stream",
          "text": [
            "\u001b[32m[I 2019-12-08 11:39:22,252]\u001b[0m Finished trial#140 resulted in value: -3.1047000000000002. Current best value is -3.5449 with parameters: {'avert_onemine': 0, 'upper_kijun': 73, 'avert_period_kijun': 166, 'avert_val_kijun': -87}.\u001b[0m\n"
          ],
          "name": "stderr"
        },
        {
          "output_type": "stream",
          "text": [
            "total pl=3.1047000000000002,num trade=14,win rate=0.7143, pl_stability=8.8645, num_buy=7, num_sell=7\n"
          ],
          "name": "stdout"
        },
        {
          "output_type": "stream",
          "text": [
            "\u001b[32m[I 2019-12-08 11:39:25,684]\u001b[0m Finished trial#141 resulted in value: -3.5449. Current best value is -3.5449 with parameters: {'avert_onemine': 0, 'upper_kijun': 73, 'avert_period_kijun': 166, 'avert_val_kijun': -87}.\u001b[0m\n"
          ],
          "name": "stderr"
        },
        {
          "output_type": "stream",
          "text": [
            "total pl=3.5449,num trade=14,win rate=0.7857, pl_stability=7.3056, num_buy=7, num_sell=6\n"
          ],
          "name": "stdout"
        },
        {
          "output_type": "stream",
          "text": [
            "\u001b[32m[I 2019-12-08 11:39:29,118]\u001b[0m Finished trial#142 resulted in value: -2.5943000000000005. Current best value is -3.5449 with parameters: {'avert_onemine': 0, 'upper_kijun': 73, 'avert_period_kijun': 166, 'avert_val_kijun': -87}.\u001b[0m\n"
          ],
          "name": "stderr"
        },
        {
          "output_type": "stream",
          "text": [
            "total pl=2.5943000000000005,num trade=12,win rate=0.75, pl_stability=7.0129, num_buy=7, num_sell=4\n"
          ],
          "name": "stdout"
        },
        {
          "output_type": "stream",
          "text": [
            "\u001b[32m[I 2019-12-08 11:39:32,580]\u001b[0m Finished trial#143 resulted in value: -3.2526. Current best value is -3.5449 with parameters: {'avert_onemine': 0, 'upper_kijun': 73, 'avert_period_kijun': 166, 'avert_val_kijun': -87}.\u001b[0m\n"
          ],
          "name": "stderr"
        },
        {
          "output_type": "stream",
          "text": [
            "total pl=3.2526,num trade=15,win rate=0.7333, pl_stability=8.5888, num_buy=7, num_sell=7\n"
          ],
          "name": "stdout"
        },
        {
          "output_type": "stream",
          "text": [
            "\u001b[32m[I 2019-12-08 11:39:36,067]\u001b[0m Finished trial#144 resulted in value: -2.9646999999999997. Current best value is -3.5449 with parameters: {'avert_onemine': 0, 'upper_kijun': 73, 'avert_period_kijun': 166, 'avert_val_kijun': -87}.\u001b[0m\n"
          ],
          "name": "stderr"
        },
        {
          "output_type": "stream",
          "text": [
            "total pl=2.9646999999999997,num trade=14,win rate=0.7143, pl_stability=8.8764, num_buy=7, num_sell=7\n"
          ],
          "name": "stdout"
        },
        {
          "output_type": "stream",
          "text": [
            "\u001b[32m[I 2019-12-08 11:39:39,521]\u001b[0m Finished trial#145 resulted in value: -2.1714. Current best value is -3.5449 with parameters: {'avert_onemine': 0, 'upper_kijun': 73, 'avert_period_kijun': 166, 'avert_val_kijun': -87}.\u001b[0m\n"
          ],
          "name": "stderr"
        },
        {
          "output_type": "stream",
          "text": [
            "total pl=2.1714,num trade=11,win rate=0.7273, pl_stability=6.904, num_buy=6, num_sell=4\n"
          ],
          "name": "stdout"
        },
        {
          "output_type": "stream",
          "text": [
            "\u001b[32m[I 2019-12-08 11:39:42,968]\u001b[0m Finished trial#146 resulted in value: -3.0572. Current best value is -3.5449 with parameters: {'avert_onemine': 0, 'upper_kijun': 73, 'avert_period_kijun': 166, 'avert_val_kijun': -87}.\u001b[0m\n"
          ],
          "name": "stderr"
        },
        {
          "output_type": "stream",
          "text": [
            "total pl=3.0572,num trade=13,win rate=0.7692, pl_stability=7.2578, num_buy=7, num_sell=5\n"
          ],
          "name": "stdout"
        },
        {
          "output_type": "stream",
          "text": [
            "\u001b[32m[I 2019-12-08 11:39:46,440]\u001b[0m Finished trial#147 resulted in value: -3.2526. Current best value is -3.5449 with parameters: {'avert_onemine': 0, 'upper_kijun': 73, 'avert_period_kijun': 166, 'avert_val_kijun': -87}.\u001b[0m\n"
          ],
          "name": "stderr"
        },
        {
          "output_type": "stream",
          "text": [
            "total pl=3.2526,num trade=15,win rate=0.7333, pl_stability=8.5888, num_buy=7, num_sell=7\n"
          ],
          "name": "stdout"
        },
        {
          "output_type": "stream",
          "text": [
            "\u001b[32m[I 2019-12-08 11:39:49,905]\u001b[0m Finished trial#148 resulted in value: -2.6593. Current best value is -3.5449 with parameters: {'avert_onemine': 0, 'upper_kijun': 73, 'avert_period_kijun': 166, 'avert_val_kijun': -87}.\u001b[0m\n"
          ],
          "name": "stderr"
        },
        {
          "output_type": "stream",
          "text": [
            "total pl=2.6593,num trade=12,win rate=0.75, pl_stability=6.9911, num_buy=7, num_sell=4\n"
          ],
          "name": "stdout"
        },
        {
          "output_type": "stream",
          "text": [
            "\u001b[32m[I 2019-12-08 11:39:53,343]\u001b[0m Finished trial#149 resulted in value: -2.1714. Current best value is -3.5449 with parameters: {'avert_onemine': 0, 'upper_kijun': 73, 'avert_period_kijun': 166, 'avert_val_kijun': -87}.\u001b[0m\n"
          ],
          "name": "stderr"
        },
        {
          "output_type": "stream",
          "text": [
            "total pl=2.1714,num trade=11,win rate=0.7273, pl_stability=6.9019, num_buy=6, num_sell=4\n"
          ],
          "name": "stdout"
        },
        {
          "output_type": "stream",
          "text": [
            "\u001b[32m[I 2019-12-08 11:39:56,759]\u001b[0m Finished trial#150 resulted in value: -1.4297999999999997. Current best value is -3.5449 with parameters: {'avert_onemine': 0, 'upper_kijun': 73, 'avert_period_kijun': 166, 'avert_val_kijun': -87}.\u001b[0m\n"
          ],
          "name": "stderr"
        },
        {
          "output_type": "stream",
          "text": [
            "total pl=1.4297999999999997,num trade=14,win rate=0.7143, pl_stability=9.0714, num_buy=6, num_sell=7\n"
          ],
          "name": "stdout"
        },
        {
          "output_type": "stream",
          "text": [
            "\u001b[32m[I 2019-12-08 11:40:00,242]\u001b[0m Finished trial#151 resulted in value: -3.5449. Current best value is -3.5449 with parameters: {'avert_onemine': 0, 'upper_kijun': 73, 'avert_period_kijun': 166, 'avert_val_kijun': -87}.\u001b[0m\n"
          ],
          "name": "stderr"
        },
        {
          "output_type": "stream",
          "text": [
            "total pl=3.5449,num trade=14,win rate=0.7857, pl_stability=7.3056, num_buy=7, num_sell=6\n"
          ],
          "name": "stdout"
        },
        {
          "output_type": "stream",
          "text": [
            "\u001b[32m[I 2019-12-08 11:40:03,670]\u001b[0m Finished trial#152 resulted in value: -3.5449. Current best value is -3.5449 with parameters: {'avert_onemine': 0, 'upper_kijun': 73, 'avert_period_kijun': 166, 'avert_val_kijun': -87}.\u001b[0m\n"
          ],
          "name": "stderr"
        },
        {
          "output_type": "stream",
          "text": [
            "total pl=3.5449,num trade=14,win rate=0.7857, pl_stability=7.3056, num_buy=7, num_sell=6\n"
          ],
          "name": "stdout"
        },
        {
          "output_type": "stream",
          "text": [
            "\u001b[32m[I 2019-12-08 11:40:07,103]\u001b[0m Finished trial#153 resulted in value: -2.9646999999999997. Current best value is -3.5449 with parameters: {'avert_onemine': 0, 'upper_kijun': 73, 'avert_period_kijun': 166, 'avert_val_kijun': -87}.\u001b[0m\n"
          ],
          "name": "stderr"
        },
        {
          "output_type": "stream",
          "text": [
            "total pl=2.9646999999999997,num trade=14,win rate=0.7143, pl_stability=8.8764, num_buy=7, num_sell=7\n"
          ],
          "name": "stdout"
        },
        {
          "output_type": "stream",
          "text": [
            "\u001b[32m[I 2019-12-08 11:40:10,561]\u001b[0m Finished trial#154 resulted in value: -3.1047000000000002. Current best value is -3.5449 with parameters: {'avert_onemine': 0, 'upper_kijun': 73, 'avert_period_kijun': 166, 'avert_val_kijun': -87}.\u001b[0m\n"
          ],
          "name": "stderr"
        },
        {
          "output_type": "stream",
          "text": [
            "total pl=3.1047000000000002,num trade=14,win rate=0.7143, pl_stability=8.8645, num_buy=7, num_sell=7\n"
          ],
          "name": "stdout"
        },
        {
          "output_type": "stream",
          "text": [
            "\u001b[32m[I 2019-12-08 11:40:13,978]\u001b[0m Finished trial#155 resulted in value: -2.5797999999999996. Current best value is -3.5449 with parameters: {'avert_onemine': 0, 'upper_kijun': 73, 'avert_period_kijun': 166, 'avert_val_kijun': -87}.\u001b[0m\n"
          ],
          "name": "stderr"
        },
        {
          "output_type": "stream",
          "text": [
            "total pl=2.5797999999999996,num trade=14,win rate=0.7143, pl_stability=8.9871, num_buy=7, num_sell=7\n"
          ],
          "name": "stdout"
        },
        {
          "output_type": "stream",
          "text": [
            "\u001b[32m[I 2019-12-08 11:40:17,397]\u001b[0m Finished trial#156 resulted in value: -3.0572. Current best value is -3.5449 with parameters: {'avert_onemine': 0, 'upper_kijun': 73, 'avert_period_kijun': 166, 'avert_val_kijun': -87}.\u001b[0m\n"
          ],
          "name": "stderr"
        },
        {
          "output_type": "stream",
          "text": [
            "total pl=3.0572,num trade=13,win rate=0.7692, pl_stability=7.2578, num_buy=7, num_sell=5\n"
          ],
          "name": "stdout"
        },
        {
          "output_type": "stream",
          "text": [
            "\u001b[32m[I 2019-12-08 11:40:20,796]\u001b[0m Finished trial#157 resulted in value: -2.5943000000000005. Current best value is -3.5449 with parameters: {'avert_onemine': 0, 'upper_kijun': 73, 'avert_period_kijun': 166, 'avert_val_kijun': -87}.\u001b[0m\n"
          ],
          "name": "stderr"
        },
        {
          "output_type": "stream",
          "text": [
            "total pl=2.5943000000000005,num trade=12,win rate=0.75, pl_stability=7.0129, num_buy=7, num_sell=4\n"
          ],
          "name": "stdout"
        },
        {
          "output_type": "stream",
          "text": [
            "\u001b[32m[I 2019-12-08 11:40:24,418]\u001b[0m Finished trial#158 resulted in value: -2.9997. Current best value is -3.5449 with parameters: {'avert_onemine': 0, 'upper_kijun': 73, 'avert_period_kijun': 166, 'avert_val_kijun': -87}.\u001b[0m\n"
          ],
          "name": "stderr"
        },
        {
          "output_type": "stream",
          "text": [
            "total pl=2.9997,num trade=14,win rate=0.7143, pl_stability=8.8553, num_buy=7, num_sell=7\n"
          ],
          "name": "stdout"
        },
        {
          "output_type": "stream",
          "text": [
            "\u001b[32m[I 2019-12-08 11:40:27,907]\u001b[0m Finished trial#159 resulted in value: -1.6737. Current best value is -3.5449 with parameters: {'avert_onemine': 0, 'upper_kijun': 73, 'avert_period_kijun': 166, 'avert_val_kijun': -87}.\u001b[0m\n"
          ],
          "name": "stderr"
        },
        {
          "output_type": "stream",
          "text": [
            "total pl=1.6737,num trade=10,win rate=0.7, pl_stability=6.8599, num_buy=5, num_sell=4\n"
          ],
          "name": "stdout"
        },
        {
          "output_type": "stream",
          "text": [
            "\u001b[32m[I 2019-12-08 11:40:31,327]\u001b[0m Finished trial#160 resulted in value: -3.2526. Current best value is -3.5449 with parameters: {'avert_onemine': 0, 'upper_kijun': 73, 'avert_period_kijun': 166, 'avert_val_kijun': -87}.\u001b[0m\n"
          ],
          "name": "stderr"
        },
        {
          "output_type": "stream",
          "text": [
            "total pl=3.2526,num trade=15,win rate=0.7333, pl_stability=8.5888, num_buy=7, num_sell=7\n"
          ],
          "name": "stdout"
        },
        {
          "output_type": "stream",
          "text": [
            "\u001b[32m[I 2019-12-08 11:40:34,722]\u001b[0m Finished trial#161 resulted in value: -3.0572. Current best value is -3.5449 with parameters: {'avert_onemine': 0, 'upper_kijun': 73, 'avert_period_kijun': 166, 'avert_val_kijun': -87}.\u001b[0m\n"
          ],
          "name": "stderr"
        },
        {
          "output_type": "stream",
          "text": [
            "total pl=3.0572,num trade=13,win rate=0.7692, pl_stability=7.2578, num_buy=7, num_sell=5\n"
          ],
          "name": "stdout"
        },
        {
          "output_type": "stream",
          "text": [
            "\u001b[32m[I 2019-12-08 11:40:38,176]\u001b[0m Finished trial#162 resulted in value: -3.5449. Current best value is -3.5449 with parameters: {'avert_onemine': 0, 'upper_kijun': 73, 'avert_period_kijun': 166, 'avert_val_kijun': -87}.\u001b[0m\n"
          ],
          "name": "stderr"
        },
        {
          "output_type": "stream",
          "text": [
            "total pl=3.5449,num trade=14,win rate=0.7857, pl_stability=7.3056, num_buy=7, num_sell=6\n"
          ],
          "name": "stdout"
        },
        {
          "output_type": "stream",
          "text": [
            "\u001b[32m[I 2019-12-08 11:40:41,652]\u001b[0m Finished trial#163 resulted in value: -2.6593. Current best value is -3.5449 with parameters: {'avert_onemine': 0, 'upper_kijun': 73, 'avert_period_kijun': 166, 'avert_val_kijun': -87}.\u001b[0m\n"
          ],
          "name": "stderr"
        },
        {
          "output_type": "stream",
          "text": [
            "total pl=2.6593,num trade=12,win rate=0.75, pl_stability=6.9911, num_buy=7, num_sell=4\n"
          ],
          "name": "stdout"
        },
        {
          "output_type": "stream",
          "text": [
            "\u001b[32m[I 2019-12-08 11:40:45,124]\u001b[0m Finished trial#164 resulted in value: -3.1047000000000002. Current best value is -3.5449 with parameters: {'avert_onemine': 0, 'upper_kijun': 73, 'avert_period_kijun': 166, 'avert_val_kijun': -87}.\u001b[0m\n"
          ],
          "name": "stderr"
        },
        {
          "output_type": "stream",
          "text": [
            "total pl=3.1047000000000002,num trade=14,win rate=0.7143, pl_stability=8.8645, num_buy=7, num_sell=7\n"
          ],
          "name": "stdout"
        },
        {
          "output_type": "stream",
          "text": [
            "\u001b[32m[I 2019-12-08 11:40:48,551]\u001b[0m Finished trial#165 resulted in value: -2.1714. Current best value is -3.5449 with parameters: {'avert_onemine': 0, 'upper_kijun': 73, 'avert_period_kijun': 166, 'avert_val_kijun': -87}.\u001b[0m\n"
          ],
          "name": "stderr"
        },
        {
          "output_type": "stream",
          "text": [
            "total pl=2.1714,num trade=11,win rate=0.7273, pl_stability=6.904, num_buy=6, num_sell=4\n"
          ],
          "name": "stdout"
        },
        {
          "output_type": "stream",
          "text": [
            "\u001b[32m[I 2019-12-08 11:40:51,993]\u001b[0m Finished trial#166 resulted in value: -3.5449. Current best value is -3.5449 with parameters: {'avert_onemine': 0, 'upper_kijun': 73, 'avert_period_kijun': 166, 'avert_val_kijun': -87}.\u001b[0m\n"
          ],
          "name": "stderr"
        },
        {
          "output_type": "stream",
          "text": [
            "total pl=3.5449,num trade=14,win rate=0.7857, pl_stability=7.3056, num_buy=7, num_sell=6\n"
          ],
          "name": "stdout"
        },
        {
          "output_type": "stream",
          "text": [
            "\u001b[32m[I 2019-12-08 11:40:55,450]\u001b[0m Finished trial#167 resulted in value: -2.9997. Current best value is -3.5449 with parameters: {'avert_onemine': 0, 'upper_kijun': 73, 'avert_period_kijun': 166, 'avert_val_kijun': -87}.\u001b[0m\n"
          ],
          "name": "stderr"
        },
        {
          "output_type": "stream",
          "text": [
            "total pl=2.9997,num trade=14,win rate=0.7143, pl_stability=8.8553, num_buy=7, num_sell=7\n"
          ],
          "name": "stdout"
        },
        {
          "output_type": "stream",
          "text": [
            "\u001b[32m[I 2019-12-08 11:40:58,887]\u001b[0m Finished trial#168 resulted in value: -3.5449. Current best value is -3.5449 with parameters: {'avert_onemine': 0, 'upper_kijun': 73, 'avert_period_kijun': 166, 'avert_val_kijun': -87}.\u001b[0m\n"
          ],
          "name": "stderr"
        },
        {
          "output_type": "stream",
          "text": [
            "total pl=3.5449,num trade=14,win rate=0.7857, pl_stability=7.3056, num_buy=7, num_sell=6\n"
          ],
          "name": "stdout"
        },
        {
          "output_type": "stream",
          "text": [
            "\u001b[32m[I 2019-12-08 11:41:02,310]\u001b[0m Finished trial#169 resulted in value: -2.5943000000000005. Current best value is -3.5449 with parameters: {'avert_onemine': 0, 'upper_kijun': 73, 'avert_period_kijun': 166, 'avert_val_kijun': -87}.\u001b[0m\n"
          ],
          "name": "stderr"
        },
        {
          "output_type": "stream",
          "text": [
            "total pl=2.5943000000000005,num trade=12,win rate=0.75, pl_stability=7.0129, num_buy=7, num_sell=4\n"
          ],
          "name": "stdout"
        },
        {
          "output_type": "stream",
          "text": [
            "\u001b[32m[I 2019-12-08 11:41:05,775]\u001b[0m Finished trial#170 resulted in value: -2.8996999999999993. Current best value is -3.5449 with parameters: {'avert_onemine': 0, 'upper_kijun': 73, 'avert_period_kijun': 166, 'avert_val_kijun': -87}.\u001b[0m\n"
          ],
          "name": "stderr"
        },
        {
          "output_type": "stream",
          "text": [
            "total pl=2.8996999999999993,num trade=14,win rate=0.7143, pl_stability=8.8991, num_buy=7, num_sell=7\n"
          ],
          "name": "stdout"
        },
        {
          "output_type": "stream",
          "text": [
            "\u001b[32m[I 2019-12-08 11:41:09,220]\u001b[0m Finished trial#171 resulted in value: -3.2526. Current best value is -3.5449 with parameters: {'avert_onemine': 0, 'upper_kijun': 73, 'avert_period_kijun': 166, 'avert_val_kijun': -87}.\u001b[0m\n"
          ],
          "name": "stderr"
        },
        {
          "output_type": "stream",
          "text": [
            "total pl=3.2526,num trade=15,win rate=0.7333, pl_stability=8.5888, num_buy=7, num_sell=7\n"
          ],
          "name": "stdout"
        },
        {
          "output_type": "stream",
          "text": [
            "\u001b[32m[I 2019-12-08 11:41:12,658]\u001b[0m Finished trial#172 resulted in value: -3.0572. Current best value is -3.5449 with parameters: {'avert_onemine': 0, 'upper_kijun': 73, 'avert_period_kijun': 166, 'avert_val_kijun': -87}.\u001b[0m\n"
          ],
          "name": "stderr"
        },
        {
          "output_type": "stream",
          "text": [
            "total pl=3.0572,num trade=13,win rate=0.7692, pl_stability=7.2578, num_buy=7, num_sell=5\n"
          ],
          "name": "stdout"
        },
        {
          "output_type": "stream",
          "text": [
            "\u001b[32m[I 2019-12-08 11:41:16,121]\u001b[0m Finished trial#173 resulted in value: -2.6593. Current best value is -3.5449 with parameters: {'avert_onemine': 0, 'upper_kijun': 73, 'avert_period_kijun': 166, 'avert_val_kijun': -87}.\u001b[0m\n"
          ],
          "name": "stderr"
        },
        {
          "output_type": "stream",
          "text": [
            "total pl=2.6593,num trade=12,win rate=0.75, pl_stability=6.9911, num_buy=7, num_sell=4\n"
          ],
          "name": "stdout"
        },
        {
          "output_type": "stream",
          "text": [
            "\u001b[32m[I 2019-12-08 11:41:19,586]\u001b[0m Finished trial#174 resulted in value: -3.2526. Current best value is -3.5449 with parameters: {'avert_onemine': 0, 'upper_kijun': 73, 'avert_period_kijun': 166, 'avert_val_kijun': -87}.\u001b[0m\n"
          ],
          "name": "stderr"
        },
        {
          "output_type": "stream",
          "text": [
            "total pl=3.2526,num trade=15,win rate=0.7333, pl_stability=8.5888, num_buy=7, num_sell=7\n"
          ],
          "name": "stdout"
        },
        {
          "output_type": "stream",
          "text": [
            "\u001b[32m[I 2019-12-08 11:41:23,053]\u001b[0m Finished trial#175 resulted in value: -2.9646999999999997. Current best value is -3.5449 with parameters: {'avert_onemine': 0, 'upper_kijun': 73, 'avert_period_kijun': 166, 'avert_val_kijun': -87}.\u001b[0m\n"
          ],
          "name": "stderr"
        },
        {
          "output_type": "stream",
          "text": [
            "total pl=2.9646999999999997,num trade=14,win rate=0.7143, pl_stability=8.8764, num_buy=7, num_sell=7\n"
          ],
          "name": "stdout"
        },
        {
          "output_type": "stream",
          "text": [
            "\u001b[32m[I 2019-12-08 11:41:26,532]\u001b[0m Finished trial#176 resulted in value: -2.1714. Current best value is -3.5449 with parameters: {'avert_onemine': 0, 'upper_kijun': 73, 'avert_period_kijun': 166, 'avert_val_kijun': -87}.\u001b[0m\n"
          ],
          "name": "stderr"
        },
        {
          "output_type": "stream",
          "text": [
            "total pl=2.1714,num trade=11,win rate=0.7273, pl_stability=6.9019, num_buy=6, num_sell=4\n"
          ],
          "name": "stdout"
        },
        {
          "output_type": "stream",
          "text": [
            "\u001b[32m[I 2019-12-08 11:41:30,005]\u001b[0m Finished trial#177 resulted in value: -3.1047000000000002. Current best value is -3.5449 with parameters: {'avert_onemine': 0, 'upper_kijun': 73, 'avert_period_kijun': 166, 'avert_val_kijun': -87}.\u001b[0m\n"
          ],
          "name": "stderr"
        },
        {
          "output_type": "stream",
          "text": [
            "total pl=3.1047000000000002,num trade=14,win rate=0.7143, pl_stability=8.8645, num_buy=7, num_sell=7\n"
          ],
          "name": "stdout"
        },
        {
          "output_type": "stream",
          "text": [
            "\u001b[32m[I 2019-12-08 11:41:33,485]\u001b[0m Finished trial#178 resulted in value: -3.5449. Current best value is -3.5449 with parameters: {'avert_onemine': 0, 'upper_kijun': 73, 'avert_period_kijun': 166, 'avert_val_kijun': -87}.\u001b[0m\n"
          ],
          "name": "stderr"
        },
        {
          "output_type": "stream",
          "text": [
            "total pl=3.5449,num trade=14,win rate=0.7857, pl_stability=7.3056, num_buy=7, num_sell=6\n"
          ],
          "name": "stdout"
        },
        {
          "output_type": "stream",
          "text": [
            "\u001b[32m[I 2019-12-08 11:41:36,955]\u001b[0m Finished trial#179 resulted in value: -2.5943000000000005. Current best value is -3.5449 with parameters: {'avert_onemine': 0, 'upper_kijun': 73, 'avert_period_kijun': 166, 'avert_val_kijun': -87}.\u001b[0m\n"
          ],
          "name": "stderr"
        },
        {
          "output_type": "stream",
          "text": [
            "total pl=2.5943000000000005,num trade=12,win rate=0.75, pl_stability=7.0129, num_buy=7, num_sell=4\n"
          ],
          "name": "stdout"
        },
        {
          "output_type": "stream",
          "text": [
            "\u001b[32m[I 2019-12-08 11:41:40,509]\u001b[0m Finished trial#180 resulted in value: -2.9997. Current best value is -3.5449 with parameters: {'avert_onemine': 0, 'upper_kijun': 73, 'avert_period_kijun': 166, 'avert_val_kijun': -87}.\u001b[0m\n"
          ],
          "name": "stderr"
        },
        {
          "output_type": "stream",
          "text": [
            "total pl=2.9997,num trade=14,win rate=0.7143, pl_stability=8.8553, num_buy=7, num_sell=7\n"
          ],
          "name": "stdout"
        },
        {
          "output_type": "stream",
          "text": [
            "\u001b[32m[I 2019-12-08 11:41:43,990]\u001b[0m Finished trial#181 resulted in value: -3.5449. Current best value is -3.5449 with parameters: {'avert_onemine': 0, 'upper_kijun': 73, 'avert_period_kijun': 166, 'avert_val_kijun': -87}.\u001b[0m\n"
          ],
          "name": "stderr"
        },
        {
          "output_type": "stream",
          "text": [
            "total pl=3.5449,num trade=14,win rate=0.7857, pl_stability=7.3056, num_buy=7, num_sell=6\n"
          ],
          "name": "stdout"
        },
        {
          "output_type": "stream",
          "text": [
            "\u001b[32m[I 2019-12-08 11:41:47,466]\u001b[0m Finished trial#182 resulted in value: -3.0572. Current best value is -3.5449 with parameters: {'avert_onemine': 0, 'upper_kijun': 73, 'avert_period_kijun': 166, 'avert_val_kijun': -87}.\u001b[0m\n"
          ],
          "name": "stderr"
        },
        {
          "output_type": "stream",
          "text": [
            "total pl=3.0572,num trade=13,win rate=0.7692, pl_stability=7.2578, num_buy=7, num_sell=5\n"
          ],
          "name": "stdout"
        },
        {
          "output_type": "stream",
          "text": [
            "\u001b[32m[I 2019-12-08 11:41:50,899]\u001b[0m Finished trial#183 resulted in value: -2.6593. Current best value is -3.5449 with parameters: {'avert_onemine': 0, 'upper_kijun': 73, 'avert_period_kijun': 166, 'avert_val_kijun': -87}.\u001b[0m\n"
          ],
          "name": "stderr"
        },
        {
          "output_type": "stream",
          "text": [
            "total pl=2.6593,num trade=12,win rate=0.75, pl_stability=6.9911, num_buy=7, num_sell=4\n"
          ],
          "name": "stdout"
        },
        {
          "output_type": "stream",
          "text": [
            "\u001b[32m[I 2019-12-08 11:41:54,349]\u001b[0m Finished trial#184 resulted in value: -3.1047000000000002. Current best value is -3.5449 with parameters: {'avert_onemine': 0, 'upper_kijun': 73, 'avert_period_kijun': 166, 'avert_val_kijun': -87}.\u001b[0m\n"
          ],
          "name": "stderr"
        },
        {
          "output_type": "stream",
          "text": [
            "total pl=3.1047000000000002,num trade=14,win rate=0.7143, pl_stability=8.8645, num_buy=7, num_sell=7\n"
          ],
          "name": "stdout"
        },
        {
          "output_type": "stream",
          "text": [
            "\u001b[32m[I 2019-12-08 11:41:57,826]\u001b[0m Finished trial#185 resulted in value: -3.0572. Current best value is -3.5449 with parameters: {'avert_onemine': 0, 'upper_kijun': 73, 'avert_period_kijun': 166, 'avert_val_kijun': -87}.\u001b[0m\n"
          ],
          "name": "stderr"
        },
        {
          "output_type": "stream",
          "text": [
            "total pl=3.0572,num trade=13,win rate=0.7692, pl_stability=7.2578, num_buy=7, num_sell=5\n"
          ],
          "name": "stdout"
        },
        {
          "output_type": "stream",
          "text": [
            "\u001b[32m[I 2019-12-08 11:42:01,293]\u001b[0m Finished trial#186 resulted in value: -3.5449. Current best value is -3.5449 with parameters: {'avert_onemine': 0, 'upper_kijun': 73, 'avert_period_kijun': 166, 'avert_val_kijun': -87}.\u001b[0m\n"
          ],
          "name": "stderr"
        },
        {
          "output_type": "stream",
          "text": [
            "total pl=3.5449,num trade=14,win rate=0.7857, pl_stability=7.3056, num_buy=7, num_sell=6\n"
          ],
          "name": "stdout"
        },
        {
          "output_type": "stream",
          "text": [
            "\u001b[32m[I 2019-12-08 11:42:04,734]\u001b[0m Finished trial#187 resulted in value: -2.1714. Current best value is -3.5449 with parameters: {'avert_onemine': 0, 'upper_kijun': 73, 'avert_period_kijun': 166, 'avert_val_kijun': -87}.\u001b[0m\n"
          ],
          "name": "stderr"
        },
        {
          "output_type": "stream",
          "text": [
            "total pl=2.1714,num trade=11,win rate=0.7273, pl_stability=6.904, num_buy=6, num_sell=4\n"
          ],
          "name": "stdout"
        },
        {
          "output_type": "stream",
          "text": [
            "\u001b[32m[I 2019-12-08 11:42:08,179]\u001b[0m Finished trial#188 resulted in value: -3.2526. Current best value is -3.5449 with parameters: {'avert_onemine': 0, 'upper_kijun': 73, 'avert_period_kijun': 166, 'avert_val_kijun': -87}.\u001b[0m\n"
          ],
          "name": "stderr"
        },
        {
          "output_type": "stream",
          "text": [
            "total pl=3.2526,num trade=15,win rate=0.7333, pl_stability=8.5888, num_buy=7, num_sell=7\n"
          ],
          "name": "stdout"
        },
        {
          "output_type": "stream",
          "text": [
            "\u001b[32m[I 2019-12-08 11:42:11,657]\u001b[0m Finished trial#189 resulted in value: -3.5449. Current best value is -3.5449 with parameters: {'avert_onemine': 0, 'upper_kijun': 73, 'avert_period_kijun': 166, 'avert_val_kijun': -87}.\u001b[0m\n"
          ],
          "name": "stderr"
        },
        {
          "output_type": "stream",
          "text": [
            "total pl=3.5449,num trade=14,win rate=0.7857, pl_stability=7.3056, num_buy=7, num_sell=6\n"
          ],
          "name": "stdout"
        },
        {
          "output_type": "stream",
          "text": [
            "\u001b[32m[I 2019-12-08 11:42:15,126]\u001b[0m Finished trial#190 resulted in value: -2.8996999999999993. Current best value is -3.5449 with parameters: {'avert_onemine': 0, 'upper_kijun': 73, 'avert_period_kijun': 166, 'avert_val_kijun': -87}.\u001b[0m\n"
          ],
          "name": "stderr"
        },
        {
          "output_type": "stream",
          "text": [
            "total pl=2.8996999999999993,num trade=14,win rate=0.7143, pl_stability=8.8991, num_buy=7, num_sell=7\n"
          ],
          "name": "stdout"
        },
        {
          "output_type": "stream",
          "text": [
            "\u001b[32m[I 2019-12-08 11:42:18,632]\u001b[0m Finished trial#191 resulted in value: -2.9997. Current best value is -3.5449 with parameters: {'avert_onemine': 0, 'upper_kijun': 73, 'avert_period_kijun': 166, 'avert_val_kijun': -87}.\u001b[0m\n"
          ],
          "name": "stderr"
        },
        {
          "output_type": "stream",
          "text": [
            "total pl=2.9997,num trade=14,win rate=0.7143, pl_stability=8.8553, num_buy=7, num_sell=7\n"
          ],
          "name": "stdout"
        },
        {
          "output_type": "stream",
          "text": [
            "\u001b[32m[I 2019-12-08 11:42:22,066]\u001b[0m Finished trial#192 resulted in value: 0.20650000000000024. Current best value is -3.5449 with parameters: {'avert_onemine': 0, 'upper_kijun': 73, 'avert_period_kijun': 166, 'avert_val_kijun': -87}.\u001b[0m\n"
          ],
          "name": "stderr"
        },
        {
          "output_type": "stream",
          "text": [
            "total pl=-0.20650000000000024,num trade=19,win rate=0.6316, pl_stability=9.6888, num_buy=9, num_sell=10\n"
          ],
          "name": "stdout"
        },
        {
          "output_type": "stream",
          "text": [
            "\u001b[32m[I 2019-12-08 11:42:25,496]\u001b[0m Finished trial#193 resulted in value: -2.5943000000000005. Current best value is -3.5449 with parameters: {'avert_onemine': 0, 'upper_kijun': 73, 'avert_period_kijun': 166, 'avert_val_kijun': -87}.\u001b[0m\n"
          ],
          "name": "stderr"
        },
        {
          "output_type": "stream",
          "text": [
            "total pl=2.5943000000000005,num trade=12,win rate=0.75, pl_stability=7.0129, num_buy=7, num_sell=4\n"
          ],
          "name": "stdout"
        },
        {
          "output_type": "stream",
          "text": [
            "\u001b[32m[I 2019-12-08 11:42:28,980]\u001b[0m Finished trial#194 resulted in value: -3.5449. Current best value is -3.5449 with parameters: {'avert_onemine': 0, 'upper_kijun': 73, 'avert_period_kijun': 166, 'avert_val_kijun': -87}.\u001b[0m\n"
          ],
          "name": "stderr"
        },
        {
          "output_type": "stream",
          "text": [
            "total pl=3.5449,num trade=14,win rate=0.7857, pl_stability=7.3056, num_buy=7, num_sell=6\n"
          ],
          "name": "stdout"
        },
        {
          "output_type": "stream",
          "text": [
            "\u001b[32m[I 2019-12-08 11:42:32,435]\u001b[0m Finished trial#195 resulted in value: -3.2526. Current best value is -3.5449 with parameters: {'avert_onemine': 0, 'upper_kijun': 73, 'avert_period_kijun': 166, 'avert_val_kijun': -87}.\u001b[0m\n"
          ],
          "name": "stderr"
        },
        {
          "output_type": "stream",
          "text": [
            "total pl=3.2526,num trade=15,win rate=0.7333, pl_stability=8.5888, num_buy=7, num_sell=7\n"
          ],
          "name": "stdout"
        },
        {
          "output_type": "stream",
          "text": [
            "\u001b[32m[I 2019-12-08 11:42:35,879]\u001b[0m Finished trial#196 resulted in value: -3.5449. Current best value is -3.5449 with parameters: {'avert_onemine': 0, 'upper_kijun': 73, 'avert_period_kijun': 166, 'avert_val_kijun': -87}.\u001b[0m\n"
          ],
          "name": "stderr"
        },
        {
          "output_type": "stream",
          "text": [
            "total pl=3.5449,num trade=14,win rate=0.7857, pl_stability=7.3056, num_buy=7, num_sell=6\n"
          ],
          "name": "stdout"
        },
        {
          "output_type": "stream",
          "text": [
            "\u001b[32m[I 2019-12-08 11:42:39,342]\u001b[0m Finished trial#197 resulted in value: -2.6593. Current best value is -3.5449 with parameters: {'avert_onemine': 0, 'upper_kijun': 73, 'avert_period_kijun': 166, 'avert_val_kijun': -87}.\u001b[0m\n"
          ],
          "name": "stderr"
        },
        {
          "output_type": "stream",
          "text": [
            "total pl=2.6593,num trade=12,win rate=0.75, pl_stability=6.9911, num_buy=7, num_sell=4\n"
          ],
          "name": "stdout"
        },
        {
          "output_type": "stream",
          "text": [
            "\u001b[32m[I 2019-12-08 11:42:42,784]\u001b[0m Finished trial#198 resulted in value: -3.1047000000000002. Current best value is -3.5449 with parameters: {'avert_onemine': 0, 'upper_kijun': 73, 'avert_period_kijun': 166, 'avert_val_kijun': -87}.\u001b[0m\n"
          ],
          "name": "stderr"
        },
        {
          "output_type": "stream",
          "text": [
            "total pl=3.1047000000000002,num trade=14,win rate=0.7143, pl_stability=8.8645, num_buy=7, num_sell=7\n"
          ],
          "name": "stdout"
        },
        {
          "output_type": "stream",
          "text": [
            "\u001b[32m[I 2019-12-08 11:42:46,240]\u001b[0m Finished trial#199 resulted in value: -3.0572. Current best value is -3.5449 with parameters: {'avert_onemine': 0, 'upper_kijun': 73, 'avert_period_kijun': 166, 'avert_val_kijun': -87}.\u001b[0m\n"
          ],
          "name": "stderr"
        },
        {
          "output_type": "stream",
          "text": [
            "total pl=3.0572,num trade=13,win rate=0.7692, pl_stability=7.2578, num_buy=7, num_sell=5\n",
            "time to calc data=3504.801712036133\n",
            "best params: {'avert_onemine': 0, 'upper_kijun': 73, 'avert_period_kijun': 166, 'avert_val_kijun': -87}\n"
          ],
          "name": "stdout"
        }
      ]
    },
    {
      "cell_type": "markdown",
      "metadata": {
        "id": "9zwQ7PDBKlol",
        "colab_type": "text"
      },
      "source": [
        ""
      ]
    },
    {
      "cell_type": "code",
      "metadata": {
        "id": "EfRDFdTIcMtD",
        "colab_type": "code",
        "outputId": "a97e1018-1cc1-4dbb-afe3-27efc10b6cea",
        "colab": {
          "base_uri": "https://localhost:8080/",
          "height": 1000
        }
      },
      "source": [
        "'''\n",
        "conti sim\n",
        "'''\n",
        "\n",
        "import time\n",
        "num_term = 1500\n",
        "corr_kijun = 0.7\n",
        "upper_kijun = 0.7\n",
        "#lower_kijun = 0.4\n",
        "from_ind = 100000\n",
        "to_ind = 244000\n",
        "\n",
        "train_len = 50000\n",
        "test_len = 90000\n",
        "test_start_ind = 50000 #should be larger than train_len\n",
        "valid_size = 0.05\n",
        "\n",
        "kijun_val =50\n",
        "kijun_period = 120\n",
        "pt = kijun_val\n",
        "lc = 10000\n",
        "random_state = None\n",
        "lgb_random_state = None\n",
        "\n",
        "avert_period_kijun = 240\n",
        "avert_val_kijun = -0.001\n",
        "\n",
        "params = {'objective': 'multiclass', 'num_class':4, 'metric':'multi_logloss', 'boosting': 'gbdt', 'learning_rate': 0.1, 'num_iterations': 1000, #'device_type':'GPU',\n",
        "          'feature_fraction':0.2, 'early_stopping_rounds':50, 'max_depth':10, 'num_leaves':500, 'lambda_l1':15, 'lambda_l2':15, 'min_data_in_leaf':50,\n",
        "          'max_bin':100, 'bagging_freq':50, 'seed':lgb_random_state}\n",
        "verbose_eval = 10\n",
        "\n",
        "#params = {'objective': 'multiclass', 'num_class':4, 'boosting': 'dart'}\n",
        "\n",
        "start = time.time()\n",
        "OneMinMarketData.initialize_for_bot(num_term, from_ind, to_ind, kijun_val, kijun_period)\n",
        "df = OneMinMarketData.genrate_df_from_dict()\n",
        "df = OneMinMarketData.remove_cols_contains_nan2(df)\n",
        "#df = OneMinMarketData.remove_all_correlated_cols4(df, corr_kijun)\n",
        "df2 = OneMinMarketData.remove_price_dependent_cols2(df, corr_kijun)\n",
        "print('len df=',len(df2))\n",
        "#kijun_val = 285\n",
        "\n",
        "'''\n",
        "nl = []\n",
        "for col in df2.columns:\n",
        "    nl.append(col.replace(':','-'))\n",
        "df2.columns = nl\n",
        "'''\n",
        "\n",
        "sim = Sim()\n",
        "ac = SimAccount()\n",
        "start_ind_log = 0\n",
        "end_ind_log = 0\n",
        "\n",
        "for i in range(1):\n",
        "    lgbmodel = LgbModel()\n",
        "    #catmodel = CatboostModel()\n",
        "    train_df = df2.iloc[test_start_ind - train_len + (test_len * i):(test_len * i) + test_start_ind].copy()\n",
        "    test_df = df2.iloc[kijun_period + (test_len * i) + test_start_ind:kijun_period + test_start_ind + (test_len * i) + test_len].copy()\n",
        "    train_xb, test_xb, train_yb, test_yb, valid_xb, valid_yb = lgbmodel.generate_bpsp_data(train_df, test_df, valid_size, random_state)\n",
        "    \n",
        "    cols = list(train_xb.columns)\n",
        "    remove_cols = ['open', 'high', 'low', 'close', 'open_change', 'high_change' , 'low_change', 'close_change', 'dt']\n",
        "\n",
        "    for col in remove_cols:\n",
        "        if col in cols:\n",
        "            cols.remove(col)\n",
        "    cols.sort()\n",
        "    \n",
        "    train_xb = train_xb.loc[:,cols]\n",
        "    test_xb = test_xb.loc[:,cols]\n",
        "    valid_xb = valid_xb.loc[:,cols]\n",
        "\n",
        "    print('removed unsed index')\n",
        "    if list(train_xb.columns) == list(test_xb.columns) == list(valid_xb.columns):\n",
        "        pass\n",
        "    else:\n",
        "        print('train col, test col, valid col are not matched!')\n",
        "\n",
        "    model = lgbmodel.train_params_with_validations(train_xb, train_yb, valid_xb, valid_yb, params, verbose_eval)\n",
        "    #model = catmodel.param_train(train_xb, train_yb, cat_params)\n",
        "    prediction = lgbmodel.bpsp_prediction(model, train_xb, upper_kijun)\n",
        "    #prediction = lgbmodel.bpsp_prediction2(model, train_xb)\n",
        "    #prediction = catmodel.predict(model, train_xb, train_yb)\n",
        "    print('train accuracy={}'.format(lgbmodel.calc_bpsp_accuracy(prediction, train_yb)))\n",
        "    prediction = lgbmodel.bpsp_prediction(model, test_xb, upper_kijun)\n",
        "    #prediction = lgbmodel.bpsp_prediction2(model, test_xb)\n",
        "    #prediction = catmodel.predict(model, test_xb, test_yb)\n",
        "    print('test accuracy={}'.format(lgbmodel.calc_bpsp_accuracy(prediction, test_yb)))\n",
        "\n",
        "    start_ind = OneMinMarketData.check_matched_dt(test_xb, df2)\n",
        "    #ac = sim.sim_model_pred_onemin(start_ind, prediction, pt, lc, ac)\n",
        "    ac = sim.sim_model_pred_onemin_avert(start_ind, prediction, pt, lc, ac, avert_period_kijun, avert_val_kijun)\n",
        "    print('i=',i)\n",
        "    print('total pl={},num trade={},win rate={}, pl_stability={}, num_buy={}, num_sell={}'.format(ac.total_pl,ac.num_trade,ac.win_rate, ac.pl_stability, ac.num_buy,ac.num_sell))\n",
        "    print('strategy performance={}'.format(ac.total_pl * ac.pl_stability))\n",
        "\n",
        "    if i == 0:\n",
        "        start_ind_log = start_ind\n",
        "    else:\n",
        "        end_ind_log = start_ind\n",
        "\n",
        "if end_ind_log == 0:\n",
        "    end_ind_log = start_ind_log\n",
        "\n",
        "with open('/content/drive/My Drive/Model/bpsp_cols.csv', 'w') as file:\n",
        "    writer = csv.writer(file, lineterminator='\\n')\n",
        "    writer.writerow(train_xb)\n",
        "\n",
        "with open('/content/drive/My Drive/Model/lgb_bpsp_model.dat', 'wb') as f:\n",
        "    pickle.dump(model, f)\n",
        "\n",
        "fig, ax1 = plt.subplots()\n",
        "plt.figure(figsize=(30,30),dpi=200)\n",
        "ax1.plot(ac.performance_total_pl_log,color='red',linewidth = 3.0,label='pl')\n",
        "ax2 = ax1.twinx()\n",
        "ax2.plot(OneMinMarketData.ohlc.close[start_ind_log:end_ind_log + test_len])\n",
        "plt.show()\n",
        "print('test period=', OneMinMarketData.ohlc.dt[start_ind_log], ' - ', OneMinMarketData.ohlc.dt[end_ind_log + test_len])\n",
        "print('total pl={},num trade={},win rate={}, pl_stability={}, num_buy={}, num_sell={}'.format(ac.total_pl,ac.num_trade,ac.win_rate, ac.pl_stability, ac.num_buy,ac.num_sell))\n",
        "print('strategy performance={}'.format(ac.total_pl * ac.pl_stability))\n",
        "\n",
        "lgbmodel.eval_multi_score(prediction, test_yb)\n",
        "\n",
        "ac.log_data_df"
      ],
      "execution_count": 0,
      "outputs": [
        {
          "output_type": "stream",
          "text": [
            "calculating all index dict\n",
            "completed non makairi diff index. time= 108.67163848876953\n",
            "future_side allocation in Market Data:\n",
            "no: 0.4787 buy: 0.2311 sell: 0.2467 both: 0.0435\n",
            "completed calc makairi diff index. time= 7.8569865226745605\n",
            "completed generate df from dict. time= 19.30447745323181\n",
            "removed  131 cols contains nan.\n",
            "completed remove cols contains nan. time= 1.5047757625579834\n",
            "removing all price dependent columns..\n"
          ],
          "name": "stdout"
        },
        {
          "output_type": "stream",
          "text": [
            "/usr/local/lib/python3.6/dist-packages/numpy/lib/function_base.py:2534: RuntimeWarning:\n",
            "\n",
            "invalid value encountered in true_divide\n",
            "\n",
            "/usr/local/lib/python3.6/dist-packages/numpy/lib/function_base.py:2535: RuntimeWarning:\n",
            "\n",
            "invalid value encountered in true_divide\n",
            "\n"
          ],
          "name": "stderr"
        },
        {
          "output_type": "stream",
          "text": [
            "removed 334 colums remaining col=1545\n",
            "len df= 142379\n",
            "train / valid period= 2019-08-28 21:40:00  -  2019-10-02 14:59:00\n",
            "test period= 2019-10-02 17:00:00  -  2019-12-04 04:59:00\n",
            "buy sell point data description:\n",
            "train_x (47500, 1208)\n",
            "train_y (47500,)\n",
            "test_x (90000, 1208)\n",
            "test_y (90000,)\n",
            "valid_x (2500, 1208)\n",
            "valid_y (2500,)\n",
            "removed unsed index\n"
          ],
          "name": "stdout"
        },
        {
          "output_type": "stream",
          "text": [
            "/usr/local/lib/python3.6/dist-packages/lightgbm/engine.py:148: UserWarning:\n",
            "\n",
            "Found `num_iterations` in params. Will use it instead of argument\n",
            "\n",
            "/usr/local/lib/python3.6/dist-packages/lightgbm/engine.py:153: UserWarning:\n",
            "\n",
            "Found `early_stopping_rounds` in params. Will use it instead of argument\n",
            "\n"
          ],
          "name": "stderr"
        },
        {
          "output_type": "stream",
          "text": [
            "Training until validation scores don't improve for 50 rounds\n",
            "[10]\tvalid_0's multi_logloss: 0.679761\n",
            "[20]\tvalid_0's multi_logloss: 0.469306\n",
            "[30]\tvalid_0's multi_logloss: 0.364305\n",
            "[40]\tvalid_0's multi_logloss: 0.305222\n",
            "[50]\tvalid_0's multi_logloss: 0.267718\n",
            "[60]\tvalid_0's multi_logloss: 0.239689\n",
            "[70]\tvalid_0's multi_logloss: 0.218935\n",
            "[80]\tvalid_0's multi_logloss: 0.20262\n",
            "[90]\tvalid_0's multi_logloss: 0.190293\n",
            "[100]\tvalid_0's multi_logloss: 0.18044\n",
            "[110]\tvalid_0's multi_logloss: 0.171983\n",
            "[120]\tvalid_0's multi_logloss: 0.165468\n",
            "[130]\tvalid_0's multi_logloss: 0.159274\n",
            "[140]\tvalid_0's multi_logloss: 0.154071\n",
            "[150]\tvalid_0's multi_logloss: 0.150098\n",
            "[160]\tvalid_0's multi_logloss: 0.146464\n",
            "[170]\tvalid_0's multi_logloss: 0.143241\n",
            "[180]\tvalid_0's multi_logloss: 0.14045\n",
            "[190]\tvalid_0's multi_logloss: 0.138212\n",
            "[200]\tvalid_0's multi_logloss: 0.136126\n",
            "[210]\tvalid_0's multi_logloss: 0.13412\n",
            "[220]\tvalid_0's multi_logloss: 0.13236\n",
            "[230]\tvalid_0's multi_logloss: 0.130538\n",
            "[240]\tvalid_0's multi_logloss: 0.129321\n",
            "[250]\tvalid_0's multi_logloss: 0.128232\n",
            "[260]\tvalid_0's multi_logloss: 0.127301\n",
            "[270]\tvalid_0's multi_logloss: 0.12609\n",
            "[280]\tvalid_0's multi_logloss: 0.125297\n",
            "[290]\tvalid_0's multi_logloss: 0.124546\n",
            "[300]\tvalid_0's multi_logloss: 0.123865\n",
            "[310]\tvalid_0's multi_logloss: 0.123312\n",
            "[320]\tvalid_0's multi_logloss: 0.122784\n",
            "[330]\tvalid_0's multi_logloss: 0.122436\n",
            "[340]\tvalid_0's multi_logloss: 0.122185\n",
            "[350]\tvalid_0's multi_logloss: 0.121911\n",
            "[360]\tvalid_0's multi_logloss: 0.121744\n",
            "[370]\tvalid_0's multi_logloss: 0.121573\n",
            "[380]\tvalid_0's multi_logloss: 0.121418\n",
            "[390]\tvalid_0's multi_logloss: 0.12126\n",
            "[400]\tvalid_0's multi_logloss: 0.121061\n",
            "[410]\tvalid_0's multi_logloss: 0.120889\n",
            "[420]\tvalid_0's multi_logloss: 0.120826\n",
            "[430]\tvalid_0's multi_logloss: 0.120792\n",
            "[440]\tvalid_0's multi_logloss: 0.120765\n",
            "[450]\tvalid_0's multi_logloss: 0.120752\n",
            "[460]\tvalid_0's multi_logloss: 0.120659\n",
            "[470]\tvalid_0's multi_logloss: 0.120608\n",
            "[480]\tvalid_0's multi_logloss: 0.120543\n",
            "[490]\tvalid_0's multi_logloss: 0.120522\n",
            "[500]\tvalid_0's multi_logloss: 0.12036\n",
            "[510]\tvalid_0's multi_logloss: 0.120199\n",
            "[520]\tvalid_0's multi_logloss: 0.12013\n",
            "[530]\tvalid_0's multi_logloss: 0.120131\n",
            "[540]\tvalid_0's multi_logloss: 0.120119\n",
            "[550]\tvalid_0's multi_logloss: 0.120115\n",
            "[560]\tvalid_0's multi_logloss: 0.120077\n",
            "[570]\tvalid_0's multi_logloss: 0.120007\n",
            "[580]\tvalid_0's multi_logloss: 0.119892\n",
            "[590]\tvalid_0's multi_logloss: 0.119718\n",
            "[600]\tvalid_0's multi_logloss: 0.119709\n",
            "[610]\tvalid_0's multi_logloss: 0.119707\n",
            "[620]\tvalid_0's multi_logloss: 0.119708\n",
            "[630]\tvalid_0's multi_logloss: 0.119709\n",
            "[640]\tvalid_0's multi_logloss: 0.119709\n",
            "[650]\tvalid_0's multi_logloss: 0.119709\n",
            "[660]\tvalid_0's multi_logloss: 0.119709\n",
            "[670]\tvalid_0's multi_logloss: 0.119709\n",
            "[680]\tvalid_0's multi_logloss: 0.119709\n",
            "Early stopping, best iteration is:\n",
            "[635]\tvalid_0's multi_logloss: 0.119707\n",
            "train accuracy=0.9698\n",
            "test accuracy=0.511\n",
            "i= 0\n",
            "total pl=16.42670000000001,num trade=240,win rate=0.65, pl_stability=91.6812, num_buy=161, num_sell=166\n",
            "strategy performance=1506.019568040001\n"
          ],
          "name": "stdout"
        },
        {
          "output_type": "display_data",
          "data": {
            "image/png": "[encoded data removed]",
            "text/plain": [
              "<Figure size 432x288 with 2 Axes>"
            ]
          },
          "metadata": {
            "tags": []
          }
        },
        {
          "output_type": "display_data",
          "data": {
            "text/plain": [
              "<Figure size 6000x6000 with 0 Axes>"
            ]
          },
          "metadata": {
            "tags": []
          }
        },
        {
          "output_type": "stream",
          "text": [
            "test period= 2019-10-02 17:00:00  -  2019-12-04 05:00:00\n",
            "total pl=16.42670000000001,num trade=240,win rate=0.65, pl_stability=91.6812, num_buy=161, num_sell=166\n",
            "strategy performance=1506.019568040001\n",
            "accuracy= 0.5110333333333333\n",
            "f1= 0.26987087151901773\n",
            "buy/sell accuracy= 0.14546997536581924\n"
          ],
          "name": "stdout"
        },
        {
          "output_type": "execute_result",
          "data": {
            "text/html": [
              "<div>\n",
              "<style scoped>\n",
              "    .dataframe tbody tr th:only-of-type {\n",
              "        vertical-align: middle;\n",
              "    }\n",
              "\n",
              "    .dataframe tbody tr th {\n",
              "        vertical-align: top;\n",
              "    }\n",
              "\n",
              "    .dataframe thead th {\n",
              "        text-align: right;\n",
              "    }\n",
              "</style>\n",
              "<table border=\"1\" class=\"dataframe\">\n",
              "  <thead>\n",
              "    <tr style=\"text-align: right;\">\n",
              "      <th></th>\n",
              "      <th>i</th>\n",
              "      <th>dt</th>\n",
              "      <th>action</th>\n",
              "      <th>holding_side</th>\n",
              "      <th>holding_price</th>\n",
              "      <th>holding_size</th>\n",
              "      <th>order_side</th>\n",
              "      <th>order_price</th>\n",
              "      <th>order_size</th>\n",
              "      <th>total_pl</th>\n",
              "      <th>num_trade</th>\n",
              "    </tr>\n",
              "  </thead>\n",
              "  <tbody>\n",
              "    <tr>\n",
              "      <th>0</th>\n",
              "      <td>0</td>\n",
              "      <td>2019-10-02 17:00:00</td>\n",
              "      <td>entry orderbuy type=market</td>\n",
              "      <td></td>\n",
              "      <td>0.0</td>\n",
              "      <td>0.00</td>\n",
              "      <td>buy</td>\n",
              "      <td>0</td>\n",
              "      <td>0.01</td>\n",
              "      <td>0.0000</td>\n",
              "      <td>0</td>\n",
              "    </tr>\n",
              "    <tr>\n",
              "      <th>1</th>\n",
              "      <td>1</td>\n",
              "      <td>2019-10-02 17:01:00</td>\n",
              "      <td>New Entry:market</td>\n",
              "      <td>buy</td>\n",
              "      <td>8217.0</td>\n",
              "      <td>0.01</td>\n",
              "      <td>buy</td>\n",
              "      <td>0</td>\n",
              "      <td>0.01</td>\n",
              "      <td>0.0000</td>\n",
              "      <td>0</td>\n",
              "    </tr>\n",
              "    <tr>\n",
              "      <th>2</th>\n",
              "      <td>33</td>\n",
              "      <td>2019-10-02 17:33:00</td>\n",
              "      <td>pl executed.</td>\n",
              "      <td>buy</td>\n",
              "      <td>8217.0</td>\n",
              "      <td>0.01</td>\n",
              "      <td>0</td>\n",
              "      <td>0</td>\n",
              "      <td>0.00</td>\n",
              "      <td>0.4650</td>\n",
              "      <td>0</td>\n",
              "    </tr>\n",
              "    <tr>\n",
              "      <th>3</th>\n",
              "      <td>65</td>\n",
              "      <td>2019-10-02 18:05:00</td>\n",
              "      <td>entry ordersell type=market</td>\n",
              "      <td></td>\n",
              "      <td>0.0</td>\n",
              "      <td>0.00</td>\n",
              "      <td>sell</td>\n",
              "      <td>0</td>\n",
              "      <td>0.01</td>\n",
              "      <td>0.4877</td>\n",
              "      <td>1</td>\n",
              "    </tr>\n",
              "    <tr>\n",
              "      <th>4</th>\n",
              "      <td>66</td>\n",
              "      <td>2019-10-02 18:06:00</td>\n",
              "      <td>New Entry:market</td>\n",
              "      <td>sell</td>\n",
              "      <td>8271.0</td>\n",
              "      <td>0.01</td>\n",
              "      <td>sell</td>\n",
              "      <td>0</td>\n",
              "      <td>0.01</td>\n",
              "      <td>0.4877</td>\n",
              "      <td>1</td>\n",
              "    </tr>\n",
              "    <tr>\n",
              "      <th>...</th>\n",
              "      <td>...</td>\n",
              "      <td>...</td>\n",
              "      <td>...</td>\n",
              "      <td>...</td>\n",
              "      <td>...</td>\n",
              "      <td>...</td>\n",
              "      <td>...</td>\n",
              "      <td>...</td>\n",
              "      <td>...</td>\n",
              "      <td>...</td>\n",
              "      <td>...</td>\n",
              "    </tr>\n",
              "    <tr>\n",
              "      <th>762</th>\n",
              "      <td>88507</td>\n",
              "      <td>2019-12-03 04:07:00</td>\n",
              "      <td>entry ordersell type=market</td>\n",
              "      <td></td>\n",
              "      <td>0.0</td>\n",
              "      <td>0.00</td>\n",
              "      <td>sell</td>\n",
              "      <td>0</td>\n",
              "      <td>0.01</td>\n",
              "      <td>16.6826</td>\n",
              "      <td>238</td>\n",
              "    </tr>\n",
              "    <tr>\n",
              "      <th>763</th>\n",
              "      <td>88508</td>\n",
              "      <td>2019-12-03 04:08:00</td>\n",
              "      <td>New Entry:market</td>\n",
              "      <td>sell</td>\n",
              "      <td>7278.5</td>\n",
              "      <td>0.01</td>\n",
              "      <td>sell</td>\n",
              "      <td>0</td>\n",
              "      <td>0.01</td>\n",
              "      <td>16.6826</td>\n",
              "      <td>238</td>\n",
              "    </tr>\n",
              "    <tr>\n",
              "      <th>764</th>\n",
              "      <td>88616</td>\n",
              "      <td>2019-12-03 05:56:00</td>\n",
              "      <td>entry orderbuy type=market</td>\n",
              "      <td>sell</td>\n",
              "      <td>7278.5</td>\n",
              "      <td>0.01</td>\n",
              "      <td>buy</td>\n",
              "      <td>0</td>\n",
              "      <td>0.01</td>\n",
              "      <td>16.4326</td>\n",
              "      <td>238</td>\n",
              "    </tr>\n",
              "    <tr>\n",
              "      <th>765</th>\n",
              "      <td>88617</td>\n",
              "      <td>2019-12-03 05:57:00</td>\n",
              "      <td>Exit Order (h=o):market</td>\n",
              "      <td>sell</td>\n",
              "      <td>7278.5</td>\n",
              "      <td>0.01</td>\n",
              "      <td>buy</td>\n",
              "      <td>0</td>\n",
              "      <td>0.01</td>\n",
              "      <td>16.4376</td>\n",
              "      <td>238</td>\n",
              "    </tr>\n",
              "    <tr>\n",
              "      <th>766</th>\n",
              "      <td>89999</td>\n",
              "      <td>2019-12-04 04:59:00</td>\n",
              "      <td>Sim Finished.</td>\n",
              "      <td></td>\n",
              "      <td>0.0</td>\n",
              "      <td>0.00</td>\n",
              "      <td>0</td>\n",
              "      <td>0</td>\n",
              "      <td>0.00</td>\n",
              "      <td>16.4267</td>\n",
              "      <td>240</td>\n",
              "    </tr>\n",
              "  </tbody>\n",
              "</table>\n",
              "<p>767 rows × 11 columns</p>\n",
              "</div>"
            ],
            "text/plain": [
              "         i                  dt  ... total_pl num_trade\n",
              "0        0 2019-10-02 17:00:00  ...   0.0000         0\n",
              "1        1 2019-10-02 17:01:00  ...   0.0000         0\n",
              "2       33 2019-10-02 17:33:00  ...   0.4650         0\n",
              "3       65 2019-10-02 18:05:00  ...   0.4877         1\n",
              "4       66 2019-10-02 18:06:00  ...   0.4877         1\n",
              "..     ...                 ...  ...      ...       ...\n",
              "762  88507 2019-12-03 04:07:00  ...  16.6826       238\n",
              "763  88508 2019-12-03 04:08:00  ...  16.6826       238\n",
              "764  88616 2019-12-03 05:56:00  ...  16.4326       238\n",
              "765  88617 2019-12-03 05:57:00  ...  16.4376       238\n",
              "766  89999 2019-12-04 04:59:00  ...  16.4267       240\n",
              "\n",
              "[767 rows x 11 columns]"
            ]
          },
          "metadata": {
            "tags": []
          },
          "execution_count": 16
        },
        {
          "output_type": "display_data",
          "data": {
            "image/png": "[encoded data removed]",
            "text/plain": [
              "<Figure size 432x288 with 1 Axes>"
            ]
          },
          "metadata": {
            "tags": []
          }
        }
      ]
    },
    {
      "cell_type": "code",
      "metadata": {
        "id": "G4QWmIFnQ1Jk",
        "colab_type": "code",
        "colab": {}
      },
      "source": [
        "importance = pd.DataFrame(model.feature_importance(), index=list(train_xb.columns), columns=['importance'])\n",
        "importance.sort_values('importance', ascending=False)[:50]"
      ],
      "execution_count": 0,
      "outputs": []
    },
    {
      "cell_type": "code",
      "metadata": {
        "id": "Lnj5fBRntf2V",
        "colab_type": "code",
        "outputId": "90ea609a-cec2-460e-90aa-b87f9b9daec7",
        "colab": {
          "base_uri": "https://localhost:8080/",
          "height": 34
        }
      },
      "source": [
        "test period= 2019-10-02 17:00:00  -  2019-10-08 06:20:00\n",
        "total pl=-0.5274999999999996,num trade=21,win rate=0.5238, pl_stability=7.4434, num_buy=13, num_sell=16\n",
        "strategy performance=-3.926393499999997\n",
        "accuracy= 0.4935\n",
        "f1= 0.27802186397580525\n",
        "buy/sell accuracy= 0.1871248638015481\n",
        "\n"
      ],
      "execution_count": 0,
      "outputs": [
        {
          "output_type": "execute_result",
          "data": {
            "text/plain": [
              "0.49972"
            ]
          },
          "metadata": {
            "tags": []
          },
          "execution_count": 47
        }
      ]
    },
    {
      "cell_type": "code",
      "metadata": {
        "id": "g8wcmM4quP4M",
        "colab_type": "code",
        "colab": {}
      },
      "source": [
        ""
      ],
      "execution_count": 0,
      "outputs": []
    },
    {
      "cell_type": "code",
      "metadata": {
        "id": "bY8M_ng8bOlg",
        "colab_type": "code",
        "outputId": "88ef42b4-f78a-4c85-f7d1-455809d50b70",
        "colab": {
          "base_uri": "https://localhost:8080/",
          "height": 666
        }
      },
      "source": [
        "#best params: {'avert_onemine': 0, 'upper_kijun': 73, 'avert_period_kijun': 166, 'avert_val_kijun': -87}\n",
        "\n",
        "avert_period_kijun = 166\n",
        "avert_val_kijun = -0.087\n",
        "lc = 50000\n",
        "\n",
        "prediction = lgbmodel.bpsp_prediction(model, test_xb, 0.73)\n",
        "#prediction = lgbmodel.bpsp_prediction3(model, test_xb, 0.5)\n",
        "#prediction = lgbmodel.bpsp_prediction2(model, test_xb)\n",
        "#prediction = lgbmodel.bpsp_prediction2_kai(model, test_xb)\n",
        "sim = Sim()\n",
        "ac = SimAccount()\n",
        "ac = sim.sim_model_pred_onemin_avert(start_ind, prediction, 50, lc, ac, avert_period_kijun, avert_val_kijun)\n",
        "#ac = sim.sim_model_pred_onemin(start_ind, prediction, 50, lc, ac)\n",
        "print('total pl={},num trade={},win rate={}, pl_stability={}, num_buy={}, num_sell={}'.format(ac.total_pl,ac.num_trade,ac.win_rate, ac.pl_stability, ac.num_buy,ac.num_sell))\n",
        "print('strategy performance={}'.format(ac.total_pl * ac.pl_stability))\n",
        "\n",
        "if i == 0:\n",
        "    start_ind_log = start_ind\n",
        "else:\n",
        "    end_ind_log = start_ind\n",
        "\n",
        "if end_ind_log == 0:\n",
        "    end_ind_log = start_ind_log\n",
        "\n",
        "\n",
        "fig, ax1 = plt.subplots()\n",
        "plt.figure(figsize=(30,30),dpi=200)\n",
        "ax1.plot(ac.performance_total_pl_log,color='red',linewidth = 3.0,label='pl')\n",
        "ax2 = ax1.twinx()\n",
        "ax2.plot(OneMinMarketData.ohlc.close[start_ind_log:end_ind_log + test_len])\n",
        "plt.show()\n",
        "print('test period=', OneMinMarketData.ohlc.dt[start_ind_log], ' - ', OneMinMarketData.ohlc.dt[end_ind_log + test_len])\n",
        "print('total pl={},num trade={},win rate={}, pl_stability={}, num_buy={}, num_sell={}'.format(ac.total_pl,ac.num_trade,ac.win_rate, ac.pl_stability, ac.num_buy,ac.num_sell))\n",
        "print('strategy performance={}'.format(ac.total_pl * ac.pl_stability))\n",
        "lgbmodel.eval_multi_score(prediction, test_yb)"
      ],
      "execution_count": 0,
      "outputs": [
        {
          "output_type": "stream",
          "text": [
            "total pl=-5.568799999999979,num trade=244,win rate=0.8279, pl_stability=380.4833, num_buy=117, num_sell=128\n",
            "strategy performance=-2118.835401039992\n"
          ],
          "name": "stdout"
        },
        {
          "output_type": "display_data",
          "data": {
            "image/png": "[encoded data removed]",
            "text/plain": [
              "<Figure size 432x288 with 2 Axes>"
            ]
          },
          "metadata": {
            "tags": []
          }
        },
        {
          "output_type": "display_data",
          "data": {
            "text/plain": [
              "<Figure size 6000x6000 with 0 Axes>"
            ]
          },
          "metadata": {
            "tags": []
          }
        },
        {
          "output_type": "stream",
          "text": [
            "test period= 2019-10-02 17:00:00  -  2019-12-04 05:00:00\n",
            "total pl=-5.568799999999979,num trade=244,win rate=0.8279, pl_stability=380.4833, num_buy=117, num_sell=128\n",
            "strategy performance=-2118.835401039992\n",
            "accuracy= 0.5124\n",
            "f1= 0.2614875755627024\n",
            "buy/sell accuracy= 0.12766205507504416\n"
          ],
          "name": "stdout"
        },
        {
          "output_type": "display_data",
          "data": {
            "image/png": "[encoded data removed]",
            "text/plain": [
              "<Figure size 432x288 with 1 Axes>"
            ]
          },
          "metadata": {
            "tags": []
          }
        }
      ]
    },
    {
      "cell_type": "code",
      "metadata": {
        "id": "_cR_pYy0uR0M",
        "colab_type": "code",
        "outputId": "5a7f8559-8f08-4333-d87c-4568666501b6",
        "colab": {
          "base_uri": "https://localhost:8080/",
          "height": 34
        }
      },
      "source": [
        "train_yb.values"
      ],
      "execution_count": 0,
      "outputs": [
        {
          "output_type": "execute_result",
          "data": {
            "text/plain": [
              "array([2, 1, 2, ..., 2, 2, 0])"
            ]
          },
          "metadata": {
            "tags": []
          },
          "execution_count": 43
        }
      ]
    },
    {
      "cell_type": "code",
      "metadata": {
        "id": "Hu_fTu4ok167",
        "colab_type": "code",
        "outputId": "b86b6e10-d1ea-4dd8-8480-b47e13dd1896",
        "colab": {
          "base_uri": "https://localhost:8080/",
          "height": 34
        }
      },
      "source": [
        "train_yb.values.astype(np.float32)[0]"
      ],
      "execution_count": 0,
      "outputs": [
        {
          "output_type": "execute_result",
          "data": {
            "text/plain": [
              "2.0"
            ]
          },
          "metadata": {
            "tags": []
          },
          "execution_count": 45
        }
      ]
    },
    {
      "cell_type": "markdown",
      "metadata": {
        "id": "Uh9vQZ-HqB23",
        "colab_type": "text"
      },
      "source": [
        ""
      ]
    },
    {
      "cell_type": "code",
      "metadata": {
        "id": "SglWJlG2nFUY",
        "colab_type": "code",
        "outputId": "a87e1d95-2b18-4798-bbd6-969e3152aaee",
        "colab": {
          "base_uri": "https://localhost:8080/",
          "height": 34
        }
      },
      "source": [
        "execComm_sum"
      ],
      "execution_count": 0,
      "outputs": [
        {
          "output_type": "execute_result",
          "data": {
            "text/plain": [
              "-311818"
            ]
          },
          "metadata": {
            "tags": []
          },
          "execution_count": 21
        }
      ]
    },
    {
      "cell_type": "code",
      "metadata": {
        "id": "s3g_cS9vol2h",
        "colab_type": "code",
        "outputId": "3b9c0b2a-4158-4bb9-c3e4-35920d4c59ec",
        "colab": {
          "base_uri": "https://localhost:8080/",
          "height": 34
        }
      },
      "source": [
        "execCost_sum"
      ],
      "execution_count": 0,
      "outputs": [
        {
          "output_type": "execute_result",
          "data": {
            "text/plain": [
              "-1247277051"
            ]
          },
          "metadata": {
            "tags": []
          },
          "execution_count": 24
        }
      ]
    },
    {
      "cell_type": "code",
      "metadata": {
        "id": "I-2mZxL6qb04",
        "colab_type": "code",
        "colab": {}
      },
      "source": [
        "lastPx = 6617.5"
      ],
      "execution_count": 0,
      "outputs": []
    },
    {
      "cell_type": "code",
      "metadata": {
        "id": "qIgBJykVpUep",
        "colab_type": "code",
        "outputId": "c9875ca5-c900-42d5-c24c-c8b8b70993d2",
        "colab": {
          "base_uri": "https://localhost:8080/",
          "height": 34
        }
      },
      "source": [
        "\n",
        "term = 10\n",
        "max_list = []\n",
        "max_list = list(map(lambda i: max(OneMinMarketData.ohlc.close[i:i+term]), range(0, len(OneMinMarketData.ohlc.close)-term)))\n",
        "kairi = [0] * term\n",
        "kairi.extend(list(map(lambda i: max_list[i]/OneMinMarketData.ohlc.close[i+term], range(0,len(max_list)))))\n",
        "len(kairi)"
      ],
      "execution_count": 0,
      "outputs": [
        {
          "output_type": "execute_result",
          "data": {
            "text/plain": [
              "143991"
            ]
          },
          "metadata": {
            "tags": []
          },
          "execution_count": 41
        }
      ]
    },
    {
      "cell_type": "code",
      "metadata": {
        "id": "CNbbJO5kqVpu",
        "colab_type": "code",
        "outputId": "ba3f46ea-1bba-4844-a922-0dedc65d0b21",
        "colab": {
          "base_uri": "https://localhost:8080/",
          "height": 187
        }
      },
      "source": [
        "i=2\n",
        "train_df = df2.iloc[test_start_ind - train_len + (test_len * i):(test_len * i) + test_start_ind].copy()\n",
        "test_df = df2.iloc[kijun_period + (test_len * i) + test_start_ind:kijun_period + test_start_ind + (test_len * i) + test_len].copy()\n",
        "train_xb, test_xb, train_yb, test_yb, valid_xb, valid_yb = lgbmodel.generate_bpsp_data(train_df, test_df, valid_size, random_state)\n",
        "\n",
        "cols = list(train_xb.columns)\n",
        "remove_cols = ['open', 'high', 'low', 'close', 'open_change', 'high_change' , 'low_change', 'close_change', 'dt']\n",
        "\n",
        "for col in remove_cols:\n",
        "    if col in cols:\n",
        "        cols.remove(col)\n",
        "cols.sort()\n",
        "\n",
        "train_xb = train_xb.loc[:,cols]\n",
        "test_xb = test_xb.loc[:,cols]\n",
        "valid_xb = valid_xb.loc[:,cols]\n",
        "\n",
        "print('removed unsed index')\n",
        "if list(train_xb.columns) == list(test_xb.columns) == list(valid_xb.columns):\n",
        "    pass\n",
        "else:\n",
        "    print('train col, test col, valid col are not matched!')"
      ],
      "execution_count": 0,
      "outputs": [
        {
          "output_type": "stream",
          "text": [
            "train / valid period= 2019-09-09 00:20:00  -  2019-10-13 17:39:00\n",
            "test period= 2019-10-13 19:40:00  -  2019-10-19 08:59:00\n",
            "buy sell point data description:\n",
            "train_x (47500, 1193)\n",
            "train_y (47500,)\n",
            "test_x (8000, 1193)\n",
            "test_y (8000,)\n",
            "valid_x (2500, 1193)\n",
            "valid_y (2500,)\n",
            "removed unsed index\n"
          ],
          "name": "stdout"
        }
      ]
    },
    {
      "cell_type": "code",
      "metadata": {
        "id": "1sJDbWlhUeZH",
        "colab_type": "code",
        "outputId": "e7e3cd1c-6bba-4fb0-c0e7-903e16c431f1",
        "colab": {
          "base_uri": "https://localhost:8080/",
          "height": 439
        }
      },
      "source": [
        "valid_xb"
      ],
      "execution_count": 0,
      "outputs": [
        {
          "output_type": "execute_result",
          "data": {
            "text/html": [
              "<div>\n",
              "<style scoped>\n",
              "    .dataframe tbody tr th:only-of-type {\n",
              "        vertical-align: middle;\n",
              "    }\n",
              "\n",
              "    .dataframe tbody tr th {\n",
              "        vertical-align: top;\n",
              "    }\n",
              "\n",
              "    .dataframe thead th {\n",
              "        text-align: right;\n",
              "    }\n",
              "</style>\n",
              "<table border=\"1\" class=\"dataframe\">\n",
              "  <thead>\n",
              "    <tr style=\"text-align: right;\">\n",
              "      <th></th>\n",
              "      <th>adx:10</th>\n",
              "      <th>adx:112</th>\n",
              "      <th>adx:132</th>\n",
              "      <th>adx:152</th>\n",
              "      <th>adx:173</th>\n",
              "      <th>adx:193</th>\n",
              "      <th>adx:214</th>\n",
              "      <th>adx:234</th>\n",
              "      <th>adx:254</th>\n",
              "      <th>adx:275</th>\n",
              "      <th>adx:295</th>\n",
              "      <th>adx:30</th>\n",
              "      <th>adx:316</th>\n",
              "      <th>adx:336</th>\n",
              "      <th>adx:356</th>\n",
              "      <th>adx:377</th>\n",
              "      <th>adx:397</th>\n",
              "      <th>adx:418</th>\n",
              "      <th>adx:438</th>\n",
              "      <th>adx:459</th>\n",
              "      <th>adx:479</th>\n",
              "      <th>adx:499</th>\n",
              "      <th>adx:50</th>\n",
              "      <th>adx:520</th>\n",
              "      <th>adx:540</th>\n",
              "      <th>adx:561</th>\n",
              "      <th>adx:581</th>\n",
              "      <th>adx:601</th>\n",
              "      <th>adx:622</th>\n",
              "      <th>adx:642</th>\n",
              "      <th>adx:663</th>\n",
              "      <th>adx:683</th>\n",
              "      <th>adx:703</th>\n",
              "      <th>adx:71</th>\n",
              "      <th>adx:724</th>\n",
              "      <th>adx:744</th>\n",
              "      <th>adx:91</th>\n",
              "      <th>aroon_os:10</th>\n",
              "      <th>aroon_os:1010</th>\n",
              "      <th>aroon_os:1030</th>\n",
              "      <th>...</th>\n",
              "      <th>williams_R:275</th>\n",
              "      <th>williams_R:295</th>\n",
              "      <th>williams_R:30</th>\n",
              "      <th>williams_R:316</th>\n",
              "      <th>williams_R:336</th>\n",
              "      <th>williams_R:356</th>\n",
              "      <th>williams_R:377</th>\n",
              "      <th>williams_R:397</th>\n",
              "      <th>williams_R:418</th>\n",
              "      <th>williams_R:438</th>\n",
              "      <th>williams_R:459</th>\n",
              "      <th>williams_R:479</th>\n",
              "      <th>williams_R:499</th>\n",
              "      <th>williams_R:50</th>\n",
              "      <th>williams_R:520</th>\n",
              "      <th>williams_R:540</th>\n",
              "      <th>williams_R:561</th>\n",
              "      <th>williams_R:581</th>\n",
              "      <th>williams_R:601</th>\n",
              "      <th>williams_R:622</th>\n",
              "      <th>williams_R:642</th>\n",
              "      <th>williams_R:663</th>\n",
              "      <th>williams_R:683</th>\n",
              "      <th>williams_R:703</th>\n",
              "      <th>williams_R:71</th>\n",
              "      <th>williams_R:724</th>\n",
              "      <th>williams_R:744</th>\n",
              "      <th>williams_R:765</th>\n",
              "      <th>williams_R:785</th>\n",
              "      <th>williams_R:806</th>\n",
              "      <th>williams_R:826</th>\n",
              "      <th>williams_R:846</th>\n",
              "      <th>williams_R:867</th>\n",
              "      <th>williams_R:887</th>\n",
              "      <th>williams_R:908</th>\n",
              "      <th>williams_R:91</th>\n",
              "      <th>williams_R:928</th>\n",
              "      <th>williams_R:948</th>\n",
              "      <th>williams_R:969</th>\n",
              "      <th>williams_R:989</th>\n",
              "    </tr>\n",
              "  </thead>\n",
              "  <tbody>\n",
              "    <tr>\n",
              "      <th>39865</th>\n",
              "      <td>31.446574</td>\n",
              "      <td>12.536949</td>\n",
              "      <td>12.724363</td>\n",
              "      <td>13.156307</td>\n",
              "      <td>13.620748</td>\n",
              "      <td>14.014496</td>\n",
              "      <td>14.359884</td>\n",
              "      <td>14.624065</td>\n",
              "      <td>14.829978</td>\n",
              "      <td>14.989905</td>\n",
              "      <td>15.094538</td>\n",
              "      <td>22.026446</td>\n",
              "      <td>15.160146</td>\n",
              "      <td>15.185433</td>\n",
              "      <td>15.178879</td>\n",
              "      <td>15.142136</td>\n",
              "      <td>15.082614</td>\n",
              "      <td>14.998170</td>\n",
              "      <td>14.900202</td>\n",
              "      <td>14.782245</td>\n",
              "      <td>14.658379</td>\n",
              "      <td>14.525846</td>\n",
              "      <td>20.033188</td>\n",
              "      <td>14.379678</td>\n",
              "      <td>14.235616</td>\n",
              "      <td>14.080950</td>\n",
              "      <td>13.931946</td>\n",
              "      <td>13.782652</td>\n",
              "      <td>13.626460</td>\n",
              "      <td>13.478920</td>\n",
              "      <td>13.326077</td>\n",
              "      <td>13.183081</td>\n",
              "      <td>13.042727</td>\n",
              "      <td>15.517659</td>\n",
              "      <td>12.898685</td>\n",
              "      <td>12.764826</td>\n",
              "      <td>13.209178</td>\n",
              "      <td>-20.0</td>\n",
              "      <td>-55.544554</td>\n",
              "      <td>-54.466019</td>\n",
              "      <td>...</td>\n",
              "      <td>-38.297872</td>\n",
              "      <td>-38.297872</td>\n",
              "      <td>-85.185185</td>\n",
              "      <td>-38.297872</td>\n",
              "      <td>-38.297872</td>\n",
              "      <td>-38.297872</td>\n",
              "      <td>-38.297872</td>\n",
              "      <td>-50.847458</td>\n",
              "      <td>-50.847458</td>\n",
              "      <td>-50.847458</td>\n",
              "      <td>-50.847458</td>\n",
              "      <td>-50.847458</td>\n",
              "      <td>-51.157895</td>\n",
              "      <td>-47.422680</td>\n",
              "      <td>-53.600000</td>\n",
              "      <td>-53.600000</td>\n",
              "      <td>-54.951456</td>\n",
              "      <td>-54.951456</td>\n",
              "      <td>-54.951456</td>\n",
              "      <td>-54.951456</td>\n",
              "      <td>-54.951456</td>\n",
              "      <td>-54.951456</td>\n",
              "      <td>-54.951456</td>\n",
              "      <td>-54.951456</td>\n",
              "      <td>-47.422680</td>\n",
              "      <td>-60.409556</td>\n",
              "      <td>-60.611205</td>\n",
              "      <td>-61.333333</td>\n",
              "      <td>-67.323944</td>\n",
              "      <td>-68.648649</td>\n",
              "      <td>-68.648649</td>\n",
              "      <td>-68.648649</td>\n",
              "      <td>-68.648649</td>\n",
              "      <td>-68.648649</td>\n",
              "      <td>-68.648649</td>\n",
              "      <td>-51.428571</td>\n",
              "      <td>-68.648649</td>\n",
              "      <td>-68.648649</td>\n",
              "      <td>-68.648649</td>\n",
              "      <td>-68.648649</td>\n",
              "    </tr>\n",
              "    <tr>\n",
              "      <th>59022</th>\n",
              "      <td>35.731989</td>\n",
              "      <td>26.462019</td>\n",
              "      <td>22.995478</td>\n",
              "      <td>20.070550</td>\n",
              "      <td>17.521016</td>\n",
              "      <td>15.518874</td>\n",
              "      <td>13.789732</td>\n",
              "      <td>12.438602</td>\n",
              "      <td>11.333374</td>\n",
              "      <td>10.395729</td>\n",
              "      <td>9.673775</td>\n",
              "      <td>40.245547</td>\n",
              "      <td>9.057724</td>\n",
              "      <td>8.586327</td>\n",
              "      <td>8.202495</td>\n",
              "      <td>7.876476</td>\n",
              "      <td>7.615584</td>\n",
              "      <td>7.382976</td>\n",
              "      <td>7.191738</td>\n",
              "      <td>7.017703</td>\n",
              "      <td>6.874279</td>\n",
              "      <td>6.748530</td>\n",
              "      <td>39.403473</td>\n",
              "      <td>6.631369</td>\n",
              "      <td>6.530743</td>\n",
              "      <td>6.434632</td>\n",
              "      <td>6.352236</td>\n",
              "      <td>6.280688</td>\n",
              "      <td>6.217708</td>\n",
              "      <td>6.161273</td>\n",
              "      <td>6.108338</td>\n",
              "      <td>6.063395</td>\n",
              "      <td>6.021196</td>\n",
              "      <td>35.105091</td>\n",
              "      <td>5.978794</td>\n",
              "      <td>5.939715</td>\n",
              "      <td>30.689072</td>\n",
              "      <td>30.0</td>\n",
              "      <td>57.722772</td>\n",
              "      <td>56.601942</td>\n",
              "      <td>...</td>\n",
              "      <td>-13.118280</td>\n",
              "      <td>-12.031558</td>\n",
              "      <td>-17.647059</td>\n",
              "      <td>-12.031558</td>\n",
              "      <td>-12.031558</td>\n",
              "      <td>-12.031558</td>\n",
              "      <td>-12.031558</td>\n",
              "      <td>-12.031558</td>\n",
              "      <td>-12.031558</td>\n",
              "      <td>-12.031558</td>\n",
              "      <td>-12.031558</td>\n",
              "      <td>-12.031558</td>\n",
              "      <td>-12.031558</td>\n",
              "      <td>-17.647059</td>\n",
              "      <td>-12.031558</td>\n",
              "      <td>-12.031558</td>\n",
              "      <td>-12.031558</td>\n",
              "      <td>-11.423221</td>\n",
              "      <td>-11.423221</td>\n",
              "      <td>-11.423221</td>\n",
              "      <td>-11.423221</td>\n",
              "      <td>-10.758377</td>\n",
              "      <td>-10.758377</td>\n",
              "      <td>-10.758377</td>\n",
              "      <td>-43.262411</td>\n",
              "      <td>-10.758377</td>\n",
              "      <td>-10.758377</td>\n",
              "      <td>-10.758377</td>\n",
              "      <td>-10.758377</td>\n",
              "      <td>-10.758377</td>\n",
              "      <td>-10.758377</td>\n",
              "      <td>-10.758377</td>\n",
              "      <td>-10.758377</td>\n",
              "      <td>-10.758377</td>\n",
              "      <td>-10.758377</td>\n",
              "      <td>-21.034483</td>\n",
              "      <td>-10.758377</td>\n",
              "      <td>-10.758377</td>\n",
              "      <td>-10.758377</td>\n",
              "      <td>-10.758377</td>\n",
              "    </tr>\n",
              "    <tr>\n",
              "      <th>63621</th>\n",
              "      <td>57.842335</td>\n",
              "      <td>9.236245</td>\n",
              "      <td>8.726232</td>\n",
              "      <td>8.339347</td>\n",
              "      <td>7.987868</td>\n",
              "      <td>7.687189</td>\n",
              "      <td>7.415282</td>\n",
              "      <td>7.195235</td>\n",
              "      <td>7.036234</td>\n",
              "      <td>6.918689</td>\n",
              "      <td>6.845766</td>\n",
              "      <td>31.655719</td>\n",
              "      <td>6.819282</td>\n",
              "      <td>6.838651</td>\n",
              "      <td>6.892733</td>\n",
              "      <td>6.974590</td>\n",
              "      <td>7.069594</td>\n",
              "      <td>7.197095</td>\n",
              "      <td>7.360625</td>\n",
              "      <td>7.567342</td>\n",
              "      <td>7.784069</td>\n",
              "      <td>8.007021</td>\n",
              "      <td>18.568489</td>\n",
              "      <td>8.241939</td>\n",
              "      <td>8.455059</td>\n",
              "      <td>8.665255</td>\n",
              "      <td>8.853930</td>\n",
              "      <td>9.037734</td>\n",
              "      <td>9.235446</td>\n",
              "      <td>9.413386</td>\n",
              "      <td>9.592850</td>\n",
              "      <td>9.748998</td>\n",
              "      <td>9.888150</td>\n",
              "      <td>12.848001</td>\n",
              "      <td>10.016784</td>\n",
              "      <td>10.119185</td>\n",
              "      <td>10.391621</td>\n",
              "      <td>-30.0</td>\n",
              "      <td>-29.603960</td>\n",
              "      <td>-29.029126</td>\n",
              "      <td>...</td>\n",
              "      <td>-18.691589</td>\n",
              "      <td>-18.691589</td>\n",
              "      <td>-40.404040</td>\n",
              "      <td>-18.691589</td>\n",
              "      <td>-18.691589</td>\n",
              "      <td>-18.691589</td>\n",
              "      <td>-18.691589</td>\n",
              "      <td>-22.321429</td>\n",
              "      <td>-22.321429</td>\n",
              "      <td>-25.321888</td>\n",
              "      <td>-40.000000</td>\n",
              "      <td>-46.951220</td>\n",
              "      <td>-55.725191</td>\n",
              "      <td>-27.397260</td>\n",
              "      <td>-55.725191</td>\n",
              "      <td>-55.725191</td>\n",
              "      <td>-55.725191</td>\n",
              "      <td>-55.725191</td>\n",
              "      <td>-55.725191</td>\n",
              "      <td>-55.725191</td>\n",
              "      <td>-55.725191</td>\n",
              "      <td>-55.725191</td>\n",
              "      <td>-55.725191</td>\n",
              "      <td>-55.725191</td>\n",
              "      <td>-27.397260</td>\n",
              "      <td>-55.725191</td>\n",
              "      <td>-55.725191</td>\n",
              "      <td>-55.725191</td>\n",
              "      <td>-55.725191</td>\n",
              "      <td>-55.725191</td>\n",
              "      <td>-55.725191</td>\n",
              "      <td>-55.725191</td>\n",
              "      <td>-55.725191</td>\n",
              "      <td>-55.725191</td>\n",
              "      <td>-55.725191</td>\n",
              "      <td>-23.255814</td>\n",
              "      <td>-55.725191</td>\n",
              "      <td>-55.725191</td>\n",
              "      <td>-55.725191</td>\n",
              "      <td>-55.725191</td>\n",
              "    </tr>\n",
              "    <tr>\n",
              "      <th>57072</th>\n",
              "      <td>26.138958</td>\n",
              "      <td>19.259266</td>\n",
              "      <td>17.132888</td>\n",
              "      <td>15.522114</td>\n",
              "      <td>14.217256</td>\n",
              "      <td>13.201575</td>\n",
              "      <td>12.302566</td>\n",
              "      <td>11.554860</td>\n",
              "      <td>10.882321</td>\n",
              "      <td>10.250598</td>\n",
              "      <td>9.708630</td>\n",
              "      <td>34.707468</td>\n",
              "      <td>9.192975</td>\n",
              "      <td>8.743284</td>\n",
              "      <td>8.333196</td>\n",
              "      <td>7.936046</td>\n",
              "      <td>7.584298</td>\n",
              "      <td>7.240478</td>\n",
              "      <td>6.935304</td>\n",
              "      <td>6.637894</td>\n",
              "      <td>6.374671</td>\n",
              "      <td>6.131126</td>\n",
              "      <td>34.095453</td>\n",
              "      <td>5.892848</td>\n",
              "      <td>5.681826</td>\n",
              "      <td>5.476058</td>\n",
              "      <td>5.294682</td>\n",
              "      <td>5.127047</td>\n",
              "      <td>4.965227</td>\n",
              "      <td>4.821860</td>\n",
              "      <td>4.682008</td>\n",
              "      <td>4.557602</td>\n",
              "      <td>4.441062</td>\n",
              "      <td>27.581359</td>\n",
              "      <td>4.327016</td>\n",
              "      <td>4.225739</td>\n",
              "      <td>22.684299</td>\n",
              "      <td>40.0</td>\n",
              "      <td>47.524752</td>\n",
              "      <td>46.601942</td>\n",
              "      <td>...</td>\n",
              "      <td>-80.000000</td>\n",
              "      <td>-81.493506</td>\n",
              "      <td>-29.629630</td>\n",
              "      <td>-81.493506</td>\n",
              "      <td>-83.235294</td>\n",
              "      <td>-83.235294</td>\n",
              "      <td>-83.235294</td>\n",
              "      <td>-83.235294</td>\n",
              "      <td>-83.235294</td>\n",
              "      <td>-83.235294</td>\n",
              "      <td>-83.235294</td>\n",
              "      <td>-83.235294</td>\n",
              "      <td>-83.235294</td>\n",
              "      <td>-38.709677</td>\n",
              "      <td>-83.235294</td>\n",
              "      <td>-83.235294</td>\n",
              "      <td>-83.235294</td>\n",
              "      <td>-83.235294</td>\n",
              "      <td>-83.235294</td>\n",
              "      <td>-83.235294</td>\n",
              "      <td>-83.235294</td>\n",
              "      <td>-83.235294</td>\n",
              "      <td>-83.235294</td>\n",
              "      <td>-83.235294</td>\n",
              "      <td>-67.052023</td>\n",
              "      <td>-83.235294</td>\n",
              "      <td>-83.235294</td>\n",
              "      <td>-83.235294</td>\n",
              "      <td>-83.235294</td>\n",
              "      <td>-79.494382</td>\n",
              "      <td>-79.494382</td>\n",
              "      <td>-79.494382</td>\n",
              "      <td>-79.494382</td>\n",
              "      <td>-79.494382</td>\n",
              "      <td>-79.494382</td>\n",
              "      <td>-71.782178</td>\n",
              "      <td>-79.494382</td>\n",
              "      <td>-79.494382</td>\n",
              "      <td>-79.494382</td>\n",
              "      <td>-79.494382</td>\n",
              "    </tr>\n",
              "    <tr>\n",
              "      <th>57842</th>\n",
              "      <td>48.486348</td>\n",
              "      <td>15.889693</td>\n",
              "      <td>14.819467</td>\n",
              "      <td>14.380710</td>\n",
              "      <td>14.230723</td>\n",
              "      <td>14.150488</td>\n",
              "      <td>14.033534</td>\n",
              "      <td>13.868554</td>\n",
              "      <td>13.650017</td>\n",
              "      <td>13.371901</td>\n",
              "      <td>13.071766</td>\n",
              "      <td>41.558306</td>\n",
              "      <td>12.733964</td>\n",
              "      <td>12.403350</td>\n",
              "      <td>12.067713</td>\n",
              "      <td>11.718841</td>\n",
              "      <td>11.387559</td>\n",
              "      <td>11.042014</td>\n",
              "      <td>10.718085</td>\n",
              "      <td>10.385908</td>\n",
              "      <td>10.078556</td>\n",
              "      <td>9.781293</td>\n",
              "      <td>29.390747</td>\n",
              "      <td>9.480209</td>\n",
              "      <td>9.204417</td>\n",
              "      <td>8.926551</td>\n",
              "      <td>8.673212</td>\n",
              "      <td>8.430947</td>\n",
              "      <td>8.188982</td>\n",
              "      <td>7.968878</td>\n",
              "      <td>7.749042</td>\n",
              "      <td>7.549936</td>\n",
              "      <td>7.359544</td>\n",
              "      <td>22.407014</td>\n",
              "      <td>7.169923</td>\n",
              "      <td>6.999587</td>\n",
              "      <td>18.251971</td>\n",
              "      <td>-70.0</td>\n",
              "      <td>-84.257426</td>\n",
              "      <td>-82.621359</td>\n",
              "      <td>...</td>\n",
              "      <td>-21.995465</td>\n",
              "      <td>-21.995465</td>\n",
              "      <td>-35.793358</td>\n",
              "      <td>-21.995465</td>\n",
              "      <td>-21.995465</td>\n",
              "      <td>-21.995465</td>\n",
              "      <td>-21.995465</td>\n",
              "      <td>-21.995465</td>\n",
              "      <td>-21.995465</td>\n",
              "      <td>-21.995465</td>\n",
              "      <td>-21.995465</td>\n",
              "      <td>-21.995465</td>\n",
              "      <td>-21.995465</td>\n",
              "      <td>-28.362573</td>\n",
              "      <td>-21.995465</td>\n",
              "      <td>-21.995465</td>\n",
              "      <td>-21.995465</td>\n",
              "      <td>-21.995465</td>\n",
              "      <td>-21.995465</td>\n",
              "      <td>-21.995465</td>\n",
              "      <td>-22.347630</td>\n",
              "      <td>-22.696629</td>\n",
              "      <td>-22.696629</td>\n",
              "      <td>-22.696629</td>\n",
              "      <td>-24.494949</td>\n",
              "      <td>-22.696629</td>\n",
              "      <td>-22.696629</td>\n",
              "      <td>-22.696629</td>\n",
              "      <td>-22.696629</td>\n",
              "      <td>-22.696629</td>\n",
              "      <td>-22.696629</td>\n",
              "      <td>-33.333333</td>\n",
              "      <td>-35.459662</td>\n",
              "      <td>-41.595925</td>\n",
              "      <td>-41.595925</td>\n",
              "      <td>-21.995465</td>\n",
              "      <td>-42.762063</td>\n",
              "      <td>-44.065041</td>\n",
              "      <td>-44.065041</td>\n",
              "      <td>-44.065041</td>\n",
              "    </tr>\n",
              "    <tr>\n",
              "      <th>...</th>\n",
              "      <td>...</td>\n",
              "      <td>...</td>\n",
              "      <td>...</td>\n",
              "      <td>...</td>\n",
              "      <td>...</td>\n",
              "      <td>...</td>\n",
              "      <td>...</td>\n",
              "      <td>...</td>\n",
              "      <td>...</td>\n",
              "      <td>...</td>\n",
              "      <td>...</td>\n",
              "      <td>...</td>\n",
              "      <td>...</td>\n",
              "      <td>...</td>\n",
              "      <td>...</td>\n",
              "      <td>...</td>\n",
              "      <td>...</td>\n",
              "      <td>...</td>\n",
              "      <td>...</td>\n",
              "      <td>...</td>\n",
              "      <td>...</td>\n",
              "      <td>...</td>\n",
              "      <td>...</td>\n",
              "      <td>...</td>\n",
              "      <td>...</td>\n",
              "      <td>...</td>\n",
              "      <td>...</td>\n",
              "      <td>...</td>\n",
              "      <td>...</td>\n",
              "      <td>...</td>\n",
              "      <td>...</td>\n",
              "      <td>...</td>\n",
              "      <td>...</td>\n",
              "      <td>...</td>\n",
              "      <td>...</td>\n",
              "      <td>...</td>\n",
              "      <td>...</td>\n",
              "      <td>...</td>\n",
              "      <td>...</td>\n",
              "      <td>...</td>\n",
              "      <td>...</td>\n",
              "      <td>...</td>\n",
              "      <td>...</td>\n",
              "      <td>...</td>\n",
              "      <td>...</td>\n",
              "      <td>...</td>\n",
              "      <td>...</td>\n",
              "      <td>...</td>\n",
              "      <td>...</td>\n",
              "      <td>...</td>\n",
              "      <td>...</td>\n",
              "      <td>...</td>\n",
              "      <td>...</td>\n",
              "      <td>...</td>\n",
              "      <td>...</td>\n",
              "      <td>...</td>\n",
              "      <td>...</td>\n",
              "      <td>...</td>\n",
              "      <td>...</td>\n",
              "      <td>...</td>\n",
              "      <td>...</td>\n",
              "      <td>...</td>\n",
              "      <td>...</td>\n",
              "      <td>...</td>\n",
              "      <td>...</td>\n",
              "      <td>...</td>\n",
              "      <td>...</td>\n",
              "      <td>...</td>\n",
              "      <td>...</td>\n",
              "      <td>...</td>\n",
              "      <td>...</td>\n",
              "      <td>...</td>\n",
              "      <td>...</td>\n",
              "      <td>...</td>\n",
              "      <td>...</td>\n",
              "      <td>...</td>\n",
              "      <td>...</td>\n",
              "      <td>...</td>\n",
              "      <td>...</td>\n",
              "      <td>...</td>\n",
              "      <td>...</td>\n",
              "    </tr>\n",
              "    <tr>\n",
              "      <th>50793</th>\n",
              "      <td>49.269221</td>\n",
              "      <td>10.708151</td>\n",
              "      <td>9.087082</td>\n",
              "      <td>7.934707</td>\n",
              "      <td>7.064693</td>\n",
              "      <td>6.453240</td>\n",
              "      <td>5.967736</td>\n",
              "      <td>5.615249</td>\n",
              "      <td>5.342846</td>\n",
              "      <td>5.129954</td>\n",
              "      <td>4.984586</td>\n",
              "      <td>37.165238</td>\n",
              "      <td>4.885926</td>\n",
              "      <td>4.845041</td>\n",
              "      <td>4.854946</td>\n",
              "      <td>4.927875</td>\n",
              "      <td>5.057173</td>\n",
              "      <td>5.237636</td>\n",
              "      <td>5.435002</td>\n",
              "      <td>5.658738</td>\n",
              "      <td>5.870050</td>\n",
              "      <td>6.075097</td>\n",
              "      <td>23.863046</td>\n",
              "      <td>6.278826</td>\n",
              "      <td>6.453365</td>\n",
              "      <td>6.615086</td>\n",
              "      <td>6.749316</td>\n",
              "      <td>6.864157</td>\n",
              "      <td>6.964664</td>\n",
              "      <td>7.042770</td>\n",
              "      <td>7.107811</td>\n",
              "      <td>7.155420</td>\n",
              "      <td>7.190430</td>\n",
              "      <td>16.954111</td>\n",
              "      <td>7.214240</td>\n",
              "      <td>7.225764</td>\n",
              "      <td>13.215141</td>\n",
              "      <td>100.0</td>\n",
              "      <td>92.475248</td>\n",
              "      <td>92.815534</td>\n",
              "      <td>...</td>\n",
              "      <td>-78.623188</td>\n",
              "      <td>-78.623188</td>\n",
              "      <td>-41.871921</td>\n",
              "      <td>-78.623188</td>\n",
              "      <td>-78.623188</td>\n",
              "      <td>-78.623188</td>\n",
              "      <td>-78.623188</td>\n",
              "      <td>-78.623188</td>\n",
              "      <td>-78.623188</td>\n",
              "      <td>-78.623188</td>\n",
              "      <td>-78.623188</td>\n",
              "      <td>-78.623188</td>\n",
              "      <td>-78.623188</td>\n",
              "      <td>-63.692308</td>\n",
              "      <td>-78.623188</td>\n",
              "      <td>-78.623188</td>\n",
              "      <td>-78.623188</td>\n",
              "      <td>-78.623188</td>\n",
              "      <td>-78.623188</td>\n",
              "      <td>-78.623188</td>\n",
              "      <td>-78.623188</td>\n",
              "      <td>-78.623188</td>\n",
              "      <td>-78.623188</td>\n",
              "      <td>-78.623188</td>\n",
              "      <td>-78.623188</td>\n",
              "      <td>-78.623188</td>\n",
              "      <td>-78.623188</td>\n",
              "      <td>-78.623188</td>\n",
              "      <td>-78.623188</td>\n",
              "      <td>-78.623188</td>\n",
              "      <td>-78.623188</td>\n",
              "      <td>-78.623188</td>\n",
              "      <td>-78.623188</td>\n",
              "      <td>-78.623188</td>\n",
              "      <td>-78.623188</td>\n",
              "      <td>-78.623188</td>\n",
              "      <td>-78.623188</td>\n",
              "      <td>-78.623188</td>\n",
              "      <td>-78.623188</td>\n",
              "      <td>-78.623188</td>\n",
              "    </tr>\n",
              "    <tr>\n",
              "      <th>63971</th>\n",
              "      <td>44.820267</td>\n",
              "      <td>9.254551</td>\n",
              "      <td>8.257732</td>\n",
              "      <td>7.398199</td>\n",
              "      <td>6.637673</td>\n",
              "      <td>6.042799</td>\n",
              "      <td>5.542109</td>\n",
              "      <td>5.163150</td>\n",
              "      <td>4.875055</td>\n",
              "      <td>4.658731</td>\n",
              "      <td>4.521195</td>\n",
              "      <td>21.175709</td>\n",
              "      <td>4.441938</td>\n",
              "      <td>4.420990</td>\n",
              "      <td>4.445054</td>\n",
              "      <td>4.508309</td>\n",
              "      <td>4.597480</td>\n",
              "      <td>4.723002</td>\n",
              "      <td>4.877363</td>\n",
              "      <td>5.069438</td>\n",
              "      <td>5.279425</td>\n",
              "      <td>5.502908</td>\n",
              "      <td>14.645889</td>\n",
              "      <td>5.746403</td>\n",
              "      <td>5.980506</td>\n",
              "      <td>6.225618</td>\n",
              "      <td>6.455158</td>\n",
              "      <td>6.681456</td>\n",
              "      <td>6.919697</td>\n",
              "      <td>7.138420</td>\n",
              "      <td>7.361021</td>\n",
              "      <td>7.561366</td>\n",
              "      <td>7.748360</td>\n",
              "      <td>11.973950</td>\n",
              "      <td>7.930409</td>\n",
              "      <td>8.087699</td>\n",
              "      <td>10.470674</td>\n",
              "      <td>-60.0</td>\n",
              "      <td>-29.603960</td>\n",
              "      <td>-29.029126</td>\n",
              "      <td>...</td>\n",
              "      <td>-62.105263</td>\n",
              "      <td>-62.105263</td>\n",
              "      <td>-91.472868</td>\n",
              "      <td>-62.105263</td>\n",
              "      <td>-62.105263</td>\n",
              "      <td>-62.105263</td>\n",
              "      <td>-62.105263</td>\n",
              "      <td>-53.636364</td>\n",
              "      <td>-53.636364</td>\n",
              "      <td>-47.967480</td>\n",
              "      <td>-47.967480</td>\n",
              "      <td>-47.967480</td>\n",
              "      <td>-44.528302</td>\n",
              "      <td>-91.472868</td>\n",
              "      <td>-42.293907</td>\n",
              "      <td>-42.293907</td>\n",
              "      <td>-40.972222</td>\n",
              "      <td>-40.972222</td>\n",
              "      <td>-40.972222</td>\n",
              "      <td>-40.972222</td>\n",
              "      <td>-40.972222</td>\n",
              "      <td>-40.972222</td>\n",
              "      <td>-40.972222</td>\n",
              "      <td>-40.972222</td>\n",
              "      <td>-91.472868</td>\n",
              "      <td>-40.972222</td>\n",
              "      <td>-40.972222</td>\n",
              "      <td>-40.972222</td>\n",
              "      <td>-40.972222</td>\n",
              "      <td>-40.972222</td>\n",
              "      <td>-46.031746</td>\n",
              "      <td>-56.743003</td>\n",
              "      <td>-56.743003</td>\n",
              "      <td>-56.743003</td>\n",
              "      <td>-56.743003</td>\n",
              "      <td>-91.472868</td>\n",
              "      <td>-56.743003</td>\n",
              "      <td>-56.743003</td>\n",
              "      <td>-56.743003</td>\n",
              "      <td>-56.743003</td>\n",
              "    </tr>\n",
              "    <tr>\n",
              "      <th>57031</th>\n",
              "      <td>58.454805</td>\n",
              "      <td>15.181219</td>\n",
              "      <td>14.258076</td>\n",
              "      <td>13.528849</td>\n",
              "      <td>12.884901</td>\n",
              "      <td>12.308466</td>\n",
              "      <td>11.730969</td>\n",
              "      <td>11.194691</td>\n",
              "      <td>10.668171</td>\n",
              "      <td>10.142300</td>\n",
              "      <td>9.669589</td>\n",
              "      <td>49.462862</td>\n",
              "      <td>9.203521</td>\n",
              "      <td>8.785172</td>\n",
              "      <td>8.395989</td>\n",
              "      <td>8.012356</td>\n",
              "      <td>7.667591</td>\n",
              "      <td>7.326823</td>\n",
              "      <td>7.021732</td>\n",
              "      <td>6.722549</td>\n",
              "      <td>6.456460</td>\n",
              "      <td>6.209470</td>\n",
              "      <td>31.010336</td>\n",
              "      <td>5.967073</td>\n",
              "      <td>5.751920</td>\n",
              "      <td>5.541786</td>\n",
              "      <td>5.356369</td>\n",
              "      <td>5.184907</td>\n",
              "      <td>5.019355</td>\n",
              "      <td>4.872600</td>\n",
              "      <td>4.729395</td>\n",
              "      <td>4.601959</td>\n",
              "      <td>4.482547</td>\n",
              "      <td>21.370149</td>\n",
              "      <td>4.365686</td>\n",
              "      <td>4.261913</td>\n",
              "      <td>17.198932</td>\n",
              "      <td>40.0</td>\n",
              "      <td>47.524752</td>\n",
              "      <td>46.601942</td>\n",
              "      <td>...</td>\n",
              "      <td>-82.437276</td>\n",
              "      <td>-84.244373</td>\n",
              "      <td>-65.972222</td>\n",
              "      <td>-84.244373</td>\n",
              "      <td>-84.244373</td>\n",
              "      <td>-84.244373</td>\n",
              "      <td>-84.244373</td>\n",
              "      <td>-84.244373</td>\n",
              "      <td>-84.244373</td>\n",
              "      <td>-84.244373</td>\n",
              "      <td>-84.244373</td>\n",
              "      <td>-84.244373</td>\n",
              "      <td>-84.244373</td>\n",
              "      <td>-71.676301</td>\n",
              "      <td>-84.244373</td>\n",
              "      <td>-84.244373</td>\n",
              "      <td>-84.244373</td>\n",
              "      <td>-84.244373</td>\n",
              "      <td>-84.244373</td>\n",
              "      <td>-84.244373</td>\n",
              "      <td>-84.244373</td>\n",
              "      <td>-79.635258</td>\n",
              "      <td>-79.635258</td>\n",
              "      <td>-79.635258</td>\n",
              "      <td>-78.602620</td>\n",
              "      <td>-79.635258</td>\n",
              "      <td>-79.635258</td>\n",
              "      <td>-73.595506</td>\n",
              "      <td>-73.595506</td>\n",
              "      <td>-73.595506</td>\n",
              "      <td>-73.595506</td>\n",
              "      <td>-73.595506</td>\n",
              "      <td>-73.595506</td>\n",
              "      <td>-73.595506</td>\n",
              "      <td>-73.595506</td>\n",
              "      <td>-78.602620</td>\n",
              "      <td>-73.595506</td>\n",
              "      <td>-73.595506</td>\n",
              "      <td>-73.595506</td>\n",
              "      <td>-73.595506</td>\n",
              "    </tr>\n",
              "    <tr>\n",
              "      <th>59943</th>\n",
              "      <td>46.149535</td>\n",
              "      <td>11.625481</td>\n",
              "      <td>10.285472</td>\n",
              "      <td>9.803193</td>\n",
              "      <td>10.111693</td>\n",
              "      <td>10.837081</td>\n",
              "      <td>11.730909</td>\n",
              "      <td>12.541042</td>\n",
              "      <td>13.258672</td>\n",
              "      <td>13.888229</td>\n",
              "      <td>14.364287</td>\n",
              "      <td>23.925596</td>\n",
              "      <td>14.739694</td>\n",
              "      <td>14.989590</td>\n",
              "      <td>15.146894</td>\n",
              "      <td>15.226575</td>\n",
              "      <td>15.232993</td>\n",
              "      <td>15.179165</td>\n",
              "      <td>15.080394</td>\n",
              "      <td>14.936564</td>\n",
              "      <td>14.769355</td>\n",
              "      <td>14.579077</td>\n",
              "      <td>20.748597</td>\n",
              "      <td>14.360161</td>\n",
              "      <td>14.137965</td>\n",
              "      <td>13.894384</td>\n",
              "      <td>13.656111</td>\n",
              "      <td>13.414972</td>\n",
              "      <td>13.161436</td>\n",
              "      <td>12.919860</td>\n",
              "      <td>12.668350</td>\n",
              "      <td>12.432026</td>\n",
              "      <td>12.199162</td>\n",
              "      <td>17.096975</td>\n",
              "      <td>11.958897</td>\n",
              "      <td>11.734547</td>\n",
              "      <td>13.986039</td>\n",
              "      <td>-60.0</td>\n",
              "      <td>98.019802</td>\n",
              "      <td>98.058252</td>\n",
              "      <td>...</td>\n",
              "      <td>-40.316206</td>\n",
              "      <td>-37.918216</td>\n",
              "      <td>-91.891892</td>\n",
              "      <td>-37.500000</td>\n",
              "      <td>-37.500000</td>\n",
              "      <td>-36.690647</td>\n",
              "      <td>-36.690647</td>\n",
              "      <td>-36.690647</td>\n",
              "      <td>-36.690647</td>\n",
              "      <td>-36.690647</td>\n",
              "      <td>-36.690647</td>\n",
              "      <td>-36.690647</td>\n",
              "      <td>-36.690647</td>\n",
              "      <td>-85.714286</td>\n",
              "      <td>-36.690647</td>\n",
              "      <td>-36.690647</td>\n",
              "      <td>-36.690647</td>\n",
              "      <td>-36.690647</td>\n",
              "      <td>-36.690647</td>\n",
              "      <td>-31.974922</td>\n",
              "      <td>-28.254848</td>\n",
              "      <td>-28.254848</td>\n",
              "      <td>-28.254848</td>\n",
              "      <td>-28.254848</td>\n",
              "      <td>-57.303371</td>\n",
              "      <td>-27.127660</td>\n",
              "      <td>-25.000000</td>\n",
              "      <td>-25.000000</td>\n",
              "      <td>-25.000000</td>\n",
              "      <td>-25.000000</td>\n",
              "      <td>-23.340961</td>\n",
              "      <td>-23.340961</td>\n",
              "      <td>-15.548780</td>\n",
              "      <td>-14.718615</td>\n",
              "      <td>-14.718615</td>\n",
              "      <td>-50.746269</td>\n",
              "      <td>-14.718615</td>\n",
              "      <td>-14.718615</td>\n",
              "      <td>-14.718615</td>\n",
              "      <td>-14.386460</td>\n",
              "    </tr>\n",
              "    <tr>\n",
              "      <th>26418</th>\n",
              "      <td>38.885206</td>\n",
              "      <td>7.915628</td>\n",
              "      <td>8.370957</td>\n",
              "      <td>8.541957</td>\n",
              "      <td>8.529361</td>\n",
              "      <td>8.400135</td>\n",
              "      <td>8.197293</td>\n",
              "      <td>7.965101</td>\n",
              "      <td>7.709284</td>\n",
              "      <td>7.428223</td>\n",
              "      <td>7.156548</td>\n",
              "      <td>12.098258</td>\n",
              "      <td>6.872927</td>\n",
              "      <td>6.608541</td>\n",
              "      <td>6.351525</td>\n",
              "      <td>6.091624</td>\n",
              "      <td>5.854663</td>\n",
              "      <td>5.617859</td>\n",
              "      <td>5.404303</td>\n",
              "      <td>5.192477</td>\n",
              "      <td>5.002768</td>\n",
              "      <td>4.825079</td>\n",
              "      <td>7.110118</td>\n",
              "      <td>4.651102</td>\n",
              "      <td>4.496739</td>\n",
              "      <td>4.345867</td>\n",
              "      <td>4.212423</td>\n",
              "      <td>4.088302</td>\n",
              "      <td>3.967605</td>\n",
              "      <td>3.861303</td>\n",
              "      <td>3.757820</td>\n",
              "      <td>3.666551</td>\n",
              "      <td>3.582194</td>\n",
              "      <td>6.411747</td>\n",
              "      <td>3.500179</td>\n",
              "      <td>3.428008</td>\n",
              "      <td>7.031368</td>\n",
              "      <td>20.0</td>\n",
              "      <td>30.792079</td>\n",
              "      <td>30.194175</td>\n",
              "      <td>...</td>\n",
              "      <td>-43.113772</td>\n",
              "      <td>-36.734694</td>\n",
              "      <td>-62.500000</td>\n",
              "      <td>-32.727273</td>\n",
              "      <td>-32.727273</td>\n",
              "      <td>-32.727273</td>\n",
              "      <td>-31.034483</td>\n",
              "      <td>-25.174825</td>\n",
              "      <td>-24.000000</td>\n",
              "      <td>-22.500000</td>\n",
              "      <td>-21.951220</td>\n",
              "      <td>-17.224880</td>\n",
              "      <td>-17.224880</td>\n",
              "      <td>-58.139535</td>\n",
              "      <td>-17.224880</td>\n",
              "      <td>-17.224880</td>\n",
              "      <td>-17.224880</td>\n",
              "      <td>-17.224880</td>\n",
              "      <td>-17.224880</td>\n",
              "      <td>-17.224880</td>\n",
              "      <td>-17.224880</td>\n",
              "      <td>-17.224880</td>\n",
              "      <td>-17.224880</td>\n",
              "      <td>-17.224880</td>\n",
              "      <td>-67.272727</td>\n",
              "      <td>-17.224880</td>\n",
              "      <td>-17.224880</td>\n",
              "      <td>-17.224880</td>\n",
              "      <td>-17.224880</td>\n",
              "      <td>-17.224880</td>\n",
              "      <td>-17.224880</td>\n",
              "      <td>-17.224880</td>\n",
              "      <td>-17.224880</td>\n",
              "      <td>-17.224880</td>\n",
              "      <td>-17.224880</td>\n",
              "      <td>-67.272727</td>\n",
              "      <td>-17.224880</td>\n",
              "      <td>-17.224880</td>\n",
              "      <td>-17.224880</td>\n",
              "      <td>-17.224880</td>\n",
              "    </tr>\n",
              "  </tbody>\n",
              "</table>\n",
              "<p>2500 rows × 1192 columns</p>\n",
              "</div>"
            ],
            "text/plain": [
              "          adx:10    adx:112  ...  williams_R:969  williams_R:989\n",
              "39865  31.446574  12.536949  ...      -68.648649      -68.648649\n",
              "59022  35.731989  26.462019  ...      -10.758377      -10.758377\n",
              "63621  57.842335   9.236245  ...      -55.725191      -55.725191\n",
              "57072  26.138958  19.259266  ...      -79.494382      -79.494382\n",
              "57842  48.486348  15.889693  ...      -44.065041      -44.065041\n",
              "...          ...        ...  ...             ...             ...\n",
              "50793  49.269221  10.708151  ...      -78.623188      -78.623188\n",
              "63971  44.820267   9.254551  ...      -56.743003      -56.743003\n",
              "57031  58.454805  15.181219  ...      -73.595506      -73.595506\n",
              "59943  46.149535  11.625481  ...      -14.718615      -14.386460\n",
              "26418  38.885206   7.915628  ...      -17.224880      -17.224880\n",
              "\n",
              "[2500 rows x 1192 columns]"
            ]
          },
          "metadata": {
            "tags": []
          },
          "execution_count": 45
        }
      ]
    },
    {
      "cell_type": "code",
      "metadata": {
        "id": "A55BoxYIqCIm",
        "colab_type": "code",
        "outputId": "8b95210e-468a-4657-dd30-20a6ed7e683d",
        "colab": {
          "base_uri": "https://localhost:8080/",
          "height": 221
        }
      },
      "source": [
        "valid_yb"
      ],
      "execution_count": 0,
      "outputs": [
        {
          "output_type": "execute_result",
          "data": {
            "text/plain": [
              "39865    1\n",
              "59022    1\n",
              "63621    0\n",
              "57072    0\n",
              "57842    2\n",
              "        ..\n",
              "50793    2\n",
              "63971    0\n",
              "57031    0\n",
              "59943    0\n",
              "26418    1\n",
              "Name: future_side, Length: 2500, dtype: int64"
            ]
          },
          "metadata": {
            "tags": []
          },
          "execution_count": 46
        }
      ]
    },
    {
      "cell_type": "markdown",
      "metadata": {
        "id": "UZQ80iz5skmX",
        "colab_type": "text"
      },
      "source": [
        ""
      ]
    },
    {
      "cell_type": "code",
      "metadata": {
        "id": "xUGwIkfYtkC1",
        "colab_type": "code",
        "outputId": "13c62d62-7be1-49ca-b44f-f52ae6e4aa35",
        "colab": {
          "base_uri": "https://localhost:8080/",
          "height": 221
        }
      },
      "source": [
        "'''\n",
        "train data長いほうがいい\n",
        "corr removeしないほうがいい\n",
        "num_termは適切なものがある。（少なすぎても多すぎてもだめ）\n",
        "train / valid split (?)に大きく影響される。lgb seedはnoneでも結果は変わらない。\n",
        "'''\n",
        "\n",
        "50000 train\n",
        "total pl=8.867800000000003,num trade=266,win rate=0.6241, pl_stability=100.0371, num_buy=166, num_sell=190\n",
        "strategy performance=887.1089953800002\n",
        "accuracy= 0.513425\n",
        "f1= 0.2738470968974389\n",
        "buy/sell accuracy= 0.1564897898838653\n",
        "\n",
        "total pl=16.686300000000003,num trade=242,win rate=0.595, pl_stability=93.6731, num_buy=156, num_sell=173\n",
        "strategy performance=1563.0574485300003\n",
        "accuracy= 0.513975\n",
        "f1= 0.2698415337544111\n",
        "buy/sell accuracy= 0.14752396387503253\n",
        "\n",
        "total pl=10.5601,num trade=269,win rate=0.6283, pl_stability=96.8294, num_buy=169, num_sell=193\n",
        "strategy performance=1022.52814694\n",
        "accuracy= 0.5134\n",
        "f1= 0.27386489622033094\n",
        "buy/sell accuracy= 0.156512484409052\n",
        "\n",
        "\n",
        "50000 train with num_term = 2\n",
        "total pl=-7.016600000000003,num trade=236,win rate=0.5551, pl_stability=82.9231, num_buy=159, num_sell=174\n",
        "strategy performance=-581.8382234600003\n",
        "accuracy= 0.5064125\n",
        "f1= 0.25825348492830474\n",
        "buy/sell accuracy= 0.13406339607748713\n",
        "\n",
        "50000 train with num_term = 3\n",
        "total pl=-1.3748999999999985,num trade=222,win rate=0.5991, pl_stability=82.6945, num_buy=163, num_sell=146\n",
        "strategy performance=-113.69666804999989\n",
        "accuracy= 0.507625\n",
        "f1= 0.257890780983189\n",
        "buy/sell accuracy= 0.12962866892478073\n",
        "\n",
        "50000 train with num_term = 7\n",
        "total pl=11.287200000000007,num trade=219,win rate=0.621, pl_stability=73.7391, num_buy=143, num_sell=156\n",
        "strategy performance=832.3079695200005\n",
        "accuracy= 0.5028\n",
        "f1= 0.263196225909197\n",
        "buy/sell accuracy= 0.14359865637908553\n",
        "\n",
        "\n",
        "50000 train with num_term2 = 500\n",
        "total pl=-2.5159999999999982,num trade=257,win rate=0.5331, pl_stability=95.9815, num_buy=192, num_sell=178\n",
        "strategy performance=-241.48945399999982\n",
        "accuracy= 0.5182375\n",
        "f1= 0.2524998720915792\n",
        "buy/sell accuracy= 0.11308994348929344\n",
        "\n",
        "\n",
        "50000 train with num_term2 = 1000\n",
        "total pl=18.381300000000014,num trade=242,win rate=0.6281, pl_stability=84.2068, num_buy=160, num_sell=167\n",
        "strategy performance=1547.8304528400013\n",
        "accuracy= 0.5119875\n",
        "f1= 0.2610225541877408\n",
        "buy/sell accuracy= 0.1325818196019339\n",
        "\n",
        "total pl=-2.093100000000001,num trade=237,win rate=0.5781, pl_stability=86.0053, num_buy=169, num_sell=161\n",
        "strategy performance=-180.0176934300001\n",
        "accuracy= 0.51075\n",
        "f1= 0.2592166696505056\n",
        "buy/sell accuracy= 0.13088155337035678\n",
        "\n",
        "total pl=-0.43609999999999727,num trade=231,win rate=0.5801, pl_stability=87.7008, num_buy=161, num_sell=169\n",
        "strategy performance=-38.24631887999976\n",
        "accuracy= 0.5116875\n",
        "f1= 0.2620541930129266\n",
        "buy/sell accuracy= 0.1351312980460609\n",
        "\n",
        "\n",
        "\n",
        "50000 train with num_term2 = 1500\n",
        "total pl=17.8056,num trade=211,win rate=0.6493, pl_stability=82.3549, num_buy=132, num_sell=148\n",
        "strategy performance=1466.3784074399998\n",
        "accuracy= 0.5193125\n",
        "f1= 0.27674044662499175\n",
        "buy/sell accuracy= 0.15833091299051907\n",
        "\n",
        "total pl=15.929600000000006,num trade=225,win rate=0.6178, pl_stability=76.6648, num_buy=149, num_sell=155\n",
        "strategy performance=1221.2395980800004\n",
        "accuracy= 0.5142125\n",
        "f1= 0.27170950560068974\n",
        "buy/sell accuracy= 0.1508428581144396\n",
        "\n",
        "total pl=1.8843000000000045,num trade=212,win rate=0.566, pl_stability=72.9952, num_buy=139, num_sell=158\n",
        "strategy performance=137.54485536000033\n",
        "accuracy= 0.5113625\n",
        "f1= 0.2621921013614398\n",
        "buy/sell accuracy= 0.13438631510265664\n",
        "\n",
        "\n",
        "50000 train with num_term2 = 1500 with seed_train=0, seed_lgm = 0\n",
        "total pl=14.56890000000001,num trade=222,win rate=0.6171, pl_stability=76.0683, num_buy=148, num_sell=153\n",
        "strategy performance=1108.2314558700007\n",
        "accuracy= 0.5119\n",
        "f1= 0.2666868514243475\n",
        "buy/sell accuracy= 0.14294161023736446\n",
        "\n",
        "total pl=14.56890000000001,num trade=222,win rate=0.6171, pl_stability=76.0683, num_buy=148, num_sell=153\n",
        "strategy performance=1108.2314558700007\n",
        "accuracy= 0.5119\n",
        "f1= 0.2666868514243475\n",
        "buy/sell accuracy= 0.14294161023736446\n",
        "\n",
        "50000 train with num_term2 = 1500 with seed_train=0, seed_lgm = 0 with no_train_data_increment\n",
        "total pl=15.741000000000001,num trade=205,win rate=0.6585, pl_stability=73.0051, num_buy=126, num_sell=145\n",
        "strategy performance=1149.1732791000002\n",
        "accuracy= 0.5158\n",
        "f1= 0.265503012943789\n",
        "buy/sell accuracy= 0.13756871103463403\n",
        "\n",
        "50000 train with num_term2 = 1500 with no_train_data_increment\n",
        "total pl=16.714200000000012,num trade=211,win rate=0.6398, pl_stability=73.4038, num_buy=135, num_sell=145\n",
        "strategy performance=1226.885793960001\n",
        "accuracy= 0.522775\n",
        "f1= 0.27117396977796576\n",
        "buy/sell accuracy= 0.14347795648233957\n",
        "\n",
        "50000 train with num_term2 = 1500 with no_train_data_increment with high / low hige index\n",
        "total pl=14.571800000000014,num trade=206,win rate=0.6165, pl_stability=65.5991, num_buy=137, num_sell=144\n",
        "strategy performance=955.896965380001\n",
        "accuracy= 0.5206625\n",
        "f1= 0.26400884205325725\n",
        "buy/sell accuracy= 0.1307918648505379\n",
        "\n",
        "50000 train with num_term2 = 1500 with no_train_data_increment with high / low hige index with num_leaves = 1000\n",
        "total pl=9.3557,num trade=190,win rate=0.6316, pl_stability=76.2294, num_buy=127, num_sell=131\n",
        "strategy performance=713.17939758\n",
        "accuracy= 0.5197375\n",
        "f1= 0.2674952965682604\n",
        "buy/sell accuracy= 0.13850901507930422\n",
        "\n",
        "\n",
        "50000 train with num_term2 = 1500 with no_train_data_increment with high / low hige index with max_depth= 12\n",
        "total pl=12.091900000000004,num trade=192,win rate=0.625, pl_stability=64.7367, num_buy=131, num_sell=133\n",
        "strategy performance=782.7897027300003\n",
        "accuracy= 0.51865\n",
        "f1= 0.2641482664500398\n",
        "buy/sell accuracy= 0.13258361793464035\n",
        "\n",
        "50000 train with num_term2 = 1500 with no_train_data_increment with high / low hige index with max_depth= 12 with num_iteratin=1000\n",
        "total pl=24.46540000000002,num trade=204,win rate=0.6618, pl_stability=66.135, num_buy=129, num_sell=145\n",
        "strategy performance=1618.0192290000014\n",
        "accuracy= 0.5195625\n",
        "f1= 0.26047991613462973\n",
        "buy/sell accuracy= 0.12483957519934495\n",
        "\n",
        "\n",
        "50000 train with num_term2 = 1500 with no_train_data_increment with high / low hige index with max_depth= 12 with num_iteratin=1000　with valid=0.5\n",
        "total pl=11.3793,num trade=150,win rate=0.5867, pl_stability=56.8323, num_buy=103, num_sell=107\n",
        "strategy performance=646.71179139\n",
        "accuracy= 0.5250625\n",
        "f1= 0.2466042748163555\n",
        "buy/sell accuracy= 0.09615578242809755\n",
        "\n",
        "\n",
        "50000 train with num_term2 = 2000\n",
        "total pl=15.1525,num trade=208,win rate=0.6394, pl_stability=75.6114, num_buy=126, num_sell=155\n",
        "strategy performance=1145.7017385000001\n",
        "accuracy= 0.5108625\n",
        "f1= 0.2714331875366139\n",
        "buy/sell accuracy= 0.15298222961729668\n",
        "\n",
        "total pl=17.096899999999994,num trade=227,win rate=0.6564, pl_stability=80.0831, num_buy=142, num_sell=161\n",
        "strategy performance=1369.1727523899997\n",
        "accuracy= 0.508125\n",
        "f1= 0.2657590770792057\n",
        "buy/sell accuracy= 0.14442609023743053\n",
        "\n",
        "\n",
        "\n",
        "15000 train start from 50000\n",
        "total pl=6.8538000000000014,num trade=222,win rate=0.5766, pl_stability=95.324, num_buy=140, num_sell=171\n",
        "strategy performance=653.3316312000002\n",
        "accuracy= 0.3805625\n",
        "f1= 0.23814039233784964\n",
        "buy/sell accuracy= 0.2107780214027713\n",
        "\n",
        "total pl=-1.5870999999999997,num trade=207,win rate=0.57, pl_stability=88.3164, num_buy=137, num_sell=156\n",
        "strategy performance=-140.16695843999997\n",
        "accuracy= 0.3926\n",
        "f1= 0.24290601762627953\n",
        "buy/sell accuracy= 0.20600878489720276\n",
        "\n",
        "\n",
        "0.5\n",
        "total pl=-5.1682999999999995,num trade=262,win rate=0.5305, pl_stability=104.5188, num_buy=202, num_sell=181\n",
        "strategy performance=-540.18451404\n",
        "accuracy= 0.48096\n",
        "f1= 0.24015721312131394\n",
        "buy/sell accuracy= 0.1100718370126644\n",
        "\n",
        "total pl=-11.233900000000002,num trade=236,win rate=0.4873, pl_stability=92.6067, num_buy=183, num_sell=171\n",
        "strategy performance=-1040.3344071300003\n",
        "accuracy= 0.48736\n",
        "f1= 0.24256372430604214\n",
        "buy/sell accuracy= 0.10660871575313785\n",
        "\n",
        "0.05\n",
        "total pl=-20.9142,num trade=262,win rate=0.4924, pl_stability=115.0829, num_buy=196, num_sell=193\n",
        "strategy performance=-2406.86678718\n",
        "accuracy= 0.48079\n",
        "f1= 0.2516583799331056\n",
        "buy/sell accuracy= 0.13137920595699787\n",
        "\n",
        "total pl=-3.132299999999998,num trade=285,win rate=0.5544, pl_stability=122.3626, num_buy=208, num_sell=205\n",
        "strategy performance=-383.2763719799998\n",
        "accuracy= 0.48636\n",
        "f1= 0.2540902113677827\n",
        "buy/sell accuracy= 0.13163304269066925\n",
        "\n",
        "0.9\n",
        "total pl=4.704299999999996,num trade=130,win rate=0.5308, pl_stability=38.7537, num_buy=98, num_sell=94\n",
        "strategy performance=182.30903090999988\n",
        "accuracy= 0.49109\n",
        "f1= 0.20140640689389205\n",
        "buy/sell accuracy= 0.041953545345722654\n",
        "\n",
        "total pl=-13.61069999999999,num trade=115,win rate=0.487, pl_stability=52.1808, num_buy=92, num_sell=85\n",
        "strategy performance=-710.2172145599994\n",
        "accuracy= 0.48859\n",
        "f1= 0.19448561878392004\n",
        "buy/sell accuracy= 0.03378620988691086\n"
      ],
      "execution_count": 0,
      "outputs": [
        {
          "output_type": "execute_result",
          "data": {
            "text/plain": [
              "momentum:10                          -12\n",
              "rate_of_change:10              -0.140138\n",
              "rsi:10                           35.8189\n",
              "williams_R:10                   -68.5714\n",
              "beta:10                         0.498545\n",
              "                            ...         \n",
              "shitahige:0                  5.84864e-05\n",
              "dt                   2019-10-11 06:50:00\n",
              "size                              712255\n",
              "close                               8551\n",
              "future_side                           no\n",
              "Name: 63971, Length: 1196, dtype: object"
            ]
          },
          "metadata": {
            "tags": []
          },
          "execution_count": 51
        }
      ]
    },
    {
      "cell_type": "markdown",
      "metadata": {
        "id": "pyuYczzTsjlm",
        "colab_type": "text"
      },
      "source": [
        ""
      ]
    }
  ]
}